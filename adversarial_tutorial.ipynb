{
 "cells": [
  {
   "cell_type": "code",
   "execution_count": 22,
   "metadata": {
    "slideshow": {
     "slide_type": "skip"
    }
   },
   "outputs": [],
   "source": [
    "# Imports\n",
    "%matplotlib inline\n",
    "from IPython.display import Image\n",
    "from IPython.display import HTML, display\n",
    "from ipywidgets import interact, fixed\n",
    "\n",
    "from sklearn import datasets, linear_model\n",
    "from sklearn.decomposition import PCA\n",
    "from sklearn.model_selection import train_test_split\n",
    "from sklearn.datasets import fetch_mldata\n",
    "from sklearn.manifold import Isomap, MDS\n",
    "from sklearn.datasets import fetch_openml\n",
    "from sklearn.svm import SVC\n",
    "from sklearn.datasets.samples_generator import make_circles\n",
    "from sklearn.metrics import pairwise_distances\n",
    "\n",
    "import matplotlib.pyplot as plt\n",
    "from matplotlib import offsetbox\n",
    "import matplotlib.image as mpimg\n",
    "from mpl_toolkits import mplot3d\n",
    "import seaborn as sns; sns.set()\n",
    "import plotly.express as px\n",
    "import plotly.graph_objects as go\n",
    "from jupyter_plotly_dash import JupyterDash\n",
    "import numpy as np\n",
    "import pandas as pd\n",
    "\n",
    "from scipy.special import expit\n",
    "import scipy.spatial.distance as spatial_distance\n",
    "from scipy.stats import beta, norm\n",
    "\n",
    "import pathlib\n",
    "\n",
    "import warnings\n",
    "warnings.filterwarnings(\"ignore\")\n",
    "\n",
    "# torch\n",
    "import torch\n",
    "import torch.nn as nn\n",
    "import torch.nn.functional as F\n",
    "import torch.optim as optim\n",
    "from torchvision import datasets as vision_datasets\n",
    "from torchvision import transforms\n",
    "import os\n",
    "dirpath = os.getcwd()"
   ]
  },
  {
   "cell_type": "code",
   "execution_count": 8,
   "metadata": {
    "slideshow": {
     "slide_type": "skip"
    }
   },
   "outputs": [],
   "source": [
    "# Utils 1st section\n",
    "def plot_train_test(df):\n",
    "    trace0 = go.Scatter(\n",
    "        x=df[\"x_train\"][:80],\n",
    "        y=df[\"y_train\"][:80],\n",
    "        name='Training Data',\n",
    "        mode='markers',\n",
    "        opacity=0.3,\n",
    "    )\n",
    "    trace1 = go.Scatter(\n",
    "        x=df[\"x_test\"][:20],\n",
    "        y=df[\"y_test\"][:20],\n",
    "        name='Test Data',\n",
    "        mode='markers',\n",
    "        opacity=0.3,    \n",
    "    )\n",
    "    trace2 = go.Scatter(\n",
    "        x=df[\"x_train\"][:80],\n",
    "        y=df[\"pred_train\"][:80],\n",
    "        name='Prediction',\n",
    "        mode='markers',\n",
    "    )\n",
    "    data = [trace0, trace1, trace2]\n",
    "    return  go.Figure(data=data)\n",
    "\n",
    "\n",
    "def set_size(w,h, ax=None):\n",
    "    \"\"\" w, h: width, height in inches \"\"\"\n",
    "    if not ax: ax=plt.gca()\n",
    "    l = ax.figure.subplotpars.left\n",
    "    r = ax.figure.subplotpars.right\n",
    "    t = ax.figure.subplotpars.top\n",
    "    b = ax.figure.subplotpars.bottom\n",
    "    figw = float(w)/(r-l)\n",
    "    figh = float(h)/(t-b)\n",
    "    ax.figure.set_size_inches(figw, figh)\n",
    "    \n",
    "\n",
    "def plot_components(data, model, images=None, ax=None,\n",
    "                    thumb_frac=0.05, cmap='gray'):\n",
    "    ax = ax or plt.gca()\n",
    "    \n",
    "    proj = model.fit_transform(data)\n",
    "    ax.plot(proj[:, 0], proj[:, 1], '.k')\n",
    "    \n",
    "    if images is not None:\n",
    "        min_dist_2 = (thumb_frac * max(proj.max(0) - proj.min(0))) ** 2\n",
    "        shown_images = np.array([2 * proj.max(0)])\n",
    "        for i in range(data.shape[0]):\n",
    "            dist = np.sum((proj[i] - shown_images) ** 2, 1)\n",
    "            if np.min(dist) < min_dist_2:\n",
    "                # don't show points that are too close\n",
    "                continue\n",
    "            shown_images = np.vstack([shown_images, proj[i]])\n",
    "            imagebox = offsetbox.AnnotationBbox(\n",
    "                offsetbox.OffsetImage(images[i], cmap=cmap),\n",
    "                                      proj[i])\n",
    "            ax.add_artist(imagebox)\n",
    "\n",
    "\n",
    "\n",
    "def plot_svc_decision_function(model, ax=None, plot_support=True):\n",
    "    \"\"\"Plot the decision function for a 2D SVC\"\"\"\n",
    "    if ax is None:\n",
    "        ax = plt.gca()\n",
    "    xlim = ax.get_xlim()\n",
    "    ylim = ax.get_ylim()\n",
    "    \n",
    "    # create grid to evaluate model\n",
    "    x = np.linspace(xlim[0], xlim[1], 30)\n",
    "    y = np.linspace(ylim[0], ylim[1], 30)\n",
    "    Y, X = np.meshgrid(y, x)\n",
    "    xy = np.vstack([X.ravel(), Y.ravel()]).T\n",
    "    P = model.decision_function(xy).reshape(X.shape)\n",
    "    \n",
    "    # plot decision boundary and margins\n",
    "    ax.contour(X, Y, P, colors='k',\n",
    "               levels=[-1, 0, 1], alpha=0.5,\n",
    "               linestyles=['--', '-', '--'])\n",
    "    \n",
    "    # plot support vectors\n",
    "    if plot_support:\n",
    "        ax.scatter(model.support_vectors_[:, 0],\n",
    "                   model.support_vectors_[:, 1],\n",
    "                   s=300, linewidth=1, facecolors='none');\n",
    "    ax.set_xlim(xlim)\n",
    "    ax.set_ylim(ylim)"
   ]
  },
  {
   "cell_type": "code",
   "execution_count": 9,
   "metadata": {},
   "outputs": [],
   "source": [
    "# Utils 3rd section\n",
    "def batch_multiply(float_or_vector, tensor):\n",
    "    if isinstance(float_or_vector, torch.Tensor):\n",
    "        assert len(float_or_vector) == len(tensor)\n",
    "        tensor = _batch_multiply_tensor_by_vector(float_or_vector, tensor)\n",
    "    elif isinstance(float_or_vector, float):\n",
    "        tensor *= float_or_vector\n",
    "    else:\n",
    "        raise TypeError(\"Value has to be float or torch.Tensor\")\n",
    "    return tensor\n",
    "\n",
    "\n",
    "def _batch_multiply_tensor_by_vector(vector, batch_tensor):\n",
    "    return (\n",
    "        batch_tensor.transpose(0, -1) * vector).transpose(0, -1).contiguous()\n",
    "\n",
    "\n",
    "def batch_clamp(float_or_vector, tensor):\n",
    "    if isinstance(float_or_vector, torch.Tensor):\n",
    "        assert len(float_or_vector) == len(tensor)\n",
    "        tensor = _batch_clamp_tensor_by_vector(float_or_vector, tensor)\n",
    "        return tensor\n",
    "    elif isinstance(float_or_vector, float):\n",
    "        tensor = torch.clamp(tensor, -float_or_vector, float_or_vector)\n",
    "    else:\n",
    "        raise TypeError(\"Value has to be float or torch.Tensor\")\n",
    "    return tensor\n",
    "\n",
    "\n",
    "def _batch_clamp_tensor_by_vector(vector, batch_tensor):\n",
    "    return torch.min(\n",
    "        torch.max(batch_tensor.transpose(0, -1), -vector), vector\n",
    "    ).transpose(0, -1).contiguous()\n",
    "\n",
    "\n",
    "def get_data():\n",
    "    train_loader = torch.utils.data.DataLoader(\n",
    "        vision_datasets.MNIST('./data', train=True, download=True,\n",
    "                       transform=transforms.Compose([\n",
    "                           transforms.ToTensor(),\n",
    "                           transforms.Normalize((0.1307,), (0.3081,))\n",
    "                       ])),\n",
    "        batch_size=BATCH_SIZE, shuffle=True)\n",
    "\n",
    "    test_loader = torch.utils.data.DataLoader(\n",
    "        vision_datasets.MNIST('./data', train=False, transform=transforms.Compose([\n",
    "            transforms.ToTensor(),\n",
    "            transforms.Normalize((0.1307,), (0.3081,))\n",
    "        ])),\n",
    "        batch_size=BATCH_SIZE, shuffle=True)\n",
    "\n",
    "    return train_loader, test_loader\n",
    "\n",
    "def save(model, savepath):\n",
    "    torch.save(model.state_dict(), savepath)\n",
    "\n",
    "def load_model(path, device):\n",
    "    model = Net()\n",
    "    model.load_state_dict(torch.load(path))\n",
    "    model.to(device)\n",
    "    return model\n",
    "\n",
    "def plot_images(X,y,yp,M,N):\n",
    "    f,ax = plt.subplots(M,N, sharex=True, sharey=True, figsize=(N,M*1.3))\n",
    "    for i in range(M):\n",
    "        for j in range(N):\n",
    "            ax[i][j].imshow(1-X[i*N+j][0].cpu().detach().numpy(), cmap=\"gray\")\n",
    "            title = ax[i][j].set_title(\"Pred: {}\".format(yp[i*N+j].max(dim=0)[1]))\n",
    "            plt.setp(title, color=('g' if yp[i*N+j].max(dim=0)[1] == y[i*N+j] else 'r'))\n",
    "            ax[i][j].set_axis_off()\n",
    "    plt.tight_layout()"
   ]
  },
  {
   "cell_type": "markdown",
   "metadata": {
    "slideshow": {
     "slide_type": "slide"
    }
   },
   "source": [
    "# Adversarial Machine Learning - Theoretical and Practical Perspectives\n",
    "### Tutorial @WIFS 2019, Delft\n",
    "\n",
    "\n",
    "<br><br><br>\n",
    "## Alex Serban\n",
    "<br>\n",
    "\n",
    "#### Radboud University, Nijmegen\n",
    "#### Software Improvement Group, Amsterdam"
   ]
  },
  {
   "cell_type": "markdown",
   "metadata": {
    "slideshow": {
     "slide_type": "notes"
    }
   },
   "source": [
    "# Abstract\n",
    "\n",
    "This document supports the tutorial on adversarial examples presented at [WIFS 2019](https://wifs2019.tudelft.nl/?q=node/12) and it is an interactive extension of a [larger survey](https://arxiv.org/abs/1810.01185) made publicly available before the tutorial. Since the event is focused on security and expects participants with various backgrounds in the field, the first part of the tutorial is dedicated to an introduction to machine learning, describing the general setting and the most important assumptions. In order to maintain focus on security issues, we use examples from supervised classification - a branch of machine learning - although the information contained in this notebook can easily be extended to regression, unsupervised classification or reinforcement learning.\n",
    "Whenever possible. pointers and references to these fields are given.\n",
    "\n",
    "The second part presents a taxonomy on security of machine learning and gives references to relevant works for each attack type.\n",
    "\n",
    "The third  (and last) part of the tutorial dives into adversarial inputs, a type of attack at test (inference) time.\n",
    "\n",
    "Transcript notes will soon be added."
   ]
  },
  {
   "cell_type": "markdown",
   "metadata": {
    "slideshow": {
     "slide_type": "slide"
    }
   },
   "source": [
    "# Logistics and Outline\n",
    "\n",
    "* all materials are available at: https://404.hml\n",
    "* the practical assignment can be found online at: https://tinyurl.com/uqtu3xx\n",
    "\n",
    "<br><br>\n",
    "\n",
    "<div class=\"grey\"> Part I: Introduction to Machine Learning </div>\n",
    "<div>\n",
    "    \n",
    "- General goals and Training a model\n",
    "- The No Free Lunch Theorem, The curse of dimensionality\n",
    "- Assumptions behind ML algorithms\n",
    "- Neural networks and Universal function approximations\n",
    "</div>\n",
    "<br>\n",
    "\n",
    "<div class=\"grey\"> Part II: Security of Machine Learning </div>\n",
    "<div>\n",
    "    \n",
    "- The Machine Learning Pipeline\n",
    "- Types of Attacks\n",
    "- Taxonomy of ML Attacks\n",
    "</div>\n",
    "\n",
    "<br>\n",
    "\n",
    "<div class=\"grey\"> Part III: Adversarial Examples </div>\n",
    "<div>\n",
    "\n",
    "- Historical considerations and definition\n",
    "- Noise and Geometric Perturbations\n",
    "- Hypotheses behind their existence\n",
    "- Adversarial Transferability\n",
    "- Defenses\n",
    "\n",
    "</div>"
   ]
  },
  {
   "cell_type": "code",
   "execution_count": 18,
   "metadata": {
    "slideshow": {
     "slide_type": "skip"
    }
   },
   "outputs": [
    {
     "data": {
      "text/html": [
       "<script>\n",
       "  function code_toggle() {\n",
       "    if (code_shown){\n",
       "      $('div.input').hide('500');\n",
       "      $('#toggleButton').val('Show Code')\n",
       "    } else {\n",
       "      $('div.input').show('500');\n",
       "      $('#toggleButton').val('Hide Code')\n",
       "    }\n",
       "    code_shown = !code_shown\n",
       "  }\n",
       "\n",
       "  $( document ).ready(function(){\n",
       "    code_shown=false;\n",
       "    $('div.input').hide()\n",
       "  });\n",
       "</script>\n",
       "<form action=\"javascript:code_toggle()\"><input type=\"submit\" id=\"toggleButton\" value=\"Show Code\"></form>"
      ],
      "text/plain": [
       "<IPython.core.display.HTML object>"
      ]
     },
     "execution_count": 18,
     "metadata": {},
     "output_type": "execute_result"
    }
   ],
   "source": [
    "###\n",
    "#  Code to hide the code from presentations\n",
    "###\n",
    "\n",
    "HTML('''<script>\n",
    "  function code_toggle() {\n",
    "    if (code_shown){\n",
    "      $('div.input').hide('500');\n",
    "      $('#toggleButton').val('Show Code')\n",
    "    } else {\n",
    "      $('div.input').show('500');\n",
    "      $('#toggleButton').val('Hide Code')\n",
    "    }\n",
    "    code_shown = !code_shown\n",
    "  }\n",
    "\n",
    "  $( document ).ready(function(){\n",
    "    code_shown=false;\n",
    "    $('div.input').hide()\n",
    "  });\n",
    "</script>\n",
    "<form action=\"javascript:code_toggle()\"><input type=\"submit\" id=\"toggleButton\" value=\"Show Code\"></form>''')"
   ]
  },
  {
   "cell_type": "markdown",
   "metadata": {
    "slideshow": {
     "slide_type": "slide"
    }
   },
   "source": [
    "# Part I - Introduction to Machine Learning\n",
    "\n",
    "- General goals and Training a model\n",
    "- The No Free Lunch Theorem, The curse of dimensionality\n",
    "- Assumptions behind ML algorithms\n",
    "- Neural networks and Universal function approximations"
   ]
  },
  {
   "cell_type": "markdown",
   "metadata": {
    "slideshow": {
     "slide_type": "subslide"
    }
   },
   "source": [
    "# Machine learning - textbook definition\n",
    "\n",
    "## A computer program is said to learn from <span class=\"red\"> experience E </span>  with respect to some class of <span class=\"red\"> tasks T</span> and <span class=\"red\"> performance measure P </span>, if its performance at tasks in T, as measured by P, improves with experiences E.  <small> [T. Mitchell, Machine Learning, 1997]</small>\n",
    "\n",
    "\n",
    "<br>\n",
    "\n",
    "# Ingredients:\n",
    "\n",
    "*  Tasks = any functionality for which we do not have a specification e.g. translate speech to text, identify objects in images, etc.\n",
    "*  Experiences =  data describing as accurate as possible the task e.g. audio recordings, text transcripts, labeled photos, etc.\n",
    "*  Performance measures = a function which quantifies the error\n",
    "\n",
    "<br>\n",
    "\n",
    "# Recipe:\n",
    "\n",
    "* Minimize the error function on the available data\n",
    "\n",
    "\n",
    "# Other ingredients:\n",
    "\n",
    "* a function to start with - we can not search for all possible mathemetical functions that can perform the task"
   ]
  },
  {
   "cell_type": "markdown",
   "metadata": {
    "slideshow": {
     "slide_type": "subslide"
    }
   },
   "source": [
    "# Running example\n",
    "\n",
    "## Classify irises based on different petal properties\n",
    "\n"
   ]
  },
  {
   "cell_type": "markdown",
   "metadata": {},
   "source": [
    "| Iris Setosa | Iris Versicolor| \n",
    "| :---: | :---: |\n",
    "| ![alt](./figures/irises/iris_setosa.jpg) | ![alt](./figures/irises/iris_versicolor.jpg)|"
   ]
  },
  {
   "cell_type": "markdown",
   "metadata": {
    "slideshow": {
     "slide_type": "subslide"
    }
   },
   "source": [
    "# Ingredients\n",
    "\n",
    "Following the definition by Mitchell we have to select the following ingredients:\n",
    "\n",
    "* Task - classify irises\n",
    "* Experiences - we will start with petal width for approx. 25 plants for each class, and a *label* for each example\n",
    "* Performance measure - we will use the mean squared error (details will follow later) \n",
    "\n",
    "# More ingredients\n",
    "\n",
    "* A family of functions - as mentioned earlier we can not search through all possible mathematical functions - we will start with the family of <span class=\"red\">linear functions </span>\n",
    "\n",
    "\n",
    "# Recipe \n",
    "* Minimize the loss function on data examples"
   ]
  },
  {
   "cell_type": "markdown",
   "metadata": {
    "slideshow": {
     "slide_type": "subslide"
    }
   },
   "source": [
    "# Formally\n",
    "\n",
    "<br>\n",
    "\n",
    "\n",
    "* classify irises is a function from the domain of petal width to the codomain of a class: \n",
    "\n",
    "<div class=\"centered\">    $$ f : \\mathbb{R} \\mapsto \\mathcal{C} $$ </div>\n",
    "\n",
    "* $$ m $$ observations $$(x_1, y_1), (x_2, y_2) \\dots, (x_n, y_n)$$ sampled from a distribution $$ \\mathcal{D} $$ defined over a space $$\\mathcal{Z} = \\mathcal{X} \\times \n",
    "\\mathcal{Y}$$,\n",
    "\n",
    "where $$ x_n $$ is the petal width and $$ y_n $$ is the desired *outcome* or label,\n",
    "\n",
    "\n",
    "* a loss function,  $$ \\mathcal{J} : \\mathcal{Y} \\times \\mathcal{Y} $$:\n",
    "\n",
    "<div class=\"centered\"> $$ \\mathcal{J} = \\frac{1}{n} \\sum_{i}^{n} (f(x_n) - y_n )^2 $$ </div>\n",
    "\n",
    "\n",
    "the goal is to find a rule $$ f(\\cdot) $$ that minimizes $\\mathcal{J}(\\cdot)$ on all samples from $\\mathcal{D}$.\n"
   ]
  },
  {
   "cell_type": "markdown",
   "metadata": {
    "slideshow": {
     "slide_type": "subslide"
    }
   },
   "source": [
    "# Training\n",
    "\n",
    "* we decided earlier that $$ f(\\cdot) $$ is a linear function of the form:\n",
    "\n",
    "<div class=\"centered\"> $$ f = W^Tx $$ </div>\n",
    "\n",
    "* the optimization can be done with various algorithms e.g. L-BFGS, gradient descent, etc.\n",
    "\n",
    "* after training:\n",
    "\n",
    "<div class=\"centered\"> $$ f = argmin \\quad \\frac{1}{n} \\sum_{i}^{n} (W^Tx_n - y_n )^2 $$ </div>\n",
    "\n",
    "\n"
   ]
  },
  {
   "cell_type": "markdown",
   "metadata": {
    "slideshow": {
     "slide_type": "subslide"
    }
   },
   "source": [
    "# Visualizing a sample of the dataset"
   ]
  },
  {
   "cell_type": "code",
   "execution_count": 10,
   "metadata": {
    "slideshow": {
     "slide_type": "-"
    }
   },
   "outputs": [
    {
     "data": {
      "application/vnd.plotly.v1+json": {
       "config": {
        "plotlyServerURL": "https://plot.ly"
       },
       "data": [
        {
         "hoverlabel": {
          "namelength": 0
         },
         "hovertemplate": "species=setosa<br>petal_width=%{x}<br>species_id=%{y}",
         "legendgroup": "species=setosa",
         "marker": {
          "color": "#636efa",
          "symbol": "circle"
         },
         "mode": "markers",
         "name": "species=setosa",
         "showlegend": true,
         "type": "scatter",
         "x": [
          0.2,
          0.2,
          0.2,
          0.2,
          0.2,
          0.4,
          0.3,
          0.2,
          0.2,
          0.1,
          0.2,
          0.2,
          0.1,
          0.1,
          0.2,
          0.4,
          0.4,
          0.3,
          0.3,
          0.3,
          0.2,
          0.4,
          0.2,
          0.5,
          0.2,
          0.2,
          0.4,
          0.2,
          0.2,
          0.2,
          0.2,
          0.4,
          0.1,
          0.2,
          0.1,
          0.2,
          0.2,
          0.1,
          0.2,
          0.2,
          0.3,
          0.3,
          0.2,
          0.6,
          0.4,
          0.3,
          0.2,
          0.2,
          0.2,
          0.2
         ],
         "xaxis": "x",
         "y": [
          1,
          1,
          1,
          1,
          1,
          1,
          1,
          1,
          1,
          1,
          1,
          1,
          1,
          1,
          1,
          1,
          1,
          1,
          1,
          1,
          1,
          1,
          1,
          1,
          1,
          1,
          1,
          1,
          1,
          1,
          1,
          1,
          1,
          1,
          1,
          1,
          1,
          1,
          1,
          1,
          1,
          1,
          1,
          1,
          1,
          1,
          1,
          1,
          1,
          1
         ],
         "yaxis": "y"
        },
        {
         "hoverlabel": {
          "namelength": 0
         },
         "hovertemplate": "species=versicolor<br>petal_width=%{x}<br>species_id=%{y}",
         "legendgroup": "species=versicolor",
         "marker": {
          "color": "#EF553B",
          "symbol": "circle"
         },
         "mode": "markers",
         "name": "species=versicolor",
         "showlegend": true,
         "type": "scatter",
         "x": [
          1.4,
          1.5,
          1.5,
          1.3,
          1.5,
          1.3,
          1.6,
          1,
          1.3,
          1.4,
          1,
          1.5,
          1,
          1.4,
          1.3,
          1.4,
          1.5,
          1,
          1.5,
          1.1,
          1.8,
          1.3,
          1.5,
          1.2,
          1.3,
          1.4,
          1.4,
          1.7,
          1.5,
          1
         ],
         "xaxis": "x",
         "y": [
          2,
          2,
          2,
          2,
          2,
          2,
          2,
          2,
          2,
          2,
          2,
          2,
          2,
          2,
          2,
          2,
          2,
          2,
          2,
          2,
          2,
          2,
          2,
          2,
          2,
          2,
          2,
          2,
          2,
          2
         ],
         "yaxis": "y"
        }
       ],
       "layout": {
        "height": 600,
        "legend": {
         "tracegroupgap": 0
        },
        "margin": {
         "t": 60
        },
        "template": {
         "data": {
          "bar": [
           {
            "error_x": {
             "color": "#2a3f5f"
            },
            "error_y": {
             "color": "#2a3f5f"
            },
            "marker": {
             "line": {
              "color": "#E5ECF6",
              "width": 0.5
             }
            },
            "type": "bar"
           }
          ],
          "barpolar": [
           {
            "marker": {
             "line": {
              "color": "#E5ECF6",
              "width": 0.5
             }
            },
            "type": "barpolar"
           }
          ],
          "carpet": [
           {
            "aaxis": {
             "endlinecolor": "#2a3f5f",
             "gridcolor": "white",
             "linecolor": "white",
             "minorgridcolor": "white",
             "startlinecolor": "#2a3f5f"
            },
            "baxis": {
             "endlinecolor": "#2a3f5f",
             "gridcolor": "white",
             "linecolor": "white",
             "minorgridcolor": "white",
             "startlinecolor": "#2a3f5f"
            },
            "type": "carpet"
           }
          ],
          "choropleth": [
           {
            "colorbar": {
             "outlinewidth": 0,
             "ticks": ""
            },
            "type": "choropleth"
           }
          ],
          "contour": [
           {
            "colorbar": {
             "outlinewidth": 0,
             "ticks": ""
            },
            "colorscale": [
             [
              0,
              "#0d0887"
             ],
             [
              0.1111111111111111,
              "#46039f"
             ],
             [
              0.2222222222222222,
              "#7201a8"
             ],
             [
              0.3333333333333333,
              "#9c179e"
             ],
             [
              0.4444444444444444,
              "#bd3786"
             ],
             [
              0.5555555555555556,
              "#d8576b"
             ],
             [
              0.6666666666666666,
              "#ed7953"
             ],
             [
              0.7777777777777778,
              "#fb9f3a"
             ],
             [
              0.8888888888888888,
              "#fdca26"
             ],
             [
              1,
              "#f0f921"
             ]
            ],
            "type": "contour"
           }
          ],
          "contourcarpet": [
           {
            "colorbar": {
             "outlinewidth": 0,
             "ticks": ""
            },
            "type": "contourcarpet"
           }
          ],
          "heatmap": [
           {
            "colorbar": {
             "outlinewidth": 0,
             "ticks": ""
            },
            "colorscale": [
             [
              0,
              "#0d0887"
             ],
             [
              0.1111111111111111,
              "#46039f"
             ],
             [
              0.2222222222222222,
              "#7201a8"
             ],
             [
              0.3333333333333333,
              "#9c179e"
             ],
             [
              0.4444444444444444,
              "#bd3786"
             ],
             [
              0.5555555555555556,
              "#d8576b"
             ],
             [
              0.6666666666666666,
              "#ed7953"
             ],
             [
              0.7777777777777778,
              "#fb9f3a"
             ],
             [
              0.8888888888888888,
              "#fdca26"
             ],
             [
              1,
              "#f0f921"
             ]
            ],
            "type": "heatmap"
           }
          ],
          "heatmapgl": [
           {
            "colorbar": {
             "outlinewidth": 0,
             "ticks": ""
            },
            "colorscale": [
             [
              0,
              "#0d0887"
             ],
             [
              0.1111111111111111,
              "#46039f"
             ],
             [
              0.2222222222222222,
              "#7201a8"
             ],
             [
              0.3333333333333333,
              "#9c179e"
             ],
             [
              0.4444444444444444,
              "#bd3786"
             ],
             [
              0.5555555555555556,
              "#d8576b"
             ],
             [
              0.6666666666666666,
              "#ed7953"
             ],
             [
              0.7777777777777778,
              "#fb9f3a"
             ],
             [
              0.8888888888888888,
              "#fdca26"
             ],
             [
              1,
              "#f0f921"
             ]
            ],
            "type": "heatmapgl"
           }
          ],
          "histogram": [
           {
            "marker": {
             "colorbar": {
              "outlinewidth": 0,
              "ticks": ""
             }
            },
            "type": "histogram"
           }
          ],
          "histogram2d": [
           {
            "colorbar": {
             "outlinewidth": 0,
             "ticks": ""
            },
            "colorscale": [
             [
              0,
              "#0d0887"
             ],
             [
              0.1111111111111111,
              "#46039f"
             ],
             [
              0.2222222222222222,
              "#7201a8"
             ],
             [
              0.3333333333333333,
              "#9c179e"
             ],
             [
              0.4444444444444444,
              "#bd3786"
             ],
             [
              0.5555555555555556,
              "#d8576b"
             ],
             [
              0.6666666666666666,
              "#ed7953"
             ],
             [
              0.7777777777777778,
              "#fb9f3a"
             ],
             [
              0.8888888888888888,
              "#fdca26"
             ],
             [
              1,
              "#f0f921"
             ]
            ],
            "type": "histogram2d"
           }
          ],
          "histogram2dcontour": [
           {
            "colorbar": {
             "outlinewidth": 0,
             "ticks": ""
            },
            "colorscale": [
             [
              0,
              "#0d0887"
             ],
             [
              0.1111111111111111,
              "#46039f"
             ],
             [
              0.2222222222222222,
              "#7201a8"
             ],
             [
              0.3333333333333333,
              "#9c179e"
             ],
             [
              0.4444444444444444,
              "#bd3786"
             ],
             [
              0.5555555555555556,
              "#d8576b"
             ],
             [
              0.6666666666666666,
              "#ed7953"
             ],
             [
              0.7777777777777778,
              "#fb9f3a"
             ],
             [
              0.8888888888888888,
              "#fdca26"
             ],
             [
              1,
              "#f0f921"
             ]
            ],
            "type": "histogram2dcontour"
           }
          ],
          "mesh3d": [
           {
            "colorbar": {
             "outlinewidth": 0,
             "ticks": ""
            },
            "type": "mesh3d"
           }
          ],
          "parcoords": [
           {
            "line": {
             "colorbar": {
              "outlinewidth": 0,
              "ticks": ""
             }
            },
            "type": "parcoords"
           }
          ],
          "scatter": [
           {
            "marker": {
             "colorbar": {
              "outlinewidth": 0,
              "ticks": ""
             }
            },
            "type": "scatter"
           }
          ],
          "scatter3d": [
           {
            "line": {
             "colorbar": {
              "outlinewidth": 0,
              "ticks": ""
             }
            },
            "marker": {
             "colorbar": {
              "outlinewidth": 0,
              "ticks": ""
             }
            },
            "type": "scatter3d"
           }
          ],
          "scattercarpet": [
           {
            "marker": {
             "colorbar": {
              "outlinewidth": 0,
              "ticks": ""
             }
            },
            "type": "scattercarpet"
           }
          ],
          "scattergeo": [
           {
            "marker": {
             "colorbar": {
              "outlinewidth": 0,
              "ticks": ""
             }
            },
            "type": "scattergeo"
           }
          ],
          "scattergl": [
           {
            "marker": {
             "colorbar": {
              "outlinewidth": 0,
              "ticks": ""
             }
            },
            "type": "scattergl"
           }
          ],
          "scattermapbox": [
           {
            "marker": {
             "colorbar": {
              "outlinewidth": 0,
              "ticks": ""
             }
            },
            "type": "scattermapbox"
           }
          ],
          "scatterpolar": [
           {
            "marker": {
             "colorbar": {
              "outlinewidth": 0,
              "ticks": ""
             }
            },
            "type": "scatterpolar"
           }
          ],
          "scatterpolargl": [
           {
            "marker": {
             "colorbar": {
              "outlinewidth": 0,
              "ticks": ""
             }
            },
            "type": "scatterpolargl"
           }
          ],
          "scatterternary": [
           {
            "marker": {
             "colorbar": {
              "outlinewidth": 0,
              "ticks": ""
             }
            },
            "type": "scatterternary"
           }
          ],
          "surface": [
           {
            "colorbar": {
             "outlinewidth": 0,
             "ticks": ""
            },
            "colorscale": [
             [
              0,
              "#0d0887"
             ],
             [
              0.1111111111111111,
              "#46039f"
             ],
             [
              0.2222222222222222,
              "#7201a8"
             ],
             [
              0.3333333333333333,
              "#9c179e"
             ],
             [
              0.4444444444444444,
              "#bd3786"
             ],
             [
              0.5555555555555556,
              "#d8576b"
             ],
             [
              0.6666666666666666,
              "#ed7953"
             ],
             [
              0.7777777777777778,
              "#fb9f3a"
             ],
             [
              0.8888888888888888,
              "#fdca26"
             ],
             [
              1,
              "#f0f921"
             ]
            ],
            "type": "surface"
           }
          ],
          "table": [
           {
            "cells": {
             "fill": {
              "color": "#EBF0F8"
             },
             "line": {
              "color": "white"
             }
            },
            "header": {
             "fill": {
              "color": "#C8D4E3"
             },
             "line": {
              "color": "white"
             }
            },
            "type": "table"
           }
          ]
         },
         "layout": {
          "annotationdefaults": {
           "arrowcolor": "#2a3f5f",
           "arrowhead": 0,
           "arrowwidth": 1
          },
          "colorscale": {
           "diverging": [
            [
             0,
             "#8e0152"
            ],
            [
             0.1,
             "#c51b7d"
            ],
            [
             0.2,
             "#de77ae"
            ],
            [
             0.3,
             "#f1b6da"
            ],
            [
             0.4,
             "#fde0ef"
            ],
            [
             0.5,
             "#f7f7f7"
            ],
            [
             0.6,
             "#e6f5d0"
            ],
            [
             0.7,
             "#b8e186"
            ],
            [
             0.8,
             "#7fbc41"
            ],
            [
             0.9,
             "#4d9221"
            ],
            [
             1,
             "#276419"
            ]
           ],
           "sequential": [
            [
             0,
             "#0d0887"
            ],
            [
             0.1111111111111111,
             "#46039f"
            ],
            [
             0.2222222222222222,
             "#7201a8"
            ],
            [
             0.3333333333333333,
             "#9c179e"
            ],
            [
             0.4444444444444444,
             "#bd3786"
            ],
            [
             0.5555555555555556,
             "#d8576b"
            ],
            [
             0.6666666666666666,
             "#ed7953"
            ],
            [
             0.7777777777777778,
             "#fb9f3a"
            ],
            [
             0.8888888888888888,
             "#fdca26"
            ],
            [
             1,
             "#f0f921"
            ]
           ],
           "sequentialminus": [
            [
             0,
             "#0d0887"
            ],
            [
             0.1111111111111111,
             "#46039f"
            ],
            [
             0.2222222222222222,
             "#7201a8"
            ],
            [
             0.3333333333333333,
             "#9c179e"
            ],
            [
             0.4444444444444444,
             "#bd3786"
            ],
            [
             0.5555555555555556,
             "#d8576b"
            ],
            [
             0.6666666666666666,
             "#ed7953"
            ],
            [
             0.7777777777777778,
             "#fb9f3a"
            ],
            [
             0.8888888888888888,
             "#fdca26"
            ],
            [
             1,
             "#f0f921"
            ]
           ]
          },
          "colorway": [
           "#636efa",
           "#EF553B",
           "#00cc96",
           "#ab63fa",
           "#FFA15A",
           "#19d3f3",
           "#FF6692",
           "#B6E880",
           "#FF97FF",
           "#FECB52"
          ],
          "font": {
           "color": "#2a3f5f"
          },
          "geo": {
           "bgcolor": "white",
           "lakecolor": "white",
           "landcolor": "#E5ECF6",
           "showlakes": true,
           "showland": true,
           "subunitcolor": "white"
          },
          "hoverlabel": {
           "align": "left"
          },
          "hovermode": "closest",
          "mapbox": {
           "style": "light"
          },
          "paper_bgcolor": "white",
          "plot_bgcolor": "#E5ECF6",
          "polar": {
           "angularaxis": {
            "gridcolor": "white",
            "linecolor": "white",
            "ticks": ""
           },
           "bgcolor": "#E5ECF6",
           "radialaxis": {
            "gridcolor": "white",
            "linecolor": "white",
            "ticks": ""
           }
          },
          "scene": {
           "xaxis": {
            "backgroundcolor": "#E5ECF6",
            "gridcolor": "white",
            "gridwidth": 2,
            "linecolor": "white",
            "showbackground": true,
            "ticks": "",
            "zerolinecolor": "white"
           },
           "yaxis": {
            "backgroundcolor": "#E5ECF6",
            "gridcolor": "white",
            "gridwidth": 2,
            "linecolor": "white",
            "showbackground": true,
            "ticks": "",
            "zerolinecolor": "white"
           },
           "zaxis": {
            "backgroundcolor": "#E5ECF6",
            "gridcolor": "white",
            "gridwidth": 2,
            "linecolor": "white",
            "showbackground": true,
            "ticks": "",
            "zerolinecolor": "white"
           }
          },
          "shapedefaults": {
           "line": {
            "color": "#2a3f5f"
           }
          },
          "ternary": {
           "aaxis": {
            "gridcolor": "white",
            "linecolor": "white",
            "ticks": ""
           },
           "baxis": {
            "gridcolor": "white",
            "linecolor": "white",
            "ticks": ""
           },
           "bgcolor": "#E5ECF6",
           "caxis": {
            "gridcolor": "white",
            "linecolor": "white",
            "ticks": ""
           }
          },
          "title": {
           "x": 0.05
          },
          "xaxis": {
           "automargin": true,
           "gridcolor": "white",
           "linecolor": "white",
           "ticks": "",
           "zerolinecolor": "white",
           "zerolinewidth": 2
          },
          "yaxis": {
           "automargin": true,
           "gridcolor": "white",
           "linecolor": "white",
           "ticks": "",
           "zerolinecolor": "white",
           "zerolinewidth": 2
          }
         }
        },
        "title": {
         "text": "Iris Dataset, petal width"
        },
        "xaxis": {
         "anchor": "y",
         "domain": [
          0,
          0.98
         ],
         "title": {
          "text": "petal_width"
         }
        },
        "yaxis": {
         "anchor": "x",
         "domain": [
          0,
          1
         ],
         "title": {
          "text": "species_id"
         }
        }
       }
      },
      "text/html": [
       "<div>\n",
       "        \n",
       "        \n",
       "            <div id=\"c75684de-0f64-4286-bab0-1dd2a7417b2b\" class=\"plotly-graph-div\" style=\"height:600px; width:100%;\"></div>\n",
       "            <script type=\"text/javascript\">\n",
       "                require([\"plotly\"], function(Plotly) {\n",
       "                    window.PLOTLYENV=window.PLOTLYENV || {};\n",
       "                    \n",
       "                if (document.getElementById(\"c75684de-0f64-4286-bab0-1dd2a7417b2b\")) {\n",
       "                    Plotly.newPlot(\n",
       "                        'c75684de-0f64-4286-bab0-1dd2a7417b2b',\n",
       "                        [{\"hoverlabel\": {\"namelength\": 0}, \"hovertemplate\": \"species=setosa<br>petal_width=%{x}<br>species_id=%{y}\", \"legendgroup\": \"species=setosa\", \"marker\": {\"color\": \"#636efa\", \"symbol\": \"circle\"}, \"mode\": \"markers\", \"name\": \"species=setosa\", \"showlegend\": true, \"type\": \"scatter\", \"x\": [0.2, 0.2, 0.2, 0.2, 0.2, 0.4, 0.3, 0.2, 0.2, 0.1, 0.2, 0.2, 0.1, 0.1, 0.2, 0.4, 0.4, 0.3, 0.3, 0.3, 0.2, 0.4, 0.2, 0.5, 0.2, 0.2, 0.4, 0.2, 0.2, 0.2, 0.2, 0.4, 0.1, 0.2, 0.1, 0.2, 0.2, 0.1, 0.2, 0.2, 0.3, 0.3, 0.2, 0.6, 0.4, 0.3, 0.2, 0.2, 0.2, 0.2], \"xaxis\": \"x\", \"y\": [1, 1, 1, 1, 1, 1, 1, 1, 1, 1, 1, 1, 1, 1, 1, 1, 1, 1, 1, 1, 1, 1, 1, 1, 1, 1, 1, 1, 1, 1, 1, 1, 1, 1, 1, 1, 1, 1, 1, 1, 1, 1, 1, 1, 1, 1, 1, 1, 1, 1], \"yaxis\": \"y\"}, {\"hoverlabel\": {\"namelength\": 0}, \"hovertemplate\": \"species=versicolor<br>petal_width=%{x}<br>species_id=%{y}\", \"legendgroup\": \"species=versicolor\", \"marker\": {\"color\": \"#EF553B\", \"symbol\": \"circle\"}, \"mode\": \"markers\", \"name\": \"species=versicolor\", \"showlegend\": true, \"type\": \"scatter\", \"x\": [1.4, 1.5, 1.5, 1.3, 1.5, 1.3, 1.6, 1.0, 1.3, 1.4, 1.0, 1.5, 1.0, 1.4, 1.3, 1.4, 1.5, 1.0, 1.5, 1.1, 1.8, 1.3, 1.5, 1.2, 1.3, 1.4, 1.4, 1.7, 1.5, 1.0], \"xaxis\": \"x\", \"y\": [2, 2, 2, 2, 2, 2, 2, 2, 2, 2, 2, 2, 2, 2, 2, 2, 2, 2, 2, 2, 2, 2, 2, 2, 2, 2, 2, 2, 2, 2], \"yaxis\": \"y\"}],\n",
       "                        {\"height\": 600, \"legend\": {\"tracegroupgap\": 0}, \"margin\": {\"t\": 60}, \"template\": {\"data\": {\"bar\": [{\"error_x\": {\"color\": \"#2a3f5f\"}, \"error_y\": {\"color\": \"#2a3f5f\"}, \"marker\": {\"line\": {\"color\": \"#E5ECF6\", \"width\": 0.5}}, \"type\": \"bar\"}], \"barpolar\": [{\"marker\": {\"line\": {\"color\": \"#E5ECF6\", \"width\": 0.5}}, \"type\": \"barpolar\"}], \"carpet\": [{\"aaxis\": {\"endlinecolor\": \"#2a3f5f\", \"gridcolor\": \"white\", \"linecolor\": \"white\", \"minorgridcolor\": \"white\", \"startlinecolor\": \"#2a3f5f\"}, \"baxis\": {\"endlinecolor\": \"#2a3f5f\", \"gridcolor\": \"white\", \"linecolor\": \"white\", \"minorgridcolor\": \"white\", \"startlinecolor\": \"#2a3f5f\"}, \"type\": \"carpet\"}], \"choropleth\": [{\"colorbar\": {\"outlinewidth\": 0, \"ticks\": \"\"}, \"type\": \"choropleth\"}], \"contour\": [{\"colorbar\": {\"outlinewidth\": 0, \"ticks\": \"\"}, \"colorscale\": [[0.0, \"#0d0887\"], [0.1111111111111111, \"#46039f\"], [0.2222222222222222, \"#7201a8\"], [0.3333333333333333, \"#9c179e\"], [0.4444444444444444, \"#bd3786\"], [0.5555555555555556, \"#d8576b\"], [0.6666666666666666, \"#ed7953\"], [0.7777777777777778, \"#fb9f3a\"], [0.8888888888888888, \"#fdca26\"], [1.0, \"#f0f921\"]], \"type\": \"contour\"}], \"contourcarpet\": [{\"colorbar\": {\"outlinewidth\": 0, \"ticks\": \"\"}, \"type\": \"contourcarpet\"}], \"heatmap\": [{\"colorbar\": {\"outlinewidth\": 0, \"ticks\": \"\"}, \"colorscale\": [[0.0, \"#0d0887\"], [0.1111111111111111, \"#46039f\"], [0.2222222222222222, \"#7201a8\"], [0.3333333333333333, \"#9c179e\"], [0.4444444444444444, \"#bd3786\"], [0.5555555555555556, \"#d8576b\"], [0.6666666666666666, \"#ed7953\"], [0.7777777777777778, \"#fb9f3a\"], [0.8888888888888888, \"#fdca26\"], [1.0, \"#f0f921\"]], \"type\": \"heatmap\"}], \"heatmapgl\": [{\"colorbar\": {\"outlinewidth\": 0, \"ticks\": \"\"}, \"colorscale\": [[0.0, \"#0d0887\"], [0.1111111111111111, \"#46039f\"], [0.2222222222222222, \"#7201a8\"], [0.3333333333333333, \"#9c179e\"], [0.4444444444444444, \"#bd3786\"], [0.5555555555555556, \"#d8576b\"], [0.6666666666666666, \"#ed7953\"], [0.7777777777777778, \"#fb9f3a\"], [0.8888888888888888, \"#fdca26\"], [1.0, \"#f0f921\"]], \"type\": \"heatmapgl\"}], \"histogram\": [{\"marker\": {\"colorbar\": {\"outlinewidth\": 0, \"ticks\": \"\"}}, \"type\": \"histogram\"}], \"histogram2d\": [{\"colorbar\": {\"outlinewidth\": 0, \"ticks\": \"\"}, \"colorscale\": [[0.0, \"#0d0887\"], [0.1111111111111111, \"#46039f\"], [0.2222222222222222, \"#7201a8\"], [0.3333333333333333, \"#9c179e\"], [0.4444444444444444, \"#bd3786\"], [0.5555555555555556, \"#d8576b\"], [0.6666666666666666, \"#ed7953\"], [0.7777777777777778, \"#fb9f3a\"], [0.8888888888888888, \"#fdca26\"], [1.0, \"#f0f921\"]], \"type\": \"histogram2d\"}], \"histogram2dcontour\": [{\"colorbar\": {\"outlinewidth\": 0, \"ticks\": \"\"}, \"colorscale\": [[0.0, \"#0d0887\"], [0.1111111111111111, \"#46039f\"], [0.2222222222222222, \"#7201a8\"], [0.3333333333333333, \"#9c179e\"], [0.4444444444444444, \"#bd3786\"], [0.5555555555555556, \"#d8576b\"], [0.6666666666666666, \"#ed7953\"], [0.7777777777777778, \"#fb9f3a\"], [0.8888888888888888, \"#fdca26\"], [1.0, \"#f0f921\"]], \"type\": \"histogram2dcontour\"}], \"mesh3d\": [{\"colorbar\": {\"outlinewidth\": 0, \"ticks\": \"\"}, \"type\": \"mesh3d\"}], \"parcoords\": [{\"line\": {\"colorbar\": {\"outlinewidth\": 0, \"ticks\": \"\"}}, \"type\": \"parcoords\"}], \"scatter\": [{\"marker\": {\"colorbar\": {\"outlinewidth\": 0, \"ticks\": \"\"}}, \"type\": \"scatter\"}], \"scatter3d\": [{\"line\": {\"colorbar\": {\"outlinewidth\": 0, \"ticks\": \"\"}}, \"marker\": {\"colorbar\": {\"outlinewidth\": 0, \"ticks\": \"\"}}, \"type\": \"scatter3d\"}], \"scattercarpet\": [{\"marker\": {\"colorbar\": {\"outlinewidth\": 0, \"ticks\": \"\"}}, \"type\": \"scattercarpet\"}], \"scattergeo\": [{\"marker\": {\"colorbar\": {\"outlinewidth\": 0, \"ticks\": \"\"}}, \"type\": \"scattergeo\"}], \"scattergl\": [{\"marker\": {\"colorbar\": {\"outlinewidth\": 0, \"ticks\": \"\"}}, \"type\": \"scattergl\"}], \"scattermapbox\": [{\"marker\": {\"colorbar\": {\"outlinewidth\": 0, \"ticks\": \"\"}}, \"type\": \"scattermapbox\"}], \"scatterpolar\": [{\"marker\": {\"colorbar\": {\"outlinewidth\": 0, \"ticks\": \"\"}}, \"type\": \"scatterpolar\"}], \"scatterpolargl\": [{\"marker\": {\"colorbar\": {\"outlinewidth\": 0, \"ticks\": \"\"}}, \"type\": \"scatterpolargl\"}], \"scatterternary\": [{\"marker\": {\"colorbar\": {\"outlinewidth\": 0, \"ticks\": \"\"}}, \"type\": \"scatterternary\"}], \"surface\": [{\"colorbar\": {\"outlinewidth\": 0, \"ticks\": \"\"}, \"colorscale\": [[0.0, \"#0d0887\"], [0.1111111111111111, \"#46039f\"], [0.2222222222222222, \"#7201a8\"], [0.3333333333333333, \"#9c179e\"], [0.4444444444444444, \"#bd3786\"], [0.5555555555555556, \"#d8576b\"], [0.6666666666666666, \"#ed7953\"], [0.7777777777777778, \"#fb9f3a\"], [0.8888888888888888, \"#fdca26\"], [1.0, \"#f0f921\"]], \"type\": \"surface\"}], \"table\": [{\"cells\": {\"fill\": {\"color\": \"#EBF0F8\"}, \"line\": {\"color\": \"white\"}}, \"header\": {\"fill\": {\"color\": \"#C8D4E3\"}, \"line\": {\"color\": \"white\"}}, \"type\": \"table\"}]}, \"layout\": {\"annotationdefaults\": {\"arrowcolor\": \"#2a3f5f\", \"arrowhead\": 0, \"arrowwidth\": 1}, \"colorscale\": {\"diverging\": [[0, \"#8e0152\"], [0.1, \"#c51b7d\"], [0.2, \"#de77ae\"], [0.3, \"#f1b6da\"], [0.4, \"#fde0ef\"], [0.5, \"#f7f7f7\"], [0.6, \"#e6f5d0\"], [0.7, \"#b8e186\"], [0.8, \"#7fbc41\"], [0.9, \"#4d9221\"], [1, \"#276419\"]], \"sequential\": [[0.0, \"#0d0887\"], [0.1111111111111111, \"#46039f\"], [0.2222222222222222, \"#7201a8\"], [0.3333333333333333, \"#9c179e\"], [0.4444444444444444, \"#bd3786\"], [0.5555555555555556, \"#d8576b\"], [0.6666666666666666, \"#ed7953\"], [0.7777777777777778, \"#fb9f3a\"], [0.8888888888888888, \"#fdca26\"], [1.0, \"#f0f921\"]], \"sequentialminus\": [[0.0, \"#0d0887\"], [0.1111111111111111, \"#46039f\"], [0.2222222222222222, \"#7201a8\"], [0.3333333333333333, \"#9c179e\"], [0.4444444444444444, \"#bd3786\"], [0.5555555555555556, \"#d8576b\"], [0.6666666666666666, \"#ed7953\"], [0.7777777777777778, \"#fb9f3a\"], [0.8888888888888888, \"#fdca26\"], [1.0, \"#f0f921\"]]}, \"colorway\": [\"#636efa\", \"#EF553B\", \"#00cc96\", \"#ab63fa\", \"#FFA15A\", \"#19d3f3\", \"#FF6692\", \"#B6E880\", \"#FF97FF\", \"#FECB52\"], \"font\": {\"color\": \"#2a3f5f\"}, \"geo\": {\"bgcolor\": \"white\", \"lakecolor\": \"white\", \"landcolor\": \"#E5ECF6\", \"showlakes\": true, \"showland\": true, \"subunitcolor\": \"white\"}, \"hoverlabel\": {\"align\": \"left\"}, \"hovermode\": \"closest\", \"mapbox\": {\"style\": \"light\"}, \"paper_bgcolor\": \"white\", \"plot_bgcolor\": \"#E5ECF6\", \"polar\": {\"angularaxis\": {\"gridcolor\": \"white\", \"linecolor\": \"white\", \"ticks\": \"\"}, \"bgcolor\": \"#E5ECF6\", \"radialaxis\": {\"gridcolor\": \"white\", \"linecolor\": \"white\", \"ticks\": \"\"}}, \"scene\": {\"xaxis\": {\"backgroundcolor\": \"#E5ECF6\", \"gridcolor\": \"white\", \"gridwidth\": 2, \"linecolor\": \"white\", \"showbackground\": true, \"ticks\": \"\", \"zerolinecolor\": \"white\"}, \"yaxis\": {\"backgroundcolor\": \"#E5ECF6\", \"gridcolor\": \"white\", \"gridwidth\": 2, \"linecolor\": \"white\", \"showbackground\": true, \"ticks\": \"\", \"zerolinecolor\": \"white\"}, \"zaxis\": {\"backgroundcolor\": \"#E5ECF6\", \"gridcolor\": \"white\", \"gridwidth\": 2, \"linecolor\": \"white\", \"showbackground\": true, \"ticks\": \"\", \"zerolinecolor\": \"white\"}}, \"shapedefaults\": {\"line\": {\"color\": \"#2a3f5f\"}}, \"ternary\": {\"aaxis\": {\"gridcolor\": \"white\", \"linecolor\": \"white\", \"ticks\": \"\"}, \"baxis\": {\"gridcolor\": \"white\", \"linecolor\": \"white\", \"ticks\": \"\"}, \"bgcolor\": \"#E5ECF6\", \"caxis\": {\"gridcolor\": \"white\", \"linecolor\": \"white\", \"ticks\": \"\"}}, \"title\": {\"x\": 0.05}, \"xaxis\": {\"automargin\": true, \"gridcolor\": \"white\", \"linecolor\": \"white\", \"ticks\": \"\", \"zerolinecolor\": \"white\", \"zerolinewidth\": 2}, \"yaxis\": {\"automargin\": true, \"gridcolor\": \"white\", \"linecolor\": \"white\", \"ticks\": \"\", \"zerolinecolor\": \"white\", \"zerolinewidth\": 2}}}, \"title\": {\"text\": \"Iris Dataset, petal width\"}, \"xaxis\": {\"anchor\": \"y\", \"domain\": [0.0, 0.98], \"title\": {\"text\": \"petal_width\"}}, \"yaxis\": {\"anchor\": \"x\", \"domain\": [0.0, 1.0], \"title\": {\"text\": \"species_id\"}}},\n",
       "                        {\"responsive\": true}\n",
       "                    ).then(function(){\n",
       "                            \n",
       "var gd = document.getElementById('c75684de-0f64-4286-bab0-1dd2a7417b2b');\n",
       "var x = new MutationObserver(function (mutations, observer) {{\n",
       "        var display = window.getComputedStyle(gd).display;\n",
       "        if (!display || display === 'none') {{\n",
       "            console.log([gd, 'removed!']);\n",
       "            Plotly.purge(gd);\n",
       "            observer.disconnect();\n",
       "        }}\n",
       "}});\n",
       "\n",
       "// Listen for the removal of the full notebook cells\n",
       "var notebookContainer = gd.closest('#notebook-container');\n",
       "if (notebookContainer) {{\n",
       "    x.observe(notebookContainer, {childList: true});\n",
       "}}\n",
       "\n",
       "// Listen for the clearing of the current output cell\n",
       "var outputEl = gd.closest('.output');\n",
       "if (outputEl) {{\n",
       "    x.observe(outputEl, {childList: true});\n",
       "}}\n",
       "\n",
       "                        })\n",
       "                };\n",
       "                });\n",
       "            </script>\n",
       "        </div>"
      ]
     },
     "metadata": {},
     "output_type": "display_data"
    }
   ],
   "source": [
    "# Display the petal width\n",
    "iris_px = px.data.iris()\n",
    "fig = px.scatter(iris_px[:80], y=\"species_id\", x=\"petal_width\", color=\"species\")\n",
    "fig.update_layout(title=\"Iris Dataset, petal width\")\n",
    "fig.show()"
   ]
  },
  {
   "cell_type": "markdown",
   "metadata": {
    "slideshow": {
     "slide_type": "subslide"
    }
   },
   "source": [
    "# Training the linear model described earlier"
   ]
  },
  {
   "cell_type": "code",
   "execution_count": 11,
   "metadata": {},
   "outputs": [
    {
     "data": {
      "application/vnd.plotly.v1+json": {
       "config": {
        "plotlyServerURL": "https://plot.ly"
       },
       "data": [
        {
         "mode": "markers",
         "name": "Training Data",
         "opacity": 0.3,
         "type": "scatter",
         "x": [
          1.4,
          3.3,
          1.7,
          4.5,
          4.4,
          1.2,
          1.3,
          1.4,
          1.5,
          1.5,
          4.2,
          1.5,
          1.5,
          3.7,
          1.6,
          4,
          1.1,
          1.9,
          1.5,
          1.4,
          1.3,
          1.4,
          4.5,
          1.4,
          3.6,
          1.3,
          4,
          4.7,
          4.1,
          4.6,
          1.6,
          4.7,
          4.1,
          1.6,
          4.5,
          4.2,
          4.3,
          3.5,
          1.3,
          4.6,
          1.5,
          3,
          3.3,
          4.4,
          1.5,
          4.2,
          3.9,
          4.7,
          4.5,
          1.4,
          1.6,
          1.4,
          4.9,
          1.5,
          1.3,
          1.7,
          4.4,
          4.6,
          4.3,
          4.7,
          3.9,
          1.7,
          3.5,
          4,
          1.2,
          4,
          4.5
         ],
         "y": [
          0,
          1,
          0,
          1,
          1,
          0,
          0,
          0,
          0,
          0,
          1,
          0,
          0,
          1,
          0,
          1,
          0,
          0,
          0,
          0,
          0,
          0,
          1,
          0,
          1,
          0,
          1,
          1,
          1,
          1,
          0,
          1,
          1,
          0,
          1,
          1,
          1,
          1,
          0,
          1,
          0,
          1,
          1,
          1,
          0,
          1,
          1,
          1,
          1,
          0,
          0,
          0,
          1,
          0,
          0,
          0,
          1,
          1,
          1,
          1,
          1,
          0,
          1,
          1,
          0,
          1,
          1
         ]
        },
        {
         "mode": "markers",
         "name": "Test Data",
         "opacity": 0.3,
         "type": "scatter",
         "x": [
          5.1,
          4,
          4.8,
          1.4,
          1.9,
          1.5,
          1,
          3.8,
          1.5,
          1.4,
          1.7,
          1.6,
          4.7,
          1.4,
          4.4,
          1.4,
          4.8,
          5,
          1.4,
          1.5,
          4.5,
          4.1,
          1.6,
          1.3,
          3.9,
          1.5,
          1.3,
          4.2,
          1.5,
          4.9,
          1.6,
          1.4,
          4.5
         ],
         "y": [
          1,
          1,
          1,
          0,
          0,
          0,
          0,
          1,
          0,
          0,
          0,
          0,
          1,
          0,
          1,
          0,
          1,
          1,
          0,
          0,
          1,
          1,
          0,
          0,
          1,
          0,
          0,
          1,
          0,
          1,
          0,
          0,
          1
         ]
        },
        {
         "mode": "lines",
         "name": "Linear Regression",
         "type": "scatter",
         "x": [
          1,
          1.0133779264214047,
          1.0267558528428093,
          1.040133779264214,
          1.0535117056856187,
          1.0668896321070234,
          1.080267558528428,
          1.0936454849498327,
          1.1070234113712374,
          1.120401337792642,
          1.1337792642140467,
          1.1471571906354514,
          1.160535117056856,
          1.1739130434782608,
          1.1872909698996654,
          1.2006688963210703,
          1.214046822742475,
          1.2274247491638797,
          1.2408026755852843,
          1.254180602006689,
          1.2675585284280937,
          1.2809364548494984,
          1.294314381270903,
          1.3076923076923077,
          1.3210702341137124,
          1.334448160535117,
          1.3478260869565217,
          1.3612040133779264,
          1.374581939799331,
          1.3879598662207357,
          1.4013377926421404,
          1.414715719063545,
          1.4280936454849498,
          1.4414715719063544,
          1.4548494983277591,
          1.4682274247491638,
          1.4816053511705687,
          1.4949832775919734,
          1.508361204013378,
          1.5217391304347827,
          1.5351170568561874,
          1.548494983277592,
          1.5618729096989967,
          1.5752508361204014,
          1.588628762541806,
          1.6020066889632107,
          1.6153846153846154,
          1.62876254180602,
          1.6421404682274248,
          1.6555183946488294,
          1.6688963210702341,
          1.6822742474916388,
          1.6956521739130435,
          1.7090301003344481,
          1.7224080267558528,
          1.7357859531772575,
          1.7491638795986622,
          1.7625418060200668,
          1.7759197324414715,
          1.7892976588628762,
          1.8026755852842808,
          1.8160535117056855,
          1.8294314381270902,
          1.8428093645484949,
          1.8561872909698995,
          1.8695652173913042,
          1.8829431438127089,
          1.8963210702341136,
          1.9096989966555182,
          1.923076923076923,
          1.9364548494983276,
          1.9498327759197325,
          1.9632107023411371,
          1.9765886287625418,
          1.9899665551839465,
          2.0033444816053514,
          2.016722408026756,
          2.0301003344481607,
          2.0434782608695654,
          2.05685618729097,
          2.0702341137123748,
          2.0836120401337794,
          2.096989966555184,
          2.1103678929765888,
          2.1237458193979935,
          2.137123745819398,
          2.150501672240803,
          2.1638795986622075,
          2.177257525083612,
          2.190635451505017,
          2.2040133779264215,
          2.217391304347826,
          2.230769230769231,
          2.2441471571906355,
          2.25752508361204,
          2.270903010033445,
          2.2842809364548495,
          2.297658862876254,
          2.311036789297659,
          2.3244147157190636,
          2.3377926421404682,
          2.351170568561873,
          2.3645484949832776,
          2.3779264214046822,
          2.391304347826087,
          2.4046822742474916,
          2.4180602006688963,
          2.431438127090301,
          2.4448160535117056,
          2.4581939799331103,
          2.471571906354515,
          2.4849498327759196,
          2.4983277591973243,
          2.511705685618729,
          2.5250836120401337,
          2.5384615384615383,
          2.551839464882943,
          2.5652173913043477,
          2.5785953177257523,
          2.591973244147157,
          2.6053511705685617,
          2.6187290969899664,
          2.632107023411371,
          2.6454849498327757,
          2.6588628762541804,
          2.672240802675585,
          2.6856187290969897,
          2.6989966555183944,
          2.712374581939799,
          2.7257525083612038,
          2.7391304347826084,
          2.752508361204013,
          2.7658862876254178,
          2.7792642140468224,
          2.792642140468227,
          2.806020066889632,
          2.8193979933110365,
          2.832775919732441,
          2.846153846153846,
          2.8595317725752505,
          2.872909698996655,
          2.8862876254180603,
          2.899665551839465,
          2.9130434782608696,
          2.9264214046822743,
          2.939799331103679,
          2.9531772575250836,
          2.9665551839464883,
          2.979933110367893,
          2.9933110367892977,
          3.0066889632107023,
          3.020066889632107,
          3.0334448160535117,
          3.0468227424749164,
          3.060200668896321,
          3.0735785953177257,
          3.0869565217391304,
          3.100334448160535,
          3.1137123745819397,
          3.1270903010033444,
          3.140468227424749,
          3.1538461538461537,
          3.1672240802675584,
          3.180602006688963,
          3.1939799331103678,
          3.2073578595317724,
          3.220735785953177,
          3.234113712374582,
          3.2474916387959865,
          3.260869565217391,
          3.274247491638796,
          3.2876254180602005,
          3.301003344481605,
          3.31438127090301,
          3.3277591973244145,
          3.341137123745819,
          3.354515050167224,
          3.3678929765886285,
          3.381270903010033,
          3.394648829431438,
          3.408026755852843,
          3.4214046822742477,
          3.4347826086956523,
          3.448160535117057,
          3.4615384615384617,
          3.4749163879598663,
          3.488294314381271,
          3.5016722408026757,
          3.5150501672240804,
          3.528428093645485,
          3.5418060200668897,
          3.5551839464882944,
          3.568561872909699,
          3.5819397993311037,
          3.5953177257525084,
          3.608695652173913,
          3.6220735785953178,
          3.6354515050167224,
          3.648829431438127,
          3.6622073578595318,
          3.6755852842809364,
          3.688963210702341,
          3.702341137123746,
          3.7157190635451505,
          3.729096989966555,
          3.74247491638796,
          3.7558528428093645,
          3.769230769230769,
          3.782608695652174,
          3.7959866220735785,
          3.809364548494983,
          3.822742474916388,
          3.8361204013377925,
          3.849498327759197,
          3.862876254180602,
          3.8762541806020065,
          3.8896321070234112,
          3.903010033444816,
          3.9163879598662206,
          3.9297658862876252,
          3.94314381270903,
          3.9565217391304346,
          3.9698996655518393,
          3.983277591973244,
          3.9966555183946486,
          4.010033444816053,
          4.023411371237458,
          4.036789297658863,
          4.050167224080267,
          4.063545150501672,
          4.076923076923077,
          4.090301003344482,
          4.103678929765886,
          4.117056856187292,
          4.130434782608695,
          4.143812709030101,
          4.157190635451505,
          4.17056856187291,
          4.183946488294314,
          4.19732441471572,
          4.210702341137123,
          4.224080267558529,
          4.237458193979933,
          4.250836120401338,
          4.264214046822742,
          4.277591973244148,
          4.290969899665551,
          4.304347826086957,
          4.317725752508361,
          4.331103678929766,
          4.34448160535117,
          4.357859531772576,
          4.3712374581939795,
          4.384615384615385,
          4.397993311036789,
          4.411371237458194,
          4.424749163879598,
          4.438127090301004,
          4.4515050167224075,
          4.464882943143813,
          4.478260869565217,
          4.491638795986622,
          4.505016722408026,
          4.518394648829432,
          4.5317725752508355,
          4.545150501672241,
          4.558528428093645,
          4.5719063545150505,
          4.585284280936454,
          4.59866220735786,
          4.612040133779264,
          4.625418060200669,
          4.638795986622073,
          4.6521739130434785,
          4.665551839464882,
          4.678929765886288,
          4.692307692307692,
          4.705685618729097,
          4.719063545150501,
          4.7324414715719065,
          4.74581939799331,
          4.759197324414716,
          4.7725752508361206,
          4.785953177257525,
          4.79933110367893,
          4.812709030100335,
          4.826086956521739,
          4.839464882943144,
          4.852842809364549,
          4.866220735785953,
          4.879598662207358,
          4.892976588628763,
          4.906354515050167,
          4.919732441471572,
          4.933110367892977,
          4.946488294314381,
          4.959866220735786,
          4.973244147157191,
          4.986622073578595,
          5
         ],
         "y": [
          -0.12333851376221822,
          -0.1187302938413855,
          -0.11412207392055279,
          -0.10951385399972008,
          -0.10490563407888731,
          -0.1002974141580546,
          -0.09568919423722189,
          -0.09108097431638917,
          -0.08647275439555646,
          -0.08186453447472375,
          -0.07725631455389104,
          -0.07264809463305827,
          -0.06803987471222556,
          -0.06343165479139284,
          -0.05882343487056013,
          -0.054215214949727364,
          -0.049606995028894596,
          -0.044998775108061884,
          -0.04039055518722917,
          -0.03578233526639646,
          -0.031174115345563747,
          -0.026565895424731034,
          -0.021957675503898322,
          -0.017349455583065554,
          -0.012741235662232842,
          -0.00813301574140013,
          -0.003524795820567417,
          0.0010834241002652956,
          0.005691644021098008,
          0.01029986394193072,
          0.014908083862763488,
          0.0195163037835962,
          0.024124523704428913,
          0.028732743625261625,
          0.03334096354609439,
          0.037949183466927106,
          0.04255740338775982,
          0.04716562330859253,
          0.051773843229425354,
          0.056382063150258066,
          0.06099028307109078,
          0.06559850299192349,
          0.0702067229127562,
          0.07481494283358892,
          0.07942316275442163,
          0.08403138267525434,
          0.08863960259608705,
          0.09324782251691976,
          0.09785604243775248,
          0.10246426235858519,
          0.1070724822794179,
          0.11168070220025061,
          0.11628892212108333,
          0.12089714204191615,
          0.12550536196274886,
          0.13011358188358157,
          0.1347218018044143,
          0.139330021725247,
          0.1439382416460797,
          0.14854646156691242,
          0.15315468148774514,
          0.15776290140857785,
          0.16237112132941056,
          0.16697934125024327,
          0.171587561171076,
          0.1761957810919087,
          0.1808040010127414,
          0.18541222093357423,
          0.19002044085440695,
          0.19462866077523966,
          0.19923688069607237,
          0.20384510061690508,
          0.2084533205377379,
          0.21306154045857062,
          0.21766976037940333,
          0.22227798030023604,
          0.22688620022106887,
          0.23149442014190158,
          0.2361026400627343,
          0.240710859983567,
          0.24531907990439972,
          0.24992729982523243,
          0.25453551974606514,
          0.25914373966689785,
          0.26375195958773057,
          0.2683601795085633,
          0.272968399429396,
          0.2775766193502287,
          0.2821848392710614,
          0.28679305919189413,
          0.29140127911272684,
          0.29600949903355966,
          0.3006177189543924,
          0.3052259388752251,
          0.3098341587960578,
          0.3144423787168905,
          0.3190505986377232,
          0.32365881855855594,
          0.32826703847938865,
          0.33287525840022136,
          0.3374834783210541,
          0.3420916982418868,
          0.3466999181627195,
          0.3513081380835522,
          0.3559163580043849,
          0.36052457792521775,
          0.36513279784605046,
          0.3697410177668832,
          0.3743492376877159,
          0.3789574576085486,
          0.3835656775293813,
          0.388173897450214,
          0.39278211737104674,
          0.39739033729187945,
          0.40199855721271216,
          0.40660677713354487,
          0.4112149970543776,
          0.4158232169752103,
          0.420431436896043,
          0.42503965681687583,
          0.42964787673770855,
          0.43425609665854126,
          0.43886431657937397,
          0.4434725365002067,
          0.4480807564210394,
          0.4526889763418721,
          0.4572971962627048,
          0.46190541618353753,
          0.46651363610437024,
          0.47112185602520296,
          0.47573007594603567,
          0.4803382958668684,
          0.4849465157877011,
          0.4895547357085338,
          0.49416295562936663,
          0.49877117555019934,
          0.503379395471032,
          0.5079876153918648,
          0.5125958353126975,
          0.5172040552335302,
          0.5218122751543629,
          0.5264204950751957,
          0.5310287149960284,
          0.5356369349168613,
          0.5402451548376939,
          0.5448533747585267,
          0.5494615946793593,
          0.5540698146001921,
          0.5586780345210247,
          0.5632862544418575,
          0.5678944743626904,
          0.572502694283523,
          0.5771109142043558,
          0.5817191341251884,
          0.5863273540460212,
          0.5909355739668538,
          0.5955437938876866,
          0.6001520138085192,
          0.6047602337293521,
          0.6093684536501847,
          0.6139766735710175,
          0.6185848934918501,
          0.6231931134126829,
          0.6278013333335155,
          0.6324095532543483,
          0.6370177731751812,
          0.6416259930960138,
          0.6462342130168466,
          0.6508424329376792,
          0.655450652858512,
          0.6600588727793446,
          0.6646670927001774,
          0.66927531262101,
          0.6738835325418429,
          0.6784917524626755,
          0.6830999723835083,
          0.6877081923043409,
          0.6923164122251737,
          0.6969246321460063,
          0.7015328520668391,
          0.706141071987672,
          0.7107492919085048,
          0.7153575118293374,
          0.7199657317501702,
          0.7245739516710028,
          0.7291821715918356,
          0.7337903915126682,
          0.738398611433501,
          0.7430068313543339,
          0.7476150512751665,
          0.7522232711959993,
          0.7568314911168319,
          0.7614397110376647,
          0.7660479309584973,
          0.7706561508793301,
          0.7752643708001627,
          0.7798725907209956,
          0.7844808106418282,
          0.789089030562661,
          0.7936972504834936,
          0.7983054704043264,
          0.802913690325159,
          0.8075219102459918,
          0.8121301301668247,
          0.8167383500876573,
          0.8213465700084901,
          0.8259547899293227,
          0.8305630098501555,
          0.8351712297709881,
          0.839779449691821,
          0.8443876696126535,
          0.8489958895334864,
          0.853604109454319,
          0.8582123293751518,
          0.8628205492959844,
          0.8674287692168172,
          0.8720369891376498,
          0.8766452090584826,
          0.8812534289793155,
          0.8858616489001481,
          0.8904698688209809,
          0.8950780887418135,
          0.8996863086626463,
          0.9042945285834789,
          0.9089027485043117,
          0.9135109684251443,
          0.9181191883459772,
          0.9227274082668098,
          0.9273356281876426,
          0.9319438481084752,
          0.936552068029308,
          0.9411602879501411,
          0.9457685078709734,
          0.9503767277918065,
          0.9549849477126389,
          0.9595931676334719,
          0.9642013875543043,
          0.9688096074751373,
          0.9734178273959697,
          0.9780260473168028,
          0.9826342672376351,
          0.9872424871584682,
          0.9918507070793006,
          0.9964589270001336,
          1.001067146920966,
          1.005675366841799,
          1.0102835867626316,
          1.0148918066834645,
          1.019500026604297,
          1.02410824652513,
          1.0287164664459625,
          1.0333246863667955,
          1.037932906287628,
          1.042541126208461,
          1.0471493461292933,
          1.0517575660501264,
          1.0563657859709588,
          1.0609740058917918,
          1.0655822258126242,
          1.0701904457334572,
          1.0747986656542896,
          1.0794068855751227,
          1.084015105495955,
          1.088623325416788,
          1.0932315453376205,
          1.0978397652584535,
          1.1024479851792859,
          1.107056205100119,
          1.1116644250209513,
          1.1162726449417844,
          1.1208808648626167,
          1.1254890847834498,
          1.1300973047042822,
          1.1347055246251152,
          1.1393137445459478,
          1.1439219644667806,
          1.1485301843876132,
          1.153138404308446,
          1.1577466242292787,
          1.1623548441501117,
          1.166963064070944,
          1.1715712839917771,
          1.1761795039126097,
          1.1807877238334425,
          1.1853959437542751,
          1.190004163675108,
          1.1946123835959406,
          1.1992206035167734,
          1.203828823437606,
          1.2084370433584388,
          1.2130452632792714,
          1.2176534832001042,
          1.222261703120937,
          1.2268699230417697,
          1.2314781429626025,
          1.236086362883435,
          1.240694582804268,
          1.2453028027251005,
          1.2499110226459333,
          1.254519242566766
         ]
        }
       ],
       "layout": {
        "template": {
         "data": {
          "bar": [
           {
            "error_x": {
             "color": "#2a3f5f"
            },
            "error_y": {
             "color": "#2a3f5f"
            },
            "marker": {
             "line": {
              "color": "#E5ECF6",
              "width": 0.5
             }
            },
            "type": "bar"
           }
          ],
          "barpolar": [
           {
            "marker": {
             "line": {
              "color": "#E5ECF6",
              "width": 0.5
             }
            },
            "type": "barpolar"
           }
          ],
          "carpet": [
           {
            "aaxis": {
             "endlinecolor": "#2a3f5f",
             "gridcolor": "white",
             "linecolor": "white",
             "minorgridcolor": "white",
             "startlinecolor": "#2a3f5f"
            },
            "baxis": {
             "endlinecolor": "#2a3f5f",
             "gridcolor": "white",
             "linecolor": "white",
             "minorgridcolor": "white",
             "startlinecolor": "#2a3f5f"
            },
            "type": "carpet"
           }
          ],
          "choropleth": [
           {
            "colorbar": {
             "outlinewidth": 0,
             "ticks": ""
            },
            "type": "choropleth"
           }
          ],
          "contour": [
           {
            "colorbar": {
             "outlinewidth": 0,
             "ticks": ""
            },
            "colorscale": [
             [
              0,
              "#0d0887"
             ],
             [
              0.1111111111111111,
              "#46039f"
             ],
             [
              0.2222222222222222,
              "#7201a8"
             ],
             [
              0.3333333333333333,
              "#9c179e"
             ],
             [
              0.4444444444444444,
              "#bd3786"
             ],
             [
              0.5555555555555556,
              "#d8576b"
             ],
             [
              0.6666666666666666,
              "#ed7953"
             ],
             [
              0.7777777777777778,
              "#fb9f3a"
             ],
             [
              0.8888888888888888,
              "#fdca26"
             ],
             [
              1,
              "#f0f921"
             ]
            ],
            "type": "contour"
           }
          ],
          "contourcarpet": [
           {
            "colorbar": {
             "outlinewidth": 0,
             "ticks": ""
            },
            "type": "contourcarpet"
           }
          ],
          "heatmap": [
           {
            "colorbar": {
             "outlinewidth": 0,
             "ticks": ""
            },
            "colorscale": [
             [
              0,
              "#0d0887"
             ],
             [
              0.1111111111111111,
              "#46039f"
             ],
             [
              0.2222222222222222,
              "#7201a8"
             ],
             [
              0.3333333333333333,
              "#9c179e"
             ],
             [
              0.4444444444444444,
              "#bd3786"
             ],
             [
              0.5555555555555556,
              "#d8576b"
             ],
             [
              0.6666666666666666,
              "#ed7953"
             ],
             [
              0.7777777777777778,
              "#fb9f3a"
             ],
             [
              0.8888888888888888,
              "#fdca26"
             ],
             [
              1,
              "#f0f921"
             ]
            ],
            "type": "heatmap"
           }
          ],
          "heatmapgl": [
           {
            "colorbar": {
             "outlinewidth": 0,
             "ticks": ""
            },
            "colorscale": [
             [
              0,
              "#0d0887"
             ],
             [
              0.1111111111111111,
              "#46039f"
             ],
             [
              0.2222222222222222,
              "#7201a8"
             ],
             [
              0.3333333333333333,
              "#9c179e"
             ],
             [
              0.4444444444444444,
              "#bd3786"
             ],
             [
              0.5555555555555556,
              "#d8576b"
             ],
             [
              0.6666666666666666,
              "#ed7953"
             ],
             [
              0.7777777777777778,
              "#fb9f3a"
             ],
             [
              0.8888888888888888,
              "#fdca26"
             ],
             [
              1,
              "#f0f921"
             ]
            ],
            "type": "heatmapgl"
           }
          ],
          "histogram": [
           {
            "marker": {
             "colorbar": {
              "outlinewidth": 0,
              "ticks": ""
             }
            },
            "type": "histogram"
           }
          ],
          "histogram2d": [
           {
            "colorbar": {
             "outlinewidth": 0,
             "ticks": ""
            },
            "colorscale": [
             [
              0,
              "#0d0887"
             ],
             [
              0.1111111111111111,
              "#46039f"
             ],
             [
              0.2222222222222222,
              "#7201a8"
             ],
             [
              0.3333333333333333,
              "#9c179e"
             ],
             [
              0.4444444444444444,
              "#bd3786"
             ],
             [
              0.5555555555555556,
              "#d8576b"
             ],
             [
              0.6666666666666666,
              "#ed7953"
             ],
             [
              0.7777777777777778,
              "#fb9f3a"
             ],
             [
              0.8888888888888888,
              "#fdca26"
             ],
             [
              1,
              "#f0f921"
             ]
            ],
            "type": "histogram2d"
           }
          ],
          "histogram2dcontour": [
           {
            "colorbar": {
             "outlinewidth": 0,
             "ticks": ""
            },
            "colorscale": [
             [
              0,
              "#0d0887"
             ],
             [
              0.1111111111111111,
              "#46039f"
             ],
             [
              0.2222222222222222,
              "#7201a8"
             ],
             [
              0.3333333333333333,
              "#9c179e"
             ],
             [
              0.4444444444444444,
              "#bd3786"
             ],
             [
              0.5555555555555556,
              "#d8576b"
             ],
             [
              0.6666666666666666,
              "#ed7953"
             ],
             [
              0.7777777777777778,
              "#fb9f3a"
             ],
             [
              0.8888888888888888,
              "#fdca26"
             ],
             [
              1,
              "#f0f921"
             ]
            ],
            "type": "histogram2dcontour"
           }
          ],
          "mesh3d": [
           {
            "colorbar": {
             "outlinewidth": 0,
             "ticks": ""
            },
            "type": "mesh3d"
           }
          ],
          "parcoords": [
           {
            "line": {
             "colorbar": {
              "outlinewidth": 0,
              "ticks": ""
             }
            },
            "type": "parcoords"
           }
          ],
          "scatter": [
           {
            "marker": {
             "colorbar": {
              "outlinewidth": 0,
              "ticks": ""
             }
            },
            "type": "scatter"
           }
          ],
          "scatter3d": [
           {
            "line": {
             "colorbar": {
              "outlinewidth": 0,
              "ticks": ""
             }
            },
            "marker": {
             "colorbar": {
              "outlinewidth": 0,
              "ticks": ""
             }
            },
            "type": "scatter3d"
           }
          ],
          "scattercarpet": [
           {
            "marker": {
             "colorbar": {
              "outlinewidth": 0,
              "ticks": ""
             }
            },
            "type": "scattercarpet"
           }
          ],
          "scattergeo": [
           {
            "marker": {
             "colorbar": {
              "outlinewidth": 0,
              "ticks": ""
             }
            },
            "type": "scattergeo"
           }
          ],
          "scattergl": [
           {
            "marker": {
             "colorbar": {
              "outlinewidth": 0,
              "ticks": ""
             }
            },
            "type": "scattergl"
           }
          ],
          "scattermapbox": [
           {
            "marker": {
             "colorbar": {
              "outlinewidth": 0,
              "ticks": ""
             }
            },
            "type": "scattermapbox"
           }
          ],
          "scatterpolar": [
           {
            "marker": {
             "colorbar": {
              "outlinewidth": 0,
              "ticks": ""
             }
            },
            "type": "scatterpolar"
           }
          ],
          "scatterpolargl": [
           {
            "marker": {
             "colorbar": {
              "outlinewidth": 0,
              "ticks": ""
             }
            },
            "type": "scatterpolargl"
           }
          ],
          "scatterternary": [
           {
            "marker": {
             "colorbar": {
              "outlinewidth": 0,
              "ticks": ""
             }
            },
            "type": "scatterternary"
           }
          ],
          "surface": [
           {
            "colorbar": {
             "outlinewidth": 0,
             "ticks": ""
            },
            "colorscale": [
             [
              0,
              "#0d0887"
             ],
             [
              0.1111111111111111,
              "#46039f"
             ],
             [
              0.2222222222222222,
              "#7201a8"
             ],
             [
              0.3333333333333333,
              "#9c179e"
             ],
             [
              0.4444444444444444,
              "#bd3786"
             ],
             [
              0.5555555555555556,
              "#d8576b"
             ],
             [
              0.6666666666666666,
              "#ed7953"
             ],
             [
              0.7777777777777778,
              "#fb9f3a"
             ],
             [
              0.8888888888888888,
              "#fdca26"
             ],
             [
              1,
              "#f0f921"
             ]
            ],
            "type": "surface"
           }
          ],
          "table": [
           {
            "cells": {
             "fill": {
              "color": "#EBF0F8"
             },
             "line": {
              "color": "white"
             }
            },
            "header": {
             "fill": {
              "color": "#C8D4E3"
             },
             "line": {
              "color": "white"
             }
            },
            "type": "table"
           }
          ]
         },
         "layout": {
          "annotationdefaults": {
           "arrowcolor": "#2a3f5f",
           "arrowhead": 0,
           "arrowwidth": 1
          },
          "colorscale": {
           "diverging": [
            [
             0,
             "#8e0152"
            ],
            [
             0.1,
             "#c51b7d"
            ],
            [
             0.2,
             "#de77ae"
            ],
            [
             0.3,
             "#f1b6da"
            ],
            [
             0.4,
             "#fde0ef"
            ],
            [
             0.5,
             "#f7f7f7"
            ],
            [
             0.6,
             "#e6f5d0"
            ],
            [
             0.7,
             "#b8e186"
            ],
            [
             0.8,
             "#7fbc41"
            ],
            [
             0.9,
             "#4d9221"
            ],
            [
             1,
             "#276419"
            ]
           ],
           "sequential": [
            [
             0,
             "#0d0887"
            ],
            [
             0.1111111111111111,
             "#46039f"
            ],
            [
             0.2222222222222222,
             "#7201a8"
            ],
            [
             0.3333333333333333,
             "#9c179e"
            ],
            [
             0.4444444444444444,
             "#bd3786"
            ],
            [
             0.5555555555555556,
             "#d8576b"
            ],
            [
             0.6666666666666666,
             "#ed7953"
            ],
            [
             0.7777777777777778,
             "#fb9f3a"
            ],
            [
             0.8888888888888888,
             "#fdca26"
            ],
            [
             1,
             "#f0f921"
            ]
           ],
           "sequentialminus": [
            [
             0,
             "#0d0887"
            ],
            [
             0.1111111111111111,
             "#46039f"
            ],
            [
             0.2222222222222222,
             "#7201a8"
            ],
            [
             0.3333333333333333,
             "#9c179e"
            ],
            [
             0.4444444444444444,
             "#bd3786"
            ],
            [
             0.5555555555555556,
             "#d8576b"
            ],
            [
             0.6666666666666666,
             "#ed7953"
            ],
            [
             0.7777777777777778,
             "#fb9f3a"
            ],
            [
             0.8888888888888888,
             "#fdca26"
            ],
            [
             1,
             "#f0f921"
            ]
           ]
          },
          "colorway": [
           "#636efa",
           "#EF553B",
           "#00cc96",
           "#ab63fa",
           "#FFA15A",
           "#19d3f3",
           "#FF6692",
           "#B6E880",
           "#FF97FF",
           "#FECB52"
          ],
          "font": {
           "color": "#2a3f5f"
          },
          "geo": {
           "bgcolor": "white",
           "lakecolor": "white",
           "landcolor": "#E5ECF6",
           "showlakes": true,
           "showland": true,
           "subunitcolor": "white"
          },
          "hoverlabel": {
           "align": "left"
          },
          "hovermode": "closest",
          "mapbox": {
           "style": "light"
          },
          "paper_bgcolor": "white",
          "plot_bgcolor": "#E5ECF6",
          "polar": {
           "angularaxis": {
            "gridcolor": "white",
            "linecolor": "white",
            "ticks": ""
           },
           "bgcolor": "#E5ECF6",
           "radialaxis": {
            "gridcolor": "white",
            "linecolor": "white",
            "ticks": ""
           }
          },
          "scene": {
           "xaxis": {
            "backgroundcolor": "#E5ECF6",
            "gridcolor": "white",
            "gridwidth": 2,
            "linecolor": "white",
            "showbackground": true,
            "ticks": "",
            "zerolinecolor": "white"
           },
           "yaxis": {
            "backgroundcolor": "#E5ECF6",
            "gridcolor": "white",
            "gridwidth": 2,
            "linecolor": "white",
            "showbackground": true,
            "ticks": "",
            "zerolinecolor": "white"
           },
           "zaxis": {
            "backgroundcolor": "#E5ECF6",
            "gridcolor": "white",
            "gridwidth": 2,
            "linecolor": "white",
            "showbackground": true,
            "ticks": "",
            "zerolinecolor": "white"
           }
          },
          "shapedefaults": {
           "line": {
            "color": "#2a3f5f"
           }
          },
          "ternary": {
           "aaxis": {
            "gridcolor": "white",
            "linecolor": "white",
            "ticks": ""
           },
           "baxis": {
            "gridcolor": "white",
            "linecolor": "white",
            "ticks": ""
           },
           "bgcolor": "#E5ECF6",
           "caxis": {
            "gridcolor": "white",
            "linecolor": "white",
            "ticks": ""
           }
          },
          "title": {
           "x": 0.05
          },
          "xaxis": {
           "automargin": true,
           "gridcolor": "white",
           "linecolor": "white",
           "ticks": "",
           "zerolinecolor": "white",
           "zerolinewidth": 2
          },
          "yaxis": {
           "automargin": true,
           "gridcolor": "white",
           "linecolor": "white",
           "ticks": "",
           "zerolinecolor": "white",
           "zerolinewidth": 2
          }
         }
        },
        "title": {
         "text": "Linear Regression Iris, 1 feature"
        },
        "xaxis": {
         "title": {
          "text": "petal_width"
         }
        },
        "yaxis": {
         "title": {
          "text": "species_id"
         }
        }
       }
      },
      "text/html": [
       "<div>\n",
       "        \n",
       "        \n",
       "            <div id=\"872baddb-14be-46d1-ab66-3ed52e32365f\" class=\"plotly-graph-div\" style=\"height:525px; width:100%;\"></div>\n",
       "            <script type=\"text/javascript\">\n",
       "                require([\"plotly\"], function(Plotly) {\n",
       "                    window.PLOTLYENV=window.PLOTLYENV || {};\n",
       "                    \n",
       "                if (document.getElementById(\"872baddb-14be-46d1-ab66-3ed52e32365f\")) {\n",
       "                    Plotly.newPlot(\n",
       "                        '872baddb-14be-46d1-ab66-3ed52e32365f',\n",
       "                        [{\"mode\": \"markers\", \"name\": \"Training Data\", \"opacity\": 0.3, \"type\": \"scatter\", \"x\": [1.4, 3.3, 1.7, 4.5, 4.4, 1.2, 1.3, 1.4, 1.5, 1.5, 4.2, 1.5, 1.5, 3.7, 1.6, 4.0, 1.1, 1.9, 1.5, 1.4, 1.3, 1.4, 4.5, 1.4, 3.6, 1.3, 4.0, 4.7, 4.1, 4.6, 1.6, 4.7, 4.1, 1.6, 4.5, 4.2, 4.3, 3.5, 1.3, 4.6, 1.5, 3.0, 3.3, 4.4, 1.5, 4.2, 3.9, 4.7, 4.5, 1.4, 1.6, 1.4, 4.9, 1.5, 1.3, 1.7, 4.4, 4.6, 4.3, 4.7, 3.9, 1.7, 3.5, 4.0, 1.2, 4.0, 4.5], \"y\": [0, 1, 0, 1, 1, 0, 0, 0, 0, 0, 1, 0, 0, 1, 0, 1, 0, 0, 0, 0, 0, 0, 1, 0, 1, 0, 1, 1, 1, 1, 0, 1, 1, 0, 1, 1, 1, 1, 0, 1, 0, 1, 1, 1, 0, 1, 1, 1, 1, 0, 0, 0, 1, 0, 0, 0, 1, 1, 1, 1, 1, 0, 1, 1, 0, 1, 1]}, {\"mode\": \"markers\", \"name\": \"Test Data\", \"opacity\": 0.3, \"type\": \"scatter\", \"x\": [5.1, 4.0, 4.8, 1.4, 1.9, 1.5, 1.0, 3.8, 1.5, 1.4, 1.7, 1.6, 4.7, 1.4, 4.4, 1.4, 4.8, 5.0, 1.4, 1.5, 4.5, 4.1, 1.6, 1.3, 3.9, 1.5, 1.3, 4.2, 1.5, 4.9, 1.6, 1.4, 4.5], \"y\": [1, 1, 1, 0, 0, 0, 0, 1, 0, 0, 0, 0, 1, 0, 1, 0, 1, 1, 0, 0, 1, 1, 0, 0, 1, 0, 0, 1, 0, 1, 0, 0, 1]}, {\"mode\": \"lines\", \"name\": \"Linear Regression\", \"type\": \"scatter\", \"x\": [1.0, 1.0133779264214047, 1.0267558528428093, 1.040133779264214, 1.0535117056856187, 1.0668896321070234, 1.080267558528428, 1.0936454849498327, 1.1070234113712374, 1.120401337792642, 1.1337792642140467, 1.1471571906354514, 1.160535117056856, 1.1739130434782608, 1.1872909698996654, 1.2006688963210703, 1.214046822742475, 1.2274247491638797, 1.2408026755852843, 1.254180602006689, 1.2675585284280937, 1.2809364548494984, 1.294314381270903, 1.3076923076923077, 1.3210702341137124, 1.334448160535117, 1.3478260869565217, 1.3612040133779264, 1.374581939799331, 1.3879598662207357, 1.4013377926421404, 1.414715719063545, 1.4280936454849498, 1.4414715719063544, 1.4548494983277591, 1.4682274247491638, 1.4816053511705687, 1.4949832775919734, 1.508361204013378, 1.5217391304347827, 1.5351170568561874, 1.548494983277592, 1.5618729096989967, 1.5752508361204014, 1.588628762541806, 1.6020066889632107, 1.6153846153846154, 1.62876254180602, 1.6421404682274248, 1.6555183946488294, 1.6688963210702341, 1.6822742474916388, 1.6956521739130435, 1.7090301003344481, 1.7224080267558528, 1.7357859531772575, 1.7491638795986622, 1.7625418060200668, 1.7759197324414715, 1.7892976588628762, 1.8026755852842808, 1.8160535117056855, 1.8294314381270902, 1.8428093645484949, 1.8561872909698995, 1.8695652173913042, 1.8829431438127089, 1.8963210702341136, 1.9096989966555182, 1.923076923076923, 1.9364548494983276, 1.9498327759197325, 1.9632107023411371, 1.9765886287625418, 1.9899665551839465, 2.0033444816053514, 2.016722408026756, 2.0301003344481607, 2.0434782608695654, 2.05685618729097, 2.0702341137123748, 2.0836120401337794, 2.096989966555184, 2.1103678929765888, 2.1237458193979935, 2.137123745819398, 2.150501672240803, 2.1638795986622075, 2.177257525083612, 2.190635451505017, 2.2040133779264215, 2.217391304347826, 2.230769230769231, 2.2441471571906355, 2.25752508361204, 2.270903010033445, 2.2842809364548495, 2.297658862876254, 2.311036789297659, 2.3244147157190636, 2.3377926421404682, 2.351170568561873, 2.3645484949832776, 2.3779264214046822, 2.391304347826087, 2.4046822742474916, 2.4180602006688963, 2.431438127090301, 2.4448160535117056, 2.4581939799331103, 2.471571906354515, 2.4849498327759196, 2.4983277591973243, 2.511705685618729, 2.5250836120401337, 2.5384615384615383, 2.551839464882943, 2.5652173913043477, 2.5785953177257523, 2.591973244147157, 2.6053511705685617, 2.6187290969899664, 2.632107023411371, 2.6454849498327757, 2.6588628762541804, 2.672240802675585, 2.6856187290969897, 2.6989966555183944, 2.712374581939799, 2.7257525083612038, 2.7391304347826084, 2.752508361204013, 2.7658862876254178, 2.7792642140468224, 2.792642140468227, 2.806020066889632, 2.8193979933110365, 2.832775919732441, 2.846153846153846, 2.8595317725752505, 2.872909698996655, 2.8862876254180603, 2.899665551839465, 2.9130434782608696, 2.9264214046822743, 2.939799331103679, 2.9531772575250836, 2.9665551839464883, 2.979933110367893, 2.9933110367892977, 3.0066889632107023, 3.020066889632107, 3.0334448160535117, 3.0468227424749164, 3.060200668896321, 3.0735785953177257, 3.0869565217391304, 3.100334448160535, 3.1137123745819397, 3.1270903010033444, 3.140468227424749, 3.1538461538461537, 3.1672240802675584, 3.180602006688963, 3.1939799331103678, 3.2073578595317724, 3.220735785953177, 3.234113712374582, 3.2474916387959865, 3.260869565217391, 3.274247491638796, 3.2876254180602005, 3.301003344481605, 3.31438127090301, 3.3277591973244145, 3.341137123745819, 3.354515050167224, 3.3678929765886285, 3.381270903010033, 3.394648829431438, 3.408026755852843, 3.4214046822742477, 3.4347826086956523, 3.448160535117057, 3.4615384615384617, 3.4749163879598663, 3.488294314381271, 3.5016722408026757, 3.5150501672240804, 3.528428093645485, 3.5418060200668897, 3.5551839464882944, 3.568561872909699, 3.5819397993311037, 3.5953177257525084, 3.608695652173913, 3.6220735785953178, 3.6354515050167224, 3.648829431438127, 3.6622073578595318, 3.6755852842809364, 3.688963210702341, 3.702341137123746, 3.7157190635451505, 3.729096989966555, 3.74247491638796, 3.7558528428093645, 3.769230769230769, 3.782608695652174, 3.7959866220735785, 3.809364548494983, 3.822742474916388, 3.8361204013377925, 3.849498327759197, 3.862876254180602, 3.8762541806020065, 3.8896321070234112, 3.903010033444816, 3.9163879598662206, 3.9297658862876252, 3.94314381270903, 3.9565217391304346, 3.9698996655518393, 3.983277591973244, 3.9966555183946486, 4.010033444816053, 4.023411371237458, 4.036789297658863, 4.050167224080267, 4.063545150501672, 4.076923076923077, 4.090301003344482, 4.103678929765886, 4.117056856187292, 4.130434782608695, 4.143812709030101, 4.157190635451505, 4.17056856187291, 4.183946488294314, 4.19732441471572, 4.210702341137123, 4.224080267558529, 4.237458193979933, 4.250836120401338, 4.264214046822742, 4.277591973244148, 4.290969899665551, 4.304347826086957, 4.317725752508361, 4.331103678929766, 4.34448160535117, 4.357859531772576, 4.3712374581939795, 4.384615384615385, 4.397993311036789, 4.411371237458194, 4.424749163879598, 4.438127090301004, 4.4515050167224075, 4.464882943143813, 4.478260869565217, 4.491638795986622, 4.505016722408026, 4.518394648829432, 4.5317725752508355, 4.545150501672241, 4.558528428093645, 4.5719063545150505, 4.585284280936454, 4.59866220735786, 4.612040133779264, 4.625418060200669, 4.638795986622073, 4.6521739130434785, 4.665551839464882, 4.678929765886288, 4.692307692307692, 4.705685618729097, 4.719063545150501, 4.7324414715719065, 4.74581939799331, 4.759197324414716, 4.7725752508361206, 4.785953177257525, 4.79933110367893, 4.812709030100335, 4.826086956521739, 4.839464882943144, 4.852842809364549, 4.866220735785953, 4.879598662207358, 4.892976588628763, 4.906354515050167, 4.919732441471572, 4.933110367892977, 4.946488294314381, 4.959866220735786, 4.973244147157191, 4.986622073578595, 5.0], \"y\": [-0.12333851376221822, -0.1187302938413855, -0.11412207392055279, -0.10951385399972008, -0.10490563407888731, -0.1002974141580546, -0.09568919423722189, -0.09108097431638917, -0.08647275439555646, -0.08186453447472375, -0.07725631455389104, -0.07264809463305827, -0.06803987471222556, -0.06343165479139284, -0.05882343487056013, -0.054215214949727364, -0.049606995028894596, -0.044998775108061884, -0.04039055518722917, -0.03578233526639646, -0.031174115345563747, -0.026565895424731034, -0.021957675503898322, -0.017349455583065554, -0.012741235662232842, -0.00813301574140013, -0.003524795820567417, 0.0010834241002652956, 0.005691644021098008, 0.01029986394193072, 0.014908083862763488, 0.0195163037835962, 0.024124523704428913, 0.028732743625261625, 0.03334096354609439, 0.037949183466927106, 0.04255740338775982, 0.04716562330859253, 0.051773843229425354, 0.056382063150258066, 0.06099028307109078, 0.06559850299192349, 0.0702067229127562, 0.07481494283358892, 0.07942316275442163, 0.08403138267525434, 0.08863960259608705, 0.09324782251691976, 0.09785604243775248, 0.10246426235858519, 0.1070724822794179, 0.11168070220025061, 0.11628892212108333, 0.12089714204191615, 0.12550536196274886, 0.13011358188358157, 0.1347218018044143, 0.139330021725247, 0.1439382416460797, 0.14854646156691242, 0.15315468148774514, 0.15776290140857785, 0.16237112132941056, 0.16697934125024327, 0.171587561171076, 0.1761957810919087, 0.1808040010127414, 0.18541222093357423, 0.19002044085440695, 0.19462866077523966, 0.19923688069607237, 0.20384510061690508, 0.2084533205377379, 0.21306154045857062, 0.21766976037940333, 0.22227798030023604, 0.22688620022106887, 0.23149442014190158, 0.2361026400627343, 0.240710859983567, 0.24531907990439972, 0.24992729982523243, 0.25453551974606514, 0.25914373966689785, 0.26375195958773057, 0.2683601795085633, 0.272968399429396, 0.2775766193502287, 0.2821848392710614, 0.28679305919189413, 0.29140127911272684, 0.29600949903355966, 0.3006177189543924, 0.3052259388752251, 0.3098341587960578, 0.3144423787168905, 0.3190505986377232, 0.32365881855855594, 0.32826703847938865, 0.33287525840022136, 0.3374834783210541, 0.3420916982418868, 0.3466999181627195, 0.3513081380835522, 0.3559163580043849, 0.36052457792521775, 0.36513279784605046, 0.3697410177668832, 0.3743492376877159, 0.3789574576085486, 0.3835656775293813, 0.388173897450214, 0.39278211737104674, 0.39739033729187945, 0.40199855721271216, 0.40660677713354487, 0.4112149970543776, 0.4158232169752103, 0.420431436896043, 0.42503965681687583, 0.42964787673770855, 0.43425609665854126, 0.43886431657937397, 0.4434725365002067, 0.4480807564210394, 0.4526889763418721, 0.4572971962627048, 0.46190541618353753, 0.46651363610437024, 0.47112185602520296, 0.47573007594603567, 0.4803382958668684, 0.4849465157877011, 0.4895547357085338, 0.49416295562936663, 0.49877117555019934, 0.503379395471032, 0.5079876153918648, 0.5125958353126975, 0.5172040552335302, 0.5218122751543629, 0.5264204950751957, 0.5310287149960284, 0.5356369349168613, 0.5402451548376939, 0.5448533747585267, 0.5494615946793593, 0.5540698146001921, 0.5586780345210247, 0.5632862544418575, 0.5678944743626904, 0.572502694283523, 0.5771109142043558, 0.5817191341251884, 0.5863273540460212, 0.5909355739668538, 0.5955437938876866, 0.6001520138085192, 0.6047602337293521, 0.6093684536501847, 0.6139766735710175, 0.6185848934918501, 0.6231931134126829, 0.6278013333335155, 0.6324095532543483, 0.6370177731751812, 0.6416259930960138, 0.6462342130168466, 0.6508424329376792, 0.655450652858512, 0.6600588727793446, 0.6646670927001774, 0.66927531262101, 0.6738835325418429, 0.6784917524626755, 0.6830999723835083, 0.6877081923043409, 0.6923164122251737, 0.6969246321460063, 0.7015328520668391, 0.706141071987672, 0.7107492919085048, 0.7153575118293374, 0.7199657317501702, 0.7245739516710028, 0.7291821715918356, 0.7337903915126682, 0.738398611433501, 0.7430068313543339, 0.7476150512751665, 0.7522232711959993, 0.7568314911168319, 0.7614397110376647, 0.7660479309584973, 0.7706561508793301, 0.7752643708001627, 0.7798725907209956, 0.7844808106418282, 0.789089030562661, 0.7936972504834936, 0.7983054704043264, 0.802913690325159, 0.8075219102459918, 0.8121301301668247, 0.8167383500876573, 0.8213465700084901, 0.8259547899293227, 0.8305630098501555, 0.8351712297709881, 0.839779449691821, 0.8443876696126535, 0.8489958895334864, 0.853604109454319, 0.8582123293751518, 0.8628205492959844, 0.8674287692168172, 0.8720369891376498, 0.8766452090584826, 0.8812534289793155, 0.8858616489001481, 0.8904698688209809, 0.8950780887418135, 0.8996863086626463, 0.9042945285834789, 0.9089027485043117, 0.9135109684251443, 0.9181191883459772, 0.9227274082668098, 0.9273356281876426, 0.9319438481084752, 0.936552068029308, 0.9411602879501411, 0.9457685078709734, 0.9503767277918065, 0.9549849477126389, 0.9595931676334719, 0.9642013875543043, 0.9688096074751373, 0.9734178273959697, 0.9780260473168028, 0.9826342672376351, 0.9872424871584682, 0.9918507070793006, 0.9964589270001336, 1.001067146920966, 1.005675366841799, 1.0102835867626316, 1.0148918066834645, 1.019500026604297, 1.02410824652513, 1.0287164664459625, 1.0333246863667955, 1.037932906287628, 1.042541126208461, 1.0471493461292933, 1.0517575660501264, 1.0563657859709588, 1.0609740058917918, 1.0655822258126242, 1.0701904457334572, 1.0747986656542896, 1.0794068855751227, 1.084015105495955, 1.088623325416788, 1.0932315453376205, 1.0978397652584535, 1.1024479851792859, 1.107056205100119, 1.1116644250209513, 1.1162726449417844, 1.1208808648626167, 1.1254890847834498, 1.1300973047042822, 1.1347055246251152, 1.1393137445459478, 1.1439219644667806, 1.1485301843876132, 1.153138404308446, 1.1577466242292787, 1.1623548441501117, 1.166963064070944, 1.1715712839917771, 1.1761795039126097, 1.1807877238334425, 1.1853959437542751, 1.190004163675108, 1.1946123835959406, 1.1992206035167734, 1.203828823437606, 1.2084370433584388, 1.2130452632792714, 1.2176534832001042, 1.222261703120937, 1.2268699230417697, 1.2314781429626025, 1.236086362883435, 1.240694582804268, 1.2453028027251005, 1.2499110226459333, 1.254519242566766]}],\n",
       "                        {\"template\": {\"data\": {\"bar\": [{\"error_x\": {\"color\": \"#2a3f5f\"}, \"error_y\": {\"color\": \"#2a3f5f\"}, \"marker\": {\"line\": {\"color\": \"#E5ECF6\", \"width\": 0.5}}, \"type\": \"bar\"}], \"barpolar\": [{\"marker\": {\"line\": {\"color\": \"#E5ECF6\", \"width\": 0.5}}, \"type\": \"barpolar\"}], \"carpet\": [{\"aaxis\": {\"endlinecolor\": \"#2a3f5f\", \"gridcolor\": \"white\", \"linecolor\": \"white\", \"minorgridcolor\": \"white\", \"startlinecolor\": \"#2a3f5f\"}, \"baxis\": {\"endlinecolor\": \"#2a3f5f\", \"gridcolor\": \"white\", \"linecolor\": \"white\", \"minorgridcolor\": \"white\", \"startlinecolor\": \"#2a3f5f\"}, \"type\": \"carpet\"}], \"choropleth\": [{\"colorbar\": {\"outlinewidth\": 0, \"ticks\": \"\"}, \"type\": \"choropleth\"}], \"contour\": [{\"colorbar\": {\"outlinewidth\": 0, \"ticks\": \"\"}, \"colorscale\": [[0.0, \"#0d0887\"], [0.1111111111111111, \"#46039f\"], [0.2222222222222222, \"#7201a8\"], [0.3333333333333333, \"#9c179e\"], [0.4444444444444444, \"#bd3786\"], [0.5555555555555556, \"#d8576b\"], [0.6666666666666666, \"#ed7953\"], [0.7777777777777778, \"#fb9f3a\"], [0.8888888888888888, \"#fdca26\"], [1.0, \"#f0f921\"]], \"type\": \"contour\"}], \"contourcarpet\": [{\"colorbar\": {\"outlinewidth\": 0, \"ticks\": \"\"}, \"type\": \"contourcarpet\"}], \"heatmap\": [{\"colorbar\": {\"outlinewidth\": 0, \"ticks\": \"\"}, \"colorscale\": [[0.0, \"#0d0887\"], [0.1111111111111111, \"#46039f\"], [0.2222222222222222, \"#7201a8\"], [0.3333333333333333, \"#9c179e\"], [0.4444444444444444, \"#bd3786\"], [0.5555555555555556, \"#d8576b\"], [0.6666666666666666, \"#ed7953\"], [0.7777777777777778, \"#fb9f3a\"], [0.8888888888888888, \"#fdca26\"], [1.0, \"#f0f921\"]], \"type\": \"heatmap\"}], \"heatmapgl\": [{\"colorbar\": {\"outlinewidth\": 0, \"ticks\": \"\"}, \"colorscale\": [[0.0, \"#0d0887\"], [0.1111111111111111, \"#46039f\"], [0.2222222222222222, \"#7201a8\"], [0.3333333333333333, \"#9c179e\"], [0.4444444444444444, \"#bd3786\"], [0.5555555555555556, \"#d8576b\"], [0.6666666666666666, \"#ed7953\"], [0.7777777777777778, \"#fb9f3a\"], [0.8888888888888888, \"#fdca26\"], [1.0, \"#f0f921\"]], \"type\": \"heatmapgl\"}], \"histogram\": [{\"marker\": {\"colorbar\": {\"outlinewidth\": 0, \"ticks\": \"\"}}, \"type\": \"histogram\"}], \"histogram2d\": [{\"colorbar\": {\"outlinewidth\": 0, \"ticks\": \"\"}, \"colorscale\": [[0.0, \"#0d0887\"], [0.1111111111111111, \"#46039f\"], [0.2222222222222222, \"#7201a8\"], [0.3333333333333333, \"#9c179e\"], [0.4444444444444444, \"#bd3786\"], [0.5555555555555556, \"#d8576b\"], [0.6666666666666666, \"#ed7953\"], [0.7777777777777778, \"#fb9f3a\"], [0.8888888888888888, \"#fdca26\"], [1.0, \"#f0f921\"]], \"type\": \"histogram2d\"}], \"histogram2dcontour\": [{\"colorbar\": {\"outlinewidth\": 0, \"ticks\": \"\"}, \"colorscale\": [[0.0, \"#0d0887\"], [0.1111111111111111, \"#46039f\"], [0.2222222222222222, \"#7201a8\"], [0.3333333333333333, \"#9c179e\"], [0.4444444444444444, \"#bd3786\"], [0.5555555555555556, \"#d8576b\"], [0.6666666666666666, \"#ed7953\"], [0.7777777777777778, \"#fb9f3a\"], [0.8888888888888888, \"#fdca26\"], [1.0, \"#f0f921\"]], \"type\": \"histogram2dcontour\"}], \"mesh3d\": [{\"colorbar\": {\"outlinewidth\": 0, \"ticks\": \"\"}, \"type\": \"mesh3d\"}], \"parcoords\": [{\"line\": {\"colorbar\": {\"outlinewidth\": 0, \"ticks\": \"\"}}, \"type\": \"parcoords\"}], \"scatter\": [{\"marker\": {\"colorbar\": {\"outlinewidth\": 0, \"ticks\": \"\"}}, \"type\": \"scatter\"}], \"scatter3d\": [{\"line\": {\"colorbar\": {\"outlinewidth\": 0, \"ticks\": \"\"}}, \"marker\": {\"colorbar\": {\"outlinewidth\": 0, \"ticks\": \"\"}}, \"type\": \"scatter3d\"}], \"scattercarpet\": [{\"marker\": {\"colorbar\": {\"outlinewidth\": 0, \"ticks\": \"\"}}, \"type\": \"scattercarpet\"}], \"scattergeo\": [{\"marker\": {\"colorbar\": {\"outlinewidth\": 0, \"ticks\": \"\"}}, \"type\": \"scattergeo\"}], \"scattergl\": [{\"marker\": {\"colorbar\": {\"outlinewidth\": 0, \"ticks\": \"\"}}, \"type\": \"scattergl\"}], \"scattermapbox\": [{\"marker\": {\"colorbar\": {\"outlinewidth\": 0, \"ticks\": \"\"}}, \"type\": \"scattermapbox\"}], \"scatterpolar\": [{\"marker\": {\"colorbar\": {\"outlinewidth\": 0, \"ticks\": \"\"}}, \"type\": \"scatterpolar\"}], \"scatterpolargl\": [{\"marker\": {\"colorbar\": {\"outlinewidth\": 0, \"ticks\": \"\"}}, \"type\": \"scatterpolargl\"}], \"scatterternary\": [{\"marker\": {\"colorbar\": {\"outlinewidth\": 0, \"ticks\": \"\"}}, \"type\": \"scatterternary\"}], \"surface\": [{\"colorbar\": {\"outlinewidth\": 0, \"ticks\": \"\"}, \"colorscale\": [[0.0, \"#0d0887\"], [0.1111111111111111, \"#46039f\"], [0.2222222222222222, \"#7201a8\"], [0.3333333333333333, \"#9c179e\"], [0.4444444444444444, \"#bd3786\"], [0.5555555555555556, \"#d8576b\"], [0.6666666666666666, \"#ed7953\"], [0.7777777777777778, \"#fb9f3a\"], [0.8888888888888888, \"#fdca26\"], [1.0, \"#f0f921\"]], \"type\": \"surface\"}], \"table\": [{\"cells\": {\"fill\": {\"color\": \"#EBF0F8\"}, \"line\": {\"color\": \"white\"}}, \"header\": {\"fill\": {\"color\": \"#C8D4E3\"}, \"line\": {\"color\": \"white\"}}, \"type\": \"table\"}]}, \"layout\": {\"annotationdefaults\": {\"arrowcolor\": \"#2a3f5f\", \"arrowhead\": 0, \"arrowwidth\": 1}, \"colorscale\": {\"diverging\": [[0, \"#8e0152\"], [0.1, \"#c51b7d\"], [0.2, \"#de77ae\"], [0.3, \"#f1b6da\"], [0.4, \"#fde0ef\"], [0.5, \"#f7f7f7\"], [0.6, \"#e6f5d0\"], [0.7, \"#b8e186\"], [0.8, \"#7fbc41\"], [0.9, \"#4d9221\"], [1, \"#276419\"]], \"sequential\": [[0.0, \"#0d0887\"], [0.1111111111111111, \"#46039f\"], [0.2222222222222222, \"#7201a8\"], [0.3333333333333333, \"#9c179e\"], [0.4444444444444444, \"#bd3786\"], [0.5555555555555556, \"#d8576b\"], [0.6666666666666666, \"#ed7953\"], [0.7777777777777778, \"#fb9f3a\"], [0.8888888888888888, \"#fdca26\"], [1.0, \"#f0f921\"]], \"sequentialminus\": [[0.0, \"#0d0887\"], [0.1111111111111111, \"#46039f\"], [0.2222222222222222, \"#7201a8\"], [0.3333333333333333, \"#9c179e\"], [0.4444444444444444, \"#bd3786\"], [0.5555555555555556, \"#d8576b\"], [0.6666666666666666, \"#ed7953\"], [0.7777777777777778, \"#fb9f3a\"], [0.8888888888888888, \"#fdca26\"], [1.0, \"#f0f921\"]]}, \"colorway\": [\"#636efa\", \"#EF553B\", \"#00cc96\", \"#ab63fa\", \"#FFA15A\", \"#19d3f3\", \"#FF6692\", \"#B6E880\", \"#FF97FF\", \"#FECB52\"], \"font\": {\"color\": \"#2a3f5f\"}, \"geo\": {\"bgcolor\": \"white\", \"lakecolor\": \"white\", \"landcolor\": \"#E5ECF6\", \"showlakes\": true, \"showland\": true, \"subunitcolor\": \"white\"}, \"hoverlabel\": {\"align\": \"left\"}, \"hovermode\": \"closest\", \"mapbox\": {\"style\": \"light\"}, \"paper_bgcolor\": \"white\", \"plot_bgcolor\": \"#E5ECF6\", \"polar\": {\"angularaxis\": {\"gridcolor\": \"white\", \"linecolor\": \"white\", \"ticks\": \"\"}, \"bgcolor\": \"#E5ECF6\", \"radialaxis\": {\"gridcolor\": \"white\", \"linecolor\": \"white\", \"ticks\": \"\"}}, \"scene\": {\"xaxis\": {\"backgroundcolor\": \"#E5ECF6\", \"gridcolor\": \"white\", \"gridwidth\": 2, \"linecolor\": \"white\", \"showbackground\": true, \"ticks\": \"\", \"zerolinecolor\": \"white\"}, \"yaxis\": {\"backgroundcolor\": \"#E5ECF6\", \"gridcolor\": \"white\", \"gridwidth\": 2, \"linecolor\": \"white\", \"showbackground\": true, \"ticks\": \"\", \"zerolinecolor\": \"white\"}, \"zaxis\": {\"backgroundcolor\": \"#E5ECF6\", \"gridcolor\": \"white\", \"gridwidth\": 2, \"linecolor\": \"white\", \"showbackground\": true, \"ticks\": \"\", \"zerolinecolor\": \"white\"}}, \"shapedefaults\": {\"line\": {\"color\": \"#2a3f5f\"}}, \"ternary\": {\"aaxis\": {\"gridcolor\": \"white\", \"linecolor\": \"white\", \"ticks\": \"\"}, \"baxis\": {\"gridcolor\": \"white\", \"linecolor\": \"white\", \"ticks\": \"\"}, \"bgcolor\": \"#E5ECF6\", \"caxis\": {\"gridcolor\": \"white\", \"linecolor\": \"white\", \"ticks\": \"\"}}, \"title\": {\"x\": 0.05}, \"xaxis\": {\"automargin\": true, \"gridcolor\": \"white\", \"linecolor\": \"white\", \"ticks\": \"\", \"zerolinecolor\": \"white\", \"zerolinewidth\": 2}, \"yaxis\": {\"automargin\": true, \"gridcolor\": \"white\", \"linecolor\": \"white\", \"ticks\": \"\", \"zerolinecolor\": \"white\", \"zerolinewidth\": 2}}}, \"title\": {\"text\": \"Linear Regression Iris, 1 feature\"}, \"xaxis\": {\"title\": {\"text\": \"petal_width\"}}, \"yaxis\": {\"title\": {\"text\": \"species_id\"}}},\n",
       "                        {\"responsive\": true}\n",
       "                    ).then(function(){\n",
       "                            \n",
       "var gd = document.getElementById('872baddb-14be-46d1-ab66-3ed52e32365f');\n",
       "var x = new MutationObserver(function (mutations, observer) {{\n",
       "        var display = window.getComputedStyle(gd).display;\n",
       "        if (!display || display === 'none') {{\n",
       "            console.log([gd, 'removed!']);\n",
       "            Plotly.purge(gd);\n",
       "            observer.disconnect();\n",
       "        }}\n",
       "}});\n",
       "\n",
       "// Listen for the removal of the full notebook cells\n",
       "var notebookContainer = gd.closest('#notebook-container');\n",
       "if (notebookContainer) {{\n",
       "    x.observe(notebookContainer, {childList: true});\n",
       "}}\n",
       "\n",
       "// Listen for the clearing of the current output cell\n",
       "var outputEl = gd.closest('.output');\n",
       "if (outputEl) {{\n",
       "    x.observe(outputEl, {childList: true});\n",
       "}}\n",
       "\n",
       "                        })\n",
       "                };\n",
       "                });\n",
       "            </script>\n",
       "        </div>"
      ]
     },
     "metadata": {},
     "output_type": "display_data"
    }
   ],
   "source": [
    "iris = datasets.load_iris()\n",
    "X = iris.data[:100]  # we only take the last feature.\n",
    "y = iris.target[:100]\n",
    "X = X[:, np.newaxis, 2]\n",
    "\n",
    "X_train, X_test, y_train, y_test = train_test_split(X, y, test_size=0.33, random_state=42)\n",
    "\n",
    "regr = linear_model.LinearRegression()\n",
    "regr.fit(X_train, y_train)\n",
    "train_preds = regr.predict(X_train)\n",
    "test_pres = regr.predict(X_test)\n",
    "\n",
    "X_linspace = np.linspace(1, 5, 300)\n",
    "\n",
    "trace0 = go.Scatter(\n",
    "    x=X_train.reshape([-1]),\n",
    "    y=y_train,\n",
    "    name='Training Data',\n",
    "    mode='markers',\n",
    "    opacity=0.3,\n",
    ")\n",
    "trace1 = go.Scatter(\n",
    "    x=X_test.reshape([-1]),\n",
    "    y=y_test,\n",
    "    name='Test Data',\n",
    "    mode='markers',\n",
    "    opacity=0.3,    \n",
    ")\n",
    "trace2 = go.Scatter(\n",
    "    x=X_linspace,\n",
    "    y=regr.coef_ * X_linspace + regr.intercept_,\n",
    "    name='Linear Regression',\n",
    "    mode='lines',\n",
    ")\n",
    "data = [trace0, trace1, trace2]\n",
    "fig = go.Figure(data=data)\n",
    "fig.update_layout(\n",
    "    title=\"Linear Regression Iris, 1 feature\",\n",
    "    xaxis_title=\"petal_width\",\n",
    "    yaxis_title=\"species_id\"\n",
    ")\n",
    "fig.show()"
   ]
  },
  {
   "cell_type": "markdown",
   "metadata": {
    "slideshow": {
     "slide_type": "fragment"
    }
   },
   "source": [
    "# Disadvantages:\n",
    "* our function interpolates between the datapoints, instead of separating them\n",
    "* there is no threshold where we switch from one class to another"
   ]
  },
  {
   "cell_type": "markdown",
   "metadata": {
    "slideshow": {
     "slide_type": "subslide"
    }
   },
   "source": [
    "# Solutions? \n",
    "\n",
    "* We can select a different family of functions\n",
    "\n",
    "* For example, a function some that look more like an sinus curve (logistic):"
   ]
  },
  {
   "cell_type": "markdown",
   "metadata": {},
   "source": [
    "<img src=\"./figures/part1/logistic.png\" alt=\"drawing\" class=\"centered\" width=\"600\"/>"
   ]
  },
  {
   "cell_type": "markdown",
   "metadata": {},
   "source": [
    "<div class=\"centered\">  $$ f = \\frac{1}{1 + e^{-W^Tx}} $$ </div>\n",
    "\n",
    "* since the outcome is categorical we can also use a different loss function, which measures the difference between class distributions:\n",
    "\n",
    "<div class=\"centered\"> $$ \\mathcal{L} = -{(y\\log(f(\\cdot)) + (1 - y)\\log(1 - f(\\cdot)))} $$"
   ]
  },
  {
   "cell_type": "markdown",
   "metadata": {
    "slideshow": {
     "slide_type": "subslide"
    }
   },
   "source": [
    "# Training the classifier with logistic regression"
   ]
  },
  {
   "cell_type": "code",
   "execution_count": 12,
   "metadata": {},
   "outputs": [
    {
     "data": {
      "application/vnd.plotly.v1+json": {
       "config": {
        "plotlyServerURL": "https://plot.ly"
       },
       "data": [
        {
         "mode": "markers",
         "name": "Training Data",
         "opacity": 0.3,
         "type": "scatter",
         "x": [
          1.4,
          3.3,
          1.7,
          4.5,
          4.4,
          1.2,
          1.3,
          1.4,
          1.5,
          1.5,
          4.2,
          1.5,
          1.5,
          3.7,
          1.6,
          4,
          1.1,
          1.9,
          1.5,
          1.4,
          1.3,
          1.4,
          4.5,
          1.4,
          3.6,
          1.3,
          4,
          4.7,
          4.1,
          4.6,
          1.6,
          4.7,
          4.1,
          1.6,
          4.5,
          4.2,
          4.3,
          3.5,
          1.3,
          4.6,
          1.5,
          3,
          3.3,
          4.4,
          1.5,
          4.2,
          3.9,
          4.7,
          4.5,
          1.4,
          1.6,
          1.4,
          4.9,
          1.5,
          1.3,
          1.7,
          4.4,
          4.6,
          4.3,
          4.7,
          3.9,
          1.7,
          3.5,
          4,
          1.2,
          4,
          4.5
         ],
         "y": [
          0,
          1,
          0,
          1,
          1,
          0,
          0,
          0,
          0,
          0,
          1,
          0,
          0,
          1,
          0,
          1,
          0,
          0,
          0,
          0,
          0,
          0,
          1,
          0,
          1,
          0,
          1,
          1,
          1,
          1,
          0,
          1,
          1,
          0,
          1,
          1,
          1,
          1,
          0,
          1,
          0,
          1,
          1,
          1,
          0,
          1,
          1,
          1,
          1,
          0,
          0,
          0,
          1,
          0,
          0,
          0,
          1,
          1,
          1,
          1,
          1,
          0,
          1,
          1,
          0,
          1,
          1
         ]
        },
        {
         "mode": "markers",
         "name": "Test Data",
         "opacity": 0.3,
         "type": "scatter",
         "x": [
          5.1,
          4,
          4.8,
          1.4,
          1.9,
          1.5,
          1,
          3.8,
          1.5,
          1.4,
          1.7,
          1.6,
          4.7,
          1.4,
          4.4,
          1.4,
          4.8,
          5,
          1.4,
          1.5,
          4.5,
          4.1,
          1.6,
          1.3,
          3.9,
          1.5,
          1.3,
          4.2,
          1.5,
          4.9,
          1.6,
          1.4,
          4.5
         ],
         "y": [
          1,
          1,
          1,
          0,
          0,
          0,
          0,
          1,
          0,
          0,
          0,
          0,
          1,
          0,
          1,
          0,
          1,
          1,
          0,
          0,
          1,
          1,
          0,
          0,
          1,
          0,
          0,
          1,
          0,
          1,
          0,
          0,
          1
         ]
        },
        {
         "mode": "lines",
         "name": "Logistic Regression",
         "type": "scatter",
         "x": [
          1,
          1.0133779264214047,
          1.0267558528428093,
          1.040133779264214,
          1.0535117056856187,
          1.0668896321070234,
          1.080267558528428,
          1.0936454849498327,
          1.1070234113712374,
          1.120401337792642,
          1.1337792642140467,
          1.1471571906354514,
          1.160535117056856,
          1.1739130434782608,
          1.1872909698996654,
          1.2006688963210703,
          1.214046822742475,
          1.2274247491638797,
          1.2408026755852843,
          1.254180602006689,
          1.2675585284280937,
          1.2809364548494984,
          1.294314381270903,
          1.3076923076923077,
          1.3210702341137124,
          1.334448160535117,
          1.3478260869565217,
          1.3612040133779264,
          1.374581939799331,
          1.3879598662207357,
          1.4013377926421404,
          1.414715719063545,
          1.4280936454849498,
          1.4414715719063544,
          1.4548494983277591,
          1.4682274247491638,
          1.4816053511705687,
          1.4949832775919734,
          1.508361204013378,
          1.5217391304347827,
          1.5351170568561874,
          1.548494983277592,
          1.5618729096989967,
          1.5752508361204014,
          1.588628762541806,
          1.6020066889632107,
          1.6153846153846154,
          1.62876254180602,
          1.6421404682274248,
          1.6555183946488294,
          1.6688963210702341,
          1.6822742474916388,
          1.6956521739130435,
          1.7090301003344481,
          1.7224080267558528,
          1.7357859531772575,
          1.7491638795986622,
          1.7625418060200668,
          1.7759197324414715,
          1.7892976588628762,
          1.8026755852842808,
          1.8160535117056855,
          1.8294314381270902,
          1.8428093645484949,
          1.8561872909698995,
          1.8695652173913042,
          1.8829431438127089,
          1.8963210702341136,
          1.9096989966555182,
          1.923076923076923,
          1.9364548494983276,
          1.9498327759197325,
          1.9632107023411371,
          1.9765886287625418,
          1.9899665551839465,
          2.0033444816053514,
          2.016722408026756,
          2.0301003344481607,
          2.0434782608695654,
          2.05685618729097,
          2.0702341137123748,
          2.0836120401337794,
          2.096989966555184,
          2.1103678929765888,
          2.1237458193979935,
          2.137123745819398,
          2.150501672240803,
          2.1638795986622075,
          2.177257525083612,
          2.190635451505017,
          2.2040133779264215,
          2.217391304347826,
          2.230769230769231,
          2.2441471571906355,
          2.25752508361204,
          2.270903010033445,
          2.2842809364548495,
          2.297658862876254,
          2.311036789297659,
          2.3244147157190636,
          2.3377926421404682,
          2.351170568561873,
          2.3645484949832776,
          2.3779264214046822,
          2.391304347826087,
          2.4046822742474916,
          2.4180602006688963,
          2.431438127090301,
          2.4448160535117056,
          2.4581939799331103,
          2.471571906354515,
          2.4849498327759196,
          2.4983277591973243,
          2.511705685618729,
          2.5250836120401337,
          2.5384615384615383,
          2.551839464882943,
          2.5652173913043477,
          2.5785953177257523,
          2.591973244147157,
          2.6053511705685617,
          2.6187290969899664,
          2.632107023411371,
          2.6454849498327757,
          2.6588628762541804,
          2.672240802675585,
          2.6856187290969897,
          2.6989966555183944,
          2.712374581939799,
          2.7257525083612038,
          2.7391304347826084,
          2.752508361204013,
          2.7658862876254178,
          2.7792642140468224,
          2.792642140468227,
          2.806020066889632,
          2.8193979933110365,
          2.832775919732441,
          2.846153846153846,
          2.8595317725752505,
          2.872909698996655,
          2.8862876254180603,
          2.899665551839465,
          2.9130434782608696,
          2.9264214046822743,
          2.939799331103679,
          2.9531772575250836,
          2.9665551839464883,
          2.979933110367893,
          2.9933110367892977,
          3.0066889632107023,
          3.020066889632107,
          3.0334448160535117,
          3.0468227424749164,
          3.060200668896321,
          3.0735785953177257,
          3.0869565217391304,
          3.100334448160535,
          3.1137123745819397,
          3.1270903010033444,
          3.140468227424749,
          3.1538461538461537,
          3.1672240802675584,
          3.180602006688963,
          3.1939799331103678,
          3.2073578595317724,
          3.220735785953177,
          3.234113712374582,
          3.2474916387959865,
          3.260869565217391,
          3.274247491638796,
          3.2876254180602005,
          3.301003344481605,
          3.31438127090301,
          3.3277591973244145,
          3.341137123745819,
          3.354515050167224,
          3.3678929765886285,
          3.381270903010033,
          3.394648829431438,
          3.408026755852843,
          3.4214046822742477,
          3.4347826086956523,
          3.448160535117057,
          3.4615384615384617,
          3.4749163879598663,
          3.488294314381271,
          3.5016722408026757,
          3.5150501672240804,
          3.528428093645485,
          3.5418060200668897,
          3.5551839464882944,
          3.568561872909699,
          3.5819397993311037,
          3.5953177257525084,
          3.608695652173913,
          3.6220735785953178,
          3.6354515050167224,
          3.648829431438127,
          3.6622073578595318,
          3.6755852842809364,
          3.688963210702341,
          3.702341137123746,
          3.7157190635451505,
          3.729096989966555,
          3.74247491638796,
          3.7558528428093645,
          3.769230769230769,
          3.782608695652174,
          3.7959866220735785,
          3.809364548494983,
          3.822742474916388,
          3.8361204013377925,
          3.849498327759197,
          3.862876254180602,
          3.8762541806020065,
          3.8896321070234112,
          3.903010033444816,
          3.9163879598662206,
          3.9297658862876252,
          3.94314381270903,
          3.9565217391304346,
          3.9698996655518393,
          3.983277591973244,
          3.9966555183946486,
          4.010033444816053,
          4.023411371237458,
          4.036789297658863,
          4.050167224080267,
          4.063545150501672,
          4.076923076923077,
          4.090301003344482,
          4.103678929765886,
          4.117056856187292,
          4.130434782608695,
          4.143812709030101,
          4.157190635451505,
          4.17056856187291,
          4.183946488294314,
          4.19732441471572,
          4.210702341137123,
          4.224080267558529,
          4.237458193979933,
          4.250836120401338,
          4.264214046822742,
          4.277591973244148,
          4.290969899665551,
          4.304347826086957,
          4.317725752508361,
          4.331103678929766,
          4.34448160535117,
          4.357859531772576,
          4.3712374581939795,
          4.384615384615385,
          4.397993311036789,
          4.411371237458194,
          4.424749163879598,
          4.438127090301004,
          4.4515050167224075,
          4.464882943143813,
          4.478260869565217,
          4.491638795986622,
          4.505016722408026,
          4.518394648829432,
          4.5317725752508355,
          4.545150501672241,
          4.558528428093645,
          4.5719063545150505,
          4.585284280936454,
          4.59866220735786,
          4.612040133779264,
          4.625418060200669,
          4.638795986622073,
          4.6521739130434785,
          4.665551839464882,
          4.678929765886288,
          4.692307692307692,
          4.705685618729097,
          4.719063545150501,
          4.7324414715719065,
          4.74581939799331,
          4.759197324414716,
          4.7725752508361206,
          4.785953177257525,
          4.79933110367893,
          4.812709030100335,
          4.826086956521739,
          4.839464882943144,
          4.852842809364549,
          4.866220735785953,
          4.879598662207358,
          4.892976588628763,
          4.906354515050167,
          4.919732441471572,
          4.933110367892977,
          4.946488294314381,
          4.959866220735786,
          4.973244147157191,
          4.986622073578595,
          5
         ],
         "y": [
          0.011744013670790844,
          0.012165835139622003,
          0.012602614380390965,
          0.013054867682194916,
          0.013523128124538302,
          0.014007946047716133,
          0.014509889530651666,
          0.015029544875822823,
          0.01556751710086079,
          0.016124430436347603,
          0.01670092882927958,
          0.017297676451599367,
          0.01791535821313029,
          0.01855468027817274,
          0.01921637058494474,
          0.019901179366963645,
          0.02060987967537819,
          0.021343267901164358,
          0.02210216429599861,
          0.022887413490515023,
          0.023699885008540703,
          0.02454047377578416,
          0.02541010062132629,
          0.02630971277013087,
          0.02724028432465293,
          0.028202816733476868,
          0.029198339244764077,
          0.03022790934212923,
          0.03129261316039856,
          0.032393565878529,
          0.03353191208678766,
          0.03470882612510331,
          0.035925512389309223,
          0.03718320560179708,
          0.03848317104289697,
          0.03982670473908916,
          0.041215133603938574,
          0.04264981552742532,
          0.044132139409124214,
          0.04566352513046244,
          0.04724542346106254,
          0.048879315893954015,
          0.050566714404216,
          0.05230916112539689,
          0.05410822793784404,
          0.05596551596287238,
          0.05788265495650659,
          0.05986130259634785,
          0.06190314365494899,
          0.06400988905293059,
          0.06618327478494235,
          0.0684250607114674,
          0.07073702920939069,
          0.07312098367420515,
          0.07557874686672106,
          0.07811215909717203,
          0.08072307623968625,
          0.083413367570214,
          0.08618491342118198,
          0.08903960264637908,
          0.09197932988988149,
          0.09500599265319226,
          0.09812148815521853,
          0.10132770998023052,
          0.10462654450955651,
          0.10801986713346644,
          0.11150953824048718,
          0.11509739898228363,
          0.1187852668132289,
          0.12257493080488566,
          0.12646814673682016,
          0.13046663196648484,
          0.13457206008232078,
          0.13878605534576838,
          0.14311018692949806,
          0.14754596296092432,
          0.15209482438189476,
          0.1567581386373817,
          0.16153719320801735,
          0.16643318900340412,
          0.17144723363528547,
          0.1765803345918629,
          0.18183339233678372,
          0.18720719335857117,
          0.1927024031985164,
          0.19831955948726665,
          0.20405906502251434,
          0.20992118092227613,
          0.21590601989023311,
          0.22201353963145487,
          0.2282435364585047,
          0.2345956391294143,
          0.24106930296026355,
          0.24766380425610302,
          0.25437823510465185,
          0.26121149857758424,
          0.2681623043842412,
          0.2752291650222551,
          0.2824103924688102,
          0.2897040954550876,
          0.29710817736481165,
          0.3046203347957467,
          0.31223805682044753,
          0.31995862497956806,
          0.3277791140375782,
          0.335696393526827,
          0.3437071301015637,
          0.35180779071878177,
          0.3599946466576521,
          0.3682637783838599,
          0.37661108125943815,
          0.38503227209271773,
          0.39352289651688394,
          0.4020783371793623,
          0.4106938227179634,
          0.41936443749342955,
          0.42808513204185517,
          0.4368507342044341,
          0.4456559608862323,
          0.4544954303902331,
          0.46336367526785754,
          0.47225515562256115,
          0.4811642727990278,
          0.49008538338699015,
          0.49901281346581317,
          0.5079408730137689,
          0.5168638704044017,
          0.5257761269115828,
          0.5346719911447643,
          0.5435458533365964,
          0.5523921594064338,
          0.5612054247253265,
          0.5699802475108244,
          0.5787113217832957,
          0.5873934498194096,
          0.5960215540429307,
          0.604590688297916,
          0.6130960484547784,
          0.6215329823053778,
          0.6298969987092579,
          0.6381837759593001,
          0.646389169341325,
          0.6545092178684796,
          0.6625401501775193,
          0.6704783895802597,
          0.678320558269494,
          0.6860634806844427,
          0.6937041860463291,
          0.7012399100798434,
          0.708668095941096,
          0.7159863943770737,
          0.7231926631456238,
          0.7302849657285472,
          0.737261569373474,
          0.7441209425028592,
          0.7508617515305848,
          0.7574828571284011,
          0.7639833099857108,
          0.7703623461070419,
          0.7766193816920092,
          0.7827540076426104,
          0.7887659837424047,
          0.7946552325514904,
          0.8004218330602627,
          0.8060660141437337,
          0.811588147856768,
          0.816988742608932,
          0.8222684362558554,
          0.8274279891420453,
          0.8324682771280185,
          0.837390284632479,
          0.8421950977180482,
          0.8468838972468204,
          0.8514579521297639,
          0.8559186126917446,
          0.8602673041717424,
          0.8645055203756625,
          0.8686348174970392,
          0.8726568081188945,
          0.8765731554080723,
          0.8803855675114962,
          0.8840957921620488,
          0.8877056115001104,
          0.8912168371152348,
          0.8946313053110051,
          0.8979508725947714,
          0.9011774113927492,
          0.9043128059898327,
          0.9073589486924714,
          0.9103177362120376,
          0.9131910662653078,
          0.915980834387953,
          0.918688930956317,
          0.9213172384122081,
          0.9238676286849746,
          0.9263419608047444,
          0.9287420787004014,
          0.9310698091756042,
          0.9333269600559868,
          0.9355153185005202,
          0.9376366494699478,
          0.9396926943451638,
          0.9416851696883962,
          0.943615766140109,
          0.9454861474446004,
          0.9472979495973717,
          0.949052780107474,
          0.9507522173681787,
          0.9523978101294855,
          0.9539910770661609,
          0.95553350643519,
          0.9570265558167337,
          0.958471651932883,
          0.9598701905387318,
          0.9612235363804956,
          0.962533023215639,
          0.9637999538901882,
          0.9650256004686362,
          0.9662112044120605,
          0.9673579768003008,
          0.968467098594253,
          0.969539720934549,
          0.9705769654730982,
          0.9715799247341639,
          0.9725496625018479,
          0.9734872142310381,
          0.9743935874790627,
          0.9752697623554617,
          0.9761166919874638,
          0.9769353029989092,
          0.9777264960005209,
          0.9784911460895666,
          0.9792301033571038,
          0.9799441934011237,
          0.9806342178440434,
          0.9813009548531169,
          0.9819451596624441,
          0.9825675650953691,
          0.9831688820861616,
          0.9837498001999665,
          0.9843109881501031,
          0.9848530943118756,
          0.9853767472321384,
          0.985882556133934,
          0.9863711114155919,
          0.9868429851437401,
          0.9872987315397455,
          0.9877388874591516,
          0.9881639728637395,
          0.988574491285884,
          0.9889709302849226,
          0.9893537618953009,
          0.9897234430662909,
          0.9900804160931201,
          0.9904251090393806,
          0.9907579361506169,
          0.9910792982590211,
          0.9913895831791877,
          0.9916891660949074,
          0.9919784099369967,
          0.9922576657521807,
          0.9925272730630668,
          0.9927875602192608,
          0.9930388447396898,
          0.9932814336462138,
          0.9935156237886146,
          0.9937417021610654,
          0.9939599462101906,
          0.9941706241348329,
          0.9943739951776576,
          0.9945703099087202,
          0.9947598105011402,
          0.9949427309990181,
          0.9951192975777444,
          0.9952897287968464,
          0.9954542358455256,
          0.9956130227810382,
          0.9957662867600717,
          0.9959142182632752,
          0.9960570013130956,
          0.9961948136850792,
          0.9963278271127909,
          0.9964562074865083,
          0.9965801150458425,
          0.9966997045664399,
          0.9968151255409167,
          0.9969265223541733,
          0.9970340344532412,
          0.9971377965118033,
          0.9972379385895362,
          0.9973345862864126,
          0.9974278608921067,
          0.9975178795306372,
          0.9976047553003832,
          0.9976885974096059,
          0.9977695113076045,
          0.9978475988116325,
          0.9979229582297023,
          0.9979956844793936,
          0.998065869202789
         ]
        }
       ],
       "layout": {
        "template": {
         "data": {
          "bar": [
           {
            "error_x": {
             "color": "#2a3f5f"
            },
            "error_y": {
             "color": "#2a3f5f"
            },
            "marker": {
             "line": {
              "color": "#E5ECF6",
              "width": 0.5
             }
            },
            "type": "bar"
           }
          ],
          "barpolar": [
           {
            "marker": {
             "line": {
              "color": "#E5ECF6",
              "width": 0.5
             }
            },
            "type": "barpolar"
           }
          ],
          "carpet": [
           {
            "aaxis": {
             "endlinecolor": "#2a3f5f",
             "gridcolor": "white",
             "linecolor": "white",
             "minorgridcolor": "white",
             "startlinecolor": "#2a3f5f"
            },
            "baxis": {
             "endlinecolor": "#2a3f5f",
             "gridcolor": "white",
             "linecolor": "white",
             "minorgridcolor": "white",
             "startlinecolor": "#2a3f5f"
            },
            "type": "carpet"
           }
          ],
          "choropleth": [
           {
            "colorbar": {
             "outlinewidth": 0,
             "ticks": ""
            },
            "type": "choropleth"
           }
          ],
          "contour": [
           {
            "colorbar": {
             "outlinewidth": 0,
             "ticks": ""
            },
            "colorscale": [
             [
              0,
              "#0d0887"
             ],
             [
              0.1111111111111111,
              "#46039f"
             ],
             [
              0.2222222222222222,
              "#7201a8"
             ],
             [
              0.3333333333333333,
              "#9c179e"
             ],
             [
              0.4444444444444444,
              "#bd3786"
             ],
             [
              0.5555555555555556,
              "#d8576b"
             ],
             [
              0.6666666666666666,
              "#ed7953"
             ],
             [
              0.7777777777777778,
              "#fb9f3a"
             ],
             [
              0.8888888888888888,
              "#fdca26"
             ],
             [
              1,
              "#f0f921"
             ]
            ],
            "type": "contour"
           }
          ],
          "contourcarpet": [
           {
            "colorbar": {
             "outlinewidth": 0,
             "ticks": ""
            },
            "type": "contourcarpet"
           }
          ],
          "heatmap": [
           {
            "colorbar": {
             "outlinewidth": 0,
             "ticks": ""
            },
            "colorscale": [
             [
              0,
              "#0d0887"
             ],
             [
              0.1111111111111111,
              "#46039f"
             ],
             [
              0.2222222222222222,
              "#7201a8"
             ],
             [
              0.3333333333333333,
              "#9c179e"
             ],
             [
              0.4444444444444444,
              "#bd3786"
             ],
             [
              0.5555555555555556,
              "#d8576b"
             ],
             [
              0.6666666666666666,
              "#ed7953"
             ],
             [
              0.7777777777777778,
              "#fb9f3a"
             ],
             [
              0.8888888888888888,
              "#fdca26"
             ],
             [
              1,
              "#f0f921"
             ]
            ],
            "type": "heatmap"
           }
          ],
          "heatmapgl": [
           {
            "colorbar": {
             "outlinewidth": 0,
             "ticks": ""
            },
            "colorscale": [
             [
              0,
              "#0d0887"
             ],
             [
              0.1111111111111111,
              "#46039f"
             ],
             [
              0.2222222222222222,
              "#7201a8"
             ],
             [
              0.3333333333333333,
              "#9c179e"
             ],
             [
              0.4444444444444444,
              "#bd3786"
             ],
             [
              0.5555555555555556,
              "#d8576b"
             ],
             [
              0.6666666666666666,
              "#ed7953"
             ],
             [
              0.7777777777777778,
              "#fb9f3a"
             ],
             [
              0.8888888888888888,
              "#fdca26"
             ],
             [
              1,
              "#f0f921"
             ]
            ],
            "type": "heatmapgl"
           }
          ],
          "histogram": [
           {
            "marker": {
             "colorbar": {
              "outlinewidth": 0,
              "ticks": ""
             }
            },
            "type": "histogram"
           }
          ],
          "histogram2d": [
           {
            "colorbar": {
             "outlinewidth": 0,
             "ticks": ""
            },
            "colorscale": [
             [
              0,
              "#0d0887"
             ],
             [
              0.1111111111111111,
              "#46039f"
             ],
             [
              0.2222222222222222,
              "#7201a8"
             ],
             [
              0.3333333333333333,
              "#9c179e"
             ],
             [
              0.4444444444444444,
              "#bd3786"
             ],
             [
              0.5555555555555556,
              "#d8576b"
             ],
             [
              0.6666666666666666,
              "#ed7953"
             ],
             [
              0.7777777777777778,
              "#fb9f3a"
             ],
             [
              0.8888888888888888,
              "#fdca26"
             ],
             [
              1,
              "#f0f921"
             ]
            ],
            "type": "histogram2d"
           }
          ],
          "histogram2dcontour": [
           {
            "colorbar": {
             "outlinewidth": 0,
             "ticks": ""
            },
            "colorscale": [
             [
              0,
              "#0d0887"
             ],
             [
              0.1111111111111111,
              "#46039f"
             ],
             [
              0.2222222222222222,
              "#7201a8"
             ],
             [
              0.3333333333333333,
              "#9c179e"
             ],
             [
              0.4444444444444444,
              "#bd3786"
             ],
             [
              0.5555555555555556,
              "#d8576b"
             ],
             [
              0.6666666666666666,
              "#ed7953"
             ],
             [
              0.7777777777777778,
              "#fb9f3a"
             ],
             [
              0.8888888888888888,
              "#fdca26"
             ],
             [
              1,
              "#f0f921"
             ]
            ],
            "type": "histogram2dcontour"
           }
          ],
          "mesh3d": [
           {
            "colorbar": {
             "outlinewidth": 0,
             "ticks": ""
            },
            "type": "mesh3d"
           }
          ],
          "parcoords": [
           {
            "line": {
             "colorbar": {
              "outlinewidth": 0,
              "ticks": ""
             }
            },
            "type": "parcoords"
           }
          ],
          "scatter": [
           {
            "marker": {
             "colorbar": {
              "outlinewidth": 0,
              "ticks": ""
             }
            },
            "type": "scatter"
           }
          ],
          "scatter3d": [
           {
            "line": {
             "colorbar": {
              "outlinewidth": 0,
              "ticks": ""
             }
            },
            "marker": {
             "colorbar": {
              "outlinewidth": 0,
              "ticks": ""
             }
            },
            "type": "scatter3d"
           }
          ],
          "scattercarpet": [
           {
            "marker": {
             "colorbar": {
              "outlinewidth": 0,
              "ticks": ""
             }
            },
            "type": "scattercarpet"
           }
          ],
          "scattergeo": [
           {
            "marker": {
             "colorbar": {
              "outlinewidth": 0,
              "ticks": ""
             }
            },
            "type": "scattergeo"
           }
          ],
          "scattergl": [
           {
            "marker": {
             "colorbar": {
              "outlinewidth": 0,
              "ticks": ""
             }
            },
            "type": "scattergl"
           }
          ],
          "scattermapbox": [
           {
            "marker": {
             "colorbar": {
              "outlinewidth": 0,
              "ticks": ""
             }
            },
            "type": "scattermapbox"
           }
          ],
          "scatterpolar": [
           {
            "marker": {
             "colorbar": {
              "outlinewidth": 0,
              "ticks": ""
             }
            },
            "type": "scatterpolar"
           }
          ],
          "scatterpolargl": [
           {
            "marker": {
             "colorbar": {
              "outlinewidth": 0,
              "ticks": ""
             }
            },
            "type": "scatterpolargl"
           }
          ],
          "scatterternary": [
           {
            "marker": {
             "colorbar": {
              "outlinewidth": 0,
              "ticks": ""
             }
            },
            "type": "scatterternary"
           }
          ],
          "surface": [
           {
            "colorbar": {
             "outlinewidth": 0,
             "ticks": ""
            },
            "colorscale": [
             [
              0,
              "#0d0887"
             ],
             [
              0.1111111111111111,
              "#46039f"
             ],
             [
              0.2222222222222222,
              "#7201a8"
             ],
             [
              0.3333333333333333,
              "#9c179e"
             ],
             [
              0.4444444444444444,
              "#bd3786"
             ],
             [
              0.5555555555555556,
              "#d8576b"
             ],
             [
              0.6666666666666666,
              "#ed7953"
             ],
             [
              0.7777777777777778,
              "#fb9f3a"
             ],
             [
              0.8888888888888888,
              "#fdca26"
             ],
             [
              1,
              "#f0f921"
             ]
            ],
            "type": "surface"
           }
          ],
          "table": [
           {
            "cells": {
             "fill": {
              "color": "#EBF0F8"
             },
             "line": {
              "color": "white"
             }
            },
            "header": {
             "fill": {
              "color": "#C8D4E3"
             },
             "line": {
              "color": "white"
             }
            },
            "type": "table"
           }
          ]
         },
         "layout": {
          "annotationdefaults": {
           "arrowcolor": "#2a3f5f",
           "arrowhead": 0,
           "arrowwidth": 1
          },
          "colorscale": {
           "diverging": [
            [
             0,
             "#8e0152"
            ],
            [
             0.1,
             "#c51b7d"
            ],
            [
             0.2,
             "#de77ae"
            ],
            [
             0.3,
             "#f1b6da"
            ],
            [
             0.4,
             "#fde0ef"
            ],
            [
             0.5,
             "#f7f7f7"
            ],
            [
             0.6,
             "#e6f5d0"
            ],
            [
             0.7,
             "#b8e186"
            ],
            [
             0.8,
             "#7fbc41"
            ],
            [
             0.9,
             "#4d9221"
            ],
            [
             1,
             "#276419"
            ]
           ],
           "sequential": [
            [
             0,
             "#0d0887"
            ],
            [
             0.1111111111111111,
             "#46039f"
            ],
            [
             0.2222222222222222,
             "#7201a8"
            ],
            [
             0.3333333333333333,
             "#9c179e"
            ],
            [
             0.4444444444444444,
             "#bd3786"
            ],
            [
             0.5555555555555556,
             "#d8576b"
            ],
            [
             0.6666666666666666,
             "#ed7953"
            ],
            [
             0.7777777777777778,
             "#fb9f3a"
            ],
            [
             0.8888888888888888,
             "#fdca26"
            ],
            [
             1,
             "#f0f921"
            ]
           ],
           "sequentialminus": [
            [
             0,
             "#0d0887"
            ],
            [
             0.1111111111111111,
             "#46039f"
            ],
            [
             0.2222222222222222,
             "#7201a8"
            ],
            [
             0.3333333333333333,
             "#9c179e"
            ],
            [
             0.4444444444444444,
             "#bd3786"
            ],
            [
             0.5555555555555556,
             "#d8576b"
            ],
            [
             0.6666666666666666,
             "#ed7953"
            ],
            [
             0.7777777777777778,
             "#fb9f3a"
            ],
            [
             0.8888888888888888,
             "#fdca26"
            ],
            [
             1,
             "#f0f921"
            ]
           ]
          },
          "colorway": [
           "#636efa",
           "#EF553B",
           "#00cc96",
           "#ab63fa",
           "#FFA15A",
           "#19d3f3",
           "#FF6692",
           "#B6E880",
           "#FF97FF",
           "#FECB52"
          ],
          "font": {
           "color": "#2a3f5f"
          },
          "geo": {
           "bgcolor": "white",
           "lakecolor": "white",
           "landcolor": "#E5ECF6",
           "showlakes": true,
           "showland": true,
           "subunitcolor": "white"
          },
          "hoverlabel": {
           "align": "left"
          },
          "hovermode": "closest",
          "mapbox": {
           "style": "light"
          },
          "paper_bgcolor": "white",
          "plot_bgcolor": "#E5ECF6",
          "polar": {
           "angularaxis": {
            "gridcolor": "white",
            "linecolor": "white",
            "ticks": ""
           },
           "bgcolor": "#E5ECF6",
           "radialaxis": {
            "gridcolor": "white",
            "linecolor": "white",
            "ticks": ""
           }
          },
          "scene": {
           "xaxis": {
            "backgroundcolor": "#E5ECF6",
            "gridcolor": "white",
            "gridwidth": 2,
            "linecolor": "white",
            "showbackground": true,
            "ticks": "",
            "zerolinecolor": "white"
           },
           "yaxis": {
            "backgroundcolor": "#E5ECF6",
            "gridcolor": "white",
            "gridwidth": 2,
            "linecolor": "white",
            "showbackground": true,
            "ticks": "",
            "zerolinecolor": "white"
           },
           "zaxis": {
            "backgroundcolor": "#E5ECF6",
            "gridcolor": "white",
            "gridwidth": 2,
            "linecolor": "white",
            "showbackground": true,
            "ticks": "",
            "zerolinecolor": "white"
           }
          },
          "shapedefaults": {
           "line": {
            "color": "#2a3f5f"
           }
          },
          "ternary": {
           "aaxis": {
            "gridcolor": "white",
            "linecolor": "white",
            "ticks": ""
           },
           "baxis": {
            "gridcolor": "white",
            "linecolor": "white",
            "ticks": ""
           },
           "bgcolor": "#E5ECF6",
           "caxis": {
            "gridcolor": "white",
            "linecolor": "white",
            "ticks": ""
           }
          },
          "title": {
           "x": 0.05
          },
          "xaxis": {
           "automargin": true,
           "gridcolor": "white",
           "linecolor": "white",
           "ticks": "",
           "zerolinecolor": "white",
           "zerolinewidth": 2
          },
          "yaxis": {
           "automargin": true,
           "gridcolor": "white",
           "linecolor": "white",
           "ticks": "",
           "zerolinecolor": "white",
           "zerolinewidth": 2
          }
         }
        },
        "title": {
         "text": "Logistic Regression Iris, 1 feature"
        },
        "xaxis": {
         "title": {
          "text": "petal_width"
         }
        },
        "yaxis": {
         "title": {
          "text": "species_id"
         }
        }
       }
      },
      "text/html": [
       "<div>\n",
       "        \n",
       "        \n",
       "            <div id=\"957ce6b4-0ddb-4d5a-b081-1ca4f585a178\" class=\"plotly-graph-div\" style=\"height:525px; width:100%;\"></div>\n",
       "            <script type=\"text/javascript\">\n",
       "                require([\"plotly\"], function(Plotly) {\n",
       "                    window.PLOTLYENV=window.PLOTLYENV || {};\n",
       "                    \n",
       "                if (document.getElementById(\"957ce6b4-0ddb-4d5a-b081-1ca4f585a178\")) {\n",
       "                    Plotly.newPlot(\n",
       "                        '957ce6b4-0ddb-4d5a-b081-1ca4f585a178',\n",
       "                        [{\"mode\": \"markers\", \"name\": \"Training Data\", \"opacity\": 0.3, \"type\": \"scatter\", \"x\": [1.4, 3.3, 1.7, 4.5, 4.4, 1.2, 1.3, 1.4, 1.5, 1.5, 4.2, 1.5, 1.5, 3.7, 1.6, 4.0, 1.1, 1.9, 1.5, 1.4, 1.3, 1.4, 4.5, 1.4, 3.6, 1.3, 4.0, 4.7, 4.1, 4.6, 1.6, 4.7, 4.1, 1.6, 4.5, 4.2, 4.3, 3.5, 1.3, 4.6, 1.5, 3.0, 3.3, 4.4, 1.5, 4.2, 3.9, 4.7, 4.5, 1.4, 1.6, 1.4, 4.9, 1.5, 1.3, 1.7, 4.4, 4.6, 4.3, 4.7, 3.9, 1.7, 3.5, 4.0, 1.2, 4.0, 4.5], \"y\": [0, 1, 0, 1, 1, 0, 0, 0, 0, 0, 1, 0, 0, 1, 0, 1, 0, 0, 0, 0, 0, 0, 1, 0, 1, 0, 1, 1, 1, 1, 0, 1, 1, 0, 1, 1, 1, 1, 0, 1, 0, 1, 1, 1, 0, 1, 1, 1, 1, 0, 0, 0, 1, 0, 0, 0, 1, 1, 1, 1, 1, 0, 1, 1, 0, 1, 1]}, {\"mode\": \"markers\", \"name\": \"Test Data\", \"opacity\": 0.3, \"type\": \"scatter\", \"x\": [5.1, 4.0, 4.8, 1.4, 1.9, 1.5, 1.0, 3.8, 1.5, 1.4, 1.7, 1.6, 4.7, 1.4, 4.4, 1.4, 4.8, 5.0, 1.4, 1.5, 4.5, 4.1, 1.6, 1.3, 3.9, 1.5, 1.3, 4.2, 1.5, 4.9, 1.6, 1.4, 4.5], \"y\": [1, 1, 1, 0, 0, 0, 0, 1, 0, 0, 0, 0, 1, 0, 1, 0, 1, 1, 0, 0, 1, 1, 0, 0, 1, 0, 0, 1, 0, 1, 0, 0, 1]}, {\"mode\": \"lines\", \"name\": \"Logistic Regression\", \"type\": \"scatter\", \"x\": [1.0, 1.0133779264214047, 1.0267558528428093, 1.040133779264214, 1.0535117056856187, 1.0668896321070234, 1.080267558528428, 1.0936454849498327, 1.1070234113712374, 1.120401337792642, 1.1337792642140467, 1.1471571906354514, 1.160535117056856, 1.1739130434782608, 1.1872909698996654, 1.2006688963210703, 1.214046822742475, 1.2274247491638797, 1.2408026755852843, 1.254180602006689, 1.2675585284280937, 1.2809364548494984, 1.294314381270903, 1.3076923076923077, 1.3210702341137124, 1.334448160535117, 1.3478260869565217, 1.3612040133779264, 1.374581939799331, 1.3879598662207357, 1.4013377926421404, 1.414715719063545, 1.4280936454849498, 1.4414715719063544, 1.4548494983277591, 1.4682274247491638, 1.4816053511705687, 1.4949832775919734, 1.508361204013378, 1.5217391304347827, 1.5351170568561874, 1.548494983277592, 1.5618729096989967, 1.5752508361204014, 1.588628762541806, 1.6020066889632107, 1.6153846153846154, 1.62876254180602, 1.6421404682274248, 1.6555183946488294, 1.6688963210702341, 1.6822742474916388, 1.6956521739130435, 1.7090301003344481, 1.7224080267558528, 1.7357859531772575, 1.7491638795986622, 1.7625418060200668, 1.7759197324414715, 1.7892976588628762, 1.8026755852842808, 1.8160535117056855, 1.8294314381270902, 1.8428093645484949, 1.8561872909698995, 1.8695652173913042, 1.8829431438127089, 1.8963210702341136, 1.9096989966555182, 1.923076923076923, 1.9364548494983276, 1.9498327759197325, 1.9632107023411371, 1.9765886287625418, 1.9899665551839465, 2.0033444816053514, 2.016722408026756, 2.0301003344481607, 2.0434782608695654, 2.05685618729097, 2.0702341137123748, 2.0836120401337794, 2.096989966555184, 2.1103678929765888, 2.1237458193979935, 2.137123745819398, 2.150501672240803, 2.1638795986622075, 2.177257525083612, 2.190635451505017, 2.2040133779264215, 2.217391304347826, 2.230769230769231, 2.2441471571906355, 2.25752508361204, 2.270903010033445, 2.2842809364548495, 2.297658862876254, 2.311036789297659, 2.3244147157190636, 2.3377926421404682, 2.351170568561873, 2.3645484949832776, 2.3779264214046822, 2.391304347826087, 2.4046822742474916, 2.4180602006688963, 2.431438127090301, 2.4448160535117056, 2.4581939799331103, 2.471571906354515, 2.4849498327759196, 2.4983277591973243, 2.511705685618729, 2.5250836120401337, 2.5384615384615383, 2.551839464882943, 2.5652173913043477, 2.5785953177257523, 2.591973244147157, 2.6053511705685617, 2.6187290969899664, 2.632107023411371, 2.6454849498327757, 2.6588628762541804, 2.672240802675585, 2.6856187290969897, 2.6989966555183944, 2.712374581939799, 2.7257525083612038, 2.7391304347826084, 2.752508361204013, 2.7658862876254178, 2.7792642140468224, 2.792642140468227, 2.806020066889632, 2.8193979933110365, 2.832775919732441, 2.846153846153846, 2.8595317725752505, 2.872909698996655, 2.8862876254180603, 2.899665551839465, 2.9130434782608696, 2.9264214046822743, 2.939799331103679, 2.9531772575250836, 2.9665551839464883, 2.979933110367893, 2.9933110367892977, 3.0066889632107023, 3.020066889632107, 3.0334448160535117, 3.0468227424749164, 3.060200668896321, 3.0735785953177257, 3.0869565217391304, 3.100334448160535, 3.1137123745819397, 3.1270903010033444, 3.140468227424749, 3.1538461538461537, 3.1672240802675584, 3.180602006688963, 3.1939799331103678, 3.2073578595317724, 3.220735785953177, 3.234113712374582, 3.2474916387959865, 3.260869565217391, 3.274247491638796, 3.2876254180602005, 3.301003344481605, 3.31438127090301, 3.3277591973244145, 3.341137123745819, 3.354515050167224, 3.3678929765886285, 3.381270903010033, 3.394648829431438, 3.408026755852843, 3.4214046822742477, 3.4347826086956523, 3.448160535117057, 3.4615384615384617, 3.4749163879598663, 3.488294314381271, 3.5016722408026757, 3.5150501672240804, 3.528428093645485, 3.5418060200668897, 3.5551839464882944, 3.568561872909699, 3.5819397993311037, 3.5953177257525084, 3.608695652173913, 3.6220735785953178, 3.6354515050167224, 3.648829431438127, 3.6622073578595318, 3.6755852842809364, 3.688963210702341, 3.702341137123746, 3.7157190635451505, 3.729096989966555, 3.74247491638796, 3.7558528428093645, 3.769230769230769, 3.782608695652174, 3.7959866220735785, 3.809364548494983, 3.822742474916388, 3.8361204013377925, 3.849498327759197, 3.862876254180602, 3.8762541806020065, 3.8896321070234112, 3.903010033444816, 3.9163879598662206, 3.9297658862876252, 3.94314381270903, 3.9565217391304346, 3.9698996655518393, 3.983277591973244, 3.9966555183946486, 4.010033444816053, 4.023411371237458, 4.036789297658863, 4.050167224080267, 4.063545150501672, 4.076923076923077, 4.090301003344482, 4.103678929765886, 4.117056856187292, 4.130434782608695, 4.143812709030101, 4.157190635451505, 4.17056856187291, 4.183946488294314, 4.19732441471572, 4.210702341137123, 4.224080267558529, 4.237458193979933, 4.250836120401338, 4.264214046822742, 4.277591973244148, 4.290969899665551, 4.304347826086957, 4.317725752508361, 4.331103678929766, 4.34448160535117, 4.357859531772576, 4.3712374581939795, 4.384615384615385, 4.397993311036789, 4.411371237458194, 4.424749163879598, 4.438127090301004, 4.4515050167224075, 4.464882943143813, 4.478260869565217, 4.491638795986622, 4.505016722408026, 4.518394648829432, 4.5317725752508355, 4.545150501672241, 4.558528428093645, 4.5719063545150505, 4.585284280936454, 4.59866220735786, 4.612040133779264, 4.625418060200669, 4.638795986622073, 4.6521739130434785, 4.665551839464882, 4.678929765886288, 4.692307692307692, 4.705685618729097, 4.719063545150501, 4.7324414715719065, 4.74581939799331, 4.759197324414716, 4.7725752508361206, 4.785953177257525, 4.79933110367893, 4.812709030100335, 4.826086956521739, 4.839464882943144, 4.852842809364549, 4.866220735785953, 4.879598662207358, 4.892976588628763, 4.906354515050167, 4.919732441471572, 4.933110367892977, 4.946488294314381, 4.959866220735786, 4.973244147157191, 4.986622073578595, 5.0], \"y\": [0.011744013670790844, 0.012165835139622003, 0.012602614380390965, 0.013054867682194916, 0.013523128124538302, 0.014007946047716133, 0.014509889530651666, 0.015029544875822823, 0.01556751710086079, 0.016124430436347603, 0.01670092882927958, 0.017297676451599367, 0.01791535821313029, 0.01855468027817274, 0.01921637058494474, 0.019901179366963645, 0.02060987967537819, 0.021343267901164358, 0.02210216429599861, 0.022887413490515023, 0.023699885008540703, 0.02454047377578416, 0.02541010062132629, 0.02630971277013087, 0.02724028432465293, 0.028202816733476868, 0.029198339244764077, 0.03022790934212923, 0.03129261316039856, 0.032393565878529, 0.03353191208678766, 0.03470882612510331, 0.035925512389309223, 0.03718320560179708, 0.03848317104289697, 0.03982670473908916, 0.041215133603938574, 0.04264981552742532, 0.044132139409124214, 0.04566352513046244, 0.04724542346106254, 0.048879315893954015, 0.050566714404216, 0.05230916112539689, 0.05410822793784404, 0.05596551596287238, 0.05788265495650659, 0.05986130259634785, 0.06190314365494899, 0.06400988905293059, 0.06618327478494235, 0.0684250607114674, 0.07073702920939069, 0.07312098367420515, 0.07557874686672106, 0.07811215909717203, 0.08072307623968625, 0.083413367570214, 0.08618491342118198, 0.08903960264637908, 0.09197932988988149, 0.09500599265319226, 0.09812148815521853, 0.10132770998023052, 0.10462654450955651, 0.10801986713346644, 0.11150953824048718, 0.11509739898228363, 0.1187852668132289, 0.12257493080488566, 0.12646814673682016, 0.13046663196648484, 0.13457206008232078, 0.13878605534576838, 0.14311018692949806, 0.14754596296092432, 0.15209482438189476, 0.1567581386373817, 0.16153719320801735, 0.16643318900340412, 0.17144723363528547, 0.1765803345918629, 0.18183339233678372, 0.18720719335857117, 0.1927024031985164, 0.19831955948726665, 0.20405906502251434, 0.20992118092227613, 0.21590601989023311, 0.22201353963145487, 0.2282435364585047, 0.2345956391294143, 0.24106930296026355, 0.24766380425610302, 0.25437823510465185, 0.26121149857758424, 0.2681623043842412, 0.2752291650222551, 0.2824103924688102, 0.2897040954550876, 0.29710817736481165, 0.3046203347957467, 0.31223805682044753, 0.31995862497956806, 0.3277791140375782, 0.335696393526827, 0.3437071301015637, 0.35180779071878177, 0.3599946466576521, 0.3682637783838599, 0.37661108125943815, 0.38503227209271773, 0.39352289651688394, 0.4020783371793623, 0.4106938227179634, 0.41936443749342955, 0.42808513204185517, 0.4368507342044341, 0.4456559608862323, 0.4544954303902331, 0.46336367526785754, 0.47225515562256115, 0.4811642727990278, 0.49008538338699015, 0.49901281346581317, 0.5079408730137689, 0.5168638704044017, 0.5257761269115828, 0.5346719911447643, 0.5435458533365964, 0.5523921594064338, 0.5612054247253265, 0.5699802475108244, 0.5787113217832957, 0.5873934498194096, 0.5960215540429307, 0.604590688297916, 0.6130960484547784, 0.6215329823053778, 0.6298969987092579, 0.6381837759593001, 0.646389169341325, 0.6545092178684796, 0.6625401501775193, 0.6704783895802597, 0.678320558269494, 0.6860634806844427, 0.6937041860463291, 0.7012399100798434, 0.708668095941096, 0.7159863943770737, 0.7231926631456238, 0.7302849657285472, 0.737261569373474, 0.7441209425028592, 0.7508617515305848, 0.7574828571284011, 0.7639833099857108, 0.7703623461070419, 0.7766193816920092, 0.7827540076426104, 0.7887659837424047, 0.7946552325514904, 0.8004218330602627, 0.8060660141437337, 0.811588147856768, 0.816988742608932, 0.8222684362558554, 0.8274279891420453, 0.8324682771280185, 0.837390284632479, 0.8421950977180482, 0.8468838972468204, 0.8514579521297639, 0.8559186126917446, 0.8602673041717424, 0.8645055203756625, 0.8686348174970392, 0.8726568081188945, 0.8765731554080723, 0.8803855675114962, 0.8840957921620488, 0.8877056115001104, 0.8912168371152348, 0.8946313053110051, 0.8979508725947714, 0.9011774113927492, 0.9043128059898327, 0.9073589486924714, 0.9103177362120376, 0.9131910662653078, 0.915980834387953, 0.918688930956317, 0.9213172384122081, 0.9238676286849746, 0.9263419608047444, 0.9287420787004014, 0.9310698091756042, 0.9333269600559868, 0.9355153185005202, 0.9376366494699478, 0.9396926943451638, 0.9416851696883962, 0.943615766140109, 0.9454861474446004, 0.9472979495973717, 0.949052780107474, 0.9507522173681787, 0.9523978101294855, 0.9539910770661609, 0.95553350643519, 0.9570265558167337, 0.958471651932883, 0.9598701905387318, 0.9612235363804956, 0.962533023215639, 0.9637999538901882, 0.9650256004686362, 0.9662112044120605, 0.9673579768003008, 0.968467098594253, 0.969539720934549, 0.9705769654730982, 0.9715799247341639, 0.9725496625018479, 0.9734872142310381, 0.9743935874790627, 0.9752697623554617, 0.9761166919874638, 0.9769353029989092, 0.9777264960005209, 0.9784911460895666, 0.9792301033571038, 0.9799441934011237, 0.9806342178440434, 0.9813009548531169, 0.9819451596624441, 0.9825675650953691, 0.9831688820861616, 0.9837498001999665, 0.9843109881501031, 0.9848530943118756, 0.9853767472321384, 0.985882556133934, 0.9863711114155919, 0.9868429851437401, 0.9872987315397455, 0.9877388874591516, 0.9881639728637395, 0.988574491285884, 0.9889709302849226, 0.9893537618953009, 0.9897234430662909, 0.9900804160931201, 0.9904251090393806, 0.9907579361506169, 0.9910792982590211, 0.9913895831791877, 0.9916891660949074, 0.9919784099369967, 0.9922576657521807, 0.9925272730630668, 0.9927875602192608, 0.9930388447396898, 0.9932814336462138, 0.9935156237886146, 0.9937417021610654, 0.9939599462101906, 0.9941706241348329, 0.9943739951776576, 0.9945703099087202, 0.9947598105011402, 0.9949427309990181, 0.9951192975777444, 0.9952897287968464, 0.9954542358455256, 0.9956130227810382, 0.9957662867600717, 0.9959142182632752, 0.9960570013130956, 0.9961948136850792, 0.9963278271127909, 0.9964562074865083, 0.9965801150458425, 0.9966997045664399, 0.9968151255409167, 0.9969265223541733, 0.9970340344532412, 0.9971377965118033, 0.9972379385895362, 0.9973345862864126, 0.9974278608921067, 0.9975178795306372, 0.9976047553003832, 0.9976885974096059, 0.9977695113076045, 0.9978475988116325, 0.9979229582297023, 0.9979956844793936, 0.998065869202789]}],\n",
       "                        {\"template\": {\"data\": {\"bar\": [{\"error_x\": {\"color\": \"#2a3f5f\"}, \"error_y\": {\"color\": \"#2a3f5f\"}, \"marker\": {\"line\": {\"color\": \"#E5ECF6\", \"width\": 0.5}}, \"type\": \"bar\"}], \"barpolar\": [{\"marker\": {\"line\": {\"color\": \"#E5ECF6\", \"width\": 0.5}}, \"type\": \"barpolar\"}], \"carpet\": [{\"aaxis\": {\"endlinecolor\": \"#2a3f5f\", \"gridcolor\": \"white\", \"linecolor\": \"white\", \"minorgridcolor\": \"white\", \"startlinecolor\": \"#2a3f5f\"}, \"baxis\": {\"endlinecolor\": \"#2a3f5f\", \"gridcolor\": \"white\", \"linecolor\": \"white\", \"minorgridcolor\": \"white\", \"startlinecolor\": \"#2a3f5f\"}, \"type\": \"carpet\"}], \"choropleth\": [{\"colorbar\": {\"outlinewidth\": 0, \"ticks\": \"\"}, \"type\": \"choropleth\"}], \"contour\": [{\"colorbar\": {\"outlinewidth\": 0, \"ticks\": \"\"}, \"colorscale\": [[0.0, \"#0d0887\"], [0.1111111111111111, \"#46039f\"], [0.2222222222222222, \"#7201a8\"], [0.3333333333333333, \"#9c179e\"], [0.4444444444444444, \"#bd3786\"], [0.5555555555555556, \"#d8576b\"], [0.6666666666666666, \"#ed7953\"], [0.7777777777777778, \"#fb9f3a\"], [0.8888888888888888, \"#fdca26\"], [1.0, \"#f0f921\"]], \"type\": \"contour\"}], \"contourcarpet\": [{\"colorbar\": {\"outlinewidth\": 0, \"ticks\": \"\"}, \"type\": \"contourcarpet\"}], \"heatmap\": [{\"colorbar\": {\"outlinewidth\": 0, \"ticks\": \"\"}, \"colorscale\": [[0.0, \"#0d0887\"], [0.1111111111111111, \"#46039f\"], [0.2222222222222222, \"#7201a8\"], [0.3333333333333333, \"#9c179e\"], [0.4444444444444444, \"#bd3786\"], [0.5555555555555556, \"#d8576b\"], [0.6666666666666666, \"#ed7953\"], [0.7777777777777778, \"#fb9f3a\"], [0.8888888888888888, \"#fdca26\"], [1.0, \"#f0f921\"]], \"type\": \"heatmap\"}], \"heatmapgl\": [{\"colorbar\": {\"outlinewidth\": 0, \"ticks\": \"\"}, \"colorscale\": [[0.0, \"#0d0887\"], [0.1111111111111111, \"#46039f\"], [0.2222222222222222, \"#7201a8\"], [0.3333333333333333, \"#9c179e\"], [0.4444444444444444, \"#bd3786\"], [0.5555555555555556, \"#d8576b\"], [0.6666666666666666, \"#ed7953\"], [0.7777777777777778, \"#fb9f3a\"], [0.8888888888888888, \"#fdca26\"], [1.0, \"#f0f921\"]], \"type\": \"heatmapgl\"}], \"histogram\": [{\"marker\": {\"colorbar\": {\"outlinewidth\": 0, \"ticks\": \"\"}}, \"type\": \"histogram\"}], \"histogram2d\": [{\"colorbar\": {\"outlinewidth\": 0, \"ticks\": \"\"}, \"colorscale\": [[0.0, \"#0d0887\"], [0.1111111111111111, \"#46039f\"], [0.2222222222222222, \"#7201a8\"], [0.3333333333333333, \"#9c179e\"], [0.4444444444444444, \"#bd3786\"], [0.5555555555555556, \"#d8576b\"], [0.6666666666666666, \"#ed7953\"], [0.7777777777777778, \"#fb9f3a\"], [0.8888888888888888, \"#fdca26\"], [1.0, \"#f0f921\"]], \"type\": \"histogram2d\"}], \"histogram2dcontour\": [{\"colorbar\": {\"outlinewidth\": 0, \"ticks\": \"\"}, \"colorscale\": [[0.0, \"#0d0887\"], [0.1111111111111111, \"#46039f\"], [0.2222222222222222, \"#7201a8\"], [0.3333333333333333, \"#9c179e\"], [0.4444444444444444, \"#bd3786\"], [0.5555555555555556, \"#d8576b\"], [0.6666666666666666, \"#ed7953\"], [0.7777777777777778, \"#fb9f3a\"], [0.8888888888888888, \"#fdca26\"], [1.0, \"#f0f921\"]], \"type\": \"histogram2dcontour\"}], \"mesh3d\": [{\"colorbar\": {\"outlinewidth\": 0, \"ticks\": \"\"}, \"type\": \"mesh3d\"}], \"parcoords\": [{\"line\": {\"colorbar\": {\"outlinewidth\": 0, \"ticks\": \"\"}}, \"type\": \"parcoords\"}], \"scatter\": [{\"marker\": {\"colorbar\": {\"outlinewidth\": 0, \"ticks\": \"\"}}, \"type\": \"scatter\"}], \"scatter3d\": [{\"line\": {\"colorbar\": {\"outlinewidth\": 0, \"ticks\": \"\"}}, \"marker\": {\"colorbar\": {\"outlinewidth\": 0, \"ticks\": \"\"}}, \"type\": \"scatter3d\"}], \"scattercarpet\": [{\"marker\": {\"colorbar\": {\"outlinewidth\": 0, \"ticks\": \"\"}}, \"type\": \"scattercarpet\"}], \"scattergeo\": [{\"marker\": {\"colorbar\": {\"outlinewidth\": 0, \"ticks\": \"\"}}, \"type\": \"scattergeo\"}], \"scattergl\": [{\"marker\": {\"colorbar\": {\"outlinewidth\": 0, \"ticks\": \"\"}}, \"type\": \"scattergl\"}], \"scattermapbox\": [{\"marker\": {\"colorbar\": {\"outlinewidth\": 0, \"ticks\": \"\"}}, \"type\": \"scattermapbox\"}], \"scatterpolar\": [{\"marker\": {\"colorbar\": {\"outlinewidth\": 0, \"ticks\": \"\"}}, \"type\": \"scatterpolar\"}], \"scatterpolargl\": [{\"marker\": {\"colorbar\": {\"outlinewidth\": 0, \"ticks\": \"\"}}, \"type\": \"scatterpolargl\"}], \"scatterternary\": [{\"marker\": {\"colorbar\": {\"outlinewidth\": 0, \"ticks\": \"\"}}, \"type\": \"scatterternary\"}], \"surface\": [{\"colorbar\": {\"outlinewidth\": 0, \"ticks\": \"\"}, \"colorscale\": [[0.0, \"#0d0887\"], [0.1111111111111111, \"#46039f\"], [0.2222222222222222, \"#7201a8\"], [0.3333333333333333, \"#9c179e\"], [0.4444444444444444, \"#bd3786\"], [0.5555555555555556, \"#d8576b\"], [0.6666666666666666, \"#ed7953\"], [0.7777777777777778, \"#fb9f3a\"], [0.8888888888888888, \"#fdca26\"], [1.0, \"#f0f921\"]], \"type\": \"surface\"}], \"table\": [{\"cells\": {\"fill\": {\"color\": \"#EBF0F8\"}, \"line\": {\"color\": \"white\"}}, \"header\": {\"fill\": {\"color\": \"#C8D4E3\"}, \"line\": {\"color\": \"white\"}}, \"type\": \"table\"}]}, \"layout\": {\"annotationdefaults\": {\"arrowcolor\": \"#2a3f5f\", \"arrowhead\": 0, \"arrowwidth\": 1}, \"colorscale\": {\"diverging\": [[0, \"#8e0152\"], [0.1, \"#c51b7d\"], [0.2, \"#de77ae\"], [0.3, \"#f1b6da\"], [0.4, \"#fde0ef\"], [0.5, \"#f7f7f7\"], [0.6, \"#e6f5d0\"], [0.7, \"#b8e186\"], [0.8, \"#7fbc41\"], [0.9, \"#4d9221\"], [1, \"#276419\"]], \"sequential\": [[0.0, \"#0d0887\"], [0.1111111111111111, \"#46039f\"], [0.2222222222222222, \"#7201a8\"], [0.3333333333333333, \"#9c179e\"], [0.4444444444444444, \"#bd3786\"], [0.5555555555555556, \"#d8576b\"], [0.6666666666666666, \"#ed7953\"], [0.7777777777777778, \"#fb9f3a\"], [0.8888888888888888, \"#fdca26\"], [1.0, \"#f0f921\"]], \"sequentialminus\": [[0.0, \"#0d0887\"], [0.1111111111111111, \"#46039f\"], [0.2222222222222222, \"#7201a8\"], [0.3333333333333333, \"#9c179e\"], [0.4444444444444444, \"#bd3786\"], [0.5555555555555556, \"#d8576b\"], [0.6666666666666666, \"#ed7953\"], [0.7777777777777778, \"#fb9f3a\"], [0.8888888888888888, \"#fdca26\"], [1.0, \"#f0f921\"]]}, \"colorway\": [\"#636efa\", \"#EF553B\", \"#00cc96\", \"#ab63fa\", \"#FFA15A\", \"#19d3f3\", \"#FF6692\", \"#B6E880\", \"#FF97FF\", \"#FECB52\"], \"font\": {\"color\": \"#2a3f5f\"}, \"geo\": {\"bgcolor\": \"white\", \"lakecolor\": \"white\", \"landcolor\": \"#E5ECF6\", \"showlakes\": true, \"showland\": true, \"subunitcolor\": \"white\"}, \"hoverlabel\": {\"align\": \"left\"}, \"hovermode\": \"closest\", \"mapbox\": {\"style\": \"light\"}, \"paper_bgcolor\": \"white\", \"plot_bgcolor\": \"#E5ECF6\", \"polar\": {\"angularaxis\": {\"gridcolor\": \"white\", \"linecolor\": \"white\", \"ticks\": \"\"}, \"bgcolor\": \"#E5ECF6\", \"radialaxis\": {\"gridcolor\": \"white\", \"linecolor\": \"white\", \"ticks\": \"\"}}, \"scene\": {\"xaxis\": {\"backgroundcolor\": \"#E5ECF6\", \"gridcolor\": \"white\", \"gridwidth\": 2, \"linecolor\": \"white\", \"showbackground\": true, \"ticks\": \"\", \"zerolinecolor\": \"white\"}, \"yaxis\": {\"backgroundcolor\": \"#E5ECF6\", \"gridcolor\": \"white\", \"gridwidth\": 2, \"linecolor\": \"white\", \"showbackground\": true, \"ticks\": \"\", \"zerolinecolor\": \"white\"}, \"zaxis\": {\"backgroundcolor\": \"#E5ECF6\", \"gridcolor\": \"white\", \"gridwidth\": 2, \"linecolor\": \"white\", \"showbackground\": true, \"ticks\": \"\", \"zerolinecolor\": \"white\"}}, \"shapedefaults\": {\"line\": {\"color\": \"#2a3f5f\"}}, \"ternary\": {\"aaxis\": {\"gridcolor\": \"white\", \"linecolor\": \"white\", \"ticks\": \"\"}, \"baxis\": {\"gridcolor\": \"white\", \"linecolor\": \"white\", \"ticks\": \"\"}, \"bgcolor\": \"#E5ECF6\", \"caxis\": {\"gridcolor\": \"white\", \"linecolor\": \"white\", \"ticks\": \"\"}}, \"title\": {\"x\": 0.05}, \"xaxis\": {\"automargin\": true, \"gridcolor\": \"white\", \"linecolor\": \"white\", \"ticks\": \"\", \"zerolinecolor\": \"white\", \"zerolinewidth\": 2}, \"yaxis\": {\"automargin\": true, \"gridcolor\": \"white\", \"linecolor\": \"white\", \"ticks\": \"\", \"zerolinecolor\": \"white\", \"zerolinewidth\": 2}}}, \"title\": {\"text\": \"Logistic Regression Iris, 1 feature\"}, \"xaxis\": {\"title\": {\"text\": \"petal_width\"}}, \"yaxis\": {\"title\": {\"text\": \"species_id\"}}},\n",
       "                        {\"responsive\": true}\n",
       "                    ).then(function(){\n",
       "                            \n",
       "var gd = document.getElementById('957ce6b4-0ddb-4d5a-b081-1ca4f585a178');\n",
       "var x = new MutationObserver(function (mutations, observer) {{\n",
       "        var display = window.getComputedStyle(gd).display;\n",
       "        if (!display || display === 'none') {{\n",
       "            console.log([gd, 'removed!']);\n",
       "            Plotly.purge(gd);\n",
       "            observer.disconnect();\n",
       "        }}\n",
       "}});\n",
       "\n",
       "// Listen for the removal of the full notebook cells\n",
       "var notebookContainer = gd.closest('#notebook-container');\n",
       "if (notebookContainer) {{\n",
       "    x.observe(notebookContainer, {childList: true});\n",
       "}}\n",
       "\n",
       "// Listen for the clearing of the current output cell\n",
       "var outputEl = gd.closest('.output');\n",
       "if (outputEl) {{\n",
       "    x.observe(outputEl, {childList: true});\n",
       "}}\n",
       "\n",
       "                        })\n",
       "                };\n",
       "                });\n",
       "            </script>\n",
       "        </div>"
      ]
     },
     "metadata": {},
     "output_type": "display_data"
    }
   ],
   "source": [
    "# Logistic\n",
    "log = linear_model.LogisticRegression(solver=\"lbfgs\")\n",
    "\n",
    "log.fit(X_train, y_train)\n",
    "train_preds = log.predict(X_train)\n",
    "test_pres = log.predict(X_test)\n",
    "\n",
    "\n",
    "loss = expit(X_linspace * log.coef_ + log.intercept_).ravel()\n",
    "\n",
    "trace0 = go.Scatter(\n",
    "    x=X_train.reshape([-1]),\n",
    "    y=y_train,\n",
    "    name='Training Data',\n",
    "    mode='markers',\n",
    "    opacity=0.3,\n",
    ")\n",
    "trace1 = go.Scatter(\n",
    "    x=X_test.reshape([-1]),\n",
    "    y=y_test,\n",
    "    name='Test Data',\n",
    "    mode='markers',\n",
    "    opacity=0.3,    \n",
    ")\n",
    "trace2 = go.Scatter(\n",
    "    x=X_linspace,\n",
    "    y=loss,\n",
    "    name='Logistic Regression',\n",
    "    mode='lines',\n",
    ")\n",
    "\n",
    "data = [trace0, trace1, trace2]\n",
    "fig = go.Figure(data=data)\n",
    "fig.update_layout(\n",
    "    title=\"Logistic Regression Iris, 1 feature\",\n",
    "    xaxis_title=\"petal_width\",\n",
    "    yaxis_title=\"species_id\"\n",
    ")\n",
    "fig.show()"
   ]
  },
  {
   "cell_type": "markdown",
   "metadata": {
    "slideshow": {
     "slide_type": "-"
    }
   },
   "source": [
    "- we observe that the logistic function and the cross entropy loss are a better fit for our problem."
   ]
  },
  {
   "cell_type": "markdown",
   "metadata": {
    "slideshow": {
     "slide_type": "subslide"
    }
   },
   "source": [
    "# Take aways - The initial family of functions and No Free Lunch\n",
    "\n",
    "* The initial family of functions we choose is very important (this is also called *inductive bias*)\n",
    "\n",
    "<br>\n",
    "\n",
    "* a result from optimization tells us that the computational cost for finding a solution averaged over all problems in one class is the same for any solution\n",
    "\n",
    "<br>\n",
    "\n",
    "* this means we can not have a function that can solve all possible tasks - \n",
    "choosing a good initial family of functions is important\n",
    "\n",
    "\n",
    "<br>\n",
    "\n",
    "* The choice for the error function is also important, although the commonly used loss functions are cross-entropy in classification and mean squared error in regression"
   ]
  },
  {
   "cell_type": "markdown",
   "metadata": {
    "slideshow": {
     "slide_type": "subslide"
    }
   },
   "source": [
    "# We can already classify machine learning based on the data used during training and the expected outcome in\n",
    "\n",
    "\n",
    "## Supervised learning - the outcome is known before and used during training\n",
    "* classification - the outcome is categorical, e.g. $$ y \\in {-1, +1} $$\n",
    "* regression - the outcome is numerical, e.g. $$ y \\in  \\mathbb{R} $$ \n",
    "\n",
    "\n",
    "## Unsupervised learning - the outcome is not known or used in training - the algorithms learn to discover patterns without pre-defined labels\n",
    "* Examples: Clustering, Dimensionality reduction\n",
    "\n",
    "\n",
    "## Reinforcement learning - in reinforcement learning an agent interacts with the environment and receives a reward after each interaction. The  goal is to discover the actions that maximize the reward (e.g. winning a  game)."
   ]
  },
  {
   "cell_type": "markdown",
   "metadata": {
    "slideshow": {
     "slide_type": "subslide"
    }
   },
   "source": [
    "# An overview of ML branches\n",
    "\n",
    "\n",
    "<br> <br> \n",
    "\n",
    "<img src=\"./figures/part1/ml.png\" alt=\"drawing\" class=\"centered\" width=\"1000\"/>\n",
    "\n",
    "<br>\n",
    "\n",
    "Although today we will focus on supervised classification, most of the security issues we mention apply to other algorithms too.\n"
   ]
  },
  {
   "cell_type": "markdown",
   "metadata": {
    "slideshow": {
     "slide_type": "subslide"
    }
   },
   "source": [
    "# Moving on\n",
    "\n",
    "\n",
    "* we can use more data; for example, adding petal length to the training set"
   ]
  },
  {
   "cell_type": "code",
   "execution_count": 8,
   "metadata": {
    "slideshow": {
     "slide_type": "fragment"
    }
   },
   "outputs": [
    {
     "data": {
      "application/vnd.plotly.v1+json": {
       "config": {
        "plotlyServerURL": "https://plot.ly"
       },
       "data": [
        {
         "mode": "markers",
         "name": "Training Data",
         "opacity": 0.3,
         "type": "scatter3d",
         "x": [
          1.4,
          3.3,
          1.7,
          4.5,
          4.4,
          1.2,
          1.3,
          1.4,
          1.5,
          1.5,
          4.2,
          1.5,
          1.5,
          3.7,
          1.6,
          4,
          1.1,
          1.9,
          1.5,
          1.4,
          1.3,
          1.4,
          4.5,
          1.4,
          3.6,
          1.3,
          4,
          4.7,
          4.1,
          4.6,
          1.6,
          4.7,
          4.1,
          1.6,
          4.5,
          4.2,
          4.3,
          3.5,
          1.3,
          4.6,
          1.5,
          3,
          3.3,
          4.4,
          1.5,
          4.2,
          3.9,
          4.7,
          4.5,
          1.4,
          1.6,
          1.4,
          4.9,
          1.5,
          1.3,
          1.7,
          4.4,
          4.6,
          4.3,
          4.7,
          3.9,
          1.7,
          3.5,
          4,
          1.2,
          4,
          4.5
         ],
         "y": [
          0,
          1,
          0,
          1,
          1,
          0,
          0,
          0,
          0,
          0,
          1,
          0,
          0,
          1,
          0,
          1,
          0,
          0,
          0,
          0,
          0,
          0,
          1,
          0,
          1,
          0,
          1,
          1,
          1,
          1,
          0,
          1,
          1,
          0,
          1,
          1,
          1,
          1,
          0,
          1,
          0,
          1,
          1,
          1,
          0,
          1,
          1,
          1,
          1,
          0,
          0,
          0,
          1,
          0,
          0,
          0,
          1,
          1,
          1,
          1,
          1,
          0,
          1,
          1,
          0,
          1,
          1
         ],
         "z": [
          0.2,
          1,
          0.4,
          1.5,
          1.4,
          0.2,
          0.4,
          0.2,
          0.2,
          0.2,
          1.2,
          0.2,
          0.3,
          1,
          0.2,
          1,
          0.1,
          0.2,
          0.2,
          0.3,
          0.2,
          0.2,
          1.5,
          0.3,
          1.3,
          0.2,
          1.3,
          1.6,
          1.3,
          1.5,
          0.6,
          1.4,
          1,
          0.2,
          1.5,
          1.5,
          1.3,
          1,
          0.3,
          1.3,
          0.2,
          1.1,
          1,
          1.4,
          0.1,
          1.3,
          1.4,
          1.4,
          1.5,
          0.1,
          0.2,
          0.2,
          1.5,
          0.4,
          0.2,
          0.5,
          1.3,
          1.4,
          1.3,
          1.5,
          1.2,
          0.2,
          1,
          1.3,
          0.2,
          1.2,
          1.5
         ]
        },
        {
         "mode": "markers",
         "name": "Test Data",
         "opacity": 0.3,
         "type": "scatter3d",
         "x": [
          5.1,
          4,
          4.8,
          1.4,
          1.9,
          1.5,
          1,
          3.8,
          1.5,
          1.4,
          1.7,
          1.6,
          4.7,
          1.4,
          4.4,
          1.4,
          4.8,
          5,
          1.4,
          1.5,
          4.5,
          4.1,
          1.6,
          1.3,
          3.9,
          1.5,
          1.3,
          4.2,
          1.5,
          4.9,
          1.6,
          1.4,
          4.5
         ],
         "y": [
          1,
          1,
          1,
          0,
          0,
          0,
          0,
          1,
          0,
          0,
          0,
          0,
          1,
          0,
          1,
          0,
          1,
          1,
          0,
          0,
          1,
          1,
          0,
          0,
          1,
          0,
          0,
          1,
          0,
          1,
          0,
          0,
          1
         ],
         "z": [
          1.6,
          1.3,
          1.8,
          0.3,
          0.4,
          0.2,
          0.2,
          1.1,
          0.2,
          0.2,
          0.3,
          0.2,
          1.2,
          0.2,
          1.2,
          0.2,
          1.4,
          1.7,
          0.1,
          0.4,
          1.3,
          1.3,
          0.4,
          0.2,
          1.1,
          0.4,
          0.3,
          1.3,
          0.1,
          1.5,
          0.2,
          0.2,
          1.6
         ]
        }
       ],
       "layout": {
        "scene": {
         "xaxis": {
          "title": {
           "text": "petal_width"
          }
         },
         "yaxis": {
          "title": {
           "text": "species_id"
          }
         },
         "zaxis": {
          "title": {
           "text": "petal_length"
          }
         }
        },
        "template": {
         "data": {
          "bar": [
           {
            "error_x": {
             "color": "#2a3f5f"
            },
            "error_y": {
             "color": "#2a3f5f"
            },
            "marker": {
             "line": {
              "color": "#E5ECF6",
              "width": 0.5
             }
            },
            "type": "bar"
           }
          ],
          "barpolar": [
           {
            "marker": {
             "line": {
              "color": "#E5ECF6",
              "width": 0.5
             }
            },
            "type": "barpolar"
           }
          ],
          "carpet": [
           {
            "aaxis": {
             "endlinecolor": "#2a3f5f",
             "gridcolor": "white",
             "linecolor": "white",
             "minorgridcolor": "white",
             "startlinecolor": "#2a3f5f"
            },
            "baxis": {
             "endlinecolor": "#2a3f5f",
             "gridcolor": "white",
             "linecolor": "white",
             "minorgridcolor": "white",
             "startlinecolor": "#2a3f5f"
            },
            "type": "carpet"
           }
          ],
          "choropleth": [
           {
            "colorbar": {
             "outlinewidth": 0,
             "ticks": ""
            },
            "type": "choropleth"
           }
          ],
          "contour": [
           {
            "colorbar": {
             "outlinewidth": 0,
             "ticks": ""
            },
            "colorscale": [
             [
              0,
              "#0d0887"
             ],
             [
              0.1111111111111111,
              "#46039f"
             ],
             [
              0.2222222222222222,
              "#7201a8"
             ],
             [
              0.3333333333333333,
              "#9c179e"
             ],
             [
              0.4444444444444444,
              "#bd3786"
             ],
             [
              0.5555555555555556,
              "#d8576b"
             ],
             [
              0.6666666666666666,
              "#ed7953"
             ],
             [
              0.7777777777777778,
              "#fb9f3a"
             ],
             [
              0.8888888888888888,
              "#fdca26"
             ],
             [
              1,
              "#f0f921"
             ]
            ],
            "type": "contour"
           }
          ],
          "contourcarpet": [
           {
            "colorbar": {
             "outlinewidth": 0,
             "ticks": ""
            },
            "type": "contourcarpet"
           }
          ],
          "heatmap": [
           {
            "colorbar": {
             "outlinewidth": 0,
             "ticks": ""
            },
            "colorscale": [
             [
              0,
              "#0d0887"
             ],
             [
              0.1111111111111111,
              "#46039f"
             ],
             [
              0.2222222222222222,
              "#7201a8"
             ],
             [
              0.3333333333333333,
              "#9c179e"
             ],
             [
              0.4444444444444444,
              "#bd3786"
             ],
             [
              0.5555555555555556,
              "#d8576b"
             ],
             [
              0.6666666666666666,
              "#ed7953"
             ],
             [
              0.7777777777777778,
              "#fb9f3a"
             ],
             [
              0.8888888888888888,
              "#fdca26"
             ],
             [
              1,
              "#f0f921"
             ]
            ],
            "type": "heatmap"
           }
          ],
          "heatmapgl": [
           {
            "colorbar": {
             "outlinewidth": 0,
             "ticks": ""
            },
            "colorscale": [
             [
              0,
              "#0d0887"
             ],
             [
              0.1111111111111111,
              "#46039f"
             ],
             [
              0.2222222222222222,
              "#7201a8"
             ],
             [
              0.3333333333333333,
              "#9c179e"
             ],
             [
              0.4444444444444444,
              "#bd3786"
             ],
             [
              0.5555555555555556,
              "#d8576b"
             ],
             [
              0.6666666666666666,
              "#ed7953"
             ],
             [
              0.7777777777777778,
              "#fb9f3a"
             ],
             [
              0.8888888888888888,
              "#fdca26"
             ],
             [
              1,
              "#f0f921"
             ]
            ],
            "type": "heatmapgl"
           }
          ],
          "histogram": [
           {
            "marker": {
             "colorbar": {
              "outlinewidth": 0,
              "ticks": ""
             }
            },
            "type": "histogram"
           }
          ],
          "histogram2d": [
           {
            "colorbar": {
             "outlinewidth": 0,
             "ticks": ""
            },
            "colorscale": [
             [
              0,
              "#0d0887"
             ],
             [
              0.1111111111111111,
              "#46039f"
             ],
             [
              0.2222222222222222,
              "#7201a8"
             ],
             [
              0.3333333333333333,
              "#9c179e"
             ],
             [
              0.4444444444444444,
              "#bd3786"
             ],
             [
              0.5555555555555556,
              "#d8576b"
             ],
             [
              0.6666666666666666,
              "#ed7953"
             ],
             [
              0.7777777777777778,
              "#fb9f3a"
             ],
             [
              0.8888888888888888,
              "#fdca26"
             ],
             [
              1,
              "#f0f921"
             ]
            ],
            "type": "histogram2d"
           }
          ],
          "histogram2dcontour": [
           {
            "colorbar": {
             "outlinewidth": 0,
             "ticks": ""
            },
            "colorscale": [
             [
              0,
              "#0d0887"
             ],
             [
              0.1111111111111111,
              "#46039f"
             ],
             [
              0.2222222222222222,
              "#7201a8"
             ],
             [
              0.3333333333333333,
              "#9c179e"
             ],
             [
              0.4444444444444444,
              "#bd3786"
             ],
             [
              0.5555555555555556,
              "#d8576b"
             ],
             [
              0.6666666666666666,
              "#ed7953"
             ],
             [
              0.7777777777777778,
              "#fb9f3a"
             ],
             [
              0.8888888888888888,
              "#fdca26"
             ],
             [
              1,
              "#f0f921"
             ]
            ],
            "type": "histogram2dcontour"
           }
          ],
          "mesh3d": [
           {
            "colorbar": {
             "outlinewidth": 0,
             "ticks": ""
            },
            "type": "mesh3d"
           }
          ],
          "parcoords": [
           {
            "line": {
             "colorbar": {
              "outlinewidth": 0,
              "ticks": ""
             }
            },
            "type": "parcoords"
           }
          ],
          "scatter": [
           {
            "marker": {
             "colorbar": {
              "outlinewidth": 0,
              "ticks": ""
             }
            },
            "type": "scatter"
           }
          ],
          "scatter3d": [
           {
            "line": {
             "colorbar": {
              "outlinewidth": 0,
              "ticks": ""
             }
            },
            "marker": {
             "colorbar": {
              "outlinewidth": 0,
              "ticks": ""
             }
            },
            "type": "scatter3d"
           }
          ],
          "scattercarpet": [
           {
            "marker": {
             "colorbar": {
              "outlinewidth": 0,
              "ticks": ""
             }
            },
            "type": "scattercarpet"
           }
          ],
          "scattergeo": [
           {
            "marker": {
             "colorbar": {
              "outlinewidth": 0,
              "ticks": ""
             }
            },
            "type": "scattergeo"
           }
          ],
          "scattergl": [
           {
            "marker": {
             "colorbar": {
              "outlinewidth": 0,
              "ticks": ""
             }
            },
            "type": "scattergl"
           }
          ],
          "scattermapbox": [
           {
            "marker": {
             "colorbar": {
              "outlinewidth": 0,
              "ticks": ""
             }
            },
            "type": "scattermapbox"
           }
          ],
          "scatterpolar": [
           {
            "marker": {
             "colorbar": {
              "outlinewidth": 0,
              "ticks": ""
             }
            },
            "type": "scatterpolar"
           }
          ],
          "scatterpolargl": [
           {
            "marker": {
             "colorbar": {
              "outlinewidth": 0,
              "ticks": ""
             }
            },
            "type": "scatterpolargl"
           }
          ],
          "scatterternary": [
           {
            "marker": {
             "colorbar": {
              "outlinewidth": 0,
              "ticks": ""
             }
            },
            "type": "scatterternary"
           }
          ],
          "surface": [
           {
            "colorbar": {
             "outlinewidth": 0,
             "ticks": ""
            },
            "colorscale": [
             [
              0,
              "#0d0887"
             ],
             [
              0.1111111111111111,
              "#46039f"
             ],
             [
              0.2222222222222222,
              "#7201a8"
             ],
             [
              0.3333333333333333,
              "#9c179e"
             ],
             [
              0.4444444444444444,
              "#bd3786"
             ],
             [
              0.5555555555555556,
              "#d8576b"
             ],
             [
              0.6666666666666666,
              "#ed7953"
             ],
             [
              0.7777777777777778,
              "#fb9f3a"
             ],
             [
              0.8888888888888888,
              "#fdca26"
             ],
             [
              1,
              "#f0f921"
             ]
            ],
            "type": "surface"
           }
          ],
          "table": [
           {
            "cells": {
             "fill": {
              "color": "#EBF0F8"
             },
             "line": {
              "color": "white"
             }
            },
            "header": {
             "fill": {
              "color": "#C8D4E3"
             },
             "line": {
              "color": "white"
             }
            },
            "type": "table"
           }
          ]
         },
         "layout": {
          "annotationdefaults": {
           "arrowcolor": "#2a3f5f",
           "arrowhead": 0,
           "arrowwidth": 1
          },
          "colorscale": {
           "diverging": [
            [
             0,
             "#8e0152"
            ],
            [
             0.1,
             "#c51b7d"
            ],
            [
             0.2,
             "#de77ae"
            ],
            [
             0.3,
             "#f1b6da"
            ],
            [
             0.4,
             "#fde0ef"
            ],
            [
             0.5,
             "#f7f7f7"
            ],
            [
             0.6,
             "#e6f5d0"
            ],
            [
             0.7,
             "#b8e186"
            ],
            [
             0.8,
             "#7fbc41"
            ],
            [
             0.9,
             "#4d9221"
            ],
            [
             1,
             "#276419"
            ]
           ],
           "sequential": [
            [
             0,
             "#0d0887"
            ],
            [
             0.1111111111111111,
             "#46039f"
            ],
            [
             0.2222222222222222,
             "#7201a8"
            ],
            [
             0.3333333333333333,
             "#9c179e"
            ],
            [
             0.4444444444444444,
             "#bd3786"
            ],
            [
             0.5555555555555556,
             "#d8576b"
            ],
            [
             0.6666666666666666,
             "#ed7953"
            ],
            [
             0.7777777777777778,
             "#fb9f3a"
            ],
            [
             0.8888888888888888,
             "#fdca26"
            ],
            [
             1,
             "#f0f921"
            ]
           ],
           "sequentialminus": [
            [
             0,
             "#0d0887"
            ],
            [
             0.1111111111111111,
             "#46039f"
            ],
            [
             0.2222222222222222,
             "#7201a8"
            ],
            [
             0.3333333333333333,
             "#9c179e"
            ],
            [
             0.4444444444444444,
             "#bd3786"
            ],
            [
             0.5555555555555556,
             "#d8576b"
            ],
            [
             0.6666666666666666,
             "#ed7953"
            ],
            [
             0.7777777777777778,
             "#fb9f3a"
            ],
            [
             0.8888888888888888,
             "#fdca26"
            ],
            [
             1,
             "#f0f921"
            ]
           ]
          },
          "colorway": [
           "#636efa",
           "#EF553B",
           "#00cc96",
           "#ab63fa",
           "#FFA15A",
           "#19d3f3",
           "#FF6692",
           "#B6E880",
           "#FF97FF",
           "#FECB52"
          ],
          "font": {
           "color": "#2a3f5f"
          },
          "geo": {
           "bgcolor": "white",
           "lakecolor": "white",
           "landcolor": "#E5ECF6",
           "showlakes": true,
           "showland": true,
           "subunitcolor": "white"
          },
          "hoverlabel": {
           "align": "left"
          },
          "hovermode": "closest",
          "mapbox": {
           "style": "light"
          },
          "paper_bgcolor": "white",
          "plot_bgcolor": "#E5ECF6",
          "polar": {
           "angularaxis": {
            "gridcolor": "white",
            "linecolor": "white",
            "ticks": ""
           },
           "bgcolor": "#E5ECF6",
           "radialaxis": {
            "gridcolor": "white",
            "linecolor": "white",
            "ticks": ""
           }
          },
          "scene": {
           "xaxis": {
            "backgroundcolor": "#E5ECF6",
            "gridcolor": "white",
            "gridwidth": 2,
            "linecolor": "white",
            "showbackground": true,
            "ticks": "",
            "zerolinecolor": "white"
           },
           "yaxis": {
            "backgroundcolor": "#E5ECF6",
            "gridcolor": "white",
            "gridwidth": 2,
            "linecolor": "white",
            "showbackground": true,
            "ticks": "",
            "zerolinecolor": "white"
           },
           "zaxis": {
            "backgroundcolor": "#E5ECF6",
            "gridcolor": "white",
            "gridwidth": 2,
            "linecolor": "white",
            "showbackground": true,
            "ticks": "",
            "zerolinecolor": "white"
           }
          },
          "shapedefaults": {
           "line": {
            "color": "#2a3f5f"
           }
          },
          "ternary": {
           "aaxis": {
            "gridcolor": "white",
            "linecolor": "white",
            "ticks": ""
           },
           "baxis": {
            "gridcolor": "white",
            "linecolor": "white",
            "ticks": ""
           },
           "bgcolor": "#E5ECF6",
           "caxis": {
            "gridcolor": "white",
            "linecolor": "white",
            "ticks": ""
           }
          },
          "title": {
           "x": 0.05
          },
          "xaxis": {
           "automargin": true,
           "gridcolor": "white",
           "linecolor": "white",
           "ticks": "",
           "zerolinecolor": "white",
           "zerolinewidth": 2
          },
          "yaxis": {
           "automargin": true,
           "gridcolor": "white",
           "linecolor": "white",
           "ticks": "",
           "zerolinecolor": "white",
           "zerolinewidth": 2
          }
         }
        },
        "title": {
         "text": "Iris dataset, petal width and length"
        }
       }
      },
      "text/html": [
       "<div>\n",
       "        \n",
       "        \n",
       "            <div id=\"073c42c9-f8a7-4b6d-aeb4-8601f32d0008\" class=\"plotly-graph-div\" style=\"height:525px; width:100%;\"></div>\n",
       "            <script type=\"text/javascript\">\n",
       "                require([\"plotly\"], function(Plotly) {\n",
       "                    window.PLOTLYENV=window.PLOTLYENV || {};\n",
       "                    \n",
       "                if (document.getElementById(\"073c42c9-f8a7-4b6d-aeb4-8601f32d0008\")) {\n",
       "                    Plotly.newPlot(\n",
       "                        '073c42c9-f8a7-4b6d-aeb4-8601f32d0008',\n",
       "                        [{\"mode\": \"markers\", \"name\": \"Training Data\", \"opacity\": 0.3, \"type\": \"scatter3d\", \"x\": [1.4, 3.3, 1.7, 4.5, 4.4, 1.2, 1.3, 1.4, 1.5, 1.5, 4.2, 1.5, 1.5, 3.7, 1.6, 4.0, 1.1, 1.9, 1.5, 1.4, 1.3, 1.4, 4.5, 1.4, 3.6, 1.3, 4.0, 4.7, 4.1, 4.6, 1.6, 4.7, 4.1, 1.6, 4.5, 4.2, 4.3, 3.5, 1.3, 4.6, 1.5, 3.0, 3.3, 4.4, 1.5, 4.2, 3.9, 4.7, 4.5, 1.4, 1.6, 1.4, 4.9, 1.5, 1.3, 1.7, 4.4, 4.6, 4.3, 4.7, 3.9, 1.7, 3.5, 4.0, 1.2, 4.0, 4.5], \"y\": [0, 1, 0, 1, 1, 0, 0, 0, 0, 0, 1, 0, 0, 1, 0, 1, 0, 0, 0, 0, 0, 0, 1, 0, 1, 0, 1, 1, 1, 1, 0, 1, 1, 0, 1, 1, 1, 1, 0, 1, 0, 1, 1, 1, 0, 1, 1, 1, 1, 0, 0, 0, 1, 0, 0, 0, 1, 1, 1, 1, 1, 0, 1, 1, 0, 1, 1], \"z\": [0.2, 1.0, 0.4, 1.5, 1.4, 0.2, 0.4, 0.2, 0.2, 0.2, 1.2, 0.2, 0.3, 1.0, 0.2, 1.0, 0.1, 0.2, 0.2, 0.3, 0.2, 0.2, 1.5, 0.3, 1.3, 0.2, 1.3, 1.6, 1.3, 1.5, 0.6, 1.4, 1.0, 0.2, 1.5, 1.5, 1.3, 1.0, 0.3, 1.3, 0.2, 1.1, 1.0, 1.4, 0.1, 1.3, 1.4, 1.4, 1.5, 0.1, 0.2, 0.2, 1.5, 0.4, 0.2, 0.5, 1.3, 1.4, 1.3, 1.5, 1.2, 0.2, 1.0, 1.3, 0.2, 1.2, 1.5]}, {\"mode\": \"markers\", \"name\": \"Test Data\", \"opacity\": 0.3, \"type\": \"scatter3d\", \"x\": [5.1, 4.0, 4.8, 1.4, 1.9, 1.5, 1.0, 3.8, 1.5, 1.4, 1.7, 1.6, 4.7, 1.4, 4.4, 1.4, 4.8, 5.0, 1.4, 1.5, 4.5, 4.1, 1.6, 1.3, 3.9, 1.5, 1.3, 4.2, 1.5, 4.9, 1.6, 1.4, 4.5], \"y\": [1, 1, 1, 0, 0, 0, 0, 1, 0, 0, 0, 0, 1, 0, 1, 0, 1, 1, 0, 0, 1, 1, 0, 0, 1, 0, 0, 1, 0, 1, 0, 0, 1], \"z\": [1.6, 1.3, 1.8, 0.3, 0.4, 0.2, 0.2, 1.1, 0.2, 0.2, 0.3, 0.2, 1.2, 0.2, 1.2, 0.2, 1.4, 1.7, 0.1, 0.4, 1.3, 1.3, 0.4, 0.2, 1.1, 0.4, 0.3, 1.3, 0.1, 1.5, 0.2, 0.2, 1.6]}],\n",
       "                        {\"scene\": {\"xaxis\": {\"title\": {\"text\": \"petal_width\"}}, \"yaxis\": {\"title\": {\"text\": \"species_id\"}}, \"zaxis\": {\"title\": {\"text\": \"petal_length\"}}}, \"template\": {\"data\": {\"bar\": [{\"error_x\": {\"color\": \"#2a3f5f\"}, \"error_y\": {\"color\": \"#2a3f5f\"}, \"marker\": {\"line\": {\"color\": \"#E5ECF6\", \"width\": 0.5}}, \"type\": \"bar\"}], \"barpolar\": [{\"marker\": {\"line\": {\"color\": \"#E5ECF6\", \"width\": 0.5}}, \"type\": \"barpolar\"}], \"carpet\": [{\"aaxis\": {\"endlinecolor\": \"#2a3f5f\", \"gridcolor\": \"white\", \"linecolor\": \"white\", \"minorgridcolor\": \"white\", \"startlinecolor\": \"#2a3f5f\"}, \"baxis\": {\"endlinecolor\": \"#2a3f5f\", \"gridcolor\": \"white\", \"linecolor\": \"white\", \"minorgridcolor\": \"white\", \"startlinecolor\": \"#2a3f5f\"}, \"type\": \"carpet\"}], \"choropleth\": [{\"colorbar\": {\"outlinewidth\": 0, \"ticks\": \"\"}, \"type\": \"choropleth\"}], \"contour\": [{\"colorbar\": {\"outlinewidth\": 0, \"ticks\": \"\"}, \"colorscale\": [[0.0, \"#0d0887\"], [0.1111111111111111, \"#46039f\"], [0.2222222222222222, \"#7201a8\"], [0.3333333333333333, \"#9c179e\"], [0.4444444444444444, \"#bd3786\"], [0.5555555555555556, \"#d8576b\"], [0.6666666666666666, \"#ed7953\"], [0.7777777777777778, \"#fb9f3a\"], [0.8888888888888888, \"#fdca26\"], [1.0, \"#f0f921\"]], \"type\": \"contour\"}], \"contourcarpet\": [{\"colorbar\": {\"outlinewidth\": 0, \"ticks\": \"\"}, \"type\": \"contourcarpet\"}], \"heatmap\": [{\"colorbar\": {\"outlinewidth\": 0, \"ticks\": \"\"}, \"colorscale\": [[0.0, \"#0d0887\"], [0.1111111111111111, \"#46039f\"], [0.2222222222222222, \"#7201a8\"], [0.3333333333333333, \"#9c179e\"], [0.4444444444444444, \"#bd3786\"], [0.5555555555555556, \"#d8576b\"], [0.6666666666666666, \"#ed7953\"], [0.7777777777777778, \"#fb9f3a\"], [0.8888888888888888, \"#fdca26\"], [1.0, \"#f0f921\"]], \"type\": \"heatmap\"}], \"heatmapgl\": [{\"colorbar\": {\"outlinewidth\": 0, \"ticks\": \"\"}, \"colorscale\": [[0.0, \"#0d0887\"], [0.1111111111111111, \"#46039f\"], [0.2222222222222222, \"#7201a8\"], [0.3333333333333333, \"#9c179e\"], [0.4444444444444444, \"#bd3786\"], [0.5555555555555556, \"#d8576b\"], [0.6666666666666666, \"#ed7953\"], [0.7777777777777778, \"#fb9f3a\"], [0.8888888888888888, \"#fdca26\"], [1.0, \"#f0f921\"]], \"type\": \"heatmapgl\"}], \"histogram\": [{\"marker\": {\"colorbar\": {\"outlinewidth\": 0, \"ticks\": \"\"}}, \"type\": \"histogram\"}], \"histogram2d\": [{\"colorbar\": {\"outlinewidth\": 0, \"ticks\": \"\"}, \"colorscale\": [[0.0, \"#0d0887\"], [0.1111111111111111, \"#46039f\"], [0.2222222222222222, \"#7201a8\"], [0.3333333333333333, \"#9c179e\"], [0.4444444444444444, \"#bd3786\"], [0.5555555555555556, \"#d8576b\"], [0.6666666666666666, \"#ed7953\"], [0.7777777777777778, \"#fb9f3a\"], [0.8888888888888888, \"#fdca26\"], [1.0, \"#f0f921\"]], \"type\": \"histogram2d\"}], \"histogram2dcontour\": [{\"colorbar\": {\"outlinewidth\": 0, \"ticks\": \"\"}, \"colorscale\": [[0.0, \"#0d0887\"], [0.1111111111111111, \"#46039f\"], [0.2222222222222222, \"#7201a8\"], [0.3333333333333333, \"#9c179e\"], [0.4444444444444444, \"#bd3786\"], [0.5555555555555556, \"#d8576b\"], [0.6666666666666666, \"#ed7953\"], [0.7777777777777778, \"#fb9f3a\"], [0.8888888888888888, \"#fdca26\"], [1.0, \"#f0f921\"]], \"type\": \"histogram2dcontour\"}], \"mesh3d\": [{\"colorbar\": {\"outlinewidth\": 0, \"ticks\": \"\"}, \"type\": \"mesh3d\"}], \"parcoords\": [{\"line\": {\"colorbar\": {\"outlinewidth\": 0, \"ticks\": \"\"}}, \"type\": \"parcoords\"}], \"scatter\": [{\"marker\": {\"colorbar\": {\"outlinewidth\": 0, \"ticks\": \"\"}}, \"type\": \"scatter\"}], \"scatter3d\": [{\"line\": {\"colorbar\": {\"outlinewidth\": 0, \"ticks\": \"\"}}, \"marker\": {\"colorbar\": {\"outlinewidth\": 0, \"ticks\": \"\"}}, \"type\": \"scatter3d\"}], \"scattercarpet\": [{\"marker\": {\"colorbar\": {\"outlinewidth\": 0, \"ticks\": \"\"}}, \"type\": \"scattercarpet\"}], \"scattergeo\": [{\"marker\": {\"colorbar\": {\"outlinewidth\": 0, \"ticks\": \"\"}}, \"type\": \"scattergeo\"}], \"scattergl\": [{\"marker\": {\"colorbar\": {\"outlinewidth\": 0, \"ticks\": \"\"}}, \"type\": \"scattergl\"}], \"scattermapbox\": [{\"marker\": {\"colorbar\": {\"outlinewidth\": 0, \"ticks\": \"\"}}, \"type\": \"scattermapbox\"}], \"scatterpolar\": [{\"marker\": {\"colorbar\": {\"outlinewidth\": 0, \"ticks\": \"\"}}, \"type\": \"scatterpolar\"}], \"scatterpolargl\": [{\"marker\": {\"colorbar\": {\"outlinewidth\": 0, \"ticks\": \"\"}}, \"type\": \"scatterpolargl\"}], \"scatterternary\": [{\"marker\": {\"colorbar\": {\"outlinewidth\": 0, \"ticks\": \"\"}}, \"type\": \"scatterternary\"}], \"surface\": [{\"colorbar\": {\"outlinewidth\": 0, \"ticks\": \"\"}, \"colorscale\": [[0.0, \"#0d0887\"], [0.1111111111111111, \"#46039f\"], [0.2222222222222222, \"#7201a8\"], [0.3333333333333333, \"#9c179e\"], [0.4444444444444444, \"#bd3786\"], [0.5555555555555556, \"#d8576b\"], [0.6666666666666666, \"#ed7953\"], [0.7777777777777778, \"#fb9f3a\"], [0.8888888888888888, \"#fdca26\"], [1.0, \"#f0f921\"]], \"type\": \"surface\"}], \"table\": [{\"cells\": {\"fill\": {\"color\": \"#EBF0F8\"}, \"line\": {\"color\": \"white\"}}, \"header\": {\"fill\": {\"color\": \"#C8D4E3\"}, \"line\": {\"color\": \"white\"}}, \"type\": \"table\"}]}, \"layout\": {\"annotationdefaults\": {\"arrowcolor\": \"#2a3f5f\", \"arrowhead\": 0, \"arrowwidth\": 1}, \"colorscale\": {\"diverging\": [[0, \"#8e0152\"], [0.1, \"#c51b7d\"], [0.2, \"#de77ae\"], [0.3, \"#f1b6da\"], [0.4, \"#fde0ef\"], [0.5, \"#f7f7f7\"], [0.6, \"#e6f5d0\"], [0.7, \"#b8e186\"], [0.8, \"#7fbc41\"], [0.9, \"#4d9221\"], [1, \"#276419\"]], \"sequential\": [[0.0, \"#0d0887\"], [0.1111111111111111, \"#46039f\"], [0.2222222222222222, \"#7201a8\"], [0.3333333333333333, \"#9c179e\"], [0.4444444444444444, \"#bd3786\"], [0.5555555555555556, \"#d8576b\"], [0.6666666666666666, \"#ed7953\"], [0.7777777777777778, \"#fb9f3a\"], [0.8888888888888888, \"#fdca26\"], [1.0, \"#f0f921\"]], \"sequentialminus\": [[0.0, \"#0d0887\"], [0.1111111111111111, \"#46039f\"], [0.2222222222222222, \"#7201a8\"], [0.3333333333333333, \"#9c179e\"], [0.4444444444444444, \"#bd3786\"], [0.5555555555555556, \"#d8576b\"], [0.6666666666666666, \"#ed7953\"], [0.7777777777777778, \"#fb9f3a\"], [0.8888888888888888, \"#fdca26\"], [1.0, \"#f0f921\"]]}, \"colorway\": [\"#636efa\", \"#EF553B\", \"#00cc96\", \"#ab63fa\", \"#FFA15A\", \"#19d3f3\", \"#FF6692\", \"#B6E880\", \"#FF97FF\", \"#FECB52\"], \"font\": {\"color\": \"#2a3f5f\"}, \"geo\": {\"bgcolor\": \"white\", \"lakecolor\": \"white\", \"landcolor\": \"#E5ECF6\", \"showlakes\": true, \"showland\": true, \"subunitcolor\": \"white\"}, \"hoverlabel\": {\"align\": \"left\"}, \"hovermode\": \"closest\", \"mapbox\": {\"style\": \"light\"}, \"paper_bgcolor\": \"white\", \"plot_bgcolor\": \"#E5ECF6\", \"polar\": {\"angularaxis\": {\"gridcolor\": \"white\", \"linecolor\": \"white\", \"ticks\": \"\"}, \"bgcolor\": \"#E5ECF6\", \"radialaxis\": {\"gridcolor\": \"white\", \"linecolor\": \"white\", \"ticks\": \"\"}}, \"scene\": {\"xaxis\": {\"backgroundcolor\": \"#E5ECF6\", \"gridcolor\": \"white\", \"gridwidth\": 2, \"linecolor\": \"white\", \"showbackground\": true, \"ticks\": \"\", \"zerolinecolor\": \"white\"}, \"yaxis\": {\"backgroundcolor\": \"#E5ECF6\", \"gridcolor\": \"white\", \"gridwidth\": 2, \"linecolor\": \"white\", \"showbackground\": true, \"ticks\": \"\", \"zerolinecolor\": \"white\"}, \"zaxis\": {\"backgroundcolor\": \"#E5ECF6\", \"gridcolor\": \"white\", \"gridwidth\": 2, \"linecolor\": \"white\", \"showbackground\": true, \"ticks\": \"\", \"zerolinecolor\": \"white\"}}, \"shapedefaults\": {\"line\": {\"color\": \"#2a3f5f\"}}, \"ternary\": {\"aaxis\": {\"gridcolor\": \"white\", \"linecolor\": \"white\", \"ticks\": \"\"}, \"baxis\": {\"gridcolor\": \"white\", \"linecolor\": \"white\", \"ticks\": \"\"}, \"bgcolor\": \"#E5ECF6\", \"caxis\": {\"gridcolor\": \"white\", \"linecolor\": \"white\", \"ticks\": \"\"}}, \"title\": {\"x\": 0.05}, \"xaxis\": {\"automargin\": true, \"gridcolor\": \"white\", \"linecolor\": \"white\", \"ticks\": \"\", \"zerolinecolor\": \"white\", \"zerolinewidth\": 2}, \"yaxis\": {\"automargin\": true, \"gridcolor\": \"white\", \"linecolor\": \"white\", \"ticks\": \"\", \"zerolinecolor\": \"white\", \"zerolinewidth\": 2}}}, \"title\": {\"text\": \"Iris dataset, petal width and length\"}},\n",
       "                        {\"responsive\": true}\n",
       "                    ).then(function(){\n",
       "                            \n",
       "var gd = document.getElementById('073c42c9-f8a7-4b6d-aeb4-8601f32d0008');\n",
       "var x = new MutationObserver(function (mutations, observer) {{\n",
       "        var display = window.getComputedStyle(gd).display;\n",
       "        if (!display || display === 'none') {{\n",
       "            console.log([gd, 'removed!']);\n",
       "            Plotly.purge(gd);\n",
       "            observer.disconnect();\n",
       "        }}\n",
       "}});\n",
       "\n",
       "// Listen for the removal of the full notebook cells\n",
       "var notebookContainer = gd.closest('#notebook-container');\n",
       "if (notebookContainer) {{\n",
       "    x.observe(notebookContainer, {childList: true});\n",
       "}}\n",
       "\n",
       "// Listen for the clearing of the current output cell\n",
       "var outputEl = gd.closest('.output');\n",
       "if (outputEl) {{\n",
       "    x.observe(outputEl, {childList: true});\n",
       "}}\n",
       "\n",
       "                        })\n",
       "                };\n",
       "                });\n",
       "            </script>\n",
       "        </div>"
      ]
     },
     "metadata": {},
     "output_type": "display_data"
    }
   ],
   "source": [
    "iris = datasets.load_iris()\n",
    "X = iris.data[:100, 2:]  # we only take the last feature.\n",
    "y = iris.target[:100]\n",
    "X_train, X_test, y_train, y_test = train_test_split(X, y, test_size=0.33, random_state=42)\n",
    "\n",
    "regr = linear_model.LinearRegression()\n",
    "regr.fit(X_train, y_train)\n",
    "train_preds = regr.predict(X_train)\n",
    "test_pres = regr.predict(X_test)\n",
    "\n",
    "X_linspace = np.linspace(1, 5, 300)\n",
    "\n",
    "trace0 = go.Scatter3d(\n",
    "    x=X_train[:, 0],\n",
    "    y=y_train,\n",
    "    z=X_train[:, 1],\n",
    "    name='Training Data',\n",
    "    mode='markers',\n",
    "    opacity=0.3,\n",
    ")\n",
    "trace1 = go.Scatter3d(\n",
    "    x=X_test[:, 0],\n",
    "    y=y_test,\n",
    "    z=X_test[:, 1],    \n",
    "    name='Test Data',\n",
    "    mode='markers',\n",
    "    opacity=0.3,    \n",
    ")\n",
    "\n",
    "data = [trace0, trace1]\n",
    "fig = go.Figure(data=data)\n",
    "\n",
    "fig.update_layout(\n",
    "                    title=\"Iris dataset, petal width and length\",\n",
    "                    scene = dict(\n",
    "                    xaxis_title='petal_width',\n",
    "                    yaxis_title='species_id',\n",
    "                    zaxis_title='petal_length'),\n",
    ")\n",
    "\n",
    "fig.show()"
   ]
  },
  {
   "cell_type": "markdown",
   "metadata": {
    "slideshow": {
     "slide_type": "subslide"
    }
   },
   "source": [
    "# And try the same procedures"
   ]
  },
  {
   "cell_type": "code",
   "execution_count": 13,
   "metadata": {
    "slideshow": {
     "slide_type": "-"
    }
   },
   "outputs": [
    {
     "data": {
      "application/vnd.plotly.v1+json": {
       "config": {
        "plotlyServerURL": "https://plot.ly"
       },
       "data": [
        {
         "mode": "markers",
         "name": "Training Data",
         "opacity": 0.3,
         "type": "scatter3d",
         "x": [
          1.4,
          3.3,
          1.7,
          4.5,
          4.4,
          1.2,
          1.3,
          1.4,
          1.5,
          1.5,
          4.2,
          1.5,
          1.5,
          3.7,
          1.6,
          4,
          1.1,
          1.9,
          1.5,
          1.4,
          1.3,
          1.4,
          4.5,
          1.4,
          3.6,
          1.3,
          4,
          4.7,
          4.1,
          4.6,
          1.6,
          4.7,
          4.1,
          1.6,
          4.5,
          4.2,
          4.3,
          3.5,
          1.3,
          4.6,
          1.5,
          3,
          3.3,
          4.4,
          1.5,
          4.2,
          3.9,
          4.7,
          4.5,
          1.4,
          1.6,
          1.4,
          4.9,
          1.5,
          1.3,
          1.7,
          4.4,
          4.6,
          4.3,
          4.7,
          3.9,
          1.7,
          3.5,
          4,
          1.2,
          4,
          4.5
         ],
         "y": [
          0,
          1,
          0,
          1,
          1,
          0,
          0,
          0,
          0,
          0,
          1,
          0,
          0,
          1,
          0,
          1,
          0,
          0,
          0,
          0,
          0,
          0,
          1,
          0,
          1,
          0,
          1,
          1,
          1,
          1,
          0,
          1,
          1,
          0,
          1,
          1,
          1,
          1,
          0,
          1,
          0,
          1,
          1,
          1,
          0,
          1,
          1,
          1,
          1,
          0,
          0,
          0,
          1,
          0,
          0,
          0,
          1,
          1,
          1,
          1,
          1,
          0,
          1,
          1,
          0,
          1,
          1
         ],
         "z": [
          0.2,
          1,
          0.4,
          1.5,
          1.4,
          0.2,
          0.4,
          0.2,
          0.2,
          0.2,
          1.2,
          0.2,
          0.3,
          1,
          0.2,
          1,
          0.1,
          0.2,
          0.2,
          0.3,
          0.2,
          0.2,
          1.5,
          0.3,
          1.3,
          0.2,
          1.3,
          1.6,
          1.3,
          1.5,
          0.6,
          1.4,
          1,
          0.2,
          1.5,
          1.5,
          1.3,
          1,
          0.3,
          1.3,
          0.2,
          1.1,
          1,
          1.4,
          0.1,
          1.3,
          1.4,
          1.4,
          1.5,
          0.1,
          0.2,
          0.2,
          1.5,
          0.4,
          0.2,
          0.5,
          1.3,
          1.4,
          1.3,
          1.5,
          1.2,
          0.2,
          1,
          1.3,
          0.2,
          1.2,
          1.5
         ]
        },
        {
         "mode": "markers",
         "name": "Test Data",
         "opacity": 0.3,
         "type": "scatter3d",
         "x": [
          5.1,
          4,
          4.8,
          1.4,
          1.9,
          1.5,
          1,
          3.8,
          1.5,
          1.4,
          1.7,
          1.6,
          4.7,
          1.4,
          4.4,
          1.4,
          4.8,
          5,
          1.4,
          1.5,
          4.5,
          4.1,
          1.6,
          1.3,
          3.9,
          1.5,
          1.3,
          4.2,
          1.5,
          4.9,
          1.6,
          1.4,
          4.5
         ],
         "y": [
          1,
          1,
          1,
          0,
          0,
          0,
          0,
          1,
          0,
          0,
          0,
          0,
          1,
          0,
          1,
          0,
          1,
          1,
          0,
          0,
          1,
          1,
          0,
          0,
          1,
          0,
          0,
          1,
          0,
          1,
          0,
          0,
          1
         ],
         "z": [
          1.6,
          1.3,
          1.8,
          0.3,
          0.4,
          0.2,
          0.2,
          1.1,
          0.2,
          0.2,
          0.3,
          0.2,
          1.2,
          0.2,
          1.2,
          0.2,
          1.4,
          1.7,
          0.1,
          0.4,
          1.3,
          1.3,
          0.4,
          0.2,
          1.1,
          0.4,
          0.3,
          1.3,
          0.1,
          1.5,
          0.2,
          0.2,
          1.6
         ]
        },
        {
         "mode": "lines",
         "name": "Linear Regression",
         "type": "scatter3d",
         "x": [
          1,
          1.0133779264214047,
          1.0267558528428093,
          1.040133779264214,
          1.0535117056856187,
          1.0668896321070234,
          1.080267558528428,
          1.0936454849498327,
          1.1070234113712374,
          1.120401337792642,
          1.1337792642140467,
          1.1471571906354514,
          1.160535117056856,
          1.1739130434782608,
          1.1872909698996654,
          1.2006688963210703,
          1.214046822742475,
          1.2274247491638797,
          1.2408026755852843,
          1.254180602006689,
          1.2675585284280937,
          1.2809364548494984,
          1.294314381270903,
          1.3076923076923077,
          1.3210702341137124,
          1.334448160535117,
          1.3478260869565217,
          1.3612040133779264,
          1.374581939799331,
          1.3879598662207357,
          1.4013377926421404,
          1.414715719063545,
          1.4280936454849498,
          1.4414715719063544,
          1.4548494983277591,
          1.4682274247491638,
          1.4816053511705687,
          1.4949832775919734,
          1.508361204013378,
          1.5217391304347827,
          1.5351170568561874,
          1.548494983277592,
          1.5618729096989967,
          1.5752508361204014,
          1.588628762541806,
          1.6020066889632107,
          1.6153846153846154,
          1.62876254180602,
          1.6421404682274248,
          1.6555183946488294,
          1.6688963210702341,
          1.6822742474916388,
          1.6956521739130435,
          1.7090301003344481,
          1.7224080267558528,
          1.7357859531772575,
          1.7491638795986622,
          1.7625418060200668,
          1.7759197324414715,
          1.7892976588628762,
          1.8026755852842808,
          1.8160535117056855,
          1.8294314381270902,
          1.8428093645484949,
          1.8561872909698995,
          1.8695652173913042,
          1.8829431438127089,
          1.8963210702341136,
          1.9096989966555182,
          1.923076923076923,
          1.9364548494983276,
          1.9498327759197325,
          1.9632107023411371,
          1.9765886287625418,
          1.9899665551839465,
          2.0033444816053514,
          2.016722408026756,
          2.0301003344481607,
          2.0434782608695654,
          2.05685618729097,
          2.0702341137123748,
          2.0836120401337794,
          2.096989966555184,
          2.1103678929765888,
          2.1237458193979935,
          2.137123745819398,
          2.150501672240803,
          2.1638795986622075,
          2.177257525083612,
          2.190635451505017,
          2.2040133779264215,
          2.217391304347826,
          2.230769230769231,
          2.2441471571906355,
          2.25752508361204,
          2.270903010033445,
          2.2842809364548495,
          2.297658862876254,
          2.311036789297659,
          2.3244147157190636,
          2.3377926421404682,
          2.351170568561873,
          2.3645484949832776,
          2.3779264214046822,
          2.391304347826087,
          2.4046822742474916,
          2.4180602006688963,
          2.431438127090301,
          2.4448160535117056,
          2.4581939799331103,
          2.471571906354515,
          2.4849498327759196,
          2.4983277591973243,
          2.511705685618729,
          2.5250836120401337,
          2.5384615384615383,
          2.551839464882943,
          2.5652173913043477,
          2.5785953177257523,
          2.591973244147157,
          2.6053511705685617,
          2.6187290969899664,
          2.632107023411371,
          2.6454849498327757,
          2.6588628762541804,
          2.672240802675585,
          2.6856187290969897,
          2.6989966555183944,
          2.712374581939799,
          2.7257525083612038,
          2.7391304347826084,
          2.752508361204013,
          2.7658862876254178,
          2.7792642140468224,
          2.792642140468227,
          2.806020066889632,
          2.8193979933110365,
          2.832775919732441,
          2.846153846153846,
          2.8595317725752505,
          2.872909698996655,
          2.8862876254180603,
          2.899665551839465,
          2.9130434782608696,
          2.9264214046822743,
          2.939799331103679,
          2.9531772575250836,
          2.9665551839464883,
          2.979933110367893,
          2.9933110367892977,
          3.0066889632107023,
          3.020066889632107,
          3.0334448160535117,
          3.0468227424749164,
          3.060200668896321,
          3.0735785953177257,
          3.0869565217391304,
          3.100334448160535,
          3.1137123745819397,
          3.1270903010033444,
          3.140468227424749,
          3.1538461538461537,
          3.1672240802675584,
          3.180602006688963,
          3.1939799331103678,
          3.2073578595317724,
          3.220735785953177,
          3.234113712374582,
          3.2474916387959865,
          3.260869565217391,
          3.274247491638796,
          3.2876254180602005,
          3.301003344481605,
          3.31438127090301,
          3.3277591973244145,
          3.341137123745819,
          3.354515050167224,
          3.3678929765886285,
          3.381270903010033,
          3.394648829431438,
          3.408026755852843,
          3.4214046822742477,
          3.4347826086956523,
          3.448160535117057,
          3.4615384615384617,
          3.4749163879598663,
          3.488294314381271,
          3.5016722408026757,
          3.5150501672240804,
          3.528428093645485,
          3.5418060200668897,
          3.5551839464882944,
          3.568561872909699,
          3.5819397993311037,
          3.5953177257525084,
          3.608695652173913,
          3.6220735785953178,
          3.6354515050167224,
          3.648829431438127,
          3.6622073578595318,
          3.6755852842809364,
          3.688963210702341,
          3.702341137123746,
          3.7157190635451505,
          3.729096989966555,
          3.74247491638796,
          3.7558528428093645,
          3.769230769230769,
          3.782608695652174,
          3.7959866220735785,
          3.809364548494983,
          3.822742474916388,
          3.8361204013377925,
          3.849498327759197,
          3.862876254180602,
          3.8762541806020065,
          3.8896321070234112,
          3.903010033444816,
          3.9163879598662206,
          3.9297658862876252,
          3.94314381270903,
          3.9565217391304346,
          3.9698996655518393,
          3.983277591973244,
          3.9966555183946486,
          4.010033444816053,
          4.023411371237458,
          4.036789297658863,
          4.050167224080267,
          4.063545150501672,
          4.076923076923077,
          4.090301003344482,
          4.103678929765886,
          4.117056856187292,
          4.130434782608695,
          4.143812709030101,
          4.157190635451505,
          4.17056856187291,
          4.183946488294314,
          4.19732441471572,
          4.210702341137123,
          4.224080267558529,
          4.237458193979933,
          4.250836120401338,
          4.264214046822742,
          4.277591973244148,
          4.290969899665551,
          4.304347826086957,
          4.317725752508361,
          4.331103678929766,
          4.34448160535117,
          4.357859531772576,
          4.3712374581939795,
          4.384615384615385,
          4.397993311036789,
          4.411371237458194,
          4.424749163879598,
          4.438127090301004,
          4.4515050167224075,
          4.464882943143813,
          4.478260869565217,
          4.491638795986622,
          4.505016722408026,
          4.518394648829432,
          4.5317725752508355,
          4.545150501672241,
          4.558528428093645,
          4.5719063545150505,
          4.585284280936454,
          4.59866220735786,
          4.612040133779264,
          4.625418060200669,
          4.638795986622073,
          4.6521739130434785,
          4.665551839464882,
          4.678929765886288,
          4.692307692307692,
          4.705685618729097,
          4.719063545150501,
          4.7324414715719065,
          4.74581939799331,
          4.759197324414716,
          4.7725752508361206,
          4.785953177257525,
          4.79933110367893,
          4.812709030100335,
          4.826086956521739,
          4.839464882943144,
          4.852842809364549,
          4.866220735785953,
          4.879598662207358,
          4.892976588628763,
          4.906354515050167,
          4.919732441471572,
          4.933110367892977,
          4.946488294314381,
          4.959866220735786,
          4.973244147157191,
          4.986622073578595,
          5
         ],
         "y": [
          -0.1451276049777822,
          -0.1419722454081078,
          -0.13881688583843338,
          -0.13566152626875894,
          -0.13250616669908452,
          -0.1293508071294101,
          -0.12619544755973566,
          -0.12304008799006128,
          -0.11988472842038683,
          -0.11672936885071239,
          -0.113574009281038,
          -0.11041864971136356,
          -0.10726329014168917,
          -0.10410793057201473,
          -0.10095257100234029,
          -0.09779721143266584,
          -0.0946418518629914,
          -0.09148649229331696,
          -0.08833113272364257,
          -0.08517577315396813,
          -0.08202041358429374,
          -0.0788650540146193,
          -0.07570969444494485,
          -0.07255433487527047,
          -0.06939897530559602,
          -0.06624361573592158,
          -0.06308825616624719,
          -0.05993289659657275,
          -0.05677753702689836,
          -0.05362217745722392,
          -0.050466817887549476,
          -0.04731145831787509,
          -0.044156098748200645,
          -0.0410007391785262,
          -0.037845379608851815,
          -0.03469002003917737,
          -0.03153466046950293,
          -0.028379300899828486,
          -0.025223941330154043,
          -0.022068581760479655,
          -0.018913222190805212,
          -0.015757862621130825,
          -0.012602503051456382,
          -0.009447143481781939,
          -0.006291783912107551,
          -0.0031364243424331084,
          1.8935227241334562e-05,
          0.003174294796915722,
          0.006329654366590165,
          0.009485013936264552,
          0.012640373505938995,
          0.01579573307561344,
          0.018951092645287826,
          0.02210645221496227,
          0.025261811784636712,
          0.0284171713543111,
          0.03157253092398554,
          0.03472789049365993,
          0.03788325006333437,
          0.041038609633008816,
          0.0441939692026832,
          0.047349328772357646,
          0.05050468834203209,
          0.05366004791170648,
          0.05681540748138092,
          0.05997076705105531,
          0.06312612662072975,
          0.06628148619040419,
          0.06943684576007858,
          0.07259220532975302,
          0.07574756489942747,
          0.07890292446910191,
          0.08205828403877635,
          0.08521364360845074,
          0.08836900317812518,
          0.09152436274779968,
          0.09467972231747407,
          0.09783508188714851,
          0.1009904414568229,
          0.10414580102649734,
          0.10730116059617179,
          0.11045652016584617,
          0.11361187973552062,
          0.11676723930519506,
          0.11992259887486945,
          0.12307795844454383,
          0.12623331801421833,
          0.12938867758389272,
          0.1325440371535671,
          0.1356993967232416,
          0.138854756292916,
          0.14201011586259038,
          0.14516547543226488,
          0.14832083500193927,
          0.15147619457161365,
          0.15463155414128815,
          0.15778691371096254,
          0.16094227328063693,
          0.16409763285031131,
          0.1672529924199858,
          0.1704083519896602,
          0.1735637115593346,
          0.1767190711290091,
          0.17987443069868347,
          0.18302979026835786,
          0.18618514983803236,
          0.18934050940770675,
          0.19249586897738113,
          0.19565122854705563,
          0.19880658811673002,
          0.2019619476864044,
          0.2051173072560789,
          0.2082726668257533,
          0.21142802639542768,
          0.21458338596510207,
          0.21773874553477657,
          0.22089410510445096,
          0.22404946467412534,
          0.22720482424379984,
          0.23036018381347423,
          0.23351554338314862,
          0.23667090295282311,
          0.2398262625224975,
          0.2429816220921719,
          0.2461369816618464,
          0.24929234123152078,
          0.25244770080119516,
          0.25560306037086966,
          0.25875841994054405,
          0.26191377951021844,
          0.2650691390798928,
          0.2682244986495673,
          0.2713798582192417,
          0.2745352177889161,
          0.2776905773585906,
          0.280845936928265,
          0.28400129649793937,
          0.28715665606761387,
          0.29031201563728826,
          0.29346737520696264,
          0.29662273477663714,
          0.29977809434631164,
          0.30293345391598603,
          0.3060888134856604,
          0.3092441730553349,
          0.3123995326250093,
          0.3155548921946837,
          0.3187102517643582,
          0.3218656113340326,
          0.32502097090370696,
          0.32817633047338146,
          0.33133169004305585,
          0.33448704961273024,
          0.33764240918240473,
          0.3407977687520791,
          0.3439531283217535,
          0.347108487891428,
          0.3502638474611024,
          0.3534192070307768,
          0.35657456660045117,
          0.35972992617012567,
          0.36288528573980006,
          0.36604064530947444,
          0.36919600487914894,
          0.37235136444882333,
          0.3755067240184977,
          0.3786620835881722,
          0.3818174431578466,
          0.384972802727521,
          0.3881281622971955,
          0.3912835218668699,
          0.39443888143654426,
          0.39759424100621876,
          0.40074960057589315,
          0.40390496014556754,
          0.4070603197152419,
          0.4102156792849164,
          0.4133710388545908,
          0.4165263984242652,
          0.4196817579939397,
          0.4228371175636142,
          0.4259924771332886,
          0.4291478367029631,
          0.43230319627263747,
          0.43545855584231186,
          0.43861391541198635,
          0.44176927498166074,
          0.44492463455133513,
          0.4480799941210095,
          0.451235353690684,
          0.4543907132603584,
          0.4575460728300328,
          0.4607014323997073,
          0.4638567919693817,
          0.46701215153905606,
          0.47016751110873056,
          0.47332287067840495,
          0.47647823024807934,
          0.47963358981775384,
          0.4827889493874282,
          0.4859443089571026,
          0.4890996685267771,
          0.4922550280964515,
          0.4954103876661259,
          0.49856574723580027,
          0.5017211068054748,
          0.5048764663751492,
          0.5080318259448235,
          0.511187185514498,
          0.5143425450841724,
          0.5174979046538468,
          0.5206532642235213,
          0.5238086237931957,
          0.5269639833628701,
          0.5301193429325446,
          0.533274702502219,
          0.5364300620718934,
          0.5395854216415679,
          0.5427407812112423,
          0.5458961407809166,
          0.549051500350591,
          0.5522068599202655,
          0.5553622194899399,
          0.5585175790596143,
          0.5616729386292888,
          0.5648282981989632,
          0.5679836577686376,
          0.5711390173383121,
          0.5742943769079865,
          0.5774497364776608,
          0.5806050960473353,
          0.58376045561701,
          0.5869158151866841,
          0.5900711747563587,
          0.593226534326033,
          0.5963818938957076,
          0.5995372534653818,
          0.6026926130350565,
          0.6058479726047307,
          0.6090033321744053,
          0.6121586917440796,
          0.6153140513137542,
          0.6184694108834283,
          0.621624770453103,
          0.6247801300227771,
          0.6279354895924518,
          0.6310908491621261,
          0.6342462087318006,
          0.6374015683014749,
          0.6405569278711496,
          0.6437122874408236,
          0.6468676470104984,
          0.6500230065801726,
          0.6531783661498471,
          0.6563337257195214,
          0.6594890852891961,
          0.6626444448588702,
          0.6657998044285449,
          0.6689551639982192,
          0.6721105235678937,
          0.675265883137568,
          0.6784212427072427,
          0.6815766022769167,
          0.6847319618465915,
          0.6878873214162657,
          0.6910426809859402,
          0.6941980405556145,
          0.6973534001252892,
          0.7005087596949633,
          0.703664119264638,
          0.7068194788343123,
          0.7099748384039868,
          0.7131301979736611,
          0.7162855575433356,
          0.7194409171130098,
          0.7225962766826846,
          0.7257516362523586,
          0.7289069958220333,
          0.7320623553917076,
          0.7352177149613821,
          0.7383730745310564,
          0.7415284341007311,
          0.7446837936704054,
          0.7478391532400799,
          0.7509945128097544,
          0.7541498723794287,
          0.7573052319491032,
          0.7604605915187777,
          0.7636159510884519,
          0.7667713106581264,
          0.7699266702278009,
          0.7730820297974752,
          0.7762373893671497,
          0.7793927489368242,
          0.7825481085064985,
          0.785703468076173,
          0.7888588276458475,
          0.7920141872155217,
          0.7951695467851962,
          0.7983249063548707
         ],
         "z": [
          -0.0981441712155336,
          -0.09436027072596287,
          -0.09057637023639215,
          -0.08679246974682142,
          -0.0830085692572507,
          -0.07922466876767997,
          -0.07544076827810925,
          -0.07165686778853853,
          -0.0678729672989678,
          -0.06408906680939708,
          -0.06030516631982635,
          -0.05652126583025563,
          -0.052737365340684905,
          -0.04895346485111418,
          -0.04516956436154346,
          -0.04138566387197268,
          -0.037601763382401954,
          -0.03381786289283123,
          -0.030033962403260506,
          -0.02625006191368978,
          -0.022466161424119058,
          -0.018682260934548334,
          -0.01489836044497761,
          -0.011114459955406886,
          -0.007330559465836162,
          -0.0035466589762654377,
          0.0002372415133052863,
          0.00402114200287601,
          0.007805042492446734,
          0.011588942982017458,
          0.015372843471588182,
          0.019156743961158906,
          0.02294064445072963,
          0.026724544940300354,
          0.03050844542987108,
          0.0342923459194418,
          0.03807624640901258,
          0.041860146898583306,
          0.04564404738815403,
          0.049427947877724754,
          0.05321184836729548,
          0.0569957488568662,
          0.060779649346436926,
          0.06456354983600765,
          0.06834745032557837,
          0.0721313508151491,
          0.07591525130471982,
          0.07969915179429055,
          0.08348305228386127,
          0.087266952773432,
          0.09105085326300277,
          0.0948347537525735,
          0.09861865424214422,
          0.10240255473171495,
          0.10618645522128567,
          0.1099703557108564,
          0.11375425620042712,
          0.11753815668999784,
          0.12132205717956857,
          0.12510595766913923,
          0.12888985815871,
          0.13267375864828068,
          0.13645765913785146,
          0.14024155962742213,
          0.1440254601169929,
          0.14780936060656358,
          0.15159326109613436,
          0.15537716158570503,
          0.1591610620752758,
          0.16294496256484647,
          0.16672886305441725,
          0.17051276354398803,
          0.1742966640335587,
          0.17808056452312948,
          0.18186446501270015,
          0.18564836550227093,
          0.1894322659918417,
          0.19321616648141238,
          0.19700006697098316,
          0.20078396746055382,
          0.2045678679501246,
          0.20835176843969527,
          0.21213566892926605,
          0.21591956941883672,
          0.2197034699084075,
          0.22348737039797817,
          0.22727127088754895,
          0.23105517137711962,
          0.2348390718666904,
          0.23862297235626106,
          0.24240687284583184,
          0.2461907733354025,
          0.2499746738249733,
          0.25375857431454396,
          0.25754247480411474,
          0.2613263752936854,
          0.2651102757832562,
          0.26889417627282686,
          0.27267807676239764,
          0.2764619772519683,
          0.2802458777415391,
          0.28402977823110986,
          0.28781367872068053,
          0.2915975792102513,
          0.295381479699822,
          0.29916538018939276,
          0.30294928067896343,
          0.3067331811685342,
          0.3105170816581049,
          0.31430098214767566,
          0.3180848826372463,
          0.3218687831268171,
          0.3256526836163878,
          0.32943658410595855,
          0.3332204845955292,
          0.3370043850851,
          0.34078828557467067,
          0.34457218606424145,
          0.3483560865538121,
          0.3521399870433829,
          0.35592388753295356,
          0.35970778802252434,
          0.363491688512095,
          0.3672755890016658,
          0.37105948949123646,
          0.37484338998080724,
          0.3786272904703779,
          0.3824111909599487,
          0.38619509144951936,
          0.38997899193909014,
          0.3937628924286608,
          0.3975467929182316,
          0.40133069340780225,
          0.40511459389737303,
          0.4088984943869437,
          0.4126823948765145,
          0.41646629536608515,
          0.42025019585565593,
          0.4240340963452266,
          0.4278179968347974,
          0.43160189732436804,
          0.43538579781393894,
          0.4391696983035096,
          0.4429535987930804,
          0.44673749928265105,
          0.45052139977222183,
          0.4543053002617925,
          0.4580892007513633,
          0.46187310124093395,
          0.4656570017305047,
          0.4694409022200754,
          0.4732248027096462,
          0.47700870319921684,
          0.4807926036887876,
          0.4845765041783583,
          0.48836040466792907,
          0.49214430515749974,
          0.4959282056470705,
          0.4997121061366412,
          0.503496006626212,
          0.5072799071157826,
          0.5110638076053534,
          0.5148477080949241,
          0.5186316085844949,
          0.5224155090740655,
          0.5261994095636363,
          0.529983310053207,
          0.5337672105427778,
          0.5375511110323484,
          0.5413350115219192,
          0.5451189120114899,
          0.5489028125010607,
          0.5526867129906313,
          0.5564706134802021,
          0.5602545139697728,
          0.5640384144593436,
          0.5678223149489142,
          0.571606215438485,
          0.5753901159280557,
          0.5791740164176264,
          0.5829579169071972,
          0.586741817396768,
          0.5905257178863387,
          0.5943096183759095,
          0.5980935188654801,
          0.6018774193550509,
          0.6056613198446216,
          0.6094452203341924,
          0.613229120823763,
          0.6170130213133338,
          0.6207969218029046,
          0.6245808222924751,
          0.6283647227820459,
          0.6321486232716167,
          0.6359325237611875,
          0.639716424250758,
          0.6435003247403288,
          0.6472842252298996,
          0.6510681257194704,
          0.6548520262090409,
          0.6586359266986117,
          0.6624198271881825,
          0.6662037276777533,
          0.669987628167324,
          0.6737715286568946,
          0.6775554291464654,
          0.6813393296360362,
          0.6851232301256069,
          0.6889071306151775,
          0.6926910311047483,
          0.6964749315943191,
          0.7002588320838898,
          0.7040427325734604,
          0.7078266330630312,
          0.711610533552602,
          0.7153944340421727,
          0.7191783345317433,
          0.7229622350213141,
          0.7267461355108848,
          0.7305300360004556,
          0.7343139364900262,
          0.738097836979597,
          0.7418817374691677,
          0.7456656379587385,
          0.7494495384483091,
          0.7532334389378799,
          0.7570173394274506,
          0.7608012399170214,
          0.764585140406592,
          0.7683690408961628,
          0.7721529413857335,
          0.7759368418753045,
          0.7797207423648749,
          0.7835046428544459,
          0.7872885433440164,
          0.7910724438335874,
          0.7948563443231578,
          0.7986402448127288,
          0.8024241453022993,
          0.8062080457918703,
          0.8099919462814407,
          0.8137758467710117,
          0.8175597472605822,
          0.8213436477501532,
          0.8251275482397236,
          0.8289114487292946,
          0.8326953492188651,
          0.8364792497084361,
          0.8402631501980065,
          0.8440470506875775,
          0.847830951177148,
          0.851614851666719,
          0.8553987521562894,
          0.8591826526458604,
          0.8629665531354309,
          0.8667504536250019,
          0.8705343541145723,
          0.8743182546041433,
          0.8781021550937138,
          0.8818860555832848,
          0.8856699560728551,
          0.8894538565624261,
          0.8932377570519967,
          0.8970216575415677,
          0.900805558031138,
          0.904589458520709,
          0.9083733590102796,
          0.9121572594998506,
          0.9159411599894209,
          0.9197250604789919,
          0.9235089609685625,
          0.9272928614581335,
          0.9310767619477038,
          0.9348606624372748,
          0.9386445629268454,
          0.9424284634164164,
          0.9462123639059867,
          0.9499962643955577,
          0.9537801648851283,
          0.9575640653746993,
          0.9613479658642696,
          0.9651318663538406,
          0.9689157668434114,
          0.9726996673329822,
          0.9764835678225527,
          0.9802674683121235,
          0.9840513688016943,
          0.9878352692912651,
          0.9916191697808356,
          0.9954030702704064,
          0.9991869707599772,
          1.002970871249548,
          1.0067547717391185,
          1.0105386722286893,
          1.01432257271826,
          1.0181064732078309,
          1.0218903736974014,
          1.0256742741869722,
          1.029458174676543,
          1.0332420751661138
         ]
        }
       ],
       "layout": {
        "scene": {
         "xaxis": {
          "title": {
           "text": "petal_width"
          }
         },
         "yaxis": {
          "title": {
           "text": "species_id"
          }
         },
         "zaxis": {
          "title": {
           "text": "petal_length"
          }
         }
        },
        "template": {
         "data": {
          "bar": [
           {
            "error_x": {
             "color": "#2a3f5f"
            },
            "error_y": {
             "color": "#2a3f5f"
            },
            "marker": {
             "line": {
              "color": "#E5ECF6",
              "width": 0.5
             }
            },
            "type": "bar"
           }
          ],
          "barpolar": [
           {
            "marker": {
             "line": {
              "color": "#E5ECF6",
              "width": 0.5
             }
            },
            "type": "barpolar"
           }
          ],
          "carpet": [
           {
            "aaxis": {
             "endlinecolor": "#2a3f5f",
             "gridcolor": "white",
             "linecolor": "white",
             "minorgridcolor": "white",
             "startlinecolor": "#2a3f5f"
            },
            "baxis": {
             "endlinecolor": "#2a3f5f",
             "gridcolor": "white",
             "linecolor": "white",
             "minorgridcolor": "white",
             "startlinecolor": "#2a3f5f"
            },
            "type": "carpet"
           }
          ],
          "choropleth": [
           {
            "colorbar": {
             "outlinewidth": 0,
             "ticks": ""
            },
            "type": "choropleth"
           }
          ],
          "contour": [
           {
            "colorbar": {
             "outlinewidth": 0,
             "ticks": ""
            },
            "colorscale": [
             [
              0,
              "#0d0887"
             ],
             [
              0.1111111111111111,
              "#46039f"
             ],
             [
              0.2222222222222222,
              "#7201a8"
             ],
             [
              0.3333333333333333,
              "#9c179e"
             ],
             [
              0.4444444444444444,
              "#bd3786"
             ],
             [
              0.5555555555555556,
              "#d8576b"
             ],
             [
              0.6666666666666666,
              "#ed7953"
             ],
             [
              0.7777777777777778,
              "#fb9f3a"
             ],
             [
              0.8888888888888888,
              "#fdca26"
             ],
             [
              1,
              "#f0f921"
             ]
            ],
            "type": "contour"
           }
          ],
          "contourcarpet": [
           {
            "colorbar": {
             "outlinewidth": 0,
             "ticks": ""
            },
            "type": "contourcarpet"
           }
          ],
          "heatmap": [
           {
            "colorbar": {
             "outlinewidth": 0,
             "ticks": ""
            },
            "colorscale": [
             [
              0,
              "#0d0887"
             ],
             [
              0.1111111111111111,
              "#46039f"
             ],
             [
              0.2222222222222222,
              "#7201a8"
             ],
             [
              0.3333333333333333,
              "#9c179e"
             ],
             [
              0.4444444444444444,
              "#bd3786"
             ],
             [
              0.5555555555555556,
              "#d8576b"
             ],
             [
              0.6666666666666666,
              "#ed7953"
             ],
             [
              0.7777777777777778,
              "#fb9f3a"
             ],
             [
              0.8888888888888888,
              "#fdca26"
             ],
             [
              1,
              "#f0f921"
             ]
            ],
            "type": "heatmap"
           }
          ],
          "heatmapgl": [
           {
            "colorbar": {
             "outlinewidth": 0,
             "ticks": ""
            },
            "colorscale": [
             [
              0,
              "#0d0887"
             ],
             [
              0.1111111111111111,
              "#46039f"
             ],
             [
              0.2222222222222222,
              "#7201a8"
             ],
             [
              0.3333333333333333,
              "#9c179e"
             ],
             [
              0.4444444444444444,
              "#bd3786"
             ],
             [
              0.5555555555555556,
              "#d8576b"
             ],
             [
              0.6666666666666666,
              "#ed7953"
             ],
             [
              0.7777777777777778,
              "#fb9f3a"
             ],
             [
              0.8888888888888888,
              "#fdca26"
             ],
             [
              1,
              "#f0f921"
             ]
            ],
            "type": "heatmapgl"
           }
          ],
          "histogram": [
           {
            "marker": {
             "colorbar": {
              "outlinewidth": 0,
              "ticks": ""
             }
            },
            "type": "histogram"
           }
          ],
          "histogram2d": [
           {
            "colorbar": {
             "outlinewidth": 0,
             "ticks": ""
            },
            "colorscale": [
             [
              0,
              "#0d0887"
             ],
             [
              0.1111111111111111,
              "#46039f"
             ],
             [
              0.2222222222222222,
              "#7201a8"
             ],
             [
              0.3333333333333333,
              "#9c179e"
             ],
             [
              0.4444444444444444,
              "#bd3786"
             ],
             [
              0.5555555555555556,
              "#d8576b"
             ],
             [
              0.6666666666666666,
              "#ed7953"
             ],
             [
              0.7777777777777778,
              "#fb9f3a"
             ],
             [
              0.8888888888888888,
              "#fdca26"
             ],
             [
              1,
              "#f0f921"
             ]
            ],
            "type": "histogram2d"
           }
          ],
          "histogram2dcontour": [
           {
            "colorbar": {
             "outlinewidth": 0,
             "ticks": ""
            },
            "colorscale": [
             [
              0,
              "#0d0887"
             ],
             [
              0.1111111111111111,
              "#46039f"
             ],
             [
              0.2222222222222222,
              "#7201a8"
             ],
             [
              0.3333333333333333,
              "#9c179e"
             ],
             [
              0.4444444444444444,
              "#bd3786"
             ],
             [
              0.5555555555555556,
              "#d8576b"
             ],
             [
              0.6666666666666666,
              "#ed7953"
             ],
             [
              0.7777777777777778,
              "#fb9f3a"
             ],
             [
              0.8888888888888888,
              "#fdca26"
             ],
             [
              1,
              "#f0f921"
             ]
            ],
            "type": "histogram2dcontour"
           }
          ],
          "mesh3d": [
           {
            "colorbar": {
             "outlinewidth": 0,
             "ticks": ""
            },
            "type": "mesh3d"
           }
          ],
          "parcoords": [
           {
            "line": {
             "colorbar": {
              "outlinewidth": 0,
              "ticks": ""
             }
            },
            "type": "parcoords"
           }
          ],
          "scatter": [
           {
            "marker": {
             "colorbar": {
              "outlinewidth": 0,
              "ticks": ""
             }
            },
            "type": "scatter"
           }
          ],
          "scatter3d": [
           {
            "line": {
             "colorbar": {
              "outlinewidth": 0,
              "ticks": ""
             }
            },
            "marker": {
             "colorbar": {
              "outlinewidth": 0,
              "ticks": ""
             }
            },
            "type": "scatter3d"
           }
          ],
          "scattercarpet": [
           {
            "marker": {
             "colorbar": {
              "outlinewidth": 0,
              "ticks": ""
             }
            },
            "type": "scattercarpet"
           }
          ],
          "scattergeo": [
           {
            "marker": {
             "colorbar": {
              "outlinewidth": 0,
              "ticks": ""
             }
            },
            "type": "scattergeo"
           }
          ],
          "scattergl": [
           {
            "marker": {
             "colorbar": {
              "outlinewidth": 0,
              "ticks": ""
             }
            },
            "type": "scattergl"
           }
          ],
          "scattermapbox": [
           {
            "marker": {
             "colorbar": {
              "outlinewidth": 0,
              "ticks": ""
             }
            },
            "type": "scattermapbox"
           }
          ],
          "scatterpolar": [
           {
            "marker": {
             "colorbar": {
              "outlinewidth": 0,
              "ticks": ""
             }
            },
            "type": "scatterpolar"
           }
          ],
          "scatterpolargl": [
           {
            "marker": {
             "colorbar": {
              "outlinewidth": 0,
              "ticks": ""
             }
            },
            "type": "scatterpolargl"
           }
          ],
          "scatterternary": [
           {
            "marker": {
             "colorbar": {
              "outlinewidth": 0,
              "ticks": ""
             }
            },
            "type": "scatterternary"
           }
          ],
          "surface": [
           {
            "colorbar": {
             "outlinewidth": 0,
             "ticks": ""
            },
            "colorscale": [
             [
              0,
              "#0d0887"
             ],
             [
              0.1111111111111111,
              "#46039f"
             ],
             [
              0.2222222222222222,
              "#7201a8"
             ],
             [
              0.3333333333333333,
              "#9c179e"
             ],
             [
              0.4444444444444444,
              "#bd3786"
             ],
             [
              0.5555555555555556,
              "#d8576b"
             ],
             [
              0.6666666666666666,
              "#ed7953"
             ],
             [
              0.7777777777777778,
              "#fb9f3a"
             ],
             [
              0.8888888888888888,
              "#fdca26"
             ],
             [
              1,
              "#f0f921"
             ]
            ],
            "type": "surface"
           }
          ],
          "table": [
           {
            "cells": {
             "fill": {
              "color": "#EBF0F8"
             },
             "line": {
              "color": "white"
             }
            },
            "header": {
             "fill": {
              "color": "#C8D4E3"
             },
             "line": {
              "color": "white"
             }
            },
            "type": "table"
           }
          ]
         },
         "layout": {
          "annotationdefaults": {
           "arrowcolor": "#2a3f5f",
           "arrowhead": 0,
           "arrowwidth": 1
          },
          "colorscale": {
           "diverging": [
            [
             0,
             "#8e0152"
            ],
            [
             0.1,
             "#c51b7d"
            ],
            [
             0.2,
             "#de77ae"
            ],
            [
             0.3,
             "#f1b6da"
            ],
            [
             0.4,
             "#fde0ef"
            ],
            [
             0.5,
             "#f7f7f7"
            ],
            [
             0.6,
             "#e6f5d0"
            ],
            [
             0.7,
             "#b8e186"
            ],
            [
             0.8,
             "#7fbc41"
            ],
            [
             0.9,
             "#4d9221"
            ],
            [
             1,
             "#276419"
            ]
           ],
           "sequential": [
            [
             0,
             "#0d0887"
            ],
            [
             0.1111111111111111,
             "#46039f"
            ],
            [
             0.2222222222222222,
             "#7201a8"
            ],
            [
             0.3333333333333333,
             "#9c179e"
            ],
            [
             0.4444444444444444,
             "#bd3786"
            ],
            [
             0.5555555555555556,
             "#d8576b"
            ],
            [
             0.6666666666666666,
             "#ed7953"
            ],
            [
             0.7777777777777778,
             "#fb9f3a"
            ],
            [
             0.8888888888888888,
             "#fdca26"
            ],
            [
             1,
             "#f0f921"
            ]
           ],
           "sequentialminus": [
            [
             0,
             "#0d0887"
            ],
            [
             0.1111111111111111,
             "#46039f"
            ],
            [
             0.2222222222222222,
             "#7201a8"
            ],
            [
             0.3333333333333333,
             "#9c179e"
            ],
            [
             0.4444444444444444,
             "#bd3786"
            ],
            [
             0.5555555555555556,
             "#d8576b"
            ],
            [
             0.6666666666666666,
             "#ed7953"
            ],
            [
             0.7777777777777778,
             "#fb9f3a"
            ],
            [
             0.8888888888888888,
             "#fdca26"
            ],
            [
             1,
             "#f0f921"
            ]
           ]
          },
          "colorway": [
           "#636efa",
           "#EF553B",
           "#00cc96",
           "#ab63fa",
           "#FFA15A",
           "#19d3f3",
           "#FF6692",
           "#B6E880",
           "#FF97FF",
           "#FECB52"
          ],
          "font": {
           "color": "#2a3f5f"
          },
          "geo": {
           "bgcolor": "white",
           "lakecolor": "white",
           "landcolor": "#E5ECF6",
           "showlakes": true,
           "showland": true,
           "subunitcolor": "white"
          },
          "hoverlabel": {
           "align": "left"
          },
          "hovermode": "closest",
          "mapbox": {
           "style": "light"
          },
          "paper_bgcolor": "white",
          "plot_bgcolor": "#E5ECF6",
          "polar": {
           "angularaxis": {
            "gridcolor": "white",
            "linecolor": "white",
            "ticks": ""
           },
           "bgcolor": "#E5ECF6",
           "radialaxis": {
            "gridcolor": "white",
            "linecolor": "white",
            "ticks": ""
           }
          },
          "scene": {
           "xaxis": {
            "backgroundcolor": "#E5ECF6",
            "gridcolor": "white",
            "gridwidth": 2,
            "linecolor": "white",
            "showbackground": true,
            "ticks": "",
            "zerolinecolor": "white"
           },
           "yaxis": {
            "backgroundcolor": "#E5ECF6",
            "gridcolor": "white",
            "gridwidth": 2,
            "linecolor": "white",
            "showbackground": true,
            "ticks": "",
            "zerolinecolor": "white"
           },
           "zaxis": {
            "backgroundcolor": "#E5ECF6",
            "gridcolor": "white",
            "gridwidth": 2,
            "linecolor": "white",
            "showbackground": true,
            "ticks": "",
            "zerolinecolor": "white"
           }
          },
          "shapedefaults": {
           "line": {
            "color": "#2a3f5f"
           }
          },
          "ternary": {
           "aaxis": {
            "gridcolor": "white",
            "linecolor": "white",
            "ticks": ""
           },
           "baxis": {
            "gridcolor": "white",
            "linecolor": "white",
            "ticks": ""
           },
           "bgcolor": "#E5ECF6",
           "caxis": {
            "gridcolor": "white",
            "linecolor": "white",
            "ticks": ""
           }
          },
          "title": {
           "x": 0.05
          },
          "xaxis": {
           "automargin": true,
           "gridcolor": "white",
           "linecolor": "white",
           "ticks": "",
           "zerolinecolor": "white",
           "zerolinewidth": 2
          },
          "yaxis": {
           "automargin": true,
           "gridcolor": "white",
           "linecolor": "white",
           "ticks": "",
           "zerolinecolor": "white",
           "zerolinewidth": 2
          }
         }
        },
        "title": {
         "text": "Linear Regression Iris, 2 features"
        }
       }
      },
      "text/html": [
       "<div>\n",
       "        \n",
       "        \n",
       "            <div id=\"4f4315d8-fcc8-42d0-9d13-9b7f9cb5204f\" class=\"plotly-graph-div\" style=\"height:525px; width:100%;\"></div>\n",
       "            <script type=\"text/javascript\">\n",
       "                require([\"plotly\"], function(Plotly) {\n",
       "                    window.PLOTLYENV=window.PLOTLYENV || {};\n",
       "                    \n",
       "                if (document.getElementById(\"4f4315d8-fcc8-42d0-9d13-9b7f9cb5204f\")) {\n",
       "                    Plotly.newPlot(\n",
       "                        '4f4315d8-fcc8-42d0-9d13-9b7f9cb5204f',\n",
       "                        [{\"mode\": \"markers\", \"name\": \"Training Data\", \"opacity\": 0.3, \"type\": \"scatter3d\", \"x\": [1.4, 3.3, 1.7, 4.5, 4.4, 1.2, 1.3, 1.4, 1.5, 1.5, 4.2, 1.5, 1.5, 3.7, 1.6, 4.0, 1.1, 1.9, 1.5, 1.4, 1.3, 1.4, 4.5, 1.4, 3.6, 1.3, 4.0, 4.7, 4.1, 4.6, 1.6, 4.7, 4.1, 1.6, 4.5, 4.2, 4.3, 3.5, 1.3, 4.6, 1.5, 3.0, 3.3, 4.4, 1.5, 4.2, 3.9, 4.7, 4.5, 1.4, 1.6, 1.4, 4.9, 1.5, 1.3, 1.7, 4.4, 4.6, 4.3, 4.7, 3.9, 1.7, 3.5, 4.0, 1.2, 4.0, 4.5], \"y\": [0, 1, 0, 1, 1, 0, 0, 0, 0, 0, 1, 0, 0, 1, 0, 1, 0, 0, 0, 0, 0, 0, 1, 0, 1, 0, 1, 1, 1, 1, 0, 1, 1, 0, 1, 1, 1, 1, 0, 1, 0, 1, 1, 1, 0, 1, 1, 1, 1, 0, 0, 0, 1, 0, 0, 0, 1, 1, 1, 1, 1, 0, 1, 1, 0, 1, 1], \"z\": [0.2, 1.0, 0.4, 1.5, 1.4, 0.2, 0.4, 0.2, 0.2, 0.2, 1.2, 0.2, 0.3, 1.0, 0.2, 1.0, 0.1, 0.2, 0.2, 0.3, 0.2, 0.2, 1.5, 0.3, 1.3, 0.2, 1.3, 1.6, 1.3, 1.5, 0.6, 1.4, 1.0, 0.2, 1.5, 1.5, 1.3, 1.0, 0.3, 1.3, 0.2, 1.1, 1.0, 1.4, 0.1, 1.3, 1.4, 1.4, 1.5, 0.1, 0.2, 0.2, 1.5, 0.4, 0.2, 0.5, 1.3, 1.4, 1.3, 1.5, 1.2, 0.2, 1.0, 1.3, 0.2, 1.2, 1.5]}, {\"mode\": \"markers\", \"name\": \"Test Data\", \"opacity\": 0.3, \"type\": \"scatter3d\", \"x\": [5.1, 4.0, 4.8, 1.4, 1.9, 1.5, 1.0, 3.8, 1.5, 1.4, 1.7, 1.6, 4.7, 1.4, 4.4, 1.4, 4.8, 5.0, 1.4, 1.5, 4.5, 4.1, 1.6, 1.3, 3.9, 1.5, 1.3, 4.2, 1.5, 4.9, 1.6, 1.4, 4.5], \"y\": [1, 1, 1, 0, 0, 0, 0, 1, 0, 0, 0, 0, 1, 0, 1, 0, 1, 1, 0, 0, 1, 1, 0, 0, 1, 0, 0, 1, 0, 1, 0, 0, 1], \"z\": [1.6, 1.3, 1.8, 0.3, 0.4, 0.2, 0.2, 1.1, 0.2, 0.2, 0.3, 0.2, 1.2, 0.2, 1.2, 0.2, 1.4, 1.7, 0.1, 0.4, 1.3, 1.3, 0.4, 0.2, 1.1, 0.4, 0.3, 1.3, 0.1, 1.5, 0.2, 0.2, 1.6]}, {\"mode\": \"lines\", \"name\": \"Linear Regression\", \"type\": \"scatter3d\", \"x\": [1.0, 1.0133779264214047, 1.0267558528428093, 1.040133779264214, 1.0535117056856187, 1.0668896321070234, 1.080267558528428, 1.0936454849498327, 1.1070234113712374, 1.120401337792642, 1.1337792642140467, 1.1471571906354514, 1.160535117056856, 1.1739130434782608, 1.1872909698996654, 1.2006688963210703, 1.214046822742475, 1.2274247491638797, 1.2408026755852843, 1.254180602006689, 1.2675585284280937, 1.2809364548494984, 1.294314381270903, 1.3076923076923077, 1.3210702341137124, 1.334448160535117, 1.3478260869565217, 1.3612040133779264, 1.374581939799331, 1.3879598662207357, 1.4013377926421404, 1.414715719063545, 1.4280936454849498, 1.4414715719063544, 1.4548494983277591, 1.4682274247491638, 1.4816053511705687, 1.4949832775919734, 1.508361204013378, 1.5217391304347827, 1.5351170568561874, 1.548494983277592, 1.5618729096989967, 1.5752508361204014, 1.588628762541806, 1.6020066889632107, 1.6153846153846154, 1.62876254180602, 1.6421404682274248, 1.6555183946488294, 1.6688963210702341, 1.6822742474916388, 1.6956521739130435, 1.7090301003344481, 1.7224080267558528, 1.7357859531772575, 1.7491638795986622, 1.7625418060200668, 1.7759197324414715, 1.7892976588628762, 1.8026755852842808, 1.8160535117056855, 1.8294314381270902, 1.8428093645484949, 1.8561872909698995, 1.8695652173913042, 1.8829431438127089, 1.8963210702341136, 1.9096989966555182, 1.923076923076923, 1.9364548494983276, 1.9498327759197325, 1.9632107023411371, 1.9765886287625418, 1.9899665551839465, 2.0033444816053514, 2.016722408026756, 2.0301003344481607, 2.0434782608695654, 2.05685618729097, 2.0702341137123748, 2.0836120401337794, 2.096989966555184, 2.1103678929765888, 2.1237458193979935, 2.137123745819398, 2.150501672240803, 2.1638795986622075, 2.177257525083612, 2.190635451505017, 2.2040133779264215, 2.217391304347826, 2.230769230769231, 2.2441471571906355, 2.25752508361204, 2.270903010033445, 2.2842809364548495, 2.297658862876254, 2.311036789297659, 2.3244147157190636, 2.3377926421404682, 2.351170568561873, 2.3645484949832776, 2.3779264214046822, 2.391304347826087, 2.4046822742474916, 2.4180602006688963, 2.431438127090301, 2.4448160535117056, 2.4581939799331103, 2.471571906354515, 2.4849498327759196, 2.4983277591973243, 2.511705685618729, 2.5250836120401337, 2.5384615384615383, 2.551839464882943, 2.5652173913043477, 2.5785953177257523, 2.591973244147157, 2.6053511705685617, 2.6187290969899664, 2.632107023411371, 2.6454849498327757, 2.6588628762541804, 2.672240802675585, 2.6856187290969897, 2.6989966555183944, 2.712374581939799, 2.7257525083612038, 2.7391304347826084, 2.752508361204013, 2.7658862876254178, 2.7792642140468224, 2.792642140468227, 2.806020066889632, 2.8193979933110365, 2.832775919732441, 2.846153846153846, 2.8595317725752505, 2.872909698996655, 2.8862876254180603, 2.899665551839465, 2.9130434782608696, 2.9264214046822743, 2.939799331103679, 2.9531772575250836, 2.9665551839464883, 2.979933110367893, 2.9933110367892977, 3.0066889632107023, 3.020066889632107, 3.0334448160535117, 3.0468227424749164, 3.060200668896321, 3.0735785953177257, 3.0869565217391304, 3.100334448160535, 3.1137123745819397, 3.1270903010033444, 3.140468227424749, 3.1538461538461537, 3.1672240802675584, 3.180602006688963, 3.1939799331103678, 3.2073578595317724, 3.220735785953177, 3.234113712374582, 3.2474916387959865, 3.260869565217391, 3.274247491638796, 3.2876254180602005, 3.301003344481605, 3.31438127090301, 3.3277591973244145, 3.341137123745819, 3.354515050167224, 3.3678929765886285, 3.381270903010033, 3.394648829431438, 3.408026755852843, 3.4214046822742477, 3.4347826086956523, 3.448160535117057, 3.4615384615384617, 3.4749163879598663, 3.488294314381271, 3.5016722408026757, 3.5150501672240804, 3.528428093645485, 3.5418060200668897, 3.5551839464882944, 3.568561872909699, 3.5819397993311037, 3.5953177257525084, 3.608695652173913, 3.6220735785953178, 3.6354515050167224, 3.648829431438127, 3.6622073578595318, 3.6755852842809364, 3.688963210702341, 3.702341137123746, 3.7157190635451505, 3.729096989966555, 3.74247491638796, 3.7558528428093645, 3.769230769230769, 3.782608695652174, 3.7959866220735785, 3.809364548494983, 3.822742474916388, 3.8361204013377925, 3.849498327759197, 3.862876254180602, 3.8762541806020065, 3.8896321070234112, 3.903010033444816, 3.9163879598662206, 3.9297658862876252, 3.94314381270903, 3.9565217391304346, 3.9698996655518393, 3.983277591973244, 3.9966555183946486, 4.010033444816053, 4.023411371237458, 4.036789297658863, 4.050167224080267, 4.063545150501672, 4.076923076923077, 4.090301003344482, 4.103678929765886, 4.117056856187292, 4.130434782608695, 4.143812709030101, 4.157190635451505, 4.17056856187291, 4.183946488294314, 4.19732441471572, 4.210702341137123, 4.224080267558529, 4.237458193979933, 4.250836120401338, 4.264214046822742, 4.277591973244148, 4.290969899665551, 4.304347826086957, 4.317725752508361, 4.331103678929766, 4.34448160535117, 4.357859531772576, 4.3712374581939795, 4.384615384615385, 4.397993311036789, 4.411371237458194, 4.424749163879598, 4.438127090301004, 4.4515050167224075, 4.464882943143813, 4.478260869565217, 4.491638795986622, 4.505016722408026, 4.518394648829432, 4.5317725752508355, 4.545150501672241, 4.558528428093645, 4.5719063545150505, 4.585284280936454, 4.59866220735786, 4.612040133779264, 4.625418060200669, 4.638795986622073, 4.6521739130434785, 4.665551839464882, 4.678929765886288, 4.692307692307692, 4.705685618729097, 4.719063545150501, 4.7324414715719065, 4.74581939799331, 4.759197324414716, 4.7725752508361206, 4.785953177257525, 4.79933110367893, 4.812709030100335, 4.826086956521739, 4.839464882943144, 4.852842809364549, 4.866220735785953, 4.879598662207358, 4.892976588628763, 4.906354515050167, 4.919732441471572, 4.933110367892977, 4.946488294314381, 4.959866220735786, 4.973244147157191, 4.986622073578595, 5.0], \"y\": [-0.1451276049777822, -0.1419722454081078, -0.13881688583843338, -0.13566152626875894, -0.13250616669908452, -0.1293508071294101, -0.12619544755973566, -0.12304008799006128, -0.11988472842038683, -0.11672936885071239, -0.113574009281038, -0.11041864971136356, -0.10726329014168917, -0.10410793057201473, -0.10095257100234029, -0.09779721143266584, -0.0946418518629914, -0.09148649229331696, -0.08833113272364257, -0.08517577315396813, -0.08202041358429374, -0.0788650540146193, -0.07570969444494485, -0.07255433487527047, -0.06939897530559602, -0.06624361573592158, -0.06308825616624719, -0.05993289659657275, -0.05677753702689836, -0.05362217745722392, -0.050466817887549476, -0.04731145831787509, -0.044156098748200645, -0.0410007391785262, -0.037845379608851815, -0.03469002003917737, -0.03153466046950293, -0.028379300899828486, -0.025223941330154043, -0.022068581760479655, -0.018913222190805212, -0.015757862621130825, -0.012602503051456382, -0.009447143481781939, -0.006291783912107551, -0.0031364243424331084, 1.8935227241334562e-05, 0.003174294796915722, 0.006329654366590165, 0.009485013936264552, 0.012640373505938995, 0.01579573307561344, 0.018951092645287826, 0.02210645221496227, 0.025261811784636712, 0.0284171713543111, 0.03157253092398554, 0.03472789049365993, 0.03788325006333437, 0.041038609633008816, 0.0441939692026832, 0.047349328772357646, 0.05050468834203209, 0.05366004791170648, 0.05681540748138092, 0.05997076705105531, 0.06312612662072975, 0.06628148619040419, 0.06943684576007858, 0.07259220532975302, 0.07574756489942747, 0.07890292446910191, 0.08205828403877635, 0.08521364360845074, 0.08836900317812518, 0.09152436274779968, 0.09467972231747407, 0.09783508188714851, 0.1009904414568229, 0.10414580102649734, 0.10730116059617179, 0.11045652016584617, 0.11361187973552062, 0.11676723930519506, 0.11992259887486945, 0.12307795844454383, 0.12623331801421833, 0.12938867758389272, 0.1325440371535671, 0.1356993967232416, 0.138854756292916, 0.14201011586259038, 0.14516547543226488, 0.14832083500193927, 0.15147619457161365, 0.15463155414128815, 0.15778691371096254, 0.16094227328063693, 0.16409763285031131, 0.1672529924199858, 0.1704083519896602, 0.1735637115593346, 0.1767190711290091, 0.17987443069868347, 0.18302979026835786, 0.18618514983803236, 0.18934050940770675, 0.19249586897738113, 0.19565122854705563, 0.19880658811673002, 0.2019619476864044, 0.2051173072560789, 0.2082726668257533, 0.21142802639542768, 0.21458338596510207, 0.21773874553477657, 0.22089410510445096, 0.22404946467412534, 0.22720482424379984, 0.23036018381347423, 0.23351554338314862, 0.23667090295282311, 0.2398262625224975, 0.2429816220921719, 0.2461369816618464, 0.24929234123152078, 0.25244770080119516, 0.25560306037086966, 0.25875841994054405, 0.26191377951021844, 0.2650691390798928, 0.2682244986495673, 0.2713798582192417, 0.2745352177889161, 0.2776905773585906, 0.280845936928265, 0.28400129649793937, 0.28715665606761387, 0.29031201563728826, 0.29346737520696264, 0.29662273477663714, 0.29977809434631164, 0.30293345391598603, 0.3060888134856604, 0.3092441730553349, 0.3123995326250093, 0.3155548921946837, 0.3187102517643582, 0.3218656113340326, 0.32502097090370696, 0.32817633047338146, 0.33133169004305585, 0.33448704961273024, 0.33764240918240473, 0.3407977687520791, 0.3439531283217535, 0.347108487891428, 0.3502638474611024, 0.3534192070307768, 0.35657456660045117, 0.35972992617012567, 0.36288528573980006, 0.36604064530947444, 0.36919600487914894, 0.37235136444882333, 0.3755067240184977, 0.3786620835881722, 0.3818174431578466, 0.384972802727521, 0.3881281622971955, 0.3912835218668699, 0.39443888143654426, 0.39759424100621876, 0.40074960057589315, 0.40390496014556754, 0.4070603197152419, 0.4102156792849164, 0.4133710388545908, 0.4165263984242652, 0.4196817579939397, 0.4228371175636142, 0.4259924771332886, 0.4291478367029631, 0.43230319627263747, 0.43545855584231186, 0.43861391541198635, 0.44176927498166074, 0.44492463455133513, 0.4480799941210095, 0.451235353690684, 0.4543907132603584, 0.4575460728300328, 0.4607014323997073, 0.4638567919693817, 0.46701215153905606, 0.47016751110873056, 0.47332287067840495, 0.47647823024807934, 0.47963358981775384, 0.4827889493874282, 0.4859443089571026, 0.4890996685267771, 0.4922550280964515, 0.4954103876661259, 0.49856574723580027, 0.5017211068054748, 0.5048764663751492, 0.5080318259448235, 0.511187185514498, 0.5143425450841724, 0.5174979046538468, 0.5206532642235213, 0.5238086237931957, 0.5269639833628701, 0.5301193429325446, 0.533274702502219, 0.5364300620718934, 0.5395854216415679, 0.5427407812112423, 0.5458961407809166, 0.549051500350591, 0.5522068599202655, 0.5553622194899399, 0.5585175790596143, 0.5616729386292888, 0.5648282981989632, 0.5679836577686376, 0.5711390173383121, 0.5742943769079865, 0.5774497364776608, 0.5806050960473353, 0.58376045561701, 0.5869158151866841, 0.5900711747563587, 0.593226534326033, 0.5963818938957076, 0.5995372534653818, 0.6026926130350565, 0.6058479726047307, 0.6090033321744053, 0.6121586917440796, 0.6153140513137542, 0.6184694108834283, 0.621624770453103, 0.6247801300227771, 0.6279354895924518, 0.6310908491621261, 0.6342462087318006, 0.6374015683014749, 0.6405569278711496, 0.6437122874408236, 0.6468676470104984, 0.6500230065801726, 0.6531783661498471, 0.6563337257195214, 0.6594890852891961, 0.6626444448588702, 0.6657998044285449, 0.6689551639982192, 0.6721105235678937, 0.675265883137568, 0.6784212427072427, 0.6815766022769167, 0.6847319618465915, 0.6878873214162657, 0.6910426809859402, 0.6941980405556145, 0.6973534001252892, 0.7005087596949633, 0.703664119264638, 0.7068194788343123, 0.7099748384039868, 0.7131301979736611, 0.7162855575433356, 0.7194409171130098, 0.7225962766826846, 0.7257516362523586, 0.7289069958220333, 0.7320623553917076, 0.7352177149613821, 0.7383730745310564, 0.7415284341007311, 0.7446837936704054, 0.7478391532400799, 0.7509945128097544, 0.7541498723794287, 0.7573052319491032, 0.7604605915187777, 0.7636159510884519, 0.7667713106581264, 0.7699266702278009, 0.7730820297974752, 0.7762373893671497, 0.7793927489368242, 0.7825481085064985, 0.785703468076173, 0.7888588276458475, 0.7920141872155217, 0.7951695467851962, 0.7983249063548707], \"z\": [-0.0981441712155336, -0.09436027072596287, -0.09057637023639215, -0.08679246974682142, -0.0830085692572507, -0.07922466876767997, -0.07544076827810925, -0.07165686778853853, -0.0678729672989678, -0.06408906680939708, -0.06030516631982635, -0.05652126583025563, -0.052737365340684905, -0.04895346485111418, -0.04516956436154346, -0.04138566387197268, -0.037601763382401954, -0.03381786289283123, -0.030033962403260506, -0.02625006191368978, -0.022466161424119058, -0.018682260934548334, -0.01489836044497761, -0.011114459955406886, -0.007330559465836162, -0.0035466589762654377, 0.0002372415133052863, 0.00402114200287601, 0.007805042492446734, 0.011588942982017458, 0.015372843471588182, 0.019156743961158906, 0.02294064445072963, 0.026724544940300354, 0.03050844542987108, 0.0342923459194418, 0.03807624640901258, 0.041860146898583306, 0.04564404738815403, 0.049427947877724754, 0.05321184836729548, 0.0569957488568662, 0.060779649346436926, 0.06456354983600765, 0.06834745032557837, 0.0721313508151491, 0.07591525130471982, 0.07969915179429055, 0.08348305228386127, 0.087266952773432, 0.09105085326300277, 0.0948347537525735, 0.09861865424214422, 0.10240255473171495, 0.10618645522128567, 0.1099703557108564, 0.11375425620042712, 0.11753815668999784, 0.12132205717956857, 0.12510595766913923, 0.12888985815871, 0.13267375864828068, 0.13645765913785146, 0.14024155962742213, 0.1440254601169929, 0.14780936060656358, 0.15159326109613436, 0.15537716158570503, 0.1591610620752758, 0.16294496256484647, 0.16672886305441725, 0.17051276354398803, 0.1742966640335587, 0.17808056452312948, 0.18186446501270015, 0.18564836550227093, 0.1894322659918417, 0.19321616648141238, 0.19700006697098316, 0.20078396746055382, 0.2045678679501246, 0.20835176843969527, 0.21213566892926605, 0.21591956941883672, 0.2197034699084075, 0.22348737039797817, 0.22727127088754895, 0.23105517137711962, 0.2348390718666904, 0.23862297235626106, 0.24240687284583184, 0.2461907733354025, 0.2499746738249733, 0.25375857431454396, 0.25754247480411474, 0.2613263752936854, 0.2651102757832562, 0.26889417627282686, 0.27267807676239764, 0.2764619772519683, 0.2802458777415391, 0.28402977823110986, 0.28781367872068053, 0.2915975792102513, 0.295381479699822, 0.29916538018939276, 0.30294928067896343, 0.3067331811685342, 0.3105170816581049, 0.31430098214767566, 0.3180848826372463, 0.3218687831268171, 0.3256526836163878, 0.32943658410595855, 0.3332204845955292, 0.3370043850851, 0.34078828557467067, 0.34457218606424145, 0.3483560865538121, 0.3521399870433829, 0.35592388753295356, 0.35970778802252434, 0.363491688512095, 0.3672755890016658, 0.37105948949123646, 0.37484338998080724, 0.3786272904703779, 0.3824111909599487, 0.38619509144951936, 0.38997899193909014, 0.3937628924286608, 0.3975467929182316, 0.40133069340780225, 0.40511459389737303, 0.4088984943869437, 0.4126823948765145, 0.41646629536608515, 0.42025019585565593, 0.4240340963452266, 0.4278179968347974, 0.43160189732436804, 0.43538579781393894, 0.4391696983035096, 0.4429535987930804, 0.44673749928265105, 0.45052139977222183, 0.4543053002617925, 0.4580892007513633, 0.46187310124093395, 0.4656570017305047, 0.4694409022200754, 0.4732248027096462, 0.47700870319921684, 0.4807926036887876, 0.4845765041783583, 0.48836040466792907, 0.49214430515749974, 0.4959282056470705, 0.4997121061366412, 0.503496006626212, 0.5072799071157826, 0.5110638076053534, 0.5148477080949241, 0.5186316085844949, 0.5224155090740655, 0.5261994095636363, 0.529983310053207, 0.5337672105427778, 0.5375511110323484, 0.5413350115219192, 0.5451189120114899, 0.5489028125010607, 0.5526867129906313, 0.5564706134802021, 0.5602545139697728, 0.5640384144593436, 0.5678223149489142, 0.571606215438485, 0.5753901159280557, 0.5791740164176264, 0.5829579169071972, 0.586741817396768, 0.5905257178863387, 0.5943096183759095, 0.5980935188654801, 0.6018774193550509, 0.6056613198446216, 0.6094452203341924, 0.613229120823763, 0.6170130213133338, 0.6207969218029046, 0.6245808222924751, 0.6283647227820459, 0.6321486232716167, 0.6359325237611875, 0.639716424250758, 0.6435003247403288, 0.6472842252298996, 0.6510681257194704, 0.6548520262090409, 0.6586359266986117, 0.6624198271881825, 0.6662037276777533, 0.669987628167324, 0.6737715286568946, 0.6775554291464654, 0.6813393296360362, 0.6851232301256069, 0.6889071306151775, 0.6926910311047483, 0.6964749315943191, 0.7002588320838898, 0.7040427325734604, 0.7078266330630312, 0.711610533552602, 0.7153944340421727, 0.7191783345317433, 0.7229622350213141, 0.7267461355108848, 0.7305300360004556, 0.7343139364900262, 0.738097836979597, 0.7418817374691677, 0.7456656379587385, 0.7494495384483091, 0.7532334389378799, 0.7570173394274506, 0.7608012399170214, 0.764585140406592, 0.7683690408961628, 0.7721529413857335, 0.7759368418753045, 0.7797207423648749, 0.7835046428544459, 0.7872885433440164, 0.7910724438335874, 0.7948563443231578, 0.7986402448127288, 0.8024241453022993, 0.8062080457918703, 0.8099919462814407, 0.8137758467710117, 0.8175597472605822, 0.8213436477501532, 0.8251275482397236, 0.8289114487292946, 0.8326953492188651, 0.8364792497084361, 0.8402631501980065, 0.8440470506875775, 0.847830951177148, 0.851614851666719, 0.8553987521562894, 0.8591826526458604, 0.8629665531354309, 0.8667504536250019, 0.8705343541145723, 0.8743182546041433, 0.8781021550937138, 0.8818860555832848, 0.8856699560728551, 0.8894538565624261, 0.8932377570519967, 0.8970216575415677, 0.900805558031138, 0.904589458520709, 0.9083733590102796, 0.9121572594998506, 0.9159411599894209, 0.9197250604789919, 0.9235089609685625, 0.9272928614581335, 0.9310767619477038, 0.9348606624372748, 0.9386445629268454, 0.9424284634164164, 0.9462123639059867, 0.9499962643955577, 0.9537801648851283, 0.9575640653746993, 0.9613479658642696, 0.9651318663538406, 0.9689157668434114, 0.9726996673329822, 0.9764835678225527, 0.9802674683121235, 0.9840513688016943, 0.9878352692912651, 0.9916191697808356, 0.9954030702704064, 0.9991869707599772, 1.002970871249548, 1.0067547717391185, 1.0105386722286893, 1.01432257271826, 1.0181064732078309, 1.0218903736974014, 1.0256742741869722, 1.029458174676543, 1.0332420751661138]}],\n",
       "                        {\"scene\": {\"xaxis\": {\"title\": {\"text\": \"petal_width\"}}, \"yaxis\": {\"title\": {\"text\": \"species_id\"}}, \"zaxis\": {\"title\": {\"text\": \"petal_length\"}}}, \"template\": {\"data\": {\"bar\": [{\"error_x\": {\"color\": \"#2a3f5f\"}, \"error_y\": {\"color\": \"#2a3f5f\"}, \"marker\": {\"line\": {\"color\": \"#E5ECF6\", \"width\": 0.5}}, \"type\": \"bar\"}], \"barpolar\": [{\"marker\": {\"line\": {\"color\": \"#E5ECF6\", \"width\": 0.5}}, \"type\": \"barpolar\"}], \"carpet\": [{\"aaxis\": {\"endlinecolor\": \"#2a3f5f\", \"gridcolor\": \"white\", \"linecolor\": \"white\", \"minorgridcolor\": \"white\", \"startlinecolor\": \"#2a3f5f\"}, \"baxis\": {\"endlinecolor\": \"#2a3f5f\", \"gridcolor\": \"white\", \"linecolor\": \"white\", \"minorgridcolor\": \"white\", \"startlinecolor\": \"#2a3f5f\"}, \"type\": \"carpet\"}], \"choropleth\": [{\"colorbar\": {\"outlinewidth\": 0, \"ticks\": \"\"}, \"type\": \"choropleth\"}], \"contour\": [{\"colorbar\": {\"outlinewidth\": 0, \"ticks\": \"\"}, \"colorscale\": [[0.0, \"#0d0887\"], [0.1111111111111111, \"#46039f\"], [0.2222222222222222, \"#7201a8\"], [0.3333333333333333, \"#9c179e\"], [0.4444444444444444, \"#bd3786\"], [0.5555555555555556, \"#d8576b\"], [0.6666666666666666, \"#ed7953\"], [0.7777777777777778, \"#fb9f3a\"], [0.8888888888888888, \"#fdca26\"], [1.0, \"#f0f921\"]], \"type\": \"contour\"}], \"contourcarpet\": [{\"colorbar\": {\"outlinewidth\": 0, \"ticks\": \"\"}, \"type\": \"contourcarpet\"}], \"heatmap\": [{\"colorbar\": {\"outlinewidth\": 0, \"ticks\": \"\"}, \"colorscale\": [[0.0, \"#0d0887\"], [0.1111111111111111, \"#46039f\"], [0.2222222222222222, \"#7201a8\"], [0.3333333333333333, \"#9c179e\"], [0.4444444444444444, \"#bd3786\"], [0.5555555555555556, \"#d8576b\"], [0.6666666666666666, \"#ed7953\"], [0.7777777777777778, \"#fb9f3a\"], [0.8888888888888888, \"#fdca26\"], [1.0, \"#f0f921\"]], \"type\": \"heatmap\"}], \"heatmapgl\": [{\"colorbar\": {\"outlinewidth\": 0, \"ticks\": \"\"}, \"colorscale\": [[0.0, \"#0d0887\"], [0.1111111111111111, \"#46039f\"], [0.2222222222222222, \"#7201a8\"], [0.3333333333333333, \"#9c179e\"], [0.4444444444444444, \"#bd3786\"], [0.5555555555555556, \"#d8576b\"], [0.6666666666666666, \"#ed7953\"], [0.7777777777777778, \"#fb9f3a\"], [0.8888888888888888, \"#fdca26\"], [1.0, \"#f0f921\"]], \"type\": \"heatmapgl\"}], \"histogram\": [{\"marker\": {\"colorbar\": {\"outlinewidth\": 0, \"ticks\": \"\"}}, \"type\": \"histogram\"}], \"histogram2d\": [{\"colorbar\": {\"outlinewidth\": 0, \"ticks\": \"\"}, \"colorscale\": [[0.0, \"#0d0887\"], [0.1111111111111111, \"#46039f\"], [0.2222222222222222, \"#7201a8\"], [0.3333333333333333, \"#9c179e\"], [0.4444444444444444, \"#bd3786\"], [0.5555555555555556, \"#d8576b\"], [0.6666666666666666, \"#ed7953\"], [0.7777777777777778, \"#fb9f3a\"], [0.8888888888888888, \"#fdca26\"], [1.0, \"#f0f921\"]], \"type\": \"histogram2d\"}], \"histogram2dcontour\": [{\"colorbar\": {\"outlinewidth\": 0, \"ticks\": \"\"}, \"colorscale\": [[0.0, \"#0d0887\"], [0.1111111111111111, \"#46039f\"], [0.2222222222222222, \"#7201a8\"], [0.3333333333333333, \"#9c179e\"], [0.4444444444444444, \"#bd3786\"], [0.5555555555555556, \"#d8576b\"], [0.6666666666666666, \"#ed7953\"], [0.7777777777777778, \"#fb9f3a\"], [0.8888888888888888, \"#fdca26\"], [1.0, \"#f0f921\"]], \"type\": \"histogram2dcontour\"}], \"mesh3d\": [{\"colorbar\": {\"outlinewidth\": 0, \"ticks\": \"\"}, \"type\": \"mesh3d\"}], \"parcoords\": [{\"line\": {\"colorbar\": {\"outlinewidth\": 0, \"ticks\": \"\"}}, \"type\": \"parcoords\"}], \"scatter\": [{\"marker\": {\"colorbar\": {\"outlinewidth\": 0, \"ticks\": \"\"}}, \"type\": \"scatter\"}], \"scatter3d\": [{\"line\": {\"colorbar\": {\"outlinewidth\": 0, \"ticks\": \"\"}}, \"marker\": {\"colorbar\": {\"outlinewidth\": 0, \"ticks\": \"\"}}, \"type\": \"scatter3d\"}], \"scattercarpet\": [{\"marker\": {\"colorbar\": {\"outlinewidth\": 0, \"ticks\": \"\"}}, \"type\": \"scattercarpet\"}], \"scattergeo\": [{\"marker\": {\"colorbar\": {\"outlinewidth\": 0, \"ticks\": \"\"}}, \"type\": \"scattergeo\"}], \"scattergl\": [{\"marker\": {\"colorbar\": {\"outlinewidth\": 0, \"ticks\": \"\"}}, \"type\": \"scattergl\"}], \"scattermapbox\": [{\"marker\": {\"colorbar\": {\"outlinewidth\": 0, \"ticks\": \"\"}}, \"type\": \"scattermapbox\"}], \"scatterpolar\": [{\"marker\": {\"colorbar\": {\"outlinewidth\": 0, \"ticks\": \"\"}}, \"type\": \"scatterpolar\"}], \"scatterpolargl\": [{\"marker\": {\"colorbar\": {\"outlinewidth\": 0, \"ticks\": \"\"}}, \"type\": \"scatterpolargl\"}], \"scatterternary\": [{\"marker\": {\"colorbar\": {\"outlinewidth\": 0, \"ticks\": \"\"}}, \"type\": \"scatterternary\"}], \"surface\": [{\"colorbar\": {\"outlinewidth\": 0, \"ticks\": \"\"}, \"colorscale\": [[0.0, \"#0d0887\"], [0.1111111111111111, \"#46039f\"], [0.2222222222222222, \"#7201a8\"], [0.3333333333333333, \"#9c179e\"], [0.4444444444444444, \"#bd3786\"], [0.5555555555555556, \"#d8576b\"], [0.6666666666666666, \"#ed7953\"], [0.7777777777777778, \"#fb9f3a\"], [0.8888888888888888, \"#fdca26\"], [1.0, \"#f0f921\"]], \"type\": \"surface\"}], \"table\": [{\"cells\": {\"fill\": {\"color\": \"#EBF0F8\"}, \"line\": {\"color\": \"white\"}}, \"header\": {\"fill\": {\"color\": \"#C8D4E3\"}, \"line\": {\"color\": \"white\"}}, \"type\": \"table\"}]}, \"layout\": {\"annotationdefaults\": {\"arrowcolor\": \"#2a3f5f\", \"arrowhead\": 0, \"arrowwidth\": 1}, \"colorscale\": {\"diverging\": [[0, \"#8e0152\"], [0.1, \"#c51b7d\"], [0.2, \"#de77ae\"], [0.3, \"#f1b6da\"], [0.4, \"#fde0ef\"], [0.5, \"#f7f7f7\"], [0.6, \"#e6f5d0\"], [0.7, \"#b8e186\"], [0.8, \"#7fbc41\"], [0.9, \"#4d9221\"], [1, \"#276419\"]], \"sequential\": [[0.0, \"#0d0887\"], [0.1111111111111111, \"#46039f\"], [0.2222222222222222, \"#7201a8\"], [0.3333333333333333, \"#9c179e\"], [0.4444444444444444, \"#bd3786\"], [0.5555555555555556, \"#d8576b\"], [0.6666666666666666, \"#ed7953\"], [0.7777777777777778, \"#fb9f3a\"], [0.8888888888888888, \"#fdca26\"], [1.0, \"#f0f921\"]], \"sequentialminus\": [[0.0, \"#0d0887\"], [0.1111111111111111, \"#46039f\"], [0.2222222222222222, \"#7201a8\"], [0.3333333333333333, \"#9c179e\"], [0.4444444444444444, \"#bd3786\"], [0.5555555555555556, \"#d8576b\"], [0.6666666666666666, \"#ed7953\"], [0.7777777777777778, \"#fb9f3a\"], [0.8888888888888888, \"#fdca26\"], [1.0, \"#f0f921\"]]}, \"colorway\": [\"#636efa\", \"#EF553B\", \"#00cc96\", \"#ab63fa\", \"#FFA15A\", \"#19d3f3\", \"#FF6692\", \"#B6E880\", \"#FF97FF\", \"#FECB52\"], \"font\": {\"color\": \"#2a3f5f\"}, \"geo\": {\"bgcolor\": \"white\", \"lakecolor\": \"white\", \"landcolor\": \"#E5ECF6\", \"showlakes\": true, \"showland\": true, \"subunitcolor\": \"white\"}, \"hoverlabel\": {\"align\": \"left\"}, \"hovermode\": \"closest\", \"mapbox\": {\"style\": \"light\"}, \"paper_bgcolor\": \"white\", \"plot_bgcolor\": \"#E5ECF6\", \"polar\": {\"angularaxis\": {\"gridcolor\": \"white\", \"linecolor\": \"white\", \"ticks\": \"\"}, \"bgcolor\": \"#E5ECF6\", \"radialaxis\": {\"gridcolor\": \"white\", \"linecolor\": \"white\", \"ticks\": \"\"}}, \"scene\": {\"xaxis\": {\"backgroundcolor\": \"#E5ECF6\", \"gridcolor\": \"white\", \"gridwidth\": 2, \"linecolor\": \"white\", \"showbackground\": true, \"ticks\": \"\", \"zerolinecolor\": \"white\"}, \"yaxis\": {\"backgroundcolor\": \"#E5ECF6\", \"gridcolor\": \"white\", \"gridwidth\": 2, \"linecolor\": \"white\", \"showbackground\": true, \"ticks\": \"\", \"zerolinecolor\": \"white\"}, \"zaxis\": {\"backgroundcolor\": \"#E5ECF6\", \"gridcolor\": \"white\", \"gridwidth\": 2, \"linecolor\": \"white\", \"showbackground\": true, \"ticks\": \"\", \"zerolinecolor\": \"white\"}}, \"shapedefaults\": {\"line\": {\"color\": \"#2a3f5f\"}}, \"ternary\": {\"aaxis\": {\"gridcolor\": \"white\", \"linecolor\": \"white\", \"ticks\": \"\"}, \"baxis\": {\"gridcolor\": \"white\", \"linecolor\": \"white\", \"ticks\": \"\"}, \"bgcolor\": \"#E5ECF6\", \"caxis\": {\"gridcolor\": \"white\", \"linecolor\": \"white\", \"ticks\": \"\"}}, \"title\": {\"x\": 0.05}, \"xaxis\": {\"automargin\": true, \"gridcolor\": \"white\", \"linecolor\": \"white\", \"ticks\": \"\", \"zerolinecolor\": \"white\", \"zerolinewidth\": 2}, \"yaxis\": {\"automargin\": true, \"gridcolor\": \"white\", \"linecolor\": \"white\", \"ticks\": \"\", \"zerolinecolor\": \"white\", \"zerolinewidth\": 2}}}, \"title\": {\"text\": \"Linear Regression Iris, 2 features\"}},\n",
       "                        {\"responsive\": true}\n",
       "                    ).then(function(){\n",
       "                            \n",
       "var gd = document.getElementById('4f4315d8-fcc8-42d0-9d13-9b7f9cb5204f');\n",
       "var x = new MutationObserver(function (mutations, observer) {{\n",
       "        var display = window.getComputedStyle(gd).display;\n",
       "        if (!display || display === 'none') {{\n",
       "            console.log([gd, 'removed!']);\n",
       "            Plotly.purge(gd);\n",
       "            observer.disconnect();\n",
       "        }}\n",
       "}});\n",
       "\n",
       "// Listen for the removal of the full notebook cells\n",
       "var notebookContainer = gd.closest('#notebook-container');\n",
       "if (notebookContainer) {{\n",
       "    x.observe(notebookContainer, {childList: true});\n",
       "}}\n",
       "\n",
       "// Listen for the clearing of the current output cell\n",
       "var outputEl = gd.closest('.output');\n",
       "if (outputEl) {{\n",
       "    x.observe(outputEl, {childList: true});\n",
       "}}\n",
       "\n",
       "                        })\n",
       "                };\n",
       "                });\n",
       "            </script>\n",
       "        </div>"
      ]
     },
     "metadata": {},
     "output_type": "display_data"
    }
   ],
   "source": [
    "iris = datasets.load_iris()\n",
    "X = iris.data[:100, 2:]  # we only take the last feature.\n",
    "y = iris.target[:100]\n",
    "X_train, X_test, y_train, y_test = train_test_split(X, y, test_size=0.33, random_state=42)\n",
    "\n",
    "regr = linear_model.LinearRegression()\n",
    "regr.fit(X_train, y_train)\n",
    "train_preds = regr.predict(X_train)\n",
    "test_pres = regr.predict(X_test)\n",
    "\n",
    "X_linspace = np.linspace(1, 5, 300)\n",
    "\n",
    "trace0 = go.Scatter3d(\n",
    "    x=X_train[:, 0],\n",
    "    y=y_train,\n",
    "    z=X_train[:, 1],\n",
    "    name='Training Data',\n",
    "    mode='markers',\n",
    "    opacity=0.3,\n",
    ")\n",
    "trace1 = go.Scatter3d(\n",
    "    x=X_test[:, 0],\n",
    "    y=y_test,\n",
    "    z=X_test[:, 1],    \n",
    "    name='Test Data',\n",
    "    mode='markers',\n",
    "    opacity=0.3,    \n",
    ")\n",
    "\n",
    "trace2 = go.Scatter3d(\n",
    "    x=X_linspace,\n",
    "    y=regr.coef_[0] * X_linspace + regr.intercept_,\n",
    "    z=regr.coef_[1] * X_linspace + regr.intercept_,\n",
    "    name='Linear Regression',\n",
    "    mode='lines',\n",
    ")\n",
    "data = [trace0, trace1, trace2]\n",
    "fig = go.Figure(data=data)\n",
    "fig.update_layout(title=\"Linear Regression Iris, 2 features\",\n",
    "                    scene = dict(\n",
    "                    xaxis_title='petal_width',\n",
    "                    yaxis_title='species_id',\n",
    "                    zaxis_title='petal_length'),\n",
    ")\n",
    "fig.show()"
   ]
  },
  {
   "cell_type": "markdown",
   "metadata": {},
   "source": [
    "* in this example we use again a linear function, which was not suitable for the task. \n",
    "* it is left as an exercise to implement logistic regression for this case"
   ]
  },
  {
   "cell_type": "markdown",
   "metadata": {
    "slideshow": {
     "slide_type": "subslide"
    }
   },
   "source": [
    "# However, ...\n",
    "\n",
    "* The iris dataset is a toy example where we can distinguish between the classes\n",
    "\n",
    "<br> \n",
    "\n",
    "# In reality:\n",
    "\n",
    "* data is multi-dimensional - many real world problems have lots of variables \n",
    "\n",
    "For example, the iris dataset presented earlier has 4 variables: petal width, petal length, sepal width and sepal length\n",
    "\n",
    "\n",
    "In contrast, an 8x8 image can be perceived as having 64 variables; one for each pixel"
   ]
  },
  {
   "cell_type": "code",
   "execution_count": 14,
   "metadata": {},
   "outputs": [
    {
     "data": {
      "image/png": "[encoded data removed]",
      "text/plain": [
       "<Figure size 929.032x953.642 with 2 Axes>"
      ]
     },
     "metadata": {},
     "output_type": "display_data"
    }
   ],
   "source": [
    "from sklearn.datasets import load_digits\n",
    "digits = load_digits()\n",
    "\n",
    "fig = plt.figure()\n",
    "ax1 = fig.add_subplot(2,2,1)\n",
    "ax1.matshow(digits.images[0]) \n",
    "\n",
    "# plt.gray()\n",
    "# plt.show()\n",
    "ax2 = fig.add_subplot(2,2,2)\n",
    "ax2.matshow(digits.images[1]) \n",
    "plt.gray()\n",
    "\n",
    "set_size(10,10)\n",
    "plt.show()"
   ]
  },
  {
   "cell_type": "markdown",
   "metadata": {},
   "source": [
    "The number of possible distinct configuration of a set of variables increases exponentially with the set of variables - finding correlations between them and drawing discriminants between classes becomes harder (our linear models might not work in this space)\n",
    "\n",
    "This is also called the *curse of dimensionality*.\n",
    "\n",
    "\n",
    "\n",
    "<small>\"To deal with a n-dimensional space, visualize a 3-D space and say 'n' to yourself very loudly. Everyone does it.\"[Geoffrey Hinton]</small>"
   ]
  },
  {
   "cell_type": "markdown",
   "metadata": {
    "slideshow": {
     "slide_type": "subslide"
    }
   },
   "source": [
    "# In reality:\n",
    "\n",
    "* data is not always separable\n",
    "\n",
    "\n",
    "For example projecting the MNIST dataset to a 2-D space, we get:"
   ]
  },
  {
   "cell_type": "code",
   "execution_count": 15,
   "metadata": {},
   "outputs": [
    {
     "data": {
      "image/png": "[encoded data removed]",
      "text/plain": [
       "<Figure size 464.516x476.821 with 2 Axes>"
      ]
     },
     "metadata": {},
     "output_type": "display_data"
    }
   ],
   "source": [
    "# project from 64 to 2 dimensions\n",
    "pca = PCA(2)\n",
    "projected = pca.fit_transform(digits.data)\n",
    "\n",
    "plt.scatter(projected[:, 0], projected[:, 1],\n",
    "            c=digits.target, edgecolor='none', alpha=0.5,\n",
    "            cmap=plt.cm.get_cmap('Spectral', 10))\n",
    "\n",
    "plt.xlabel('component 1')\n",
    "plt.ylabel('component 2')\n",
    "set_size(5,5)\n",
    "plt.colorbar();"
   ]
  },
  {
   "cell_type": "markdown",
   "metadata": {},
   "source": [
    "We can see that it is not easy to draw a discriminant between classes in this space."
   ]
  },
  {
   "cell_type": "markdown",
   "metadata": {
    "slideshow": {
     "slide_type": "notes"
    }
   },
   "source": [
    "Online demos for other datasets: https://dash-gallery.plotly.host/dash-tsne/"
   ]
  },
  {
   "cell_type": "markdown",
   "metadata": {
    "slideshow": {
     "slide_type": "subslide"
    }
   },
   "source": [
    "# In reality:\n",
    "\n",
    "* data is very distinct"
   ]
  },
  {
   "cell_type": "markdown",
   "metadata": {},
   "source": [
    "<table class=\"centered\" width=\"400\">\n",
    "<tr>\n",
    "<td><img src='./figures/part1/apple_side.jpg'></td>\n",
    "<td><img src='./figures/part1/apple_weird.png'></td>\n",
    "</tr>\n",
    "</table>\n",
    "\n",
    "<table class=\"centered\" width=\"400\">\n",
    "<tr>\n",
    "<td><img src='./figures/part1/1.jpg'></td>\n",
    "<td><img src='./figures/part1/1.1.jpg'></td>\n",
    "<td><img src='./figures/part1/1.2.jpg'></td>\n",
    "</tr>\n",
    "</table>"
   ]
  },
  {
   "cell_type": "markdown",
   "metadata": {},
   "source": [
    "* the training examples have to be informative about the testing examples\n",
    "\n",
    "* although humans can distinguish between large variation of data, machine learning algorithms have troubles doing it."
   ]
  },
  {
   "cell_type": "markdown",
   "metadata": {
    "slideshow": {
     "slide_type": "subslide"
    }
   },
   "source": [
    "# ML Assumptions \n",
    "\n",
    "<br>\n",
    "\n",
    "Machine learning algorithms use two assumptions:\n",
    "\n",
    "1. Training and testing data are drawn from the <span class=\"red\"> same distribution </span> i.e. they are identically and independently distributed (the i.i.d assumption).\n",
    "\n",
    "\n",
    "* for example, we can not train with irises with petals sampled from a normal distribution and test with trees with petals sampled from a beta distribution:"
   ]
  },
  {
   "cell_type": "code",
   "execution_count": 16,
   "metadata": {},
   "outputs": [
    {
     "data": {
      "image/png": "[encoded data removed]",
      "text/plain": [
       "<Figure size 432x288 with 2 Axes>"
      ]
     },
     "metadata": {},
     "output_type": "display_data"
    }
   ],
   "source": [
    "plt.figure()\n",
    "\n",
    "a = 0.5\n",
    "b = 0.5\n",
    "x = np.arange (-50, 50, 0.1)\n",
    "y = beta.pdf(x,a,b, scale=100, loc=-50)\n",
    "plt.subplot(1,2,1)\n",
    "plt.plot(x,y)\n",
    "plt.title(\"Betta distribution\")\n",
    "\n",
    "\n",
    "# Generate some data for this demonstration.\n",
    "data = norm.rvs(10.0, 2.5, size=500)\n",
    "# Fit a normal distribution to the data:\n",
    "mu, std = norm.fit(data)\n",
    "plt.subplot(1,2,2)\n",
    "# Plot the histogram.\n",
    "plt.hist(data, bins=25, density=True, alpha=0.0, color='g')\n",
    "# Plot the PDF.\n",
    "xmin, xmax = plt.xlim()\n",
    "x = np.linspace(xmin, xmax, 100)\n",
    "p = norm.pdf(x, mu, std)\n",
    "plt.plot(x, p, 'k', linewidth=2)\n",
    "plt.title(\"Gaussian distribution\")\n",
    "\n",
    "plt.show()\n",
    "\n",
    "# As an exercise for the reader: you may sample from these distributions and try to train\n",
    "# a classifier as earlier"
   ]
  },
  {
   "cell_type": "markdown",
   "metadata": {
    "slideshow": {
     "slide_type": "notes"
    }
   },
   "source": [
    "This example is far fetched in order to make a point. \n",
    "It is enough to have a normal distribution with different mean and variance for testing."
   ]
  },
  {
   "cell_type": "markdown",
   "metadata": {
    "slideshow": {
     "slide_type": "subslide"
    }
   },
   "source": [
    "# ML Assumptions \n",
    "\n",
    "<br>\n",
    "\n",
    "Machine learning algorithms use two assumptions:\n",
    "\n",
    "2. The data is not spread across all $$\\mathbb{R}^n$$, but lies accross a collection of manifolds contaiining a small subset of points with interesting variations occuring along directions on the manifold (the manifold assumption)\n",
    "\n",
    "For example, the 2D manifold of digit 1 from the MNIST dataset:"
   ]
  },
  {
   "cell_type": "code",
   "execution_count": 17,
   "metadata": {
    "slideshow": {
     "slide_type": "-"
    }
   },
   "outputs": [
    {
     "data": {
      "image/png": "[encoded data removed]",
      "text/plain": [
       "<Figure size 720x720 with 1 Axes>"
      ]
     },
     "metadata": {},
     "output_type": "display_data"
    }
   ],
   "source": [
    "mnist = fetch_openml('mnist_784', version=1)\n",
    "\n",
    "# Choose 1/4 of the \"1\" digits to project\n",
    "data = mnist.data[mnist.target == '1'][::4]\n",
    "trg = np.array(mnist.data[mnist.target==1])\n",
    "indx = np.where(trg == True)\n",
    "\n",
    "\n",
    "fig, ax = plt.subplots(figsize=(10, 10))\n",
    "model = Isomap(n_neighbors=5, n_components=2, eigen_solver='dense')\n",
    "\n",
    "plot_components(data, model, images=data.reshape((-1, 28, 28)),\n",
    "                ax=ax, thumb_frac=0.05, cmap='gray_r')"
   ]
  },
  {
   "cell_type": "markdown",
   "metadata": {
    "slideshow": {
     "slide_type": "subslide"
    }
   },
   "source": [
    "# Details on the Manifold Assumption\n",
    "\n",
    "- the manifold is not dependent on variables, but on the distance between them\n",
    "\n",
    "- this means we can map the manifold to different spaces keeping the distance between points consistent:"
   ]
  },
  {
   "cell_type": "code",
   "execution_count": 18,
   "metadata": {
    "slideshow": {
     "slide_type": "-"
    }
   },
   "outputs": [
    {
     "data": {
      "image/png": "[encoded data removed]",
      "text/plain": [
       "<Figure size 432x288 with 3 Axes>"
      ]
     },
     "metadata": {},
     "output_type": "display_data"
    }
   ],
   "source": [
    "plt.figure()\n",
    "\n",
    "def make_hello(N=1000, rseed=42):\n",
    "    # Make a plot with \"HELLO\" text; save as PNG\n",
    "    fig, ax = plt.subplots(figsize=(4, 1))\n",
    "    fig.subplots_adjust(left=0, right=1, bottom=0, top=1)\n",
    "    ax.axis('off')\n",
    "    ax.text(0.5, 0.4, 'HELLO', va='center', ha='center', weight='bold', size=85)\n",
    "    fig.savefig('hello.png')\n",
    "    plt.close(fig)\n",
    "    \n",
    "    # Open this PNG and draw random points from it\n",
    "    from matplotlib.image import imread\n",
    "    data = imread('hello.png')[::-1, :, 0].T\n",
    "    rng = np.random.RandomState(rseed)\n",
    "    X = rng.rand(4 * N, 2)\n",
    "    i, j = (X * data.shape).astype(int).T\n",
    "    mask = (data[i, j] < 1)\n",
    "    X = X[mask]\n",
    "    X[:, 0] *= (data.shape[0] / data.shape[1])\n",
    "    X = X[:N]\n",
    "    return X[np.argsort(X[:, 0])]\n",
    "\n",
    "X = make_hello(1000)\n",
    "colorize = dict(c=X[:, 0], cmap=plt.cm.get_cmap('rainbow', 5))\n",
    "plt.subplot(1,3,1)\n",
    "plt.scatter(X[:, 0], X[:, 1], **colorize)\n",
    "plt.axis('equal');\n",
    "\n",
    "D = pairwise_distances(X)\n",
    "D.shape\n",
    "model = MDS(n_components=2, dissimilarity='precomputed', random_state=1)\n",
    "out = model.fit_transform(D)\n",
    "plt.subplot(1,3,2)\n",
    "plt.scatter(out[:, 0], out[:, 1], **colorize)\n",
    "plt.axis('equal');\n",
    "\n",
    "def make_hello_s_curve(X):\n",
    "    t = (X[:, 0] - 2) * 0.75 * np.pi\n",
    "    x = np.sin(t)\n",
    "    y = X[:, 1]\n",
    "    z = np.sign(t) * (np.cos(t) - 1)\n",
    "    return np.vstack((x, y, z)).T\n",
    "\n",
    "XS = make_hello_s_curve(X)\n",
    "D = pairwise_distances(X)\n",
    "# D.shape\n",
    "\n",
    "\n",
    "\n",
    "model = MDS(n_components=2, random_state=2)\n",
    "out = model.fit_transform(D)\n",
    "plt.subplot(1,3,3)\n",
    "plt.scatter(out[:, 0], out[:, 1], **colorize)\n",
    "plt.axis('equal');"
   ]
  },
  {
   "cell_type": "markdown",
   "metadata": {
    "slideshow": {
     "slide_type": "subslide"
    }
   },
   "source": [
    "# This also means that if the data is not separable in a space:"
   ]
  },
  {
   "cell_type": "code",
   "execution_count": 19,
   "metadata": {
    "slideshow": {
     "slide_type": "fragment"
    }
   },
   "outputs": [
    {
     "data": {
      "image/png": "[encoded data removed]",
      "text/plain": [
       "<Figure size 432x288 with 1 Axes>"
      ]
     },
     "metadata": {},
     "output_type": "display_data"
    }
   ],
   "source": [
    "X, y = make_circles(100, factor=.1, noise=.1)\n",
    "\n",
    "clf = SVC(kernel='linear').fit(X, y)\n",
    "\n",
    "plt.scatter(X[:, 0], X[:, 1], c=y, s=50, cmap='autumn')\n",
    "plot_svc_decision_function(clf, plot_support=False);"
   ]
  },
  {
   "cell_type": "markdown",
   "metadata": {
    "slideshow": {
     "slide_type": "subslide"
    }
   },
   "source": [
    "# We can map it to another space where we can separate it:"
   ]
  },
  {
   "cell_type": "code",
   "execution_count": 20,
   "metadata": {},
   "outputs": [
    {
     "data": {
      "application/vnd.plotly.v1+json": {
       "config": {
        "plotlyServerURL": "https://plot.ly"
       },
       "data": [
        {
         "hoverlabel": {
          "namelength": 0
         },
         "hovertemplate": "x=%{x}<br>y=%{y}<br>r=%{z}<br>labels=%{marker.color}",
         "legendgroup": "",
         "marker": {
          "color": [
           0,
           1,
           0,
           1,
           0,
           0,
           0,
           0,
           1,
           1,
           1,
           1,
           0,
           1,
           1,
           0,
           0,
           0,
           0,
           1,
           0,
           1,
           0,
           0,
           0,
           1,
           0,
           1,
           1,
           0,
           1,
           0,
           0,
           1,
           0,
           1,
           0,
           1,
           0,
           0,
           1,
           0,
           1,
           1,
           1,
           0,
           1,
           1,
           0,
           1,
           0,
           1,
           1,
           1,
           1,
           1,
           1,
           1,
           0,
           0,
           0,
           0,
           1,
           1,
           0,
           1,
           0,
           0,
           0,
           0,
           0,
           1,
           1,
           1,
           1,
           1,
           1,
           0,
           1,
           1,
           0,
           1,
           0,
           0,
           1,
           1,
           0,
           0,
           0,
           0,
           0,
           1,
           1,
           0,
           0,
           1,
           1,
           1,
           0,
           0
          ],
          "coloraxis": "coloraxis",
          "symbol": "circle"
         },
         "mode": "markers",
         "name": "",
         "scene": "scene",
         "showlegend": false,
         "type": "scatter3d",
         "x": [
          0.6526917001477107,
          -0.16567340209891962,
          -0.43889889679477495,
          -0.14088563164460965,
          -0.7245469409662367,
          -0.7293975056458448,
          -1.0058584365223806,
          -1.0545434558614684,
          -0.03214525785208533,
          0.1962686578865255,
          0.15780513079897895,
          0.15144856191755318,
          0.9648964706739241,
          0.06263321646691312,
          -0.11948471811918984,
          -0.0996634165007087,
          0.8948653752259816,
          -0.8213089882585252,
          -1.0025723850593644,
          0.11884710269430529,
          0.7526256386266704,
          0.03225952049271476,
          -0.26433631213341413,
          0.2168288945917479,
          0.5041173670168371,
          0.17634633986767645,
          -0.8822774473339976,
          0.06856375687836999,
          0.1483911135668787,
          -0.30999977656844235,
          0.00687128903206714,
          0.1565671074210414,
          -0.2663889771234266,
          -0.17073514503238418,
          0.9812773969716173,
          0.14613930316939927,
          -0.6881325609302246,
          0.21823413963779445,
          0.7964397169105812,
          0.2900123679679028,
          0.25035544158365364,
          0.504498060063324,
          -0.013304173029542288,
          -0.20234803022313952,
          -0.1119203052824251,
          0.8376253648884409,
          -0.07991341248789754,
          -0.0400813378094645,
          1.026477121952295,
          -0.1432508080482106,
          0.4608183848258521,
          0.15127063340306912,
          0.11507323005450591,
          0.0666244552919932,
          -0.06903622167973872,
          0.15900936820108874,
          0.0704779387044406,
          -0.08259542293762488,
          0.8772225288846139,
          0.6107757897955987,
          -0.050328449588864815,
          0.27868198599921723,
          -0.10741061002144736,
          0.0522224903007698,
          -0.3454516232250615,
          -0.03872479211063893,
          -0.21274634736029374,
          0.9454999356919888,
          0.1593229910532177,
          1.0265445727409463,
          -0.4639850684173583,
          0.1644121111664938,
          -0.054763728069239175,
          0.05525716199773742,
          0.22938966334574745,
          0.1853555458470991,
          -0.0833027654258312,
          -0.919767840848028,
          -0.04747886264329725,
          -0.09324019663463753,
          0.5785662905033471,
          0.013285081943803748,
          -0.705967126523219,
          -0.5218153104094909,
          0.07332729897489149,
          0.013873139838468627,
          0.8004734108304783,
          1.171465957945564,
          -0.8963254096363898,
          -1.0502826693535947,
          -0.6419298882442437,
          -0.032736815974748416,
          -0.1551529840126469,
          0.010748386163331389,
          -1.013647120097464,
          -0.1651445108888709,
          -0.16634045705005984,
          -0.09903169526168967,
          0.6073198632360925,
          -0.1387040457007758
         ],
         "y": [
          0.5907333733023196,
          0.08863151861400412,
          -0.847417733993645,
          -0.0983667963144069,
          -0.8371631467598297,
          0.6953421888031711,
          0.25680771880916275,
          -0.3194587842636137,
          -0.13719170763323738,
          -0.03351659930484756,
          -0.05969684872653039,
          0.10521012326188464,
          0.3177079011553345,
          -0.13250029682885525,
          0.0642229855755114,
          -1.0201494001923732,
          -0.38948671183945494,
          0.5276914423825871,
          0.0680698050098254,
          -0.040375460127610466,
          -0.7850992617074787,
          0.05854255087500704,
          0.9370980663944332,
          -0.9083579594969147,
          -0.7680515885377144,
          0.010790587242386795,
          -0.443944522178864,
          -0.21495976441985618,
          0.07870429623248852,
          -0.885165969175265,
          -0.18566048524140027,
          -1.161137138699058,
          -0.9840130118471216,
          0.02607335263110698,
          0.12843335056670716,
          -0.02033096749587942,
          0.5785705062084285,
          0.055489782228435244,
          -0.6378280087923051,
          0.818709898311295,
          0.1547773544747341,
          -1.1011161675755172,
          0.12519223752117487,
          0.10480330510507015,
          -0.0244217548817812,
          0.6683640158094745,
          0.09180862320537156,
          -0.01363693656992404,
          -0.027446071406879987,
          -0.17799003586495055,
          1.102999110640401,
          0.021029513576373803,
          0.017589555715822564,
          -0.17683487449683546,
          -0.1971809308244491,
          -0.010248686631240154,
          -0.22515398103879533,
          0.1492531800979951,
          -0.3949680364706849,
          -0.781193896797862,
          1.0274750562640829,
          0.9625027083568559,
          -0.04758988898133124,
          -0.008784781151541354,
          0.712388516326627,
          -0.05943917401748297,
          1.004453947550162,
          0.29877722996848766,
          -1.005336493833783,
          -0.054951648028518485,
          0.9822578706128681,
          0.16087162433451668,
          -0.05740644108767959,
          -0.11300238632216358,
          0.09102117488833206,
          0.09337972896167064,
          -0.09318241937260319,
          -0.23637334952546726,
          0.21895786325613542,
          0.045692305156228886,
          0.848784139110621,
          0.15138315060681362,
          -0.4434610410387071,
          0.671580283129392,
          0.032422222759231206,
          0.038114165651779726,
          -0.3279190544110624,
          0.3095230875596773,
          -0.431766644447555,
          -0.028614295066758458,
          -0.8468207289957814,
          0.09120401820731869,
          -0.002047340880303075,
          0.9173740357608553,
          0.40809750189436883,
          -0.03629623421842622,
          -0.07363625012595829,
          -0.054725293184025144,
          0.7149776119631495,
          -0.8504736750086997
         ],
         "z": [
          0.46071650868115677,
          0.9653126675921471,
          0.402222823144258,
          0.9709068106786221,
          0.29351973435828554,
          0.3622134932013111,
          0.34037701816594224,
          0.29697247681106775,
          0.9803409278585736,
          0.9611308216788675,
          0.9719351711882688,
          0.9665658628305408,
          0.35630666173027203,
          0.9787497878191578,
          0.9817670784592559,
          0.3497147015611124,
          0.3857815746446012,
          0.3855799507432211,
          0.3642973367326253,
          0.9843686462429104,
          0.3064115326423636,
          0.9955420593224936,
          0.38750502134908316,
          0.4180605702247066,
          0.4299709793811728,
          0.9692676735367116,
          0.3770037167434375,
          0.9503654453168926,
          0.9721800171590773,
          0.41494111745927054,
          0.9660718869624594,
          0.25340843762629023,
          0.35372174902850206,
          0.9706102229413983,
          0.3755361820815906,
          0.9784652129627477,
          0.44562822444138245,
          0.9505588010969734,
          0.35305169377810824,
          0.4702959643090045,
          0.9170127740245352,
          0.23062203812140036,
          0.9842748544006468,
          0.9493967860669277,
          0.986963148775471,
          0.3171670381897586,
          0.9852942250390136,
          0.9982091258526544,
          0.3483984201059674,
          0.9491378365991155,
          0.23955778401289765,
          0.9769448811375308,
          0.9865401639691483,
          0.9649206674863549,
          0.9572924733973569,
          0.9749305758719055,
          0.945859297608203,
          0.9713207694466586,
          0.39632562708042446,
          0.3740705100488576,
          0.34706682300181896,
          0.3663833413678891,
          0.9862929719902845,
          0.9971995676736465,
          0.5342805399919129,
          0.9949800175078491,
          0.34847501613506776,
          0.3740978212804309,
          0.3548410694956181,
          0.3475615722142209,
          0.30724412004120194,
          0.9484644013695404,
          0.9937252038849179,
          0.9843016310656124,
          0.9409131190991973,
          0.957838158474216,
          0.9844990813587865,
          0.40582013230486014,
          0.9510422521160375,
          0.9892763912644253,
          0.3481320325399888,
          0.9771712589270052,
          0.49905085297646845,
          0.4851431413106653,
          0.99359252269066,
          0.9983561988911234,
          0.47317565883263946,
          0.23035422816889534,
          0.3716429582630825,
          0.33157128212840803,
          0.32329846942788387,
          0.9906540751309099,
          0.9762108900367849,
          0.4309812689682163,
          0.3029995207569327,
          0.9718147043346081,
          0.9674500870859482,
          0.987279464358023,
          0.41477030168896306,
          0.47590154509680915
         ]
        }
       ],
       "layout": {
        "coloraxis": {
         "colorbar": {
          "title": {
           "text": "labels"
          }
         },
         "colorscale": [
          [
           0,
           "#0d0887"
          ],
          [
           0.1111111111111111,
           "#46039f"
          ],
          [
           0.2222222222222222,
           "#7201a8"
          ],
          [
           0.3333333333333333,
           "#9c179e"
          ],
          [
           0.4444444444444444,
           "#bd3786"
          ],
          [
           0.5555555555555556,
           "#d8576b"
          ],
          [
           0.6666666666666666,
           "#ed7953"
          ],
          [
           0.7777777777777778,
           "#fb9f3a"
          ],
          [
           0.8888888888888888,
           "#fdca26"
          ],
          [
           1,
           "#f0f921"
          ]
         ]
        },
        "height": 600,
        "legend": {
         "tracegroupgap": 0
        },
        "margin": {
         "t": 60
        },
        "scene": {
         "domain": {
          "x": [
           0,
           0.98
          ],
          "y": [
           0,
           1
          ]
         },
         "xaxis": {
          "title": {
           "text": "x"
          }
         },
         "yaxis": {
          "title": {
           "text": "y"
          }
         },
         "zaxis": {
          "title": {
           "text": "r"
          }
         }
        },
        "showlegend": false,
        "template": {
         "data": {
          "bar": [
           {
            "error_x": {
             "color": "#2a3f5f"
            },
            "error_y": {
             "color": "#2a3f5f"
            },
            "marker": {
             "line": {
              "color": "#E5ECF6",
              "width": 0.5
             }
            },
            "type": "bar"
           }
          ],
          "barpolar": [
           {
            "marker": {
             "line": {
              "color": "#E5ECF6",
              "width": 0.5
             }
            },
            "type": "barpolar"
           }
          ],
          "carpet": [
           {
            "aaxis": {
             "endlinecolor": "#2a3f5f",
             "gridcolor": "white",
             "linecolor": "white",
             "minorgridcolor": "white",
             "startlinecolor": "#2a3f5f"
            },
            "baxis": {
             "endlinecolor": "#2a3f5f",
             "gridcolor": "white",
             "linecolor": "white",
             "minorgridcolor": "white",
             "startlinecolor": "#2a3f5f"
            },
            "type": "carpet"
           }
          ],
          "choropleth": [
           {
            "colorbar": {
             "outlinewidth": 0,
             "ticks": ""
            },
            "type": "choropleth"
           }
          ],
          "contour": [
           {
            "colorbar": {
             "outlinewidth": 0,
             "ticks": ""
            },
            "colorscale": [
             [
              0,
              "#0d0887"
             ],
             [
              0.1111111111111111,
              "#46039f"
             ],
             [
              0.2222222222222222,
              "#7201a8"
             ],
             [
              0.3333333333333333,
              "#9c179e"
             ],
             [
              0.4444444444444444,
              "#bd3786"
             ],
             [
              0.5555555555555556,
              "#d8576b"
             ],
             [
              0.6666666666666666,
              "#ed7953"
             ],
             [
              0.7777777777777778,
              "#fb9f3a"
             ],
             [
              0.8888888888888888,
              "#fdca26"
             ],
             [
              1,
              "#f0f921"
             ]
            ],
            "type": "contour"
           }
          ],
          "contourcarpet": [
           {
            "colorbar": {
             "outlinewidth": 0,
             "ticks": ""
            },
            "type": "contourcarpet"
           }
          ],
          "heatmap": [
           {
            "colorbar": {
             "outlinewidth": 0,
             "ticks": ""
            },
            "colorscale": [
             [
              0,
              "#0d0887"
             ],
             [
              0.1111111111111111,
              "#46039f"
             ],
             [
              0.2222222222222222,
              "#7201a8"
             ],
             [
              0.3333333333333333,
              "#9c179e"
             ],
             [
              0.4444444444444444,
              "#bd3786"
             ],
             [
              0.5555555555555556,
              "#d8576b"
             ],
             [
              0.6666666666666666,
              "#ed7953"
             ],
             [
              0.7777777777777778,
              "#fb9f3a"
             ],
             [
              0.8888888888888888,
              "#fdca26"
             ],
             [
              1,
              "#f0f921"
             ]
            ],
            "type": "heatmap"
           }
          ],
          "heatmapgl": [
           {
            "colorbar": {
             "outlinewidth": 0,
             "ticks": ""
            },
            "colorscale": [
             [
              0,
              "#0d0887"
             ],
             [
              0.1111111111111111,
              "#46039f"
             ],
             [
              0.2222222222222222,
              "#7201a8"
             ],
             [
              0.3333333333333333,
              "#9c179e"
             ],
             [
              0.4444444444444444,
              "#bd3786"
             ],
             [
              0.5555555555555556,
              "#d8576b"
             ],
             [
              0.6666666666666666,
              "#ed7953"
             ],
             [
              0.7777777777777778,
              "#fb9f3a"
             ],
             [
              0.8888888888888888,
              "#fdca26"
             ],
             [
              1,
              "#f0f921"
             ]
            ],
            "type": "heatmapgl"
           }
          ],
          "histogram": [
           {
            "marker": {
             "colorbar": {
              "outlinewidth": 0,
              "ticks": ""
             }
            },
            "type": "histogram"
           }
          ],
          "histogram2d": [
           {
            "colorbar": {
             "outlinewidth": 0,
             "ticks": ""
            },
            "colorscale": [
             [
              0,
              "#0d0887"
             ],
             [
              0.1111111111111111,
              "#46039f"
             ],
             [
              0.2222222222222222,
              "#7201a8"
             ],
             [
              0.3333333333333333,
              "#9c179e"
             ],
             [
              0.4444444444444444,
              "#bd3786"
             ],
             [
              0.5555555555555556,
              "#d8576b"
             ],
             [
              0.6666666666666666,
              "#ed7953"
             ],
             [
              0.7777777777777778,
              "#fb9f3a"
             ],
             [
              0.8888888888888888,
              "#fdca26"
             ],
             [
              1,
              "#f0f921"
             ]
            ],
            "type": "histogram2d"
           }
          ],
          "histogram2dcontour": [
           {
            "colorbar": {
             "outlinewidth": 0,
             "ticks": ""
            },
            "colorscale": [
             [
              0,
              "#0d0887"
             ],
             [
              0.1111111111111111,
              "#46039f"
             ],
             [
              0.2222222222222222,
              "#7201a8"
             ],
             [
              0.3333333333333333,
              "#9c179e"
             ],
             [
              0.4444444444444444,
              "#bd3786"
             ],
             [
              0.5555555555555556,
              "#d8576b"
             ],
             [
              0.6666666666666666,
              "#ed7953"
             ],
             [
              0.7777777777777778,
              "#fb9f3a"
             ],
             [
              0.8888888888888888,
              "#fdca26"
             ],
             [
              1,
              "#f0f921"
             ]
            ],
            "type": "histogram2dcontour"
           }
          ],
          "mesh3d": [
           {
            "colorbar": {
             "outlinewidth": 0,
             "ticks": ""
            },
            "type": "mesh3d"
           }
          ],
          "parcoords": [
           {
            "line": {
             "colorbar": {
              "outlinewidth": 0,
              "ticks": ""
             }
            },
            "type": "parcoords"
           }
          ],
          "scatter": [
           {
            "marker": {
             "colorbar": {
              "outlinewidth": 0,
              "ticks": ""
             }
            },
            "type": "scatter"
           }
          ],
          "scatter3d": [
           {
            "line": {
             "colorbar": {
              "outlinewidth": 0,
              "ticks": ""
             }
            },
            "marker": {
             "colorbar": {
              "outlinewidth": 0,
              "ticks": ""
             }
            },
            "type": "scatter3d"
           }
          ],
          "scattercarpet": [
           {
            "marker": {
             "colorbar": {
              "outlinewidth": 0,
              "ticks": ""
             }
            },
            "type": "scattercarpet"
           }
          ],
          "scattergeo": [
           {
            "marker": {
             "colorbar": {
              "outlinewidth": 0,
              "ticks": ""
             }
            },
            "type": "scattergeo"
           }
          ],
          "scattergl": [
           {
            "marker": {
             "colorbar": {
              "outlinewidth": 0,
              "ticks": ""
             }
            },
            "type": "scattergl"
           }
          ],
          "scattermapbox": [
           {
            "marker": {
             "colorbar": {
              "outlinewidth": 0,
              "ticks": ""
             }
            },
            "type": "scattermapbox"
           }
          ],
          "scatterpolar": [
           {
            "marker": {
             "colorbar": {
              "outlinewidth": 0,
              "ticks": ""
             }
            },
            "type": "scatterpolar"
           }
          ],
          "scatterpolargl": [
           {
            "marker": {
             "colorbar": {
              "outlinewidth": 0,
              "ticks": ""
             }
            },
            "type": "scatterpolargl"
           }
          ],
          "scatterternary": [
           {
            "marker": {
             "colorbar": {
              "outlinewidth": 0,
              "ticks": ""
             }
            },
            "type": "scatterternary"
           }
          ],
          "surface": [
           {
            "colorbar": {
             "outlinewidth": 0,
             "ticks": ""
            },
            "colorscale": [
             [
              0,
              "#0d0887"
             ],
             [
              0.1111111111111111,
              "#46039f"
             ],
             [
              0.2222222222222222,
              "#7201a8"
             ],
             [
              0.3333333333333333,
              "#9c179e"
             ],
             [
              0.4444444444444444,
              "#bd3786"
             ],
             [
              0.5555555555555556,
              "#d8576b"
             ],
             [
              0.6666666666666666,
              "#ed7953"
             ],
             [
              0.7777777777777778,
              "#fb9f3a"
             ],
             [
              0.8888888888888888,
              "#fdca26"
             ],
             [
              1,
              "#f0f921"
             ]
            ],
            "type": "surface"
           }
          ],
          "table": [
           {
            "cells": {
             "fill": {
              "color": "#EBF0F8"
             },
             "line": {
              "color": "white"
             }
            },
            "header": {
             "fill": {
              "color": "#C8D4E3"
             },
             "line": {
              "color": "white"
             }
            },
            "type": "table"
           }
          ]
         },
         "layout": {
          "annotationdefaults": {
           "arrowcolor": "#2a3f5f",
           "arrowhead": 0,
           "arrowwidth": 1
          },
          "colorscale": {
           "diverging": [
            [
             0,
             "#8e0152"
            ],
            [
             0.1,
             "#c51b7d"
            ],
            [
             0.2,
             "#de77ae"
            ],
            [
             0.3,
             "#f1b6da"
            ],
            [
             0.4,
             "#fde0ef"
            ],
            [
             0.5,
             "#f7f7f7"
            ],
            [
             0.6,
             "#e6f5d0"
            ],
            [
             0.7,
             "#b8e186"
            ],
            [
             0.8,
             "#7fbc41"
            ],
            [
             0.9,
             "#4d9221"
            ],
            [
             1,
             "#276419"
            ]
           ],
           "sequential": [
            [
             0,
             "#0d0887"
            ],
            [
             0.1111111111111111,
             "#46039f"
            ],
            [
             0.2222222222222222,
             "#7201a8"
            ],
            [
             0.3333333333333333,
             "#9c179e"
            ],
            [
             0.4444444444444444,
             "#bd3786"
            ],
            [
             0.5555555555555556,
             "#d8576b"
            ],
            [
             0.6666666666666666,
             "#ed7953"
            ],
            [
             0.7777777777777778,
             "#fb9f3a"
            ],
            [
             0.8888888888888888,
             "#fdca26"
            ],
            [
             1,
             "#f0f921"
            ]
           ],
           "sequentialminus": [
            [
             0,
             "#0d0887"
            ],
            [
             0.1111111111111111,
             "#46039f"
            ],
            [
             0.2222222222222222,
             "#7201a8"
            ],
            [
             0.3333333333333333,
             "#9c179e"
            ],
            [
             0.4444444444444444,
             "#bd3786"
            ],
            [
             0.5555555555555556,
             "#d8576b"
            ],
            [
             0.6666666666666666,
             "#ed7953"
            ],
            [
             0.7777777777777778,
             "#fb9f3a"
            ],
            [
             0.8888888888888888,
             "#fdca26"
            ],
            [
             1,
             "#f0f921"
            ]
           ]
          },
          "colorway": [
           "#636efa",
           "#EF553B",
           "#00cc96",
           "#ab63fa",
           "#FFA15A",
           "#19d3f3",
           "#FF6692",
           "#B6E880",
           "#FF97FF",
           "#FECB52"
          ],
          "font": {
           "color": "#2a3f5f"
          },
          "geo": {
           "bgcolor": "white",
           "lakecolor": "white",
           "landcolor": "#E5ECF6",
           "showlakes": true,
           "showland": true,
           "subunitcolor": "white"
          },
          "hoverlabel": {
           "align": "left"
          },
          "hovermode": "closest",
          "mapbox": {
           "style": "light"
          },
          "paper_bgcolor": "white",
          "plot_bgcolor": "#E5ECF6",
          "polar": {
           "angularaxis": {
            "gridcolor": "white",
            "linecolor": "white",
            "ticks": ""
           },
           "bgcolor": "#E5ECF6",
           "radialaxis": {
            "gridcolor": "white",
            "linecolor": "white",
            "ticks": ""
           }
          },
          "scene": {
           "xaxis": {
            "backgroundcolor": "#E5ECF6",
            "gridcolor": "white",
            "gridwidth": 2,
            "linecolor": "white",
            "showbackground": true,
            "ticks": "",
            "zerolinecolor": "white"
           },
           "yaxis": {
            "backgroundcolor": "#E5ECF6",
            "gridcolor": "white",
            "gridwidth": 2,
            "linecolor": "white",
            "showbackground": true,
            "ticks": "",
            "zerolinecolor": "white"
           },
           "zaxis": {
            "backgroundcolor": "#E5ECF6",
            "gridcolor": "white",
            "gridwidth": 2,
            "linecolor": "white",
            "showbackground": true,
            "ticks": "",
            "zerolinecolor": "white"
           }
          },
          "shapedefaults": {
           "line": {
            "color": "#2a3f5f"
           }
          },
          "ternary": {
           "aaxis": {
            "gridcolor": "white",
            "linecolor": "white",
            "ticks": ""
           },
           "baxis": {
            "gridcolor": "white",
            "linecolor": "white",
            "ticks": ""
           },
           "bgcolor": "#E5ECF6",
           "caxis": {
            "gridcolor": "white",
            "linecolor": "white",
            "ticks": ""
           }
          },
          "title": {
           "x": 0.05
          },
          "xaxis": {
           "automargin": true,
           "gridcolor": "white",
           "linecolor": "white",
           "ticks": "",
           "zerolinecolor": "white",
           "zerolinewidth": 2
          },
          "yaxis": {
           "automargin": true,
           "gridcolor": "white",
           "linecolor": "white",
           "ticks": "",
           "zerolinecolor": "white",
           "zerolinewidth": 2
          }
         }
        }
       }
      },
      "text/html": [
       "<div>\n",
       "        \n",
       "        \n",
       "            <div id=\"91c6c8a1-55b9-4aaa-b73d-0db3c168d62a\" class=\"plotly-graph-div\" style=\"height:600px; width:100%;\"></div>\n",
       "            <script type=\"text/javascript\">\n",
       "                require([\"plotly\"], function(Plotly) {\n",
       "                    window.PLOTLYENV=window.PLOTLYENV || {};\n",
       "                    \n",
       "                if (document.getElementById(\"91c6c8a1-55b9-4aaa-b73d-0db3c168d62a\")) {\n",
       "                    Plotly.newPlot(\n",
       "                        '91c6c8a1-55b9-4aaa-b73d-0db3c168d62a',\n",
       "                        [{\"hoverlabel\": {\"namelength\": 0}, \"hovertemplate\": \"x=%{x}<br>y=%{y}<br>r=%{z}<br>labels=%{marker.color}\", \"legendgroup\": \"\", \"marker\": {\"color\": [0, 1, 0, 1, 0, 0, 0, 0, 1, 1, 1, 1, 0, 1, 1, 0, 0, 0, 0, 1, 0, 1, 0, 0, 0, 1, 0, 1, 1, 0, 1, 0, 0, 1, 0, 1, 0, 1, 0, 0, 1, 0, 1, 1, 1, 0, 1, 1, 0, 1, 0, 1, 1, 1, 1, 1, 1, 1, 0, 0, 0, 0, 1, 1, 0, 1, 0, 0, 0, 0, 0, 1, 1, 1, 1, 1, 1, 0, 1, 1, 0, 1, 0, 0, 1, 1, 0, 0, 0, 0, 0, 1, 1, 0, 0, 1, 1, 1, 0, 0], \"coloraxis\": \"coloraxis\", \"symbol\": \"circle\"}, \"mode\": \"markers\", \"name\": \"\", \"scene\": \"scene\", \"showlegend\": false, \"type\": \"scatter3d\", \"x\": [0.6526917001477107, -0.16567340209891962, -0.43889889679477495, -0.14088563164460965, -0.7245469409662367, -0.7293975056458448, -1.0058584365223806, -1.0545434558614684, -0.03214525785208533, 0.1962686578865255, 0.15780513079897895, 0.15144856191755318, 0.9648964706739241, 0.06263321646691312, -0.11948471811918984, -0.0996634165007087, 0.8948653752259816, -0.8213089882585252, -1.0025723850593644, 0.11884710269430529, 0.7526256386266704, 0.03225952049271476, -0.26433631213341413, 0.2168288945917479, 0.5041173670168371, 0.17634633986767645, -0.8822774473339976, 0.06856375687836999, 0.1483911135668787, -0.30999977656844235, 0.00687128903206714, 0.1565671074210414, -0.2663889771234266, -0.17073514503238418, 0.9812773969716173, 0.14613930316939927, -0.6881325609302246, 0.21823413963779445, 0.7964397169105812, 0.2900123679679028, 0.25035544158365364, 0.504498060063324, -0.013304173029542288, -0.20234803022313952, -0.1119203052824251, 0.8376253648884409, -0.07991341248789754, -0.0400813378094645, 1.026477121952295, -0.1432508080482106, 0.4608183848258521, 0.15127063340306912, 0.11507323005450591, 0.0666244552919932, -0.06903622167973872, 0.15900936820108874, 0.0704779387044406, -0.08259542293762488, 0.8772225288846139, 0.6107757897955987, -0.050328449588864815, 0.27868198599921723, -0.10741061002144736, 0.0522224903007698, -0.3454516232250615, -0.03872479211063893, -0.21274634736029374, 0.9454999356919888, 0.1593229910532177, 1.0265445727409463, -0.4639850684173583, 0.1644121111664938, -0.054763728069239175, 0.05525716199773742, 0.22938966334574745, 0.1853555458470991, -0.0833027654258312, -0.919767840848028, -0.04747886264329725, -0.09324019663463753, 0.5785662905033471, 0.013285081943803748, -0.705967126523219, -0.5218153104094909, 0.07332729897489149, 0.013873139838468627, 0.8004734108304783, 1.171465957945564, -0.8963254096363898, -1.0502826693535947, -0.6419298882442437, -0.032736815974748416, -0.1551529840126469, 0.010748386163331389, -1.013647120097464, -0.1651445108888709, -0.16634045705005984, -0.09903169526168967, 0.6073198632360925, -0.1387040457007758], \"y\": [0.5907333733023196, 0.08863151861400412, -0.847417733993645, -0.0983667963144069, -0.8371631467598297, 0.6953421888031711, 0.25680771880916275, -0.3194587842636137, -0.13719170763323738, -0.03351659930484756, -0.05969684872653039, 0.10521012326188464, 0.3177079011553345, -0.13250029682885525, 0.0642229855755114, -1.0201494001923732, -0.38948671183945494, 0.5276914423825871, 0.0680698050098254, -0.040375460127610466, -0.7850992617074787, 0.05854255087500704, 0.9370980663944332, -0.9083579594969147, -0.7680515885377144, 0.010790587242386795, -0.443944522178864, -0.21495976441985618, 0.07870429623248852, -0.885165969175265, -0.18566048524140027, -1.161137138699058, -0.9840130118471216, 0.02607335263110698, 0.12843335056670716, -0.02033096749587942, 0.5785705062084285, 0.055489782228435244, -0.6378280087923051, 0.818709898311295, 0.1547773544747341, -1.1011161675755172, 0.12519223752117487, 0.10480330510507015, -0.0244217548817812, 0.6683640158094745, 0.09180862320537156, -0.01363693656992404, -0.027446071406879987, -0.17799003586495055, 1.102999110640401, 0.021029513576373803, 0.017589555715822564, -0.17683487449683546, -0.1971809308244491, -0.010248686631240154, -0.22515398103879533, 0.1492531800979951, -0.3949680364706849, -0.781193896797862, 1.0274750562640829, 0.9625027083568559, -0.04758988898133124, -0.008784781151541354, 0.712388516326627, -0.05943917401748297, 1.004453947550162, 0.29877722996848766, -1.005336493833783, -0.054951648028518485, 0.9822578706128681, 0.16087162433451668, -0.05740644108767959, -0.11300238632216358, 0.09102117488833206, 0.09337972896167064, -0.09318241937260319, -0.23637334952546726, 0.21895786325613542, 0.045692305156228886, 0.848784139110621, 0.15138315060681362, -0.4434610410387071, 0.671580283129392, 0.032422222759231206, 0.038114165651779726, -0.3279190544110624, 0.3095230875596773, -0.431766644447555, -0.028614295066758458, -0.8468207289957814, 0.09120401820731869, -0.002047340880303075, 0.9173740357608553, 0.40809750189436883, -0.03629623421842622, -0.07363625012595829, -0.054725293184025144, 0.7149776119631495, -0.8504736750086997], \"z\": [0.46071650868115677, 0.9653126675921471, 0.402222823144258, 0.9709068106786221, 0.29351973435828554, 0.3622134932013111, 0.34037701816594224, 0.29697247681106775, 0.9803409278585736, 0.9611308216788675, 0.9719351711882688, 0.9665658628305408, 0.35630666173027203, 0.9787497878191578, 0.9817670784592559, 0.3497147015611124, 0.3857815746446012, 0.3855799507432211, 0.3642973367326253, 0.9843686462429104, 0.3064115326423636, 0.9955420593224936, 0.38750502134908316, 0.4180605702247066, 0.4299709793811728, 0.9692676735367116, 0.3770037167434375, 0.9503654453168926, 0.9721800171590773, 0.41494111745927054, 0.9660718869624594, 0.25340843762629023, 0.35372174902850206, 0.9706102229413983, 0.3755361820815906, 0.9784652129627477, 0.44562822444138245, 0.9505588010969734, 0.35305169377810824, 0.4702959643090045, 0.9170127740245352, 0.23062203812140036, 0.9842748544006468, 0.9493967860669277, 0.986963148775471, 0.3171670381897586, 0.9852942250390136, 0.9982091258526544, 0.3483984201059674, 0.9491378365991155, 0.23955778401289765, 0.9769448811375308, 0.9865401639691483, 0.9649206674863549, 0.9572924733973569, 0.9749305758719055, 0.945859297608203, 0.9713207694466586, 0.39632562708042446, 0.3740705100488576, 0.34706682300181896, 0.3663833413678891, 0.9862929719902845, 0.9971995676736465, 0.5342805399919129, 0.9949800175078491, 0.34847501613506776, 0.3740978212804309, 0.3548410694956181, 0.3475615722142209, 0.30724412004120194, 0.9484644013695404, 0.9937252038849179, 0.9843016310656124, 0.9409131190991973, 0.957838158474216, 0.9844990813587865, 0.40582013230486014, 0.9510422521160375, 0.9892763912644253, 0.3481320325399888, 0.9771712589270052, 0.49905085297646845, 0.4851431413106653, 0.99359252269066, 0.9983561988911234, 0.47317565883263946, 0.23035422816889534, 0.3716429582630825, 0.33157128212840803, 0.32329846942788387, 0.9906540751309099, 0.9762108900367849, 0.4309812689682163, 0.3029995207569327, 0.9718147043346081, 0.9674500870859482, 0.987279464358023, 0.41477030168896306, 0.47590154509680915]}],\n",
       "                        {\"coloraxis\": {\"colorbar\": {\"title\": {\"text\": \"labels\"}}, \"colorscale\": [[0.0, \"#0d0887\"], [0.1111111111111111, \"#46039f\"], [0.2222222222222222, \"#7201a8\"], [0.3333333333333333, \"#9c179e\"], [0.4444444444444444, \"#bd3786\"], [0.5555555555555556, \"#d8576b\"], [0.6666666666666666, \"#ed7953\"], [0.7777777777777778, \"#fb9f3a\"], [0.8888888888888888, \"#fdca26\"], [1.0, \"#f0f921\"]]}, \"height\": 600, \"legend\": {\"tracegroupgap\": 0}, \"margin\": {\"t\": 60}, \"scene\": {\"domain\": {\"x\": [0.0, 0.98], \"y\": [0.0, 1.0]}, \"xaxis\": {\"title\": {\"text\": \"x\"}}, \"yaxis\": {\"title\": {\"text\": \"y\"}}, \"zaxis\": {\"title\": {\"text\": \"r\"}}}, \"showlegend\": false, \"template\": {\"data\": {\"bar\": [{\"error_x\": {\"color\": \"#2a3f5f\"}, \"error_y\": {\"color\": \"#2a3f5f\"}, \"marker\": {\"line\": {\"color\": \"#E5ECF6\", \"width\": 0.5}}, \"type\": \"bar\"}], \"barpolar\": [{\"marker\": {\"line\": {\"color\": \"#E5ECF6\", \"width\": 0.5}}, \"type\": \"barpolar\"}], \"carpet\": [{\"aaxis\": {\"endlinecolor\": \"#2a3f5f\", \"gridcolor\": \"white\", \"linecolor\": \"white\", \"minorgridcolor\": \"white\", \"startlinecolor\": \"#2a3f5f\"}, \"baxis\": {\"endlinecolor\": \"#2a3f5f\", \"gridcolor\": \"white\", \"linecolor\": \"white\", \"minorgridcolor\": \"white\", \"startlinecolor\": \"#2a3f5f\"}, \"type\": \"carpet\"}], \"choropleth\": [{\"colorbar\": {\"outlinewidth\": 0, \"ticks\": \"\"}, \"type\": \"choropleth\"}], \"contour\": [{\"colorbar\": {\"outlinewidth\": 0, \"ticks\": \"\"}, \"colorscale\": [[0.0, \"#0d0887\"], [0.1111111111111111, \"#46039f\"], [0.2222222222222222, \"#7201a8\"], [0.3333333333333333, \"#9c179e\"], [0.4444444444444444, \"#bd3786\"], [0.5555555555555556, \"#d8576b\"], [0.6666666666666666, \"#ed7953\"], [0.7777777777777778, \"#fb9f3a\"], [0.8888888888888888, \"#fdca26\"], [1.0, \"#f0f921\"]], \"type\": \"contour\"}], \"contourcarpet\": [{\"colorbar\": {\"outlinewidth\": 0, \"ticks\": \"\"}, \"type\": \"contourcarpet\"}], \"heatmap\": [{\"colorbar\": {\"outlinewidth\": 0, \"ticks\": \"\"}, \"colorscale\": [[0.0, \"#0d0887\"], [0.1111111111111111, \"#46039f\"], [0.2222222222222222, \"#7201a8\"], [0.3333333333333333, \"#9c179e\"], [0.4444444444444444, \"#bd3786\"], [0.5555555555555556, \"#d8576b\"], [0.6666666666666666, \"#ed7953\"], [0.7777777777777778, \"#fb9f3a\"], [0.8888888888888888, \"#fdca26\"], [1.0, \"#f0f921\"]], \"type\": \"heatmap\"}], \"heatmapgl\": [{\"colorbar\": {\"outlinewidth\": 0, \"ticks\": \"\"}, \"colorscale\": [[0.0, \"#0d0887\"], [0.1111111111111111, \"#46039f\"], [0.2222222222222222, \"#7201a8\"], [0.3333333333333333, \"#9c179e\"], [0.4444444444444444, \"#bd3786\"], [0.5555555555555556, \"#d8576b\"], [0.6666666666666666, \"#ed7953\"], [0.7777777777777778, \"#fb9f3a\"], [0.8888888888888888, \"#fdca26\"], [1.0, \"#f0f921\"]], \"type\": \"heatmapgl\"}], \"histogram\": [{\"marker\": {\"colorbar\": {\"outlinewidth\": 0, \"ticks\": \"\"}}, \"type\": \"histogram\"}], \"histogram2d\": [{\"colorbar\": {\"outlinewidth\": 0, \"ticks\": \"\"}, \"colorscale\": [[0.0, \"#0d0887\"], [0.1111111111111111, \"#46039f\"], [0.2222222222222222, \"#7201a8\"], [0.3333333333333333, \"#9c179e\"], [0.4444444444444444, \"#bd3786\"], [0.5555555555555556, \"#d8576b\"], [0.6666666666666666, \"#ed7953\"], [0.7777777777777778, \"#fb9f3a\"], [0.8888888888888888, \"#fdca26\"], [1.0, \"#f0f921\"]], \"type\": \"histogram2d\"}], \"histogram2dcontour\": [{\"colorbar\": {\"outlinewidth\": 0, \"ticks\": \"\"}, \"colorscale\": [[0.0, \"#0d0887\"], [0.1111111111111111, \"#46039f\"], [0.2222222222222222, \"#7201a8\"], [0.3333333333333333, \"#9c179e\"], [0.4444444444444444, \"#bd3786\"], [0.5555555555555556, \"#d8576b\"], [0.6666666666666666, \"#ed7953\"], [0.7777777777777778, \"#fb9f3a\"], [0.8888888888888888, \"#fdca26\"], [1.0, \"#f0f921\"]], \"type\": \"histogram2dcontour\"}], \"mesh3d\": [{\"colorbar\": {\"outlinewidth\": 0, \"ticks\": \"\"}, \"type\": \"mesh3d\"}], \"parcoords\": [{\"line\": {\"colorbar\": {\"outlinewidth\": 0, \"ticks\": \"\"}}, \"type\": \"parcoords\"}], \"scatter\": [{\"marker\": {\"colorbar\": {\"outlinewidth\": 0, \"ticks\": \"\"}}, \"type\": \"scatter\"}], \"scatter3d\": [{\"line\": {\"colorbar\": {\"outlinewidth\": 0, \"ticks\": \"\"}}, \"marker\": {\"colorbar\": {\"outlinewidth\": 0, \"ticks\": \"\"}}, \"type\": \"scatter3d\"}], \"scattercarpet\": [{\"marker\": {\"colorbar\": {\"outlinewidth\": 0, \"ticks\": \"\"}}, \"type\": \"scattercarpet\"}], \"scattergeo\": [{\"marker\": {\"colorbar\": {\"outlinewidth\": 0, \"ticks\": \"\"}}, \"type\": \"scattergeo\"}], \"scattergl\": [{\"marker\": {\"colorbar\": {\"outlinewidth\": 0, \"ticks\": \"\"}}, \"type\": \"scattergl\"}], \"scattermapbox\": [{\"marker\": {\"colorbar\": {\"outlinewidth\": 0, \"ticks\": \"\"}}, \"type\": \"scattermapbox\"}], \"scatterpolar\": [{\"marker\": {\"colorbar\": {\"outlinewidth\": 0, \"ticks\": \"\"}}, \"type\": \"scatterpolar\"}], \"scatterpolargl\": [{\"marker\": {\"colorbar\": {\"outlinewidth\": 0, \"ticks\": \"\"}}, \"type\": \"scatterpolargl\"}], \"scatterternary\": [{\"marker\": {\"colorbar\": {\"outlinewidth\": 0, \"ticks\": \"\"}}, \"type\": \"scatterternary\"}], \"surface\": [{\"colorbar\": {\"outlinewidth\": 0, \"ticks\": \"\"}, \"colorscale\": [[0.0, \"#0d0887\"], [0.1111111111111111, \"#46039f\"], [0.2222222222222222, \"#7201a8\"], [0.3333333333333333, \"#9c179e\"], [0.4444444444444444, \"#bd3786\"], [0.5555555555555556, \"#d8576b\"], [0.6666666666666666, \"#ed7953\"], [0.7777777777777778, \"#fb9f3a\"], [0.8888888888888888, \"#fdca26\"], [1.0, \"#f0f921\"]], \"type\": \"surface\"}], \"table\": [{\"cells\": {\"fill\": {\"color\": \"#EBF0F8\"}, \"line\": {\"color\": \"white\"}}, \"header\": {\"fill\": {\"color\": \"#C8D4E3\"}, \"line\": {\"color\": \"white\"}}, \"type\": \"table\"}]}, \"layout\": {\"annotationdefaults\": {\"arrowcolor\": \"#2a3f5f\", \"arrowhead\": 0, \"arrowwidth\": 1}, \"colorscale\": {\"diverging\": [[0, \"#8e0152\"], [0.1, \"#c51b7d\"], [0.2, \"#de77ae\"], [0.3, \"#f1b6da\"], [0.4, \"#fde0ef\"], [0.5, \"#f7f7f7\"], [0.6, \"#e6f5d0\"], [0.7, \"#b8e186\"], [0.8, \"#7fbc41\"], [0.9, \"#4d9221\"], [1, \"#276419\"]], \"sequential\": [[0.0, \"#0d0887\"], [0.1111111111111111, \"#46039f\"], [0.2222222222222222, \"#7201a8\"], [0.3333333333333333, \"#9c179e\"], [0.4444444444444444, \"#bd3786\"], [0.5555555555555556, \"#d8576b\"], [0.6666666666666666, \"#ed7953\"], [0.7777777777777778, \"#fb9f3a\"], [0.8888888888888888, \"#fdca26\"], [1.0, \"#f0f921\"]], \"sequentialminus\": [[0.0, \"#0d0887\"], [0.1111111111111111, \"#46039f\"], [0.2222222222222222, \"#7201a8\"], [0.3333333333333333, \"#9c179e\"], [0.4444444444444444, \"#bd3786\"], [0.5555555555555556, \"#d8576b\"], [0.6666666666666666, \"#ed7953\"], [0.7777777777777778, \"#fb9f3a\"], [0.8888888888888888, \"#fdca26\"], [1.0, \"#f0f921\"]]}, \"colorway\": [\"#636efa\", \"#EF553B\", \"#00cc96\", \"#ab63fa\", \"#FFA15A\", \"#19d3f3\", \"#FF6692\", \"#B6E880\", \"#FF97FF\", \"#FECB52\"], \"font\": {\"color\": \"#2a3f5f\"}, \"geo\": {\"bgcolor\": \"white\", \"lakecolor\": \"white\", \"landcolor\": \"#E5ECF6\", \"showlakes\": true, \"showland\": true, \"subunitcolor\": \"white\"}, \"hoverlabel\": {\"align\": \"left\"}, \"hovermode\": \"closest\", \"mapbox\": {\"style\": \"light\"}, \"paper_bgcolor\": \"white\", \"plot_bgcolor\": \"#E5ECF6\", \"polar\": {\"angularaxis\": {\"gridcolor\": \"white\", \"linecolor\": \"white\", \"ticks\": \"\"}, \"bgcolor\": \"#E5ECF6\", \"radialaxis\": {\"gridcolor\": \"white\", \"linecolor\": \"white\", \"ticks\": \"\"}}, \"scene\": {\"xaxis\": {\"backgroundcolor\": \"#E5ECF6\", \"gridcolor\": \"white\", \"gridwidth\": 2, \"linecolor\": \"white\", \"showbackground\": true, \"ticks\": \"\", \"zerolinecolor\": \"white\"}, \"yaxis\": {\"backgroundcolor\": \"#E5ECF6\", \"gridcolor\": \"white\", \"gridwidth\": 2, \"linecolor\": \"white\", \"showbackground\": true, \"ticks\": \"\", \"zerolinecolor\": \"white\"}, \"zaxis\": {\"backgroundcolor\": \"#E5ECF6\", \"gridcolor\": \"white\", \"gridwidth\": 2, \"linecolor\": \"white\", \"showbackground\": true, \"ticks\": \"\", \"zerolinecolor\": \"white\"}}, \"shapedefaults\": {\"line\": {\"color\": \"#2a3f5f\"}}, \"ternary\": {\"aaxis\": {\"gridcolor\": \"white\", \"linecolor\": \"white\", \"ticks\": \"\"}, \"baxis\": {\"gridcolor\": \"white\", \"linecolor\": \"white\", \"ticks\": \"\"}, \"bgcolor\": \"#E5ECF6\", \"caxis\": {\"gridcolor\": \"white\", \"linecolor\": \"white\", \"ticks\": \"\"}}, \"title\": {\"x\": 0.05}, \"xaxis\": {\"automargin\": true, \"gridcolor\": \"white\", \"linecolor\": \"white\", \"ticks\": \"\", \"zerolinecolor\": \"white\", \"zerolinewidth\": 2}, \"yaxis\": {\"automargin\": true, \"gridcolor\": \"white\", \"linecolor\": \"white\", \"ticks\": \"\", \"zerolinecolor\": \"white\", \"zerolinewidth\": 2}}}},\n",
       "                        {\"responsive\": true}\n",
       "                    ).then(function(){\n",
       "                            \n",
       "var gd = document.getElementById('91c6c8a1-55b9-4aaa-b73d-0db3c168d62a');\n",
       "var x = new MutationObserver(function (mutations, observer) {{\n",
       "        var display = window.getComputedStyle(gd).display;\n",
       "        if (!display || display === 'none') {{\n",
       "            console.log([gd, 'removed!']);\n",
       "            Plotly.purge(gd);\n",
       "            observer.disconnect();\n",
       "        }}\n",
       "}});\n",
       "\n",
       "// Listen for the removal of the full notebook cells\n",
       "var notebookContainer = gd.closest('#notebook-container');\n",
       "if (notebookContainer) {{\n",
       "    x.observe(notebookContainer, {childList: true});\n",
       "}}\n",
       "\n",
       "// Listen for the clearing of the current output cell\n",
       "var outputEl = gd.closest('.output');\n",
       "if (outputEl) {{\n",
       "    x.observe(outputEl, {childList: true});\n",
       "}}\n",
       "\n",
       "                        })\n",
       "                };\n",
       "                });\n",
       "            </script>\n",
       "        </div>"
      ]
     },
     "metadata": {},
     "output_type": "display_data"
    }
   ],
   "source": [
    "r = np.exp(-(X ** 2).sum(1))\n",
    "\n",
    "dt = pd.DataFrame()\n",
    "dt[\"x\"] = X[:,0]\n",
    "dt[\"y\"] = X[:,1]\n",
    "dt[\"r\"] = r\n",
    "dt[\"labels\"] = 1\n",
    "\n",
    "mask = dt['r'] <= 0.6\n",
    "dt['labels'] = 1\n",
    "dt.loc[mask, 'labels'] = 0\n",
    "\n",
    "fig = px.scatter_3d(dt, x='x', y='y', z='r', color=\"labels\")\n",
    "fig.update_layout(showlegend=False)\n",
    "\n",
    "fig.show()"
   ]
  },
  {
   "cell_type": "markdown",
   "metadata": {
    "slideshow": {
     "slide_type": "subslide"
    }
   },
   "source": [
    "# How can we draw complex discriminants between classes?\n",
    "\n",
    "- for example, what if the decision boundary would look like this:\n",
    "\n",
    "<img src=\"./figures/part1/universal/fx.png\" alt=\"drawing\" class=\"centered\" width=\"600\"/>\n",
    "\n",
    "- we can try to find a polynomial function that approximates it and manually search through family of functions for each new problem.\n"
   ]
  },
  {
   "cell_type": "markdown",
   "metadata": {
    "slideshow": {
     "slide_type": "subslide"
    }
   },
   "source": [
    "# Approximations\n",
    "\n",
    "- we can try to approximate it using a composition of functions:\n",
    "\n",
    "<img src=\"./figures/part1/universal/approx2.png\" alt=\"drawing\" class=\"centered\" width=\"600\"/>"
   ]
  },
  {
   "cell_type": "markdown",
   "metadata": {
    "slideshow": {
     "slide_type": "subslide"
    }
   },
   "source": [
    "# Neural Networks\n",
    "<img src=\"./figures/part1/universal/approx.png\" alt=\"drawing\" class=\"centered\" width=\"700\"/>"
   ]
  },
  {
   "cell_type": "markdown",
   "metadata": {
    "slideshow": {
     "slide_type": "subslide"
    }
   },
   "source": [
    "# Function Approximation in Higher Dimensions\n",
    "\n",
    "<br><br>\n",
    "<table class=\"centered\"><tr><td><img src='./figures/part1/universal/multi1.png'></td><td><img src='./figures/part1/universal/multi2.png'></td><td><img src='./figures/part1/universal/multi3.png'></td></tr></table>\n",
    "\n",
    "- we can apply the same compositional procedure to approximate functions with as many variables (dimensions) as we need"
   ]
  },
  {
   "cell_type": "markdown",
   "metadata": {
    "slideshow": {
     "slide_type": "subslide"
    }
   },
   "source": [
    "# Universal Function Approximators \n",
    "\n",
    "<br>\n",
    "\n",
    "* it turns out that, in theory, we can approximate *any continuous function* with a neural network with one layer and many neurons \n",
    "\n",
    "* in practice, however, training a very wide neural network does not work very well\n",
    "\n",
    "* we can instead build deeper networks (with many layers) which are less complicated to train\n"
   ]
  },
  {
   "cell_type": "markdown",
   "metadata": {
    "slideshow": {
     "slide_type": "notes"
    }
   },
   "source": [
    "<small>Image cuortesy of: http://neuralnetworksanddeeplearning.com/chap4.html \n",
    "\n",
    "\n",
    "Follow the link for more interesting demo.\n",
    "</small>"
   ]
  },
  {
   "cell_type": "markdown",
   "metadata": {
    "slideshow": {
     "slide_type": "subslide"
    }
   },
   "source": [
    "# Training Neural Networks - depth instead of width\n",
    "\n",
    "- we can create a (deep) representation as a composition of many functions:\n",
    "\n",
    "<img src=\"./figures/part1/forward_prop.png\" alt=\"drawing\" class=\"centered\" width=\"1000\"/>\n",
    "\n",
    "- and back-propagate the error w.r.t. to each parameter in order to minimize it:\n",
    "\n",
    "<img src=\"./figures/part1/back_prop.png\" alt=\"drawing\" class=\"centered\" width=\"1000\"/>"
   ]
  },
  {
   "cell_type": "markdown",
   "metadata": {
    "slideshow": {
     "slide_type": "subslide"
    }
   },
   "source": [
    "# Back propagation is a hill climbing algorithm\n",
    "\n",
    "* we iterate many times over the dataset in order to reach a minimum\n",
    "* we have no guarantees that the algorithm converges to a global minimum\n",
    "* however, most of the times a local minimum is very good\n",
    "\n",
    "<img src=\"./figures/part1/optimization.gif\" alt=\"drawing\" class=\"centered\" width=\"600\"/>\n",
    "The image shows how different flavors of back-propagation optimize a neural network"
   ]
  },
  {
   "cell_type": "markdown",
   "metadata": {
    "slideshow": {
     "slide_type": "subslide"
    }
   },
   "source": [
    "# Neural network architectures\n",
    "\n",
    "<br>\n",
    "\n",
    "- there are many types of neurons and neural network layers, e.g.: \n",
    "    - convolutional, \n",
    "    - recurrent,\n",
    "    - transformers, etc.\n",
    "\n",
    "- each type performs very clever tricks in order to process different types of information e.g. convolutional neurons are suited for images\n",
    "\n",
    "\n",
    "- however, the underlying principles are the same"
   ]
  },
  {
   "cell_type": "markdown",
   "metadata": {
    "slideshow": {
     "slide_type": "notes"
    }
   },
   "source": [
    "A more detailed and practical introduction to neural networks can be found here: https://github.com/voletiv/myPythonNeuralNetwork"
   ]
  },
  {
   "cell_type": "markdown",
   "metadata": {
    "slideshow": {
     "slide_type": "subslide"
    }
   },
   "source": [
    "# Importance of machine learning assumptions to security\n",
    "\n",
    "Until now we saw that machine learning algorithms make two assuumptions, which may impact security because an attacker is not limited by any of them:\n",
    "\n",
    "<span class=\"red\"> The i.i.d assumption: </span>\n",
    "- attackers are not bounded by i.i.d samples. Instead, they can use unusual imputs to achieve their goal (not identically distributed)\n",
    "- attackers can repeatedly send the same malicious input (not independent)\n",
    "\n",
    "<span class=\"red\"> The manifold assumption: </span>\n",
    "- attackers can use inputs that are off the data manifold\n",
    "\n",
    "<table class=\"centered\">\n",
    "    <tr><td><img src='./figures/part1/manifold.png'></td>\n",
    "        <td><img src='./figures/part1/manifold_adversarial.png'></td>\n",
    "</tr></table>"
   ]
  },
  {
   "cell_type": "markdown",
   "metadata": {
    "slideshow": {
     "slide_type": "subslide"
    }
   },
   "source": [
    "# A formal recap: Empirical risk minimization\n",
    "\n",
    "<br>\n",
    "\n",
    "- the rule we are seeking $$ f(\\cdot) $$ is also called a *hypothesis* and it is defined on a space $$ \\mathcal{H} $$. \n",
    "\n",
    "\n",
    "- the intuitive approach to find it is to minimize the loss on all available training data:\n",
    "\n",
    "<div class=\"centered\">\n",
    "$$ R_{emp} = \\frac{1}{m} \\sum_{i=1}^{n} \\mathcal{L}(f(x_i), y_i) $$\n",
    "\n",
    "</div>\n",
    "\n",
    "<div class=\"centered\">\n",
    "$$ f = \\text{arg min}_{f \\in \\mathcal{H}} \\ R_{emp} $$\n",
    "</div>\n",
    "\n",
    "\n",
    "and \"hope\" it will work on new examples.\n",
    "\n",
    "\n",
    "\n"
   ]
  },
  {
   "cell_type": "markdown",
   "metadata": {
    "slideshow": {
     "slide_type": "subslide"
    }
   },
   "source": [
    "# Probably approximately correct\n",
    "\n",
    "- we assume that with a margin $\\epsilon$ the empirical risk approximates the true risk:\n",
    "\n",
    "<div class=\"centered\"> $$ R_{true}(f) \\leq R_{emp}(f) + \\epsilon, $$ </div>\n",
    "\n",
    "where $$\\epsilon$$ is the generalization error.\n",
    "\n",
    "<br>\n",
    "\n",
    "- however, no matter how good our hypotheses class is (and how smart the algorithm), we can not account for a bad training dataset. \n",
    "\n",
    "- we can say is that with probability $$ 1- \\delta $$ depending on the training data, the generalizatoin bound holds:\n",
    "\n",
    "\n",
    "<div class=\"centered\"> \n",
    "$$ \t\\mathbb{P}  [  R_{true}(f)  - R_{emp}(f)  \\leq \\epsilon  |  \\forall   f \\in \\mathcal{H} ] \\geq 1 - \\delta. $$\n",
    "</div>\n",
    "\n",
    "\n",
    "In other terms our solution is probably approximately correct (PAC). \n",
    "\n",
    "<br>\n",
    "\n",
    "- with this framework we can prove bounds on the the training dataset needed* \n",
    "\n",
    "<small>*when the classes can be linearly separable</small>"
   ]
  },
  {
   "cell_type": "markdown",
   "metadata": {
    "slideshow": {
     "slide_type": "slide"
    }
   },
   "source": [
    "# Part II - Security of Machine Learning\n",
    "\n",
    "<br>\n",
    "\n",
    "\n",
    "<div class=\"grey\"> Part I: Introduction to Machine Learning </div>\n",
    "<div class=\"grey\">\n",
    "    \n",
    "- General goals and Training a model\n",
    "- The No Free Lunch Theorem, The curse of dimensionality\n",
    "- Assumptions behind ML algorithms\n",
    "- Neural networks and Universal function approximations\n",
    "</div>\n",
    "<br>\n",
    "\n",
    "<div class=\"red\"> Part II: Security of Machine Learning </div>\n",
    "<div>\n",
    "    \n",
    "- The Machine Learning Pipeline\n",
    "- Types of Attacks\n",
    "- Taxonomy of ML Attacks\n",
    "</div>\n",
    "\n"
   ]
  },
  {
   "cell_type": "markdown",
   "metadata": {
    "slideshow": {
     "slide_type": "subslide"
    }
   },
   "source": [
    "# Security analysis of the ML pipeline"
   ]
  },
  {
   "cell_type": "markdown",
   "metadata": {
    "slideshow": {
     "slide_type": "-"
    }
   },
   "source": [
    "<img src=\"./figures/part2/attackers/ml_pipeline.png\" alt=\"drawing\" class=\"centered\" width=\"1000\"/>"
   ]
  },
  {
   "cell_type": "markdown",
   "metadata": {
    "slideshow": {
     "slide_type": "subslide"
    }
   },
   "source": [
    "# Attack vectors on the ML pipeline\n",
    "\n",
    "<img src=\"./figures/part2/attackers/secml.png\" alt=\"drawing\" class=\"centered\" width=\"1000\"/>"
   ]
  },
  {
   "cell_type": "markdown",
   "metadata": {
    "slideshow": {
     "slide_type": "subslide"
    }
   },
   "source": [
    "# Training Set Poisoning (Causative Attacks)\n",
    "\n",
    "- an attacker applies a transformation ($$\\mathcal{A}$$) to samples in the training dataset in order to exploit the model\n",
    "\n",
    "- for example, Tay -a Microsoft bot using online learning, spam filters, face recognition systems, etc.\n",
    "\n",
    "- an attack on integrity (and sometines availability)\n",
    "\n",
    "<br>\n",
    "\n",
    "\n",
    "<table class=\"centered\">\n",
    "    <tr><td><img src='./figures/part2/tay.png'></td>\n",
    "        <td><img src='./figures/part2/tay2.png'></td>\n",
    "</tr></table>\n",
    "\n",
    "<img src=\"./figures/part2/attackers/causative.png\" alt=\"drawing\" class=\"centered\" width=\"800\"/>"
   ]
  },
  {
   "cell_type": "markdown",
   "metadata": {
    "slideshow": {
     "slide_type": "subslide"
    }
   },
   "source": [
    "# Adversarial Inputs (Exploratory atttacks)\n",
    "\n",
    "- an attacker applies a transformation ($$\\mathcal{A}$$) to a test sample in order to exploit a model\n",
    "\n",
    "- for example changing an image to cause a misclassification, a malware sample to avoid detection, etc.\n",
    "\n",
    "- an attack on integrity\n",
    "\n",
    "<img src=\"./figures/part3/what_2.png\" alt=\"drawing\" class=\"centered\" width=\"800\"/>\n",
    "<br>\n",
    "<img src=\"./figures/part2/attackers/adv_inputs.png\" alt=\"drawing\" class=\"centered\" width=\"800\"/>\n",
    "\n",
    "- this topic is be developed in part III"
   ]
  },
  {
   "cell_type": "markdown",
   "metadata": {
    "slideshow": {
     "slide_type": "subslide"
    }
   },
   "source": [
    "# Recovery of sensitive data (Model Inversion)\n",
    "\n",
    "- an attacker submits different samples to a model in order to verify if any sample was used during training\n",
    "\n",
    "- for example changing an image to cause a misclassification, a malware sample to avoid detection, etc.\n",
    "\n",
    "- an attack on confidentiality\n",
    "\n",
    "<img src=\"./figures/part2/attackers/model_inversion.png\" alt=\"drawing\" class=\"centered\" width=\"800\"/>\n"
   ]
  },
  {
   "cell_type": "markdown",
   "metadata": {
    "slideshow": {
     "slide_type": "subslide"
    }
   },
   "source": [
    "# Reverse engineering the  model (Model Extraction)\n",
    "\n",
    "- an attacker submits several queries to the model in order to extract its parameters\n",
    "\n",
    "- an attack on confidentiality\n",
    "\n",
    "<img src=\"./figures/part2/attackers/model_extraction.png\" alt=\"drawing\" class=\"centered\" width=\"800\"/>\n",
    "\n"
   ]
  },
  {
   "cell_type": "markdown",
   "metadata": {
    "slideshow": {
     "slide_type": "subslide"
    }
   },
   "source": [
    "# Thread Modeling\n",
    "\n",
    "- *Attacker knowledge*\n",
    "    - *White box* - in this case an attacker has full knowledge about the model and can completely replicate it\n",
    "    - *Grey box* - in this case an attacke has some information about the model (e.g. training data, neural network architecture) and can partially replicate it\n",
    "    - *Black box* - in this case an attacker has no information about the model and can submit a limited number of queries to it \n",
    "    \n",
    "- *Attack specificity* \n",
    "    - *Untargeted* - aims to misclassify an input to any (random) class\n",
    "    - *Targeted* - aims to misclassify an input to a specific class "
   ]
  },
  {
   "cell_type": "markdown",
   "metadata": {
    "slideshow": {
     "slide_type": "skip"
    }
   },
   "source": [
    "# Example 1: Training Data Poisoning"
   ]
  },
  {
   "cell_type": "code",
   "execution_count": 16,
   "metadata": {
    "slideshow": {
     "slide_type": "skip"
    }
   },
   "outputs": [
    {
     "name": "stdout",
     "output_type": "stream",
     "text": [
      "Estimating the best training parameters...\n",
      "The best training parameters are:  {'C': 1, 'kernel.gamma': 10}\n",
      "Training of classifier complete!\n"
     ]
    }
   ],
   "source": [
    "random_state = 999\n",
    "\n",
    "n_features = 2  # Number of features\n",
    "n_samples = 300  # Number of samples\n",
    "centers = [[-1, -1], [+1, +1]]  # Centers of the clusters\n",
    "cluster_std = 0.9  # Standard deviation of the clusters\n",
    "\n",
    "from secml.data.loader import CDLRandomBlobs\n",
    "dataset = CDLRandomBlobs(n_features=n_features,\n",
    "                         centers=centers,\n",
    "                         cluster_std=cluster_std,\n",
    "                         n_samples=n_samples,\n",
    "                         random_state=random_state).load()\n",
    "\n",
    "n_tr = 100  # Number of training set samples\n",
    "n_val = 100  # Number of validation set samples\n",
    "n_ts = 100  # Number of test set samples\n",
    "\n",
    "# Split in training, validation and test\n",
    "from secml.data.splitter import CTrainTestSplit\n",
    "splitter = CTrainTestSplit(\n",
    "    train_size=n_tr + n_val, test_size=n_ts, random_state=random_state)\n",
    "tr_val, ts = splitter.split(dataset)\n",
    "splitter = CTrainTestSplit(\n",
    "    train_size=n_tr, test_size=n_val, random_state=random_state)\n",
    "tr, val = splitter.split(dataset)\n",
    "\n",
    "# Normalize the data\n",
    "from secml.ml.features import CNormalizerMinMax\n",
    "nmz = CNormalizerMinMax()\n",
    "tr.X = nmz.fit_transform(tr.X)\n",
    "val.X = nmz.transform(val.X)\n",
    "ts.X = nmz.transform(ts.X)\n",
    "\n",
    "# Metric to use for training and performance evaluation\n",
    "from secml.ml.peval.metrics import CMetricAccuracy\n",
    "metric = CMetricAccuracy()\n",
    "\n",
    "# Creation of the multiclass classifier\n",
    "from secml.ml.classifiers import CClassifierSVM\n",
    "from secml.ml.kernel import CKernelRBF\n",
    "clf = CClassifierSVM(kernel=CKernelRBF())\n",
    "\n",
    "# Parameters for the Cross-Validation procedure\n",
    "xval_params = {'C': [1, 10], 'kernel.gamma': [1, 10, 100]}\n",
    "\n",
    "# Let's create a 3-Fold data splitter\n",
    "from secml.data.splitter import CDataSplitterKFold\n",
    "xval_splitter = CDataSplitterKFold(num_folds=3, random_state=random_state)\n",
    "\n",
    "# Select and set the best training parameters for the classifier\n",
    "print(\"Estimating the best training parameters...\")\n",
    "best_params = clf.estimate_parameters(\n",
    "    dataset=tr,\n",
    "    parameters=xval_params,\n",
    "    splitter=xval_splitter,\n",
    "    metric='accuracy',\n",
    "    perf_evaluator='xval'\n",
    ")\n",
    "\n",
    "print(\"The best training parameters are: \", best_params)\n",
    "\n",
    "# We can now fit the classifier\n",
    "clf.fit(tr)\n",
    "print(\"Training of classifier complete!\")\n",
    "\n",
    "# Compute predictions on a test set\n",
    "y_pred = clf.predict(ts.X)"
   ]
  },
  {
   "cell_type": "code",
   "execution_count": 33,
   "metadata": {
    "slideshow": {
     "slide_type": "skip"
    }
   },
   "outputs": [
    {
     "name": "stdout",
     "output_type": "stream",
     "text": [
      "Attack started...\n",
      "Attack complete!\n",
      "Original accuracy on test set: 94.00%\n",
      "Accuracy after attack on test set: 88.00%\n"
     ]
    }
   ],
   "source": [
    "lb, ub = val.X.min(), val.X.max()  # Bounds of the attack space. Can be set to `None` for unbounded\n",
    "n_poisoning_points = 20  # Number of poisoning points to generate\n",
    "\n",
    "# Should be chosen depending on the optimization problem\n",
    "solver_params = {\n",
    "    'eta': 0.05,\n",
    "    'eta_min': 0.05,\n",
    "    'eta_max': None,\n",
    "    'max_iter': 100,\n",
    "    'eps': 1e-6\n",
    "}\n",
    "\n",
    "from secml.adv.attacks import CAttackPoisoningSVM\n",
    "pois_attack = CAttackPoisoningSVM(classifier=clf,\n",
    "                                  training_data=tr,\n",
    "                                  surrogate_classifier=clf,\n",
    "                                  surrogate_data=tr,\n",
    "                                  val=val,\n",
    "                                  lb=val.X.min(), ub=val.X.max(),\n",
    "                                  solver_params=solver_params,\n",
    "                                  random_seed=random_state)\n",
    "pois_attack.n_points = n_poisoning_points\n",
    "\n",
    "# Run the poisoning attack\n",
    "print(\"Attack started...\")\n",
    "pois_y_pred, pois_scores, pois_ds, f_opt = pois_attack.run(ts.X, ts.Y)\n",
    "print(\"Attack complete!\")\n",
    "\n",
    "# Evaluate the accuracy of the original classifier\n",
    "acc = metric.performance_score(y_true=ts.Y, y_pred=y_pred)\n",
    "# Evaluate the accuracy after the poisoning attack\n",
    "pois_acc = metric.performance_score(y_true=ts.Y, y_pred=pois_y_pred)\n",
    "\n",
    "print(\"Original accuracy on test set: {:.2%}\".format(acc))\n",
    "print(\"Accuracy after attack on test set: {:.2%}\".format(pois_acc))\n",
    "\n",
    "# Training of the poisoned classifier\n",
    "pois_clf = clf.deepcopy()\n",
    "pois_tr = tr.append(pois_ds)  # Join the training set with the poisoning points\n",
    "pois_clf.fit(pois_tr)\n",
    "\n",
    "# Define common bounds for the subplots\n",
    "min_limit = min(pois_tr.X.min(), ts.X.min())\n",
    "max_limit = max(pois_tr.X.max(), ts.X.max())\n",
    "grid_limits = [[min_limit, max_limit], [min_limit, max_limit]]\n",
    "\n",
    "from secml.figure import CFigure\n",
    "fig = CFigure(10, 10)\n",
    "\n",
    "fig.subplot(2, 2, 1)\n",
    "fig.sp.title(\"Original classifier (training set)\")\n",
    "fig.sp.plot_decision_regions(\n",
    "    clf, n_grid_points=200, grid_limits=grid_limits)\n",
    "fig.sp.plot_ds(tr, markersize=5)\n",
    "fig.sp.grid(grid_on=False)\n",
    "\n",
    "fig.subplot(2, 2, 2)\n",
    "fig.sp.title(\"Poisoned classifier (training set + poisoning points)\")\n",
    "fig.sp.plot_decision_regions(\n",
    "    pois_clf, n_grid_points=200, grid_limits=grid_limits)\n",
    "fig.sp.plot_ds(tr, markersize=5)\n",
    "fig.sp.plot_ds(pois_ds, markers=['*', '*'], markersize=12)\n",
    "fig.sp.grid(grid_on=False)\n",
    "\n",
    "fig.subplot(2, 2, 3)\n",
    "fig.sp.title(\"Original classifier (test set)\")\n",
    "fig.sp.plot_decision_regions(\n",
    "    clf, n_grid_points=200, grid_limits=grid_limits)\n",
    "fig.sp.plot_ds(ts, markersize=5)\n",
    "fig.sp.text(0.05, -0.25, \"Accuracy on test set: {:.2%}\".format(acc),\n",
    "            bbox=dict(facecolor='white'))\n",
    "fig.sp.grid(grid_on=False)\n",
    "\n",
    "fig.subplot(2, 2, 4)\n",
    "fig.sp.title(\"Poisoned classifier (test set)\")\n",
    "fig.sp.plot_decision_regions(\n",
    "    pois_clf, n_grid_points=200, grid_limits=grid_limits)\n",
    "fig.sp.plot_ds(ts, markersize=5)\n",
    "fig.sp.text(0.05, -0.25, \"Accuracy on test set: {:.2%}\".format(pois_acc),\n",
    "            bbox=dict(facecolor='white'))\n",
    "fig.sp.grid(grid_on=False)\n",
    "\n",
    "fig.show()"
   ]
  },
  {
   "cell_type": "markdown",
   "metadata": {
    "slideshow": {
     "slide_type": "skip"
    }
   },
   "source": [
    "# Model Extraction:\n",
    "\n",
    "https://github.com/Lab41/cyphercat"
   ]
  },
  {
   "cell_type": "markdown",
   "metadata": {
    "slideshow": {
     "slide_type": "slide"
    }
   },
   "source": [
    "# Part III - Adversarial Inputs\n",
    "\n",
    "<br>\n",
    "\n",
    "<div class=\"grey\"> Part I: Introduction to Machine Learning </div>\n",
    "<div class=\"grey\">\n",
    "    \n",
    "- General goals and Training a model\n",
    "- The No Free Lunch Theorem, The curse of dimensionality\n",
    "- Assumptions behind ML algorithms\n",
    "- Neural networks and Universal function approximations\n",
    "</div>\n",
    "<br>\n",
    "\n",
    "<div class=\"grey\"> Part II: Security of Machine Learning </div>\n",
    "<div class=\"grey\">\n",
    "    \n",
    "- The Machine Learning Pipeline\n",
    "- Types of Attacks\n",
    "- Taxonomy of ML Attacks\n",
    "</div>\n",
    "\n",
    "<br>\n",
    "\n",
    "<div class=\"red\"> Part III: Adversarial Examples </div>\n",
    "<div >\n",
    "\n",
    "- Historical considerations and definition\n",
    "- Noise and Geometric Perturbations\n",
    "- Hypotheses behind their existence\n",
    "- Adversarial Transferability\n",
    "- Defenses\n",
    "\n",
    "</div>"
   ]
  },
  {
   "cell_type": "markdown",
   "metadata": {
    "slideshow": {
     "slide_type": "subslide"
    }
   },
   "source": [
    "# Adversarial Examples\n",
    "\n",
    "- adversarial examples are inputs <span class=\"red\">intentionally </span> designed to be in close resemblance with samples from the training distribution, but cause a misclassification\n",
    "\n",
    "- attacks an test (inference) time\n",
    "\n",
    "- attacks on integrity of the classifier\n",
    "\n",
    "<img src=\"./figures/part3/what_2.png\" alt=\"drawing\" class=\"centered\" width=\"1000\"/>"
   ]
  },
  {
   "cell_type": "markdown",
   "metadata": {
    "slideshow": {
     "slide_type": "subslide"
    }
   },
   "source": [
    "# Adversarial examples in security and safety\n",
    "\n",
    "<br>\n",
    "\n",
    "- adversarial examples are relevant for applications that provide some security functionality: e.g. spam detectors, network intrusion detection, malware detectors\n",
    "\n",
    "- they may be relevant for some applications where safety is important - e.g. autonomous vehicles - although they are intentionally and not naturally occuring\n",
    "\n",
    "- they are less relevant for normal applications of ML: e.g. tagging images in photo collections, search engines, etc.\n"
   ]
  },
  {
   "cell_type": "markdown",
   "metadata": {
    "slideshow": {
     "slide_type": "subslide"
    }
   },
   "source": [
    "# Today we will focus on the task of object recognition\n",
    "\n",
    "- it is easier to show examples and it is currently the most active field\n",
    "\n",
    "- adversarial examples can be found in other domains too:\n",
    "\n",
    "    - speech recognition: e.g. hacking home assistants\n",
    "    - natural language processing\n",
    "    - other tasks related to image processing: e.g. face recognition\n",
    "\n",
    "<table class=\"centered\" width=\"1600\">\n",
    "<tr>\n",
    "<td><img src='./figures/part3/adv_ex_text.png'></td>\n",
    "<td><img src='./figures/part3/adv_glasses.png'></td>\n",
    "</tr>\n",
    "</table>"
   ]
  },
  {
   "cell_type": "markdown",
   "metadata": {
    "slideshow": {
     "slide_type": "subslide"
    }
   },
   "source": [
    "# Formally\n",
    "\n",
    "- given a trained model $$f(\\cdot)$$ and a test input $$x$$ correctly classified by $$f$$ with label $$ y $$, an adversarial example is constructed by applying a minimal perturbation $$ \\eta $$ to $$ x $$ such that $$ x' = x + \\eta $$ gets classified with a different label $$ \\hat{y} $$.\n",
    "\n",
    "<br>\n",
    "\n",
    "- searching for a minimal perturbation can be formulated as an optimization problem:\n",
    "\n",
    "<br>\n",
    "\n",
    "<div class=\"centered\">\n",
    "$$ \\min_{x'}. d(x' - x)$$ <br>\n",
    "$$ s.t. f(x')  = \\hat{y}, $$\n",
    "</div>\n",
    "\n",
    "\n",
    "<br>\n",
    "where $$ d(\\cdot) $$ is a distance function dependent on the domain (we will come back to this later).\n",
    "\n",
    "<br><br>\n",
    "- the problem can be solved using an optimization algorithm such as L-BFGS"
   ]
  },
  {
   "cell_type": "markdown",
   "metadata": {
    "slideshow": {
     "slide_type": "subslide"
    }
   },
   "source": [
    "# Adversarial examples are distinct in the representation space\n",
    "\n",
    "<br>\n",
    "\n",
    "<img src=\"./figures/part3/adv.jpg\" alt=\"drawing\" class=\"centered\" width=\"1000\"/>"
   ]
  },
  {
   "cell_type": "markdown",
   "metadata": {
    "slideshow": {
     "slide_type": "subslide"
    }
   },
   "source": [
    "# We have to decide on a distance function\n",
    "\n",
    "- the distance function most commonly in the object recognition domain is the p-norm:\n",
    "\n",
    "<div class=\"centered\">\n",
    "$$ \\| x \\|_p = \\left(\\sum\\limits_{i=1}^n \\lvert x_i \\rvert ^p\\right)^{1\\over p},$$\n",
    "</div>\n",
    "\n",
    "where $p \\in \\{0, 2, \\infty\\}$. \n",
    "\n",
    "- the choice for $p$ influences the coordinates changed in the initial sample as follows:\n",
    "\n",
    "    - $p=0$ the distance measures the number of different pixels between two images\n",
    "    - $p=2$ the distance measures the Euclidian distance between two pictures. This metric is small when there are many small changes to many pixels and increases when there is a big change in one or multiple pixels\n",
    "    - $p=\\infty$ the distance measures the maximum change in any of the pixels\n",
    "\n",
    "\n",
    "- although most publications use the p-norm distance, there is an increased interest to move away from it and explore new metrics"
   ]
  },
  {
   "cell_type": "markdown",
   "metadata": {
    "slideshow": {
     "slide_type": "subslide"
    }
   },
   "source": [
    "# Adversarial examples in object recognition\n",
    "\n",
    "Two types of perturbations\n",
    "\n",
    "- noise based berturbations\n",
    "<img src=\"./figures/part3/adv_noise.png\" alt=\"drawing\" class=\"centered\" width=\"1000\"/>\n",
    "\n",
    "- perturbations based on geometric transformations\n",
    "<img src=\"./figures/part3/adv_geometric.png\" alt=\"drawing\" class=\"centered\" width=\"1000\"/>\n",
    "                \n",
    "<br>\n",
    "\n",
    "- both perturbations are intentionally designed and can be applied in white and black-box scenarios"
   ]
  },
  {
   "cell_type": "markdown",
   "metadata": {
    "slideshow": {
     "slide_type": "subslide"
    }
   },
   "source": [
    "# Noise Perturbations\n",
    "\n",
    "- there are many ways to create adversarial perturbations.\n",
    "\n",
    "The first is to solve this eq. using optimization methods (such as L-BFGS):\n",
    "\n",
    "<div class=\"centered\"> \n",
    "$$ \\min{x'}. d(x' - x)$$ <br>\n",
    "$$ s.t. f(x')  = \\hat{y}, $$\n",
    "</div>\n",
    "    \n",
    "<br>\n",
    "\n",
    "- advantages: precise in finding the minimal perturbation\n",
    "- disadvantages: these methods are slow"
   ]
  },
  {
   "cell_type": "markdown",
   "metadata": {
    "slideshow": {
     "slide_type": "subslide"
    }
   },
   "source": [
    "# Optimization of Surrogate Functions\n",
    "\n",
    "- we can also optimize surrogate functions, which can be faster\n",
    "\n",
    "<div class=\"centered\">\n",
    "$$ \\min d(x, x+\\delta) + c*f(x + \\delta) $$\n",
    "<br>\n",
    "$$ s.t. x + \\delta \\in [0,1]^n $$\n",
    "</div>\n",
    "\n",
    "where $$ f(x+\\delta)  \\leq 0 $$ iff the classification result  $$ \\hat{y} = f(x') $$ is the desired target class $$ \\hat{y} = t $$.\n",
    "\n",
    "- the term $$c$$ controls the importance of the misclassification.\n",
    "\n",
    "- this function minimizes both the distance between an adversarial example and the normal input and emphasises the misclassification.\n",
    "\n",
    "\n",
    "- We can also replace the constraint on the perturbation using a change of variable:\n",
    "<div class=\"centered\">\n",
    "$$ \\delta = 1/2(\\tanh(w)+1)-x$$\n",
    "</div>    \n",
    "and use normal gradient based optimization techniques to find the result"
   ]
  },
  {
   "cell_type": "markdown",
   "metadata": {
    "slideshow": {
     "slide_type": "subslide"
    }
   },
   "source": [
    "# Deep Fool - iteratively minimizing the distance to a decision boundary\n",
    "\n",
    "\n",
    "- we can imagine a separation surface as equivalent to a polyhedron whose faces are discriminants to other classes and iteratively move towards it\n",
    "\n",
    "\n",
    "<table class=\"centered\">\n",
    "<tr>\n",
    "<td><img src='./figures/part3/deepfool_1.png'></td>\n",
    "<td><img src='./figures/part3/deepfool_2.png'></td>\n",
    "</tr></table>"
   ]
  },
  {
   "cell_type": "markdown",
   "metadata": {
    "slideshow": {
     "slide_type": "subslide"
    }
   },
   "source": [
    "# Faster methoods - increasing the loss function\n",
    "\n",
    "- instead of searching for a minimal perturbation, we can search for one that increases the loss function\n",
    "\n",
    "- remember that the gradinet gives us the direction of the maximum of a loss function, thus:\n",
    "\n",
    "<div class=\"centered\">\n",
    "$$ \\eta = \\epsilon* sign ( \\nabla (J(x, y, \\theta))) $$\n",
    "</div>\n",
    "\n",
    "is equivalent to moving a small step, $$ \\epsilon $$ towards increasing the loss\n",
    "\n",
    "\n",
    "- the final adversarial examples is $$ x' = x + \\eta $$\n",
    "\n",
    "<img src=\"./figures/part3/gaas.png\" alt=\"drawing\" class=\"centered\" width=\"600\"/>"
   ]
  },
  {
   "cell_type": "code",
   "execution_count": 29,
   "metadata": {
    "slideshow": {
     "slide_type": "skip"
    }
   },
   "outputs": [
    {
     "name": "stdout",
     "output_type": "stream",
     "text": [
      "[LOG] \t Exeecuting epoch 0\n",
      "Test average acccuracy 0.9706 (9706/10000)\n"
     ]
    }
   ],
   "source": [
    "# Practical - implementing this attack\n",
    "\n",
    "# Logic for defining and training a simple conv NN\n",
    "class Net(nn.Module):\n",
    "    def __init__(self):\n",
    "        super(Net, self).__init__()\n",
    "        self.conv1 = nn.Conv2d(1, 32, 3, 1)\n",
    "        self.conv2 = nn.Conv2d(32, 64, 3, 1)\n",
    "        self.fc1 = nn.Linear(9216, 128)\n",
    "        self.fc2 = nn.Linear(128, 10)\n",
    "\n",
    "    def forward(self, input):\n",
    "        output = F.relu(self.conv1(input))\n",
    "        output = self.conv2(output)\n",
    "        output = F.max_pool2d(output, 2)\n",
    "        output = torch.flatten(output, 1)\n",
    "        output = F.relu(self.fc1(output))\n",
    "        output = self.fc2(output)\n",
    "        return output\n",
    "    \n",
    "    \n",
    "def train_epoch(model, device, train_loader, optimizer, criterion):\n",
    "    model.train()\n",
    "    for batch_idx, (data, target) in enumerate(train_loader):\n",
    "        data, target = data.to(device), target.to(device)\n",
    "        optimizer.zero_grad()\n",
    "        # get loss\n",
    "        output = model(data)\n",
    "        loss = criterion(output, target)\n",
    "        # backpropagate\n",
    "        loss.backward()\n",
    "        optimizer.step()\n",
    "\n",
    "\n",
    "def test_epoch(model, test_loader):\n",
    "    model.eval()\n",
    "    corect = 0\n",
    "    with torch.no_grad():\n",
    "        for data, target in test_loader:\n",
    "            data, target = data.to(device), target.to(device)\n",
    "            output = model(data)\n",
    "            pred = output.argmax(dim=1, keepdim=True)\n",
    "            corect += pred.eq(target.view_as(pred)).sum().item()\n",
    "\n",
    "    print(\"Test average acccuracy {} ({}/{})\".format(corect/len(test_loader.dataset),\n",
    "                                                     corect, len(test_loader.dataset)))    \n",
    "    \n",
    "BATCH_SIZE = 128\n",
    "LEARNING_RATE = 0.01\n",
    "EPOCHS = 1\n",
    "SAVE_PATH = dirpath + \"/mnist_cnn.pt\"\n",
    "\n",
    "\n",
    "train_loader, test_loader = get_data()\n",
    "device = torch.device('cuda:0' if torch.cuda.is_available() else 'cpu')\n",
    "model = Net().to(device)\n",
    "criterion = nn.CrossEntropyLoss()\n",
    "optimizer = optim.Adam(model.parameters(), lr=LEARNING_RATE)\n",
    "for i in range(EPOCHS):\n",
    "    print('[LOG] \\t Exeecuting epoch {}'.format(i))\n",
    "    # train\n",
    "    train_epoch(model, device, train_loader, optimizer, criterion)\n",
    "    # test\n",
    "    test_epoch(model, test_loader)\n",
    "\n",
    "save(model, SAVE_PATH)    "
   ]
  },
  {
   "cell_type": "code",
   "execution_count": 30,
   "metadata": {
    "slideshow": {
     "slide_type": "skip"
    }
   },
   "outputs": [
    {
     "name": "stdout",
     "output_type": "stream",
     "text": [
      "Test FGSM accuracy 0.5586 (5586/10000)\n"
     ]
    }
   ],
   "source": [
    "# Logic for testing with the FGSM attack\n",
    "def fgsm(model, data, target, epsilon):\n",
    "    pert = torch.zeros_like(data, requires_grad=True)\n",
    "    output = model(data+pert)\n",
    "    loss = nn.CrossEntropyLoss()(output, target)\n",
    "    loss.backward()\n",
    "    delta = epsilon * pert.grad.detach().sign()\n",
    "    return torch.clamp(data + delta, 0, 1)\n",
    "\n",
    "\n",
    "def test_fgsm(model, device, test_loader, epsilon):\n",
    "    model.eval()\n",
    "    corect = 0\n",
    "    for data, target in test_loader:\n",
    "        adv = fgsm(model, data, target, epsilon)\n",
    "        output = model(adv)\n",
    "        pred = output.argmax(dim=1, keepdim=True)\n",
    "        corect += pred.eq(target.view_as(pred)).sum().item()\n",
    "    print(\"Test FGSM accuracy {} ({}/{})\".format(corect/len(test_loader\n",
    "                                                        .dataset), corect, len(test_loader\n",
    "                                                        .dataset)))\n",
    "    \n",
    "# Test the model trained earlier using the FGSM attack\n",
    "EPSILON = 0.3\n",
    "model = load_model(SAVE_PATH, device)\n",
    "_, test_loader = get_data()\n",
    "test_fgsm(model, device, test_loader, EPSILON)    "
   ]
  },
  {
   "cell_type": "code",
   "execution_count": 31,
   "metadata": {
    "slideshow": {
     "slide_type": "skip"
    }
   },
   "outputs": [
    {
     "data": {
      "image/png": "[encoded data removed]",
      "text/plain": [
       "<Figure size 288x187.2 with 8 Axes>"
      ]
     },
     "metadata": {},
     "output_type": "display_data"
    }
   ],
   "source": [
    "# display normal images\n",
    "for data, target in test_loader:\n",
    "    data, target = data.to(device), target.to(device)\n",
    "    break\n",
    "\n",
    "preds = model(data)\n",
    "plot_images(data, target, preds, 2, 4)"
   ]
  },
  {
   "cell_type": "code",
   "execution_count": 32,
   "metadata": {
    "slideshow": {
     "slide_type": "skip"
    }
   },
   "outputs": [
    {
     "data": {
      "image/png": "[encoded data removed]",
      "text/plain": [
       "<Figure size 288x187.2 with 8 Axes>"
      ]
     },
     "metadata": {},
     "output_type": "display_data"
    }
   ],
   "source": [
    "# Display images perturbed with FGSM\n",
    "perturbed = fgsm(model, data, target, EPSILON)\n",
    "pert_preds = model(perturbed)\n",
    "plot_images(perturbed, target, pert_preds, 2, 4)"
   ]
  },
  {
   "cell_type": "markdown",
   "metadata": {
    "slideshow": {
     "slide_type": "subslide"
    }
   },
   "source": [
    "# How big should $$\\epsilon$$ be?\n",
    "\n",
    "<br>\n",
    "\n",
    "- the size of $$\\epsilon$$ is surprising, with only 0.01 for some samples we can generate adversarial examples that get misclassified\n",
    "\n",
    "\n",
    "<img src=\"./figures/part3/attack_ex.png\" alt=\"drawing\" class=\"centered\" width=\"600\"/>"
   ]
  },
  {
   "cell_type": "markdown",
   "metadata": {
    "slideshow": {
     "slide_type": "subslide"
    }
   },
   "source": [
    "# Making several steps towards increasing the loss function\n",
    "\n",
    "<br>\n",
    "\n",
    "- in order to create better perturbations, we can apply the same procedure iteratively, trying to maximize the loss:\n",
    "\n",
    "<div class=\"centered\">\n",
    "    $$ x' = \\prod_{n} (x' + \\epsilon * sign( \\nabla(J (x, y, \\theta) )  $$    \n",
    "</div>    \n",
    "\n",
    "<div class=\"centered\">\n",
    "    $$ \\max_{\\eta \\leq \\epsilon}. (J(\\theta, x+\\eta, y)) $$\n",
    "</div>    \n",
    "\n",
    "- thus approximating the space around an input*:\n",
    "\n",
    "<img src=\"./figures/part3/normball.png\" alt=\"drawing\" class=\"centered\" width=\"400\"/>\n",
    "\n",
    "<small>\n",
    "*remember this space is high dimensional \n",
    "</small>\n",
    "\n",
    "\n",
    "- this attack will be described in details during the practical assignments\n"
   ]
  },
  {
   "cell_type": "code",
   "execution_count": 33,
   "metadata": {
    "slideshow": {
     "slide_type": "skip"
    }
   },
   "outputs": [],
   "source": [
    "#  Logic for generating the attack descrribed above\n",
    "def pgd(nb_iter, data, target, eps, eps_iter, model, delta_init=None):\n",
    "    if delta_init is not None:\n",
    "        delta = delta_init\n",
    "    else:\n",
    "        delta = torch.zeros_like(data)\n",
    "\n",
    "    delta.requires_grad_()\n",
    "    for _ in range(nb_iter):\n",
    "        output = model(data+delta)\n",
    "        loss = nn.CrossEntropyLoss()(output, target)\n",
    "        loss.backward()\n",
    "        grad_sign = delta.grad.data.sign()\n",
    "        delta.data = delta.data + batch_multiply(eps_iter, grad_sign)\n",
    "        delta.data = batch_clamp(eps, delta.data)\n",
    "        delta.data = torch.clamp(data.data + delta.data, 0, 1\n",
    "                                 ) - data.data\n",
    "        delta.grad.data.zero_()\n",
    "    data = torch.clamp(data + delta, 0, 1)\n",
    "    return data"
   ]
  },
  {
   "cell_type": "code",
   "execution_count": 34,
   "metadata": {
    "slideshow": {
     "slide_type": "skip"
    }
   },
   "outputs": [
    {
     "name": "stdout",
     "output_type": "stream",
     "text": [
      "Test PGD accuracy 0.5722 (5722/10000)\n"
     ]
    }
   ],
   "source": [
    "# Logic for testing the model trained above using PGD\n",
    "def test_pgd(model, device, test_loader, epsilon, nb_iter, eps_iter):\n",
    "    model.eval()\n",
    "    corect = 0\n",
    "    for data, target in test_loader:\n",
    "        adv = pgd(nb_iter, data, target, epsilon,\n",
    "                  eps_iter, model)\n",
    "        output = model(adv)\n",
    "        pred = output.argmax(dim=1, keepdim=True)\n",
    "        corect += pred.eq(target.view_as(pred)).sum().item()\n",
    "    print(\"Test PGD accuracy {} ({}/{})\".format(corect/len(test_loader.dataset), \n",
    "                                                corect, \n",
    "                                                len(test_loader.dataset)))\n",
    "    \n",
    "# test the model trained earlier with PGD\n",
    "# PGD Attack parameters\n",
    "NB_ITER = 8\n",
    "EPS_ITER = 0.01\n",
    "\n",
    "# run evaluation\n",
    "model = load_model(SAVE_PATH, device)\n",
    "_, test_loader = get_data()\n",
    "test_pgd(model, device, test_loader, EPSILON, NB_ITER, EPS_ITER)    "
   ]
  },
  {
   "cell_type": "code",
   "execution_count": 35,
   "metadata": {
    "slideshow": {
     "slide_type": "skip"
    }
   },
   "outputs": [
    {
     "data": {
      "image/png": "[encoded data removed]",
      "text/plain": [
       "<Figure size 288x187.2 with 8 Axes>"
      ]
     },
     "metadata": {},
     "output_type": "display_data"
    }
   ],
   "source": [
    "# Display normal images\n",
    "for data, target in test_loader:\n",
    "    data, target = data.to(device), target.to(device)\n",
    "    break\n",
    "\n",
    "preds = model(data)\n",
    "plot_images(data, target, preds, 2, 4)"
   ]
  },
  {
   "cell_type": "code",
   "execution_count": 36,
   "metadata": {
    "slideshow": {
     "slide_type": "skip"
    }
   },
   "outputs": [
    {
     "data": {
      "image/png": "[encoded data removed]",
      "text/plain": [
       "<Figure size 288x187.2 with 8 Axes>"
      ]
     },
     "metadata": {},
     "output_type": "display_data"
    }
   ],
   "source": [
    "# display PGD perturbed images\n",
    "perturbed = pgd(NB_ITER,data, target, EPSILON, EPS_ITER, model)\n",
    "pert_preds = model(perturbed)\n",
    "plot_images(perturbed, target, pert_preds, 2, 4)"
   ]
  },
  {
   "cell_type": "markdown",
   "metadata": {
    "slideshow": {
     "slide_type": "subslide"
    }
   },
   "source": [
    "# We can further use other tricks to improve the attacks\n",
    "\n",
    "For example:\n",
    "\n",
    "- use momentum\n",
    "$$ g_{t+1} = \\mu * g_t + \\frac{\\nabla J(\\theta, x, y)}{\\| \\nabla J(x, y) \\|_1} $$\n",
    "<br>\n",
    "$$x'_{t+1} = x'_{t} + \\epsilon * sign(g_{t+1}) $$\n",
    "\n",
    "- start from a random neighborhood of the initial input\n",
    "$$ x' = x_{rand} + (\\epsilon - \\alpha) * sign(\\nabla J(\\theta, x_{rand}, y)) $$\n",
    "<br>\n",
    "$$ x_{rand} = x + \\alpha * sign( \\mathcal{N} (\\mathbb{0}^d, \\mathbb{I}^d) ) $$\n",
    "\n",
    "etc.\n",
    "\n",
    "- for a detailed overview of possible attacks click [here](https://arxiv.org/abs/1810.01185)"
   ]
  },
  {
   "cell_type": "markdown",
   "metadata": {
    "slideshow": {
     "slide_type": "subslide"
    }
   },
   "source": [
    "# Other ways to create adversarial examples - learn generate them\n",
    "\n",
    "- generative models learn a probability distribution and can be used to sample new data from that proability distribution\n",
    "\n",
    "<br>\n",
    "\n",
    "- we can train a model to generate a perturbation:\n",
    "\n",
    "<img src=\"./figures/part3/gan_adv_1.png\" alt=\"drawing\" class=\"centered\" width=\"600\"/>\n",
    "\n",
    "- or to convert an image:\n",
    "\n",
    "<img src=\"./figures/part3/gan_adv_2.png\" alt=\"drawing\" class=\"centered\" width=\"600\"/>"
   ]
  },
  {
   "cell_type": "markdown",
   "metadata": {
    "slideshow": {
     "slide_type": "subslide"
    }
   },
   "source": [
    "# Black-box attacks\n",
    "\n",
    "- Train substitute models - by generating a dataset and labeling it with the model under attack\n",
    "\n",
    "- Generate an adversarial example for an ensemble of models -\n",
    "\n",
    "\n",
    "- Estimate the loss landscape by generating several queries -\n",
    "\n",
    "\n",
    "- Use genetic algorithms to generate perturbations"
   ]
  },
  {
   "cell_type": "markdown",
   "metadata": {
    "slideshow": {
     "slide_type": "subslide"
    }
   },
   "source": [
    "# Universal perturbations\n",
    "\n",
    "- it is possible to generate an image independent perturbation\n",
    "\n",
    "- for example using the Deep Fool attack for different images and targets and summing the perturbations\n",
    "\n",
    "<br>\n",
    "\n",
    "\n",
    "<table class=\"centered\">\n",
    "<tr>\n",
    "<td><img src='./figures/part3/universal_2.png'></td>\n",
    "<td><img src='./figures/part3/universal.png'></td>\n",
    "</tr></table>"
   ]
  },
  {
   "cell_type": "markdown",
   "metadata": {
    "slideshow": {
     "slide_type": "subslide"
    }
   },
   "source": [
    "# Adversarial examples generated for a method can transfer to other ML methods\n",
    "\n",
    "<img src=\"./figures/part3/transferability.png\" alt=\"drawing\" class=\"centered\" width=\"600\"/>"
   ]
  },
  {
   "cell_type": "markdown",
   "metadata": {
    "slideshow": {
     "slide_type": "subslide"
    }
   },
   "source": [
    "# Transferability across DNN architectures\n",
    "\n",
    "<img src=\"./figures/part3/transfer_ITERFGSM_eps_03.png\" alt=\"drawing\" class=\"centered\" width=\"600\"/>\n",
    "\n",
    "- untargeted adversarial examples transfer well \n",
    "- targeted adversarial examples do not transfer very well, especially between different DNN architectures\n"
   ]
  },
  {
   "cell_type": "markdown",
   "metadata": {
    "slideshow": {
     "slide_type": "subslide"
    }
   },
   "source": [
    "# Hypotheses on the existence of adversarial examples\n",
    "\n",
    "<br> \n",
    "- lie in pockets of the manifold\n",
    "- are sampled from a different distribution (not i.i.d)\n",
    "- are expected because the samples used for training are insufficient\n",
    "- are expected because of the complicated geometry of the decision boundaries\n",
    "\n",
    "\n",
    "<br> \n",
    "\n",
    "\n",
    "<table class=\"centered\">\n",
    "    <tr><td> Pockets of the manifold </td> <td> Ideal decision boundaries</td> <td> What we get after training (?) </td>\n",
    "<tr>\n",
    "<td><img src='./figures/part3/pockets.png'></td>\n",
    "<td><img src='./figures/part3/decision_1.png'></td>\n",
    "<td><img src='./figures/part3/decision_2.jpg'></td>\n",
    "</tr></table>"
   ]
  },
  {
   "cell_type": "markdown",
   "metadata": {
    "slideshow": {
     "slide_type": "slide"
    }
   },
   "source": [
    "# Adversarial Defenses\n",
    "\n",
    "<br>\n",
    "\n",
    "Types of defenses:\n",
    "\n",
    "- Guards - add a pre-processing step in which the risk for adversarial examples is eliminated or reduced\n",
    "    - detection\n",
    "    - apply input transformations\n",
    "- Defense by design - strengthen the model\n",
    "    - <div class=\"grey\">adversarial training</div>\n",
    "    - custom regularization\n",
    "    - <div class=\"grey\">using formal methods</div>"
   ]
  },
  {
   "cell_type": "markdown",
   "metadata": {
    "slideshow": {
     "slide_type": "subslide"
    }
   },
   "source": [
    "# Adversarial training\n",
    "\n",
    "<br>\n",
    "\n",
    "- add adversarial examples to the training data\n",
    "\n",
    "- nudge the model to learn a robust decision boundary\n",
    "\n",
    "\n",
    "<table class=\"centered\" width=\"800\">\n",
    "    <tr><td> Decision boundaries without adv. training </td> <td> Decision boundaries robust classiefiers</td>\n",
    "<tr>\n",
    "<td><img src='./figures/part3/adversarial_decision_boundary_3.png'></td>\n",
    "<td><img src='./figures/part3/adversarial_decision_boundary_2.png'></td>\n",
    "</tr></table>"
   ]
  },
  {
   "cell_type": "markdown",
   "metadata": {
    "slideshow": {
     "slide_type": "subslide"
    }
   },
   "source": [
    "# Adversarial training\n",
    "\n",
    "<br>\n",
    "\n",
    "- generate adverarial examples using a fast method, e.g. FGSM:\n",
    "\n",
    "<div class=\"centered\">\n",
    "$$ \\eta = \\epsilon* sign ( \\nabla (J(x, y, \\theta))) $$\n",
    "</div>\n",
    "\n",
    "- add them to trainig, balancing the amount of adversarial and normal inputs\n",
    "\n",
    "<div class=\"centered\">\n",
    "$$ \\tilde{J}(\\cdot) =    \\alpha J(\\theta, x, y) +  (1-\\alpha)  J(\\theta, x', y) $$\n",
    "</div>\n",
    "\n",
    "where $$\\alpha$$ controls the contribution of adversarial examples\n",
    "\n",
    "<div class=\"grey\"> Disasdvantages:</div>\n",
    "\n",
    "- this simple method too generate attacks does not approximate all possible perturbations given $$\\epsilon$$\n",
    "\n",
    "- an attacker can choose different directions and still find a successful attack"
   ]
  },
  {
   "cell_type": "markdown",
   "metadata": {
    "slideshow": {
     "slide_type": "subslide"
    }
   },
   "source": [
    "# Adversarial training on the worst perturbation\n",
    "\n",
    "<br>\n",
    "\n",
    "- generating examples:\n",
    "\n",
    "<div class=\"centered\">\n",
    "    $$ \\min. \\max_{\\eta \\leq \\epsilon}. (J(\\theta, x+\\eta, y)) $$\n",
    "</div>\n",
    "\n",
    "- solving the inner maximization problem can be done using the iterative procedure introduced earlier\n",
    "\n",
    "- solving the outter minimization problem can be done using back-propagation \n",
    "\n",
    "- protection against the worst possible example should protect for any adversary in the $$\\epsilon$$ norm-ball\n",
    "\n",
    "\n",
    "<table class=\"centered\" width=\"800\">\n",
    "    <tr><td> Worst case perturbations </td> <td> Decision boundaries robust classiefiers</td>\n",
    "<tr>\n",
    "<td><img src=\"./figures/part3/normball.png\" alt=\"drawing\" class=\"centered\"/></td>\n",
    "<td><img src='./figures/part3/adversarial_decision_boundary_2.png'></td>\n",
    "</tr></table>"
   ]
  },
  {
   "cell_type": "code",
   "execution_count": 37,
   "metadata": {
    "slideshow": {
     "slide_type": "skip"
    }
   },
   "outputs": [
    {
     "name": "stdout",
     "output_type": "stream",
     "text": [
      "Test PGD accuracy 0.9655 (9655/10000)\n",
      "Test average acccuracy 0.6428 (6428/10000)\n"
     ]
    }
   ],
   "source": [
    "EPOCHS = 1\n",
    "# PGD Attack parameters\n",
    "NB_ITER = 1\n",
    "EPS_ITER = 0.01\n",
    "\n",
    "# Logic for training a model on the worst case perturbation\n",
    "def train_pgd(model, device, train_loader, optimizer, criterion, epsilon, nb_iter, eps_iter):\n",
    "    model.train()\n",
    "    for batch_idx, (data, target) in enumerate(train_loader):\n",
    "        datax = pgd(nb_iter, data, target, epsilon,\n",
    "                    eps_iter, model)\n",
    "        data, target = datax.to(device), target.to(device)\n",
    "        optimizer.zero_grad()\n",
    "        # get loss\n",
    "        output = model(data)\n",
    "        loss = criterion(output, target)\n",
    "        # backpropagate\n",
    "        loss.backward()\n",
    "        optimizer.step()\n",
    "\n",
    "train_loader, test_loader = get_data()\n",
    "device = torch.device('cuda:0' if torch.cuda.is_available() else 'cpu')\n",
    "model = Net().to(device)\n",
    "criterion = nn.CrossEntropyLoss()\n",
    "optimizer = optim.Adam(model.parameters(), lr=LEARNING_RATE)\n",
    "\n",
    "for i in range(EPOCHS):\n",
    "    train_pgd(model, device, train_loader, optimizer, criterion, EPSILON, NB_ITER, EPS_ITER)\n",
    "    test_pgd(model, device, test_loader, EPSILON, NB_ITER, EPS_ITER)\n",
    "    test_epoch(model, test_loader)        "
   ]
  },
  {
   "cell_type": "markdown",
   "metadata": {
    "slideshow": {
     "slide_type": "notes"
    }
   },
   "source": [
    "- typically the model overfits on adv. examples\n",
    "- there is a trade off between robustness and accuracy"
   ]
  },
  {
   "cell_type": "markdown",
   "metadata": {
    "slideshow": {
     "slide_type": "subslide"
    }
   },
   "source": [
    "# Efficacy of adversarial training\n",
    "\n",
    "<br>\n",
    "\n",
    "- it is still one of the best defenses\n",
    "\n",
    "<div class=\"grey\">with some perks:</div>\n",
    "\n",
    "- generating adversarial examples that can approximate the norm-ball around an input requires several back and forth passes, which increase training time (for 10 iterations training time increases 10x)\n",
    "\n",
    "- the model overfits on training examples and does not generalize well\n",
    "\n",
    "\n",
    "<div class=\"grey\">some solutions to decrease training time exist:</div>\n",
    "\n",
    "- free adversarial training\n",
    "- you only propagate once"
   ]
  },
  {
   "cell_type": "markdown",
   "metadata": {
    "slideshow": {
     "slide_type": "subslide"
    }
   },
   "source": [
    "# Practical Assignment\n",
    "\n",
    "- for those who can not run the notebook from Github, a notebook can be found at:\n",
    "\n",
    "<div class=\"centered\">\n",
    "    https://tinyurl.com/uqtu3xx\n",
    "\n",
    "</div>\n",
    "\n",
    "\n",
    "- long url: https://colab.research.google.com/drive/1cmZSIk0LhL25zuamGsDg3UY6KKlsiLNO"
   ]
  },
  {
   "cell_type": "markdown",
   "metadata": {
    "slideshow": {
     "slide_type": "slide"
    }
   },
   "source": [
    "# Conclusions and future directions\n",
    "\n",
    "- There is no universally accepted conjecture on the existence of adversarial examples (although the assumptions seem give a good indication)\n",
    "\n",
    "- Adversarial examples are relevant to security only when an application provides some security functionality\n",
    "\n",
    "- There is a big misconception that adversarial examples a threat to safety (although safety requires unintentional perturbations, not intentional)"
   ]
  }
 ],
 "metadata": {
  "celltoolbar": "Slideshow",
  "kernelspec": {
   "display_name": "Python 3",
   "language": "python",
   "name": "python3"
  },
  "language_info": {
   "codemirror_mode": {
    "name": "ipython",
    "version": 3
   },
   "file_extension": ".py",
   "mimetype": "text/x-python",
   "name": "python",
   "nbconvert_exporter": "python",
   "pygments_lexer": "ipython3",
   "version": "3.7.3"
  },
  "rise": {
   "enable_chalkboard": true,
   "scroll": true
  }
 },
 "nbformat": 4,
 "nbformat_minor": 2
}
